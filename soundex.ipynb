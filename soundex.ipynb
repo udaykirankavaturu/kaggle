{
 "cells": [
  {
   "cell_type": "markdown",
   "id": "fd796d6d",
   "metadata": {
    "papermill": {
     "duration": 0.003417,
     "end_time": "2023-06-24T03:21:27.645200",
     "exception": false,
     "start_time": "2023-06-24T03:21:27.641783",
     "status": "completed"
    },
    "tags": []
   },
   "source": [
    "## Soundex"
   ]
  },
  {
   "cell_type": "markdown",
   "id": "30fe10d0",
   "metadata": {
    "papermill": {
     "duration": 0.002586,
     "end_time": "2023-06-24T03:21:27.650967",
     "exception": false,
     "start_time": "2023-06-24T03:21:27.648381",
     "status": "completed"
    },
    "tags": []
   },
   "source": [
    "Let's create a function which calculates the soundex of any given string "
   ]
  },
  {
   "cell_type": "code",
   "execution_count": 1,
   "id": "807816b7",
   "metadata": {
    "execution": {
     "iopub.execute_input": "2023-06-24T03:21:27.658560Z",
     "iopub.status.busy": "2023-06-24T03:21:27.658150Z",
     "iopub.status.idle": "2023-06-24T03:21:27.672282Z",
     "shell.execute_reply": "2023-06-24T03:21:27.671383Z"
    },
    "papermill": {
     "duration": 0.020978,
     "end_time": "2023-06-24T03:21:27.674709",
     "exception": false,
     "start_time": "2023-06-24T03:21:27.653731",
     "status": "completed"
    },
    "tags": []
   },
   "outputs": [],
   "source": [
    "def get_soundex(token):\n",
    "    \"\"\"Get the soundex code for the string\"\"\"\n",
    "    token = token.upper()\n",
    "\n",
    "    soundex = \"\"\n",
    "    \n",
    "    # first letter of input is always the first letter of soundex\n",
    "    soundex += token[0]\n",
    "    \n",
    "    # create a dictionary which maps letters to respective soundex codes. Vowels and 'H', 'W' and 'Y' will be represented by '.'\n",
    "    dictionary = {\"BFPV\": \"1\", \"CGJKQSXZ\":\"2\", \"DT\":\"3\", \"L\":\"4\", \"MN\":\"5\", \"R\":\"6\", \"AEIOUHWY\":\".\"}\n",
    "    \n",
    "    for char in token[1:]:\n",
    "        for key in dictionary.keys():\n",
    "            if char in key:\n",
    "                code = dictionary[key] \n",
    "                if code != '.': \n",
    "                    if code != soundex[-1]: \n",
    "                        soundex += code \n",
    "                    \n",
    "    \n",
    "    # trim or pad to make soundex a 4-character code\n",
    "    soundex = soundex[:4].ljust(4, \"0\")\n",
    "        \n",
    "    return soundex"
   ]
  },
  {
   "cell_type": "markdown",
   "id": "0aa44f83",
   "metadata": {
    "papermill": {
     "duration": 0.002681,
     "end_time": "2023-06-24T03:21:27.680469",
     "exception": false,
     "start_time": "2023-06-24T03:21:27.677788",
     "status": "completed"
    },
    "tags": []
   },
   "source": [
    "Let's see what's the soudex of 'Bombay' and 'Bambai'"
   ]
  },
  {
   "cell_type": "code",
   "execution_count": 2,
   "id": "094e5662",
   "metadata": {
    "execution": {
     "iopub.execute_input": "2023-06-24T03:21:27.688515Z",
     "iopub.status.busy": "2023-06-24T03:21:27.687782Z",
     "iopub.status.idle": "2023-06-24T03:21:27.692906Z",
     "shell.execute_reply": "2023-06-24T03:21:27.692131Z"
    },
    "papermill": {
     "duration": 0.012522,
     "end_time": "2023-06-24T03:21:27.695892",
     "exception": false,
     "start_time": "2023-06-24T03:21:27.683370",
     "status": "completed"
    },
    "tags": []
   },
   "outputs": [
    {
     "name": "stdout",
     "output_type": "stream",
     "text": [
      "S300\n",
      "A261\n"
     ]
    }
   ],
   "source": [
    "print(get_soundex(\"STOUT\"))\n",
    "print(get_soundex(\"Ashcraft\"))"
   ]
  },
  {
   "cell_type": "code",
   "execution_count": 3,
   "id": "548b889d",
   "metadata": {
    "execution": {
     "iopub.execute_input": "2023-06-24T03:21:27.704786Z",
     "iopub.status.busy": "2023-06-24T03:21:27.703762Z",
     "iopub.status.idle": "2023-06-24T03:21:27.709084Z",
     "shell.execute_reply": "2023-06-24T03:21:27.708337Z"
    },
    "papermill": {
     "duration": 0.012482,
     "end_time": "2023-06-24T03:21:27.711707",
     "exception": false,
     "start_time": "2023-06-24T03:21:27.699225",
     "status": "completed"
    },
    "tags": []
   },
   "outputs": [
    {
     "name": "stdout",
     "output_type": "stream",
     "text": [
      "S300\n",
      "A261\n"
     ]
    }
   ],
   "source": [
    "print(get_soundex(\"STOUT\"))\n",
    "print(get_soundex(\"Ashcraft\"))"
   ]
  },
  {
   "cell_type": "markdown",
   "id": "7b2ccc38",
   "metadata": {
    "papermill": {
     "duration": 0.00304,
     "end_time": "2023-06-24T03:21:27.718071",
     "exception": false,
     "start_time": "2023-06-24T03:21:27.715031",
     "status": "completed"
    },
    "tags": []
   },
   "source": [
    "Let's see soundex of 'Aggrawal', 'Agrawal', 'Aggarwal' and 'Agarwal'"
   ]
  },
  {
   "cell_type": "code",
   "execution_count": 4,
   "id": "d8ca3c02",
   "metadata": {
    "execution": {
     "iopub.execute_input": "2023-06-24T03:21:27.726642Z",
     "iopub.status.busy": "2023-06-24T03:21:27.726212Z",
     "iopub.status.idle": "2023-06-24T03:21:27.732560Z",
     "shell.execute_reply": "2023-06-24T03:21:27.731368Z"
    },
    "papermill": {
     "duration": 0.01347,
     "end_time": "2023-06-24T03:21:27.734845",
     "exception": false,
     "start_time": "2023-06-24T03:21:27.721375",
     "status": "completed"
    },
    "tags": []
   },
   "outputs": [
    {
     "name": "stdout",
     "output_type": "stream",
     "text": [
      "A264\n",
      "A264\n",
      "A264\n",
      "A264\n"
     ]
    }
   ],
   "source": [
    "print(get_soundex(\"Aggrawal\"))\n",
    "print(get_soundex(\"Agrawal\"))\n",
    "print(get_soundex(\"Aggarwal\"))\n",
    "print(get_soundex(\"Agarwal\"))"
   ]
  }
 ],
 "metadata": {
  "kernelspec": {
   "display_name": "Python 3",
   "language": "python",
   "name": "python3"
  },
  "language_info": {
   "codemirror_mode": {
    "name": "ipython",
    "version": 3
   },
   "file_extension": ".py",
   "mimetype": "text/x-python",
   "name": "python",
   "nbconvert_exporter": "python",
   "pygments_lexer": "ipython3",
   "version": "3.10.10"
  },
  "papermill": {
   "default_parameters": {},
   "duration": 14.301289,
   "end_time": "2023-06-24T03:21:28.560206",
   "environment_variables": {},
   "exception": null,
   "input_path": "__notebook__.ipynb",
   "output_path": "__notebook__.ipynb",
   "parameters": {},
   "start_time": "2023-06-24T03:21:14.258917",
   "version": "2.4.0"
  }
 },
 "nbformat": 4,
 "nbformat_minor": 5
}
