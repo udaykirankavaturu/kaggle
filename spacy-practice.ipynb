{
 "cells": [
  {
   "cell_type": "code",
   "execution_count": 1,
   "id": "e94bd910",
   "metadata": {
    "_cell_guid": "b1076dfc-b9ad-4769-8c92-a6c4dae69d19",
    "_uuid": "8f2839f25d086af736a60e9eeb907d3b93b6e0e5",
    "execution": {
     "iopub.execute_input": "2023-06-28T03:08:31.926093Z",
     "iopub.status.busy": "2023-06-28T03:08:31.925455Z",
     "iopub.status.idle": "2023-06-28T03:08:31.938978Z",
     "shell.execute_reply": "2023-06-28T03:08:31.937229Z"
    },
    "papermill": {
     "duration": 0.021776,
     "end_time": "2023-06-28T03:08:31.941986",
     "exception": false,
     "start_time": "2023-06-28T03:08:31.920210",
     "status": "completed"
    },
    "tags": []
   },
   "outputs": [],
   "source": [
    "# This Python 3 environment comes with many helpful analytics libraries installed\n",
    "# It is defined by the kaggle/python Docker image: https://github.com/kaggle/docker-python\n",
    "# For example, here's several helpful packages to load\n",
    "\n",
    "import numpy as np # linear algebra\n",
    "import pandas as pd # data processing, CSV file I/O (e.g. pd.read_csv)\n",
    "\n",
    "# Input data files are available in the read-only \"../input/\" directory\n",
    "# For example, running this (by clicking run or pressing Shift+Enter) will list all files under the input directory\n",
    "\n",
    "import os\n",
    "for dirname, _, filenames in os.walk('/kaggle/input'):\n",
    "    for filename in filenames:\n",
    "        print(os.path.join(dirname, filename))\n",
    "\n",
    "# You can write up to 20GB to the current directory (/kaggle/working/) that gets preserved as output when you create a version using \"Save & Run All\" \n",
    "# You can also write temporary files to /kaggle/temp/, but they won't be saved outside of the current session"
   ]
  },
  {
   "cell_type": "code",
   "execution_count": 2,
   "id": "dba82f60",
   "metadata": {
    "execution": {
     "iopub.execute_input": "2023-06-28T03:08:31.949830Z",
     "iopub.status.busy": "2023-06-28T03:08:31.949424Z",
     "iopub.status.idle": "2023-06-28T03:08:47.711986Z",
     "shell.execute_reply": "2023-06-28T03:08:47.710630Z"
    },
    "papermill": {
     "duration": 15.769716,
     "end_time": "2023-06-28T03:08:47.714833",
     "exception": false,
     "start_time": "2023-06-28T03:08:31.945117",
     "status": "completed"
    },
    "tags": []
   },
   "outputs": [
    {
     "name": "stderr",
     "output_type": "stream",
     "text": [
      "/opt/conda/lib/python3.10/site-packages/tensorflow_io/python/ops/__init__.py:98: UserWarning: unable to load libtensorflow_io_plugins.so: unable to open file: libtensorflow_io_plugins.so, from paths: ['/opt/conda/lib/python3.10/site-packages/tensorflow_io/python/ops/libtensorflow_io_plugins.so']\n",
      "caused by: ['/opt/conda/lib/python3.10/site-packages/tensorflow_io/python/ops/libtensorflow_io_plugins.so: undefined symbol: _ZN3tsl6StatusC1EN10tensorflow5error4CodeESt17basic_string_viewIcSt11char_traitsIcEENS_14SourceLocationE']\n",
      "  warnings.warn(f\"unable to load libtensorflow_io_plugins.so: {e}\")\n",
      "/opt/conda/lib/python3.10/site-packages/tensorflow_io/python/ops/__init__.py:104: UserWarning: file system plugins are not loaded: unable to open file: libtensorflow_io.so, from paths: ['/opt/conda/lib/python3.10/site-packages/tensorflow_io/python/ops/libtensorflow_io.so']\n",
      "caused by: ['/opt/conda/lib/python3.10/site-packages/tensorflow_io/python/ops/libtensorflow_io.so: undefined symbol: _ZTVN10tensorflow13GcsFileSystemE']\n",
      "  warnings.warn(f\"file system plugins are not loaded: {e}\")\n"
     ]
    }
   ],
   "source": [
    "import tensorflow\n",
    "import spacy"
   ]
  },
  {
   "cell_type": "code",
   "execution_count": 3,
   "id": "0a24b069",
   "metadata": {
    "execution": {
     "iopub.execute_input": "2023-06-28T03:08:47.723217Z",
     "iopub.status.busy": "2023-06-28T03:08:47.722319Z",
     "iopub.status.idle": "2023-06-28T03:08:49.122181Z",
     "shell.execute_reply": "2023-06-28T03:08:49.121278Z"
    },
    "papermill": {
     "duration": 1.406719,
     "end_time": "2023-06-28T03:08:49.124749",
     "exception": false,
     "start_time": "2023-06-28T03:08:47.718030",
     "status": "completed"
    },
    "tags": []
   },
   "outputs": [],
   "source": [
    "model = spacy.load(\"en_core_web_sm\")"
   ]
  },
  {
   "cell_type": "code",
   "execution_count": 4,
   "id": "9a66b81e",
   "metadata": {
    "execution": {
     "iopub.execute_input": "2023-06-28T03:08:49.132949Z",
     "iopub.status.busy": "2023-06-28T03:08:49.132290Z",
     "iopub.status.idle": "2023-06-28T03:08:49.170757Z",
     "shell.execute_reply": "2023-06-28T03:08:49.169313Z"
    },
    "papermill": {
     "duration": 0.045862,
     "end_time": "2023-06-28T03:08:49.173730",
     "exception": false,
     "start_time": "2023-06-28T03:08:49.127868",
     "status": "completed"
    },
    "tags": []
   },
   "outputs": [],
   "source": [
    "tokens = model(\"UpGrad is teaching Data Science courses to the working professionals.\")"
   ]
  },
  {
   "cell_type": "code",
   "execution_count": 5,
   "id": "1eba7770",
   "metadata": {
    "execution": {
     "iopub.execute_input": "2023-06-28T03:08:49.181470Z",
     "iopub.status.busy": "2023-06-28T03:08:49.181064Z",
     "iopub.status.idle": "2023-06-28T03:08:49.188204Z",
     "shell.execute_reply": "2023-06-28T03:08:49.186662Z"
    },
    "papermill": {
     "duration": 0.013904,
     "end_time": "2023-06-28T03:08:49.190698",
     "exception": false,
     "start_time": "2023-06-28T03:08:49.176794",
     "status": "completed"
    },
    "tags": []
   },
   "outputs": [
    {
     "name": "stdout",
     "output_type": "stream",
     "text": [
      "UpGrad PROPN NNP\n",
      "is AUX VBZ\n",
      "teaching VERB VBG\n",
      "Data PROPN NNP\n",
      "Science PROPN NNP\n",
      "courses NOUN NNS\n",
      "to ADP IN\n",
      "the DET DT\n",
      "working VERB VBG\n",
      "professionals NOUN NNS\n",
      ". PUNCT .\n"
     ]
    }
   ],
   "source": [
    "for token in tokens:\n",
    "    print(token.text + \" \"+ token.pos_ + \" \"+ token.tag_)"
   ]
  }
 ],
 "metadata": {
  "kernelspec": {
   "display_name": "Python 3",
   "language": "python",
   "name": "python3"
  },
  "language_info": {
   "codemirror_mode": {
    "name": "ipython",
    "version": 3
   },
   "file_extension": ".py",
   "mimetype": "text/x-python",
   "name": "python",
   "nbconvert_exporter": "python",
   "pygments_lexer": "ipython3",
   "version": "3.10.10"
  },
  "papermill": {
   "default_parameters": {},
   "duration": 33.796179,
   "end_time": "2023-06-28T03:08:52.580619",
   "environment_variables": {},
   "exception": null,
   "input_path": "__notebook__.ipynb",
   "output_path": "__notebook__.ipynb",
   "parameters": {},
   "start_time": "2023-06-28T03:08:18.784440",
   "version": "2.4.0"
  }
 },
 "nbformat": 4,
 "nbformat_minor": 5
}
