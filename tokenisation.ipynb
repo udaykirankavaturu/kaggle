{
 "cells": [
  {
   "cell_type": "markdown",
   "id": "597cec04",
   "metadata": {
    "papermill": {
     "duration": 0.007241,
     "end_time": "2023-06-22T01:49:30.361520",
     "exception": false,
     "start_time": "2023-06-22T01:49:30.354279",
     "status": "completed"
    },
    "tags": []
   },
   "source": [
    "# Tokenisation\n",
    "\n",
    "The notebook contains three types of tokenisation techniques:\n",
    "1. Word tokenisation\n",
    "2. Sentence tokenisation\n",
    "3. Tweet tokenisation\n",
    "4. Custom tokenisation using regular expressions"
   ]
  },
  {
   "cell_type": "markdown",
   "id": "7a801e2a",
   "metadata": {
    "papermill": {
     "duration": 0.006121,
     "end_time": "2023-06-22T01:49:30.374334",
     "exception": false,
     "start_time": "2023-06-22T01:49:30.368213",
     "status": "completed"
    },
    "tags": []
   },
   "source": [
    "### 1. Word tokenisation"
   ]
  },
  {
   "cell_type": "code",
   "execution_count": 1,
   "id": "c0a6c835",
   "metadata": {
    "execution": {
     "iopub.execute_input": "2023-06-22T01:49:30.389326Z",
     "iopub.status.busy": "2023-06-22T01:49:30.388896Z",
     "iopub.status.idle": "2023-06-22T01:49:30.401891Z",
     "shell.execute_reply": "2023-06-22T01:49:30.400879Z"
    },
    "papermill": {
     "duration": 0.023992,
     "end_time": "2023-06-22T01:49:30.404819",
     "exception": false,
     "start_time": "2023-06-22T01:49:30.380827",
     "status": "completed"
    },
    "tags": []
   },
   "outputs": [
    {
     "name": "stdout",
     "output_type": "stream",
     "text": [
      "At nine o'clock I visited him myself. It looks like religious mania, and he'll soon think that he himself is God.\n"
     ]
    }
   ],
   "source": [
    "document = \"At nine o'clock I visited him myself. It looks like religious mania, and he'll soon think that he himself is God.\"\n",
    "print(document)"
   ]
  },
  {
   "cell_type": "markdown",
   "id": "5f44e04b",
   "metadata": {
    "papermill": {
     "duration": 0.006285,
     "end_time": "2023-06-22T01:49:30.417827",
     "exception": false,
     "start_time": "2023-06-22T01:49:30.411542",
     "status": "completed"
    },
    "tags": []
   },
   "source": [
    "Tokenising on spaces using python"
   ]
  },
  {
   "cell_type": "code",
   "execution_count": 2,
   "id": "b9fcca26",
   "metadata": {
    "execution": {
     "iopub.execute_input": "2023-06-22T01:49:30.432411Z",
     "iopub.status.busy": "2023-06-22T01:49:30.432042Z",
     "iopub.status.idle": "2023-06-22T01:49:30.437895Z",
     "shell.execute_reply": "2023-06-22T01:49:30.436611Z"
    },
    "papermill": {
     "duration": 0.016058,
     "end_time": "2023-06-22T01:49:30.440334",
     "exception": false,
     "start_time": "2023-06-22T01:49:30.424276",
     "status": "completed"
    },
    "tags": []
   },
   "outputs": [
    {
     "name": "stdout",
     "output_type": "stream",
     "text": [
      "['At', 'nine', \"o'clock\", 'I', 'visited', 'him', 'myself.', 'It', 'looks', 'like', 'religious', 'mania,', 'and', \"he'll\", 'soon', 'think', 'that', 'he', 'himself', 'is', 'God.']\n"
     ]
    }
   ],
   "source": [
    "print(document.split())"
   ]
  },
  {
   "cell_type": "markdown",
   "id": "e612bb71",
   "metadata": {
    "papermill": {
     "duration": 0.008082,
     "end_time": "2023-06-22T01:49:30.455152",
     "exception": false,
     "start_time": "2023-06-22T01:49:30.447070",
     "status": "completed"
    },
    "tags": []
   },
   "source": [
    "Tokenising using nltk word tokeniser"
   ]
  },
  {
   "cell_type": "code",
   "execution_count": 3,
   "id": "e8b4ebba",
   "metadata": {
    "collapsed": true,
    "execution": {
     "iopub.execute_input": "2023-06-22T01:49:30.470902Z",
     "iopub.status.busy": "2023-06-22T01:49:30.470064Z",
     "iopub.status.idle": "2023-06-22T01:49:32.630550Z",
     "shell.execute_reply": "2023-06-22T01:49:32.629528Z"
    },
    "jupyter": {
     "outputs_hidden": true
    },
    "papermill": {
     "duration": 2.171176,
     "end_time": "2023-06-22T01:49:32.633189",
     "exception": false,
     "start_time": "2023-06-22T01:49:30.462013",
     "status": "completed"
    },
    "tags": []
   },
   "outputs": [],
   "source": [
    "from nltk.tokenize import word_tokenize\n",
    "words = word_tokenize(document)"
   ]
  },
  {
   "cell_type": "code",
   "execution_count": 4,
   "id": "58e62566",
   "metadata": {
    "execution": {
     "iopub.execute_input": "2023-06-22T01:49:32.648653Z",
     "iopub.status.busy": "2023-06-22T01:49:32.648244Z",
     "iopub.status.idle": "2023-06-22T01:49:32.654631Z",
     "shell.execute_reply": "2023-06-22T01:49:32.652829Z"
    },
    "papermill": {
     "duration": 0.017171,
     "end_time": "2023-06-22T01:49:32.657273",
     "exception": false,
     "start_time": "2023-06-22T01:49:32.640102",
     "status": "completed"
    },
    "tags": []
   },
   "outputs": [
    {
     "name": "stdout",
     "output_type": "stream",
     "text": [
      "['At', 'nine', \"o'clock\", 'I', 'visited', 'him', 'myself', '.', 'It', 'looks', 'like', 'religious', 'mania', ',', 'and', 'he', \"'ll\", 'soon', 'think', 'that', 'he', 'himself', 'is', 'God', '.']\n"
     ]
    }
   ],
   "source": [
    "print(words)"
   ]
  },
  {
   "cell_type": "markdown",
   "id": "a8eab2b9",
   "metadata": {
    "papermill": {
     "duration": 0.00667,
     "end_time": "2023-06-22T01:49:32.670875",
     "exception": false,
     "start_time": "2023-06-22T01:49:32.664205",
     "status": "completed"
    },
    "tags": []
   },
   "source": [
    "NLTK's word tokeniser not only breaks on whitespaces but also breaks contraction words such as he'll into \"he\" and \"'ll\". On the other hand it doesn't break \"o'clock\" and treats it as a separate token."
   ]
  },
  {
   "cell_type": "markdown",
   "id": "441196d9",
   "metadata": {
    "papermill": {
     "duration": 0.006538,
     "end_time": "2023-06-22T01:49:32.684637",
     "exception": false,
     "start_time": "2023-06-22T01:49:32.678099",
     "status": "completed"
    },
    "tags": []
   },
   "source": [
    "### 2. Sentence tokeniser"
   ]
  },
  {
   "cell_type": "markdown",
   "id": "64f43122",
   "metadata": {
    "papermill": {
     "duration": 0.006553,
     "end_time": "2023-06-22T01:49:32.698098",
     "exception": false,
     "start_time": "2023-06-22T01:49:32.691545",
     "status": "completed"
    },
    "tags": []
   },
   "source": [
    "Tokenising based on sentence requires you to split on the period ('.'). Let's use nltk sentence tokeniser."
   ]
  },
  {
   "cell_type": "code",
   "execution_count": 5,
   "id": "03197fbd",
   "metadata": {
    "collapsed": true,
    "execution": {
     "iopub.execute_input": "2023-06-22T01:49:32.713578Z",
     "iopub.status.busy": "2023-06-22T01:49:32.713155Z",
     "iopub.status.idle": "2023-06-22T01:49:32.718834Z",
     "shell.execute_reply": "2023-06-22T01:49:32.717600Z"
    },
    "jupyter": {
     "outputs_hidden": true
    },
    "papermill": {
     "duration": 0.016185,
     "end_time": "2023-06-22T01:49:32.721127",
     "exception": false,
     "start_time": "2023-06-22T01:49:32.704942",
     "status": "completed"
    },
    "tags": []
   },
   "outputs": [],
   "source": [
    "from nltk.tokenize import sent_tokenize\n",
    "sentences = sent_tokenize(document)"
   ]
  },
  {
   "cell_type": "code",
   "execution_count": 6,
   "id": "f2f8dee4",
   "metadata": {
    "execution": {
     "iopub.execute_input": "2023-06-22T01:49:32.737596Z",
     "iopub.status.busy": "2023-06-22T01:49:32.736425Z",
     "iopub.status.idle": "2023-06-22T01:49:32.743085Z",
     "shell.execute_reply": "2023-06-22T01:49:32.741745Z"
    },
    "papermill": {
     "duration": 0.01733,
     "end_time": "2023-06-22T01:49:32.745487",
     "exception": false,
     "start_time": "2023-06-22T01:49:32.728157",
     "status": "completed"
    },
    "tags": []
   },
   "outputs": [
    {
     "name": "stdout",
     "output_type": "stream",
     "text": [
      "[\"At nine o'clock I visited him myself.\", \"It looks like religious mania, and he'll soon think that he himself is God.\"]\n"
     ]
    }
   ],
   "source": [
    "print(sentences)"
   ]
  },
  {
   "cell_type": "markdown",
   "id": "6151bc64",
   "metadata": {
    "papermill": {
     "duration": 0.006892,
     "end_time": "2023-06-22T01:49:32.759634",
     "exception": false,
     "start_time": "2023-06-22T01:49:32.752742",
     "status": "completed"
    },
    "tags": []
   },
   "source": [
    "### 3. Tweet tokeniser"
   ]
  },
  {
   "cell_type": "markdown",
   "id": "aed71481",
   "metadata": {
    "papermill": {
     "duration": 0.006757,
     "end_time": "2023-06-22T01:49:32.773643",
     "exception": false,
     "start_time": "2023-06-22T01:49:32.766886",
     "status": "completed"
    },
    "tags": []
   },
   "source": [
    "A problem with word tokeniser is that it fails to tokeniser emojis and other complex special characters such as word with hashtags. Emojis are common these days and people use them all the time."
   ]
  },
  {
   "cell_type": "code",
   "execution_count": 7,
   "id": "768d4064",
   "metadata": {
    "collapsed": true,
    "execution": {
     "iopub.execute_input": "2023-06-22T01:49:32.790425Z",
     "iopub.status.busy": "2023-06-22T01:49:32.789330Z",
     "iopub.status.idle": "2023-06-22T01:49:32.794504Z",
     "shell.execute_reply": "2023-06-22T01:49:32.793515Z"
    },
    "jupyter": {
     "outputs_hidden": true
    },
    "papermill": {
     "duration": 0.016143,
     "end_time": "2023-06-22T01:49:32.796888",
     "exception": false,
     "start_time": "2023-06-22T01:49:32.780745",
     "status": "completed"
    },
    "tags": []
   },
   "outputs": [],
   "source": [
    "message = \"i recently watched this show called mindhunters:). i totally loved it 😍. it was gr8 <3. #bingewatching #nothingtodo 😎\""
   ]
  },
  {
   "cell_type": "code",
   "execution_count": 8,
   "id": "f64277cf",
   "metadata": {
    "execution": {
     "iopub.execute_input": "2023-06-22T01:49:32.813468Z",
     "iopub.status.busy": "2023-06-22T01:49:32.813044Z",
     "iopub.status.idle": "2023-06-22T01:49:32.819571Z",
     "shell.execute_reply": "2023-06-22T01:49:32.818341Z"
    },
    "papermill": {
     "duration": 0.01826,
     "end_time": "2023-06-22T01:49:32.822419",
     "exception": false,
     "start_time": "2023-06-22T01:49:32.804159",
     "status": "completed"
    },
    "scrolled": true,
    "tags": []
   },
   "outputs": [
    {
     "name": "stdout",
     "output_type": "stream",
     "text": [
      "['i', 'recently', 'watched', 'this', 'show', 'called', 'mindhunters', ':', ')', '.', 'i', 'totally', 'loved', 'it', '😍', '.', 'it', 'was', 'gr8', '<', '3', '.', '#', 'bingewatching', '#', 'nothingtodo', '😎']\n"
     ]
    }
   ],
   "source": [
    "print(word_tokenize(message))"
   ]
  },
  {
   "cell_type": "markdown",
   "id": "235ef638",
   "metadata": {
    "papermill": {
     "duration": 0.00733,
     "end_time": "2023-06-22T01:49:32.837696",
     "exception": false,
     "start_time": "2023-06-22T01:49:32.830366",
     "status": "completed"
    },
    "tags": []
   },
   "source": [
    "The word tokeniser breaks the emoji '<3' into '<' and '3' which is something that we don't want. Emojis have their own significance in areas like sentiment analysis where a happy face and sad face can salone prove to be a really good predictor of the sentiment. Similarly, the hashtags are broken into two tokens. A hashtag is used for searching specific topics or photos in social media apps such as Instagram and facebook. So there, you want to use the hashtag as is.\n",
    "\n",
    "Let's use the tweet tokeniser of nltk to tokenise this message."
   ]
  },
  {
   "cell_type": "code",
   "execution_count": 9,
   "id": "21f6a999",
   "metadata": {
    "collapsed": true,
    "execution": {
     "iopub.execute_input": "2023-06-22T01:49:32.854781Z",
     "iopub.status.busy": "2023-06-22T01:49:32.854138Z",
     "iopub.status.idle": "2023-06-22T01:49:32.858578Z",
     "shell.execute_reply": "2023-06-22T01:49:32.857753Z"
    },
    "jupyter": {
     "outputs_hidden": true
    },
    "papermill": {
     "duration": 0.015778,
     "end_time": "2023-06-22T01:49:32.860881",
     "exception": false,
     "start_time": "2023-06-22T01:49:32.845103",
     "status": "completed"
    },
    "tags": []
   },
   "outputs": [],
   "source": [
    "from nltk.tokenize import TweetTokenizer\n",
    "tknzr = TweetTokenizer()"
   ]
  },
  {
   "cell_type": "code",
   "execution_count": 10,
   "id": "2d10b726",
   "metadata": {
    "execution": {
     "iopub.execute_input": "2023-06-22T01:49:32.878414Z",
     "iopub.status.busy": "2023-06-22T01:49:32.877816Z",
     "iopub.status.idle": "2023-06-22T01:49:32.885988Z",
     "shell.execute_reply": "2023-06-22T01:49:32.884988Z"
    },
    "papermill": {
     "duration": 0.019694,
     "end_time": "2023-06-22T01:49:32.888262",
     "exception": false,
     "start_time": "2023-06-22T01:49:32.868568",
     "status": "completed"
    },
    "tags": []
   },
   "outputs": [
    {
     "data": {
      "text/plain": [
       "['i',\n",
       " 'recently',\n",
       " 'watched',\n",
       " 'this',\n",
       " 'show',\n",
       " 'called',\n",
       " 'mindhunters',\n",
       " ':)',\n",
       " '.',\n",
       " 'i',\n",
       " 'totally',\n",
       " 'loved',\n",
       " 'it',\n",
       " '😍',\n",
       " '.',\n",
       " 'it',\n",
       " 'was',\n",
       " 'gr8',\n",
       " '<3',\n",
       " '.',\n",
       " '#bingewatching',\n",
       " '#nothingtodo',\n",
       " '😎']"
      ]
     },
     "execution_count": 10,
     "metadata": {},
     "output_type": "execute_result"
    }
   ],
   "source": [
    "tknzr.tokenize(message)"
   ]
  },
  {
   "cell_type": "markdown",
   "id": "70779115",
   "metadata": {
    "papermill": {
     "duration": 0.007318,
     "end_time": "2023-06-22T01:49:32.903244",
     "exception": false,
     "start_time": "2023-06-22T01:49:32.895926",
     "status": "completed"
    },
    "tags": []
   },
   "source": [
    "As you can see, it handles all the emojis and the hashtags pretty well.\n",
    "\n",
    "Now, there is a tokeniser that takes a regular expression and tokenises and returns result based on the pattern of regular expression.\n",
    "\n",
    "Let's look at how you can use regular expression tokeniser."
   ]
  },
  {
   "cell_type": "code",
   "execution_count": 11,
   "id": "c2042284",
   "metadata": {
    "collapsed": true,
    "execution": {
     "iopub.execute_input": "2023-06-22T01:49:32.921404Z",
     "iopub.status.busy": "2023-06-22T01:49:32.920742Z",
     "iopub.status.idle": "2023-06-22T01:49:32.925424Z",
     "shell.execute_reply": "2023-06-22T01:49:32.924434Z"
    },
    "jupyter": {
     "outputs_hidden": true
    },
    "papermill": {
     "duration": 0.016598,
     "end_time": "2023-06-22T01:49:32.927867",
     "exception": false,
     "start_time": "2023-06-22T01:49:32.911269",
     "status": "completed"
    },
    "tags": []
   },
   "outputs": [],
   "source": [
    "from nltk.tokenize import regexp_tokenize\n",
    "message = \"i recently watched this show called mindhunters:). i totally loved it 😍. it was gr8 <3. #bingewatching #nothingtodo 😎\"\n",
    "pattern = \"#[\\w]+\""
   ]
  },
  {
   "cell_type": "code",
   "execution_count": 12,
   "id": "2e1770e7",
   "metadata": {
    "execution": {
     "iopub.execute_input": "2023-06-22T01:49:32.945969Z",
     "iopub.status.busy": "2023-06-22T01:49:32.945315Z",
     "iopub.status.idle": "2023-06-22T01:49:32.951062Z",
     "shell.execute_reply": "2023-06-22T01:49:32.950280Z"
    },
    "papermill": {
     "duration": 0.017701,
     "end_time": "2023-06-22T01:49:32.953716",
     "exception": false,
     "start_time": "2023-06-22T01:49:32.936015",
     "status": "completed"
    },
    "tags": []
   },
   "outputs": [
    {
     "data": {
      "text/plain": [
       "['#bingewatching', '#nothingtodo']"
      ]
     },
     "execution_count": 12,
     "metadata": {},
     "output_type": "execute_result"
    }
   ],
   "source": [
    "regexp_tokenize(message, pattern)"
   ]
  }
 ],
 "metadata": {
  "kernelspec": {
   "display_name": "Python 3",
   "language": "python",
   "name": "python3"
  },
  "language_info": {
   "codemirror_mode": {
    "name": "ipython",
    "version": 3
   },
   "file_extension": ".py",
   "mimetype": "text/x-python",
   "name": "python",
   "nbconvert_exporter": "python",
   "pygments_lexer": "ipython3",
   "version": "3.10.10"
  },
  "papermill": {
   "default_parameters": {},
   "duration": 16.998855,
   "end_time": "2023-06-22T01:49:33.986317",
   "environment_variables": {},
   "exception": null,
   "input_path": "__notebook__.ipynb",
   "output_path": "__notebook__.ipynb",
   "parameters": {},
   "start_time": "2023-06-22T01:49:16.987462",
   "version": "2.4.0"
  }
 },
 "nbformat": 4,
 "nbformat_minor": 5
}
