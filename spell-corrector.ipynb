{
 "cells": [
  {
   "cell_type": "code",
   "execution_count": 1,
   "id": "ca3ee25e",
   "metadata": {
    "execution": {
     "iopub.execute_input": "2023-06-25T03:34:30.312715Z",
     "iopub.status.busy": "2023-06-25T03:34:30.312263Z",
     "iopub.status.idle": "2023-06-25T03:34:30.324007Z",
     "shell.execute_reply": "2023-06-25T03:34:30.323154Z"
    },
    "papermill": {
     "duration": 0.021045,
     "end_time": "2023-06-25T03:34:30.326410",
     "exception": false,
     "start_time": "2023-06-25T03:34:30.305365",
     "status": "completed"
    },
    "tags": []
   },
   "outputs": [],
   "source": [
    "import re\n",
    "from collections import Counter"
   ]
  },
  {
   "cell_type": "code",
   "execution_count": 2,
   "id": "ca71557b",
   "metadata": {
    "execution": {
     "iopub.execute_input": "2023-06-25T03:34:30.336928Z",
     "iopub.status.busy": "2023-06-25T03:34:30.336348Z",
     "iopub.status.idle": "2023-06-25T03:34:30.340601Z",
     "shell.execute_reply": "2023-06-25T03:34:30.340006Z"
    },
    "papermill": {
     "duration": 0.011745,
     "end_time": "2023-06-25T03:34:30.342530",
     "exception": false,
     "start_time": "2023-06-25T03:34:30.330785",
     "status": "completed"
    },
    "tags": []
   },
   "outputs": [],
   "source": [
    "# function to tokenise words\n",
    "def words(document):\n",
    "    \"Convert text to lower case and tokenise the document\"\n",
    "    return re.findall(r'\\w+', document.lower())"
   ]
  },
  {
   "cell_type": "code",
   "execution_count": 3,
   "id": "abb7c21e",
   "metadata": {
    "execution": {
     "iopub.execute_input": "2023-06-25T03:34:30.353194Z",
     "iopub.status.busy": "2023-06-25T03:34:30.352561Z",
     "iopub.status.idle": "2023-06-25T03:34:30.801684Z",
     "shell.execute_reply": "2023-06-25T03:34:30.800213Z"
    },
    "papermill": {
     "duration": 0.457957,
     "end_time": "2023-06-25T03:34:30.804812",
     "exception": false,
     "start_time": "2023-06-25T03:34:30.346855",
     "status": "completed"
    },
    "tags": []
   },
   "outputs": [],
   "source": [
    "# create a frequency table of all the words of the document\n",
    "all_words = Counter(words(open('/kaggle/input/bigtext/big.txt').read()))"
   ]
  },
  {
   "cell_type": "code",
   "execution_count": 4,
   "id": "3463a2ec",
   "metadata": {
    "execution": {
     "iopub.execute_input": "2023-06-25T03:34:30.814588Z",
     "iopub.status.busy": "2023-06-25T03:34:30.814248Z",
     "iopub.status.idle": "2023-06-25T03:34:30.822261Z",
     "shell.execute_reply": "2023-06-25T03:34:30.820804Z"
    },
    "papermill": {
     "duration": 0.016009,
     "end_time": "2023-06-25T03:34:30.825059",
     "exception": false,
     "start_time": "2023-06-25T03:34:30.809050",
     "status": "completed"
    },
    "tags": []
   },
   "outputs": [
    {
     "data": {
      "text/plain": [
       "135"
      ]
     },
     "execution_count": 4,
     "metadata": {},
     "output_type": "execute_result"
    }
   ],
   "source": [
    "# check frequency of a random word, say, 'chair'\n",
    "all_words['chair']"
   ]
  },
  {
   "cell_type": "code",
   "execution_count": 5,
   "id": "fd1fb157",
   "metadata": {
    "execution": {
     "iopub.execute_input": "2023-06-25T03:34:30.836810Z",
     "iopub.status.busy": "2023-06-25T03:34:30.836431Z",
     "iopub.status.idle": "2023-06-25T03:34:30.852672Z",
     "shell.execute_reply": "2023-06-25T03:34:30.851252Z"
    },
    "papermill": {
     "duration": 0.024939,
     "end_time": "2023-06-25T03:34:30.855000",
     "exception": false,
     "start_time": "2023-06-25T03:34:30.830061",
     "status": "completed"
    },
    "tags": []
   },
   "outputs": [
    {
     "data": {
      "text/plain": [
       "[('the', 79809),\n",
       " ('of', 40024),\n",
       " ('and', 38312),\n",
       " ('to', 28765),\n",
       " ('in', 22023),\n",
       " ('a', 21124),\n",
       " ('that', 12512),\n",
       " ('he', 12401),\n",
       " ('was', 11410),\n",
       " ('it', 10681)]"
      ]
     },
     "execution_count": 5,
     "metadata": {},
     "output_type": "execute_result"
    }
   ],
   "source": [
    "# look at top 10 frequent words\n",
    "all_words.most_common(10)"
   ]
  },
  {
   "cell_type": "code",
   "execution_count": 6,
   "id": "c0cd1247",
   "metadata": {
    "execution": {
     "iopub.execute_input": "2023-06-25T03:34:30.865061Z",
     "iopub.status.busy": "2023-06-25T03:34:30.864680Z",
     "iopub.status.idle": "2023-06-25T03:34:30.871940Z",
     "shell.execute_reply": "2023-06-25T03:34:30.870768Z"
    },
    "papermill": {
     "duration": 0.015299,
     "end_time": "2023-06-25T03:34:30.874603",
     "exception": false,
     "start_time": "2023-06-25T03:34:30.859304",
     "status": "completed"
    },
    "tags": []
   },
   "outputs": [],
   "source": [
    "def edits_one(word):\n",
    "    \"Create all edits that are one edit away from `word`.\"\n",
    "    alphabets    = 'abcdefghijklmnopqrstuvwxyz'\n",
    "    splits     = [(word[:i], word[i:])                   for i in range(len(word) + 1)]\n",
    "    deletes    = [left + right[1:]                       for left, right in splits if right]\n",
    "    inserts    = [left + c + right                       for left, right in splits for c in alphabets]\n",
    "    replaces   = [left + c + right[1:]                   for left, right in splits if right for c in alphabets]\n",
    "    transposes = [left + right[1] + right[0] + right[2:] for left, right in splits if len(right)>1]\n",
    "    return set(deletes + inserts + replaces + transposes)"
   ]
  },
  {
   "cell_type": "code",
   "execution_count": 7,
   "id": "8ae6c69e",
   "metadata": {
    "execution": {
     "iopub.execute_input": "2023-06-25T03:34:30.886384Z",
     "iopub.status.busy": "2023-06-25T03:34:30.886010Z",
     "iopub.status.idle": "2023-06-25T03:34:30.891684Z",
     "shell.execute_reply": "2023-06-25T03:34:30.890095Z"
    },
    "papermill": {
     "duration": 0.012853,
     "end_time": "2023-06-25T03:34:30.893527",
     "exception": false,
     "start_time": "2023-06-25T03:34:30.880674",
     "status": "completed"
    },
    "tags": []
   },
   "outputs": [],
   "source": [
    "def edits_two(word):\n",
    "    \"Create all edits that are two edits away from `word`.\"\n",
    "    return (e2 for e1 in edits_one(word) for e2 in edits_one(e1))"
   ]
  },
  {
   "cell_type": "code",
   "execution_count": 8,
   "id": "fbcf2a83",
   "metadata": {
    "execution": {
     "iopub.execute_input": "2023-06-25T03:34:30.903448Z",
     "iopub.status.busy": "2023-06-25T03:34:30.903116Z",
     "iopub.status.idle": "2023-06-25T03:34:30.908529Z",
     "shell.execute_reply": "2023-06-25T03:34:30.906908Z"
    },
    "papermill": {
     "duration": 0.013348,
     "end_time": "2023-06-25T03:34:30.911125",
     "exception": false,
     "start_time": "2023-06-25T03:34:30.897777",
     "status": "completed"
    },
    "tags": []
   },
   "outputs": [],
   "source": [
    "def known(words):\n",
    "    \"The subset of `words` that appear in the `all_words`.\"\n",
    "    return set(word for word in words if word in all_words)"
   ]
  },
  {
   "cell_type": "code",
   "execution_count": 9,
   "id": "d093ad7c",
   "metadata": {
    "execution": {
     "iopub.execute_input": "2023-06-25T03:34:30.921346Z",
     "iopub.status.busy": "2023-06-25T03:34:30.921006Z",
     "iopub.status.idle": "2023-06-25T03:34:30.926360Z",
     "shell.execute_reply": "2023-06-25T03:34:30.925000Z"
    },
    "papermill": {
     "duration": 0.012959,
     "end_time": "2023-06-25T03:34:30.928511",
     "exception": false,
     "start_time": "2023-06-25T03:34:30.915552",
     "status": "completed"
    },
    "tags": []
   },
   "outputs": [],
   "source": [
    "def possible_corrections(word):\n",
    "    \"Generate possible spelling corrections for word.\"\n",
    "    return (known([word]) or known(edits_one(word)) or known(edits_two(word)) or [word])"
   ]
  },
  {
   "cell_type": "code",
   "execution_count": 10,
   "id": "86357de2",
   "metadata": {
    "execution": {
     "iopub.execute_input": "2023-06-25T03:34:30.938541Z",
     "iopub.status.busy": "2023-06-25T03:34:30.938215Z",
     "iopub.status.idle": "2023-06-25T03:34:30.943321Z",
     "shell.execute_reply": "2023-06-25T03:34:30.942429Z"
    },
    "papermill": {
     "duration": 0.012937,
     "end_time": "2023-06-25T03:34:30.945767",
     "exception": false,
     "start_time": "2023-06-25T03:34:30.932830",
     "status": "completed"
    },
    "tags": []
   },
   "outputs": [],
   "source": [
    "def prob(word, N=sum(all_words.values())): \n",
    "    \"Probability of `word`: Number of appearances of 'word' / total number of tokens\"\n",
    "    return all_words[word] / N"
   ]
  },
  {
   "cell_type": "code",
   "execution_count": 11,
   "id": "fd65fe40",
   "metadata": {
    "execution": {
     "iopub.execute_input": "2023-06-25T03:34:30.956047Z",
     "iopub.status.busy": "2023-06-25T03:34:30.955679Z",
     "iopub.status.idle": "2023-06-25T03:34:30.963041Z",
     "shell.execute_reply": "2023-06-25T03:34:30.961422Z"
    },
    "papermill": {
     "duration": 0.016456,
     "end_time": "2023-06-25T03:34:30.966690",
     "exception": false,
     "start_time": "2023-06-25T03:34:30.950234",
     "status": "completed"
    },
    "tags": []
   },
   "outputs": [
    {
     "name": "stdout",
     "output_type": "stream",
     "text": [
      "336\n",
      "{'monnel', 'monsney', 'monnely', 'bmonney', 'monsey', 'monnvey', 'monneyc', 'monuney', 'monnhy', 'mongney', 'monneh', 'lonney', 'mcnney', 'monnly', 'monaney', 'monner', 'moeney', 'moanney', 'xonney', 'monqney', 'monnry', 'monfney', 'meonney', 'monnzey', 'mgnney', 'monwney', 'bonney', 'moynney', 'mowney', 'monrey', 'monpey', 'mknney', 'monneoy', 'mvnney', 'momnney', 'mocnney', 'tmonney', 'monqey', 'monneuy', 'omnney', 'movney', 'monnzy', 'monntey', 'mobney', 'mionney', 'msonney', 'monneby', 'monneyj', 'mnnney', 'monnqy', 'monnew', 'hmonney', 'monnep', 'mtonney', 'mdonney', 'monneym', 'monnxey', 'maonney', 'monnuy', 'monngy', 'monndy', 'monnezy', 'qmonney', 'omonney', 'honney', 'monnjy', 'moenney', 'imonney', 'minney', 'monmney', 'mondey', 'mfonney', 'monnety', 'mtnney', 'mgonney', 'mrnney', 'mwonney', 'modnney', 'moniney', 'eonney', 'monnev', 'moknney', 'emonney', 'monneyg', 'yonney', 'monnoy', 'moonney', 'gmonney', 'donney', 'monniey', 'umonney', 'monnsey', 'monkey', 'monjney', 'monley', 'mosnney', 'monnwey', 'munney', 'monnfey', 'monniy', 'moneey', 'mognney', 'monkney', 'moxney', 'monneyf', 'fonney', 'monnkey', 'monny', 'moncey', 'moaney', 'smonney', 'mkonney', 'mvonney', 'monnewy', 'mornney', 'pmonney', 'mlnney', 'zmonney', 'mohnney', 'monmey', 'monnty', 'mbonney', 'mouney', 'msnney', 'monnehy', 'moncney', 'monnrey', 'mokney', 'jmonney', 'lmonney', 'monnen', 'monncey', 'monnesy', 'monlney', 'molnney', 'monnefy', 'monnyey', 'monnea', 'monxney', 'moqnney', 'moinney', 'mmonney', 'mohney', 'mnney', 'monnecy', 'mconney', 'monbey', 'menney', 'monnpy', 'mjnney', 'monneqy', 'monneyo', 'monneay', 'montney', 'vmonney', 'mbnney', 'mounney', 'nonney', 'monneey', 'monneyk', 'fmonney', 'monnej', 'gonney', 'monfey', 'monnsy', 'monnec', 'monnet', 'monnoey', 'mronney', 'monneo', 'monbney', 'jonney', 'monnjey', 'mojney', 'zonney', 'monnes', 'monvney', 'monnay', 'wonney', 'monvey', 'mfnney', 'monneyn', 'mjonney', 'monnby', 'monneb', 'monnez', 'monnney', 'mozney', 'ponney', 'monnemy', 'mobnney', 'moxnney', 'monnmy', 'mlonney', 'monrney', 'monneg', 'monuey', 'mononey', 'qonney', 'onney', 'morney', 'monneyq', 'monneyu', 'monneiy', 'money', 'monngey', 'monnhey', 'monnpey', 'aonney', 'mxnney', 'monnky', 'monnny', 'monneny', 'monnejy', 'monhney', 'monnwy', 'mnonney', 'monnvy', 'myonney', 'monneyz', 'monnef', 'monnexy', 'mxonney', 'mopnney', 'monncy', 'motnney', 'nmonney', 'motney', 'monneyh', 'molney', 'monneyt', 'monnedy', 'mongey', 'mqonney', 'mmnney', 'monneu', 'rmonney', 'kmonney', 'monneyi', 'vonney', 'ronney', 'monneyp', 'monnye', 'monaey', 'monneyr', 'manney', 'moiney', 'monnfy', 'monneyw', 'monnyy', 'monnepy', 'xmonney', 'monne', 'muonney', 'monneya', 'mponney', 'monjey', 'mpnney', 'mhnney', 'monyney', 'tonney', 'monzey', 'monnaey', 'monhey', 'mownney', 'monnee', 'moqney', 'mwnney', 'monxey', 'moyney', 'monoey', 'monnqey', 'mofnney', 'mondney', 'movnney', 'mdnney', 'monnegy', 'konney', 'dmonney', 'wmonney', 'monneys', 'montey', 'moneney', 'monnevy', 'monneky', 'mopney', 'monneq', 'mocney', 'monpney', 'modney', 'oonney', 'monneyy', 'ymonney', 'monnek', 'conney', 'monney', 'mnoney', 'cmonney', 'monwey', 'mznney', 'monnmey', 'monnery', 'sonney', 'momney', 'mofney', 'mynney', 'mhonney', 'monneyl', 'monyey', 'monnem', 'amonney', 'mzonney', 'mogney', 'monnbey', 'moniey', 'mojnney', 'monneyx', 'mosney', 'uonney', 'monneye', 'monnxy', 'monned', 'monzney', 'ionney', 'moneny', 'monneyv', 'monneyb', 'monneyd', 'monndey', 'monnuey', 'monnei', 'monnley', 'monnex', 'moznney', 'mqnney', 'mooney'}\n"
     ]
    }
   ],
   "source": [
    "print(len(set(edits_one(\"monney\"))))\n",
    "print(edits_one(\"monney\"))"
   ]
  },
  {
   "cell_type": "code",
   "execution_count": 12,
   "id": "20e39eb6",
   "metadata": {
    "execution": {
     "iopub.execute_input": "2023-06-25T03:34:30.978308Z",
     "iopub.status.busy": "2023-06-25T03:34:30.977939Z",
     "iopub.status.idle": "2023-06-25T03:34:30.984359Z",
     "shell.execute_reply": "2023-06-25T03:34:30.982675Z"
    },
    "papermill": {
     "duration": 0.014798,
     "end_time": "2023-06-25T03:34:30.986791",
     "exception": false,
     "start_time": "2023-06-25T03:34:30.971993",
     "status": "completed"
    },
    "tags": []
   },
   "outputs": [
    {
     "name": "stdout",
     "output_type": "stream",
     "text": [
      "{'monkey', 'money'}\n"
     ]
    }
   ],
   "source": [
    "print(known(edits_one(\"monney\")))"
   ]
  },
  {
   "cell_type": "code",
   "execution_count": 13,
   "id": "4a9a8298",
   "metadata": {
    "execution": {
     "iopub.execute_input": "2023-06-25T03:34:30.998491Z",
     "iopub.status.busy": "2023-06-25T03:34:30.998142Z",
     "iopub.status.idle": "2023-06-25T03:34:31.068350Z",
     "shell.execute_reply": "2023-06-25T03:34:31.067059Z"
    },
    "papermill": {
     "duration": 0.0792,
     "end_time": "2023-06-25T03:34:31.070732",
     "exception": false,
     "start_time": "2023-06-25T03:34:30.991532",
     "status": "completed"
    },
    "tags": []
   },
   "outputs": [
    {
     "name": "stdout",
     "output_type": "stream",
     "text": [
      "51013\n",
      "{'monkey', 'money'}\n"
     ]
    }
   ],
   "source": [
    "# Let's look at words that are two edits away\n",
    "print(len(set(edits_two(\"monney\"))))\n",
    "print(known(edits_one(\"monney\")))"
   ]
  },
  {
   "cell_type": "code",
   "execution_count": 14,
   "id": "e765a208",
   "metadata": {
    "execution": {
     "iopub.execute_input": "2023-06-25T03:34:31.081078Z",
     "iopub.status.busy": "2023-06-25T03:34:31.080729Z",
     "iopub.status.idle": "2023-06-25T03:34:31.085360Z",
     "shell.execute_reply": "2023-06-25T03:34:31.084489Z"
    },
    "papermill": {
     "duration": 0.012471,
     "end_time": "2023-06-25T03:34:31.087733",
     "exception": false,
     "start_time": "2023-06-25T03:34:31.075262",
     "status": "completed"
    },
    "tags": []
   },
   "outputs": [
    {
     "name": "stdout",
     "output_type": "stream",
     "text": [
      "{'monkey', 'money'}\n"
     ]
    }
   ],
   "source": [
    "# Let's look at possible corrections of a word\n",
    "print(possible_corrections(\"monney\"))"
   ]
  },
  {
   "cell_type": "code",
   "execution_count": 15,
   "id": "e045b05e",
   "metadata": {
    "execution": {
     "iopub.execute_input": "2023-06-25T03:34:31.097794Z",
     "iopub.status.busy": "2023-06-25T03:34:31.097480Z",
     "iopub.status.idle": "2023-06-25T03:34:31.103295Z",
     "shell.execute_reply": "2023-06-25T03:34:31.101829Z"
    },
    "papermill": {
     "duration": 0.013516,
     "end_time": "2023-06-25T03:34:31.105708",
     "exception": false,
     "start_time": "2023-06-25T03:34:31.092192",
     "status": "completed"
    },
    "tags": []
   },
   "outputs": [
    {
     "name": "stdout",
     "output_type": "stream",
     "text": [
      "0.0002922233626303688\n",
      "5.378344097491451e-06\n"
     ]
    }
   ],
   "source": [
    "# Let's look at probability of a word\n",
    "print(prob(\"money\"))\n",
    "print(prob(\"monkey\"))"
   ]
  },
  {
   "cell_type": "code",
   "execution_count": 16,
   "id": "d9a3a103",
   "metadata": {
    "execution": {
     "iopub.execute_input": "2023-06-25T03:34:31.117076Z",
     "iopub.status.busy": "2023-06-25T03:34:31.116685Z",
     "iopub.status.idle": "2023-06-25T03:34:31.121997Z",
     "shell.execute_reply": "2023-06-25T03:34:31.120557Z"
    },
    "papermill": {
     "duration": 0.013475,
     "end_time": "2023-06-25T03:34:31.124090",
     "exception": false,
     "start_time": "2023-06-25T03:34:31.110615",
     "status": "completed"
    },
    "tags": []
   },
   "outputs": [],
   "source": [
    "def spell_check(word):\n",
    "    \"Print the most probable spelling correction for `word` out of all the `possible_corrections`\"\n",
    "    correct_word = max(possible_corrections(word), key=prob)\n",
    "    if correct_word != word:\n",
    "        return \"Did you mean \" + correct_word + \"?\"\n",
    "    else:\n",
    "        return \"Correct spelling.\""
   ]
  },
  {
   "cell_type": "code",
   "execution_count": 17,
   "id": "b4f3b119",
   "metadata": {
    "execution": {
     "iopub.execute_input": "2023-06-25T03:34:31.135116Z",
     "iopub.status.busy": "2023-06-25T03:34:31.134712Z",
     "iopub.status.idle": "2023-06-25T03:34:31.139595Z",
     "shell.execute_reply": "2023-06-25T03:34:31.138418Z"
    },
    "papermill": {
     "duration": 0.013331,
     "end_time": "2023-06-25T03:34:31.142080",
     "exception": false,
     "start_time": "2023-06-25T03:34:31.128749",
     "status": "completed"
    },
    "tags": []
   },
   "outputs": [
    {
     "name": "stdout",
     "output_type": "stream",
     "text": [
      "Did you mean money?\n"
     ]
    }
   ],
   "source": [
    "# test spell check\n",
    "print(spell_check(\"monney\"))"
   ]
  }
 ],
 "metadata": {
  "kernelspec": {
   "display_name": "Python 3",
   "language": "python",
   "name": "python3"
  },
  "language_info": {
   "codemirror_mode": {
    "name": "ipython",
    "version": 3
   },
   "file_extension": ".py",
   "mimetype": "text/x-python",
   "name": "python",
   "nbconvert_exporter": "python",
   "pygments_lexer": "ipython3",
   "version": "3.10.10"
  },
  "papermill": {
   "default_parameters": {},
   "duration": 11.755129,
   "end_time": "2023-06-25T03:34:31.969523",
   "environment_variables": {},
   "exception": null,
   "input_path": "__notebook__.ipynb",
   "output_path": "__notebook__.ipynb",
   "parameters": {},
   "start_time": "2023-06-25T03:34:20.214394",
   "version": "2.4.0"
  }
 },
 "nbformat": 4,
 "nbformat_minor": 5
}
