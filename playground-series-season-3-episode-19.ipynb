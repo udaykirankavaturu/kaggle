{
 "cells": [
  {
   "cell_type": "code",
   "execution_count": 1,
   "id": "c799eb7e",
   "metadata": {
    "_cell_guid": "b1076dfc-b9ad-4769-8c92-a6c4dae69d19",
    "_uuid": "8f2839f25d086af736a60e9eeb907d3b93b6e0e5",
    "execution": {
     "iopub.execute_input": "2023-07-15T02:43:33.252432Z",
     "iopub.status.busy": "2023-07-15T02:43:33.251168Z",
     "iopub.status.idle": "2023-07-15T02:43:33.271441Z",
     "shell.execute_reply": "2023-07-15T02:43:33.270109Z"
    },
    "papermill": {
     "duration": 0.047648,
     "end_time": "2023-07-15T02:43:33.274121",
     "exception": false,
     "start_time": "2023-07-15T02:43:33.226473",
     "status": "completed"
    },
    "tags": []
   },
   "outputs": [
    {
     "name": "stdout",
     "output_type": "stream",
     "text": [
      "/kaggle/input/playground-series-s3e19/sample_submission.csv\n",
      "/kaggle/input/playground-series-s3e19/train.csv\n",
      "/kaggle/input/playground-series-s3e19/test.csv\n"
     ]
    }
   ],
   "source": [
    "# This Python 3 environment comes with many helpful analytics libraries installed\n",
    "# It is defined by the kaggle/python Docker image: https://github.com/kaggle/docker-python\n",
    "# For example, here's several helpful packages to load\n",
    "\n",
    "import numpy as np # linear algebra\n",
    "import pandas as pd # data processing, CSV file I/O (e.g. pd.read_csv)\n",
    "\n",
    "# Input data files are available in the read-only \"../input/\" directory\n",
    "# For example, running this (by clicking run or pressing Shift+Enter) will list all files under the input directory\n",
    "\n",
    "import os\n",
    "for dirname, _, filenames in os.walk('/kaggle/input'):\n",
    "    for filename in filenames:\n",
    "        print(os.path.join(dirname, filename))\n",
    "\n",
    "# You can write up to 20GB to the current directory (/kaggle/working/) that gets preserved as output when you create a version using \"Save & Run All\" \n",
    "# You can also write temporary files to /kaggle/temp/, but they won't be saved outside of the current session"
   ]
  },
  {
   "cell_type": "code",
   "execution_count": 2,
   "id": "0ff11586",
   "metadata": {
    "execution": {
     "iopub.execute_input": "2023-07-15T02:43:33.321425Z",
     "iopub.status.busy": "2023-07-15T02:43:33.320576Z",
     "iopub.status.idle": "2023-07-15T02:43:33.703582Z",
     "shell.execute_reply": "2023-07-15T02:43:33.702325Z"
    },
    "papermill": {
     "duration": 0.409812,
     "end_time": "2023-07-15T02:43:33.706722",
     "exception": false,
     "start_time": "2023-07-15T02:43:33.296910",
     "status": "completed"
    },
    "tags": []
   },
   "outputs": [],
   "source": [
    "train_data = pd.read_csv('/kaggle/input/playground-series-s3e19/train.csv')\n",
    "test_data = pd.read_csv('/kaggle/input/playground-series-s3e19/test.csv')"
   ]
  },
  {
   "cell_type": "markdown",
   "id": "abc204a0",
   "metadata": {
    "papermill": {
     "duration": 0.022384,
     "end_time": "2023-07-15T02:43:33.751861",
     "exception": false,
     "start_time": "2023-07-15T02:43:33.729477",
     "status": "completed"
    },
    "tags": []
   },
   "source": [
    "### Non graphical EDA"
   ]
  },
  {
   "cell_type": "code",
   "execution_count": 3,
   "id": "c5921ae8",
   "metadata": {
    "execution": {
     "iopub.execute_input": "2023-07-15T02:43:33.797792Z",
     "iopub.status.busy": "2023-07-15T02:43:33.797406Z",
     "iopub.status.idle": "2023-07-15T02:43:33.821568Z",
     "shell.execute_reply": "2023-07-15T02:43:33.820327Z"
    },
    "papermill": {
     "duration": 0.050401,
     "end_time": "2023-07-15T02:43:33.824466",
     "exception": false,
     "start_time": "2023-07-15T02:43:33.774065",
     "status": "completed"
    },
    "tags": []
   },
   "outputs": [
    {
     "data": {
      "text/html": [
       "<div>\n",
       "<style scoped>\n",
       "    .dataframe tbody tr th:only-of-type {\n",
       "        vertical-align: middle;\n",
       "    }\n",
       "\n",
       "    .dataframe tbody tr th {\n",
       "        vertical-align: top;\n",
       "    }\n",
       "\n",
       "    .dataframe thead th {\n",
       "        text-align: right;\n",
       "    }\n",
       "</style>\n",
       "<table border=\"1\" class=\"dataframe\">\n",
       "  <thead>\n",
       "    <tr style=\"text-align: right;\">\n",
       "      <th></th>\n",
       "      <th>id</th>\n",
       "      <th>date</th>\n",
       "      <th>country</th>\n",
       "      <th>store</th>\n",
       "      <th>product</th>\n",
       "      <th>num_sold</th>\n",
       "    </tr>\n",
       "  </thead>\n",
       "  <tbody>\n",
       "    <tr>\n",
       "      <th>0</th>\n",
       "      <td>0</td>\n",
       "      <td>2017-01-01</td>\n",
       "      <td>Argentina</td>\n",
       "      <td>Kaggle Learn</td>\n",
       "      <td>Using LLMs to Improve Your Coding</td>\n",
       "      <td>63</td>\n",
       "    </tr>\n",
       "    <tr>\n",
       "      <th>1</th>\n",
       "      <td>1</td>\n",
       "      <td>2017-01-01</td>\n",
       "      <td>Argentina</td>\n",
       "      <td>Kaggle Learn</td>\n",
       "      <td>Using LLMs to Train More LLMs</td>\n",
       "      <td>66</td>\n",
       "    </tr>\n",
       "    <tr>\n",
       "      <th>2</th>\n",
       "      <td>2</td>\n",
       "      <td>2017-01-01</td>\n",
       "      <td>Argentina</td>\n",
       "      <td>Kaggle Learn</td>\n",
       "      <td>Using LLMs to Win Friends and Influence People</td>\n",
       "      <td>9</td>\n",
       "    </tr>\n",
       "    <tr>\n",
       "      <th>3</th>\n",
       "      <td>3</td>\n",
       "      <td>2017-01-01</td>\n",
       "      <td>Argentina</td>\n",
       "      <td>Kaggle Learn</td>\n",
       "      <td>Using LLMs to Win More Kaggle Competitions</td>\n",
       "      <td>59</td>\n",
       "    </tr>\n",
       "    <tr>\n",
       "      <th>4</th>\n",
       "      <td>4</td>\n",
       "      <td>2017-01-01</td>\n",
       "      <td>Argentina</td>\n",
       "      <td>Kaggle Learn</td>\n",
       "      <td>Using LLMs to Write Better</td>\n",
       "      <td>49</td>\n",
       "    </tr>\n",
       "  </tbody>\n",
       "</table>\n",
       "</div>"
      ],
      "text/plain": [
       "   id        date    country         store  \\\n",
       "0   0  2017-01-01  Argentina  Kaggle Learn   \n",
       "1   1  2017-01-01  Argentina  Kaggle Learn   \n",
       "2   2  2017-01-01  Argentina  Kaggle Learn   \n",
       "3   3  2017-01-01  Argentina  Kaggle Learn   \n",
       "4   4  2017-01-01  Argentina  Kaggle Learn   \n",
       "\n",
       "                                          product  num_sold  \n",
       "0               Using LLMs to Improve Your Coding        63  \n",
       "1                   Using LLMs to Train More LLMs        66  \n",
       "2  Using LLMs to Win Friends and Influence People         9  \n",
       "3      Using LLMs to Win More Kaggle Competitions        59  \n",
       "4                      Using LLMs to Write Better        49  "
      ]
     },
     "execution_count": 3,
     "metadata": {},
     "output_type": "execute_result"
    }
   ],
   "source": [
    "train_data.head()"
   ]
  },
  {
   "cell_type": "markdown",
   "id": "0c59befe",
   "metadata": {
    "papermill": {
     "duration": 0.022108,
     "end_time": "2023-07-15T02:43:33.869161",
     "exception": false,
     "start_time": "2023-07-15T02:43:33.847053",
     "status": "completed"
    },
    "tags": []
   },
   "source": [
    "train data has day-wise sales of a product in a specific store in a specific country. this is a time-series data. "
   ]
  },
  {
   "cell_type": "code",
   "execution_count": 4,
   "id": "db956360",
   "metadata": {
    "execution": {
     "iopub.execute_input": "2023-07-15T02:43:33.915514Z",
     "iopub.status.busy": "2023-07-15T02:43:33.915109Z",
     "iopub.status.idle": "2023-07-15T02:43:33.928093Z",
     "shell.execute_reply": "2023-07-15T02:43:33.926798Z"
    },
    "papermill": {
     "duration": 0.03891,
     "end_time": "2023-07-15T02:43:33.930361",
     "exception": false,
     "start_time": "2023-07-15T02:43:33.891451",
     "status": "completed"
    },
    "tags": []
   },
   "outputs": [
    {
     "data": {
      "text/html": [
       "<div>\n",
       "<style scoped>\n",
       "    .dataframe tbody tr th:only-of-type {\n",
       "        vertical-align: middle;\n",
       "    }\n",
       "\n",
       "    .dataframe tbody tr th {\n",
       "        vertical-align: top;\n",
       "    }\n",
       "\n",
       "    .dataframe thead th {\n",
       "        text-align: right;\n",
       "    }\n",
       "</style>\n",
       "<table border=\"1\" class=\"dataframe\">\n",
       "  <thead>\n",
       "    <tr style=\"text-align: right;\">\n",
       "      <th></th>\n",
       "      <th>id</th>\n",
       "      <th>date</th>\n",
       "      <th>country</th>\n",
       "      <th>store</th>\n",
       "      <th>product</th>\n",
       "    </tr>\n",
       "  </thead>\n",
       "  <tbody>\n",
       "    <tr>\n",
       "      <th>0</th>\n",
       "      <td>136950</td>\n",
       "      <td>2022-01-01</td>\n",
       "      <td>Argentina</td>\n",
       "      <td>Kaggle Learn</td>\n",
       "      <td>Using LLMs to Improve Your Coding</td>\n",
       "    </tr>\n",
       "    <tr>\n",
       "      <th>1</th>\n",
       "      <td>136951</td>\n",
       "      <td>2022-01-01</td>\n",
       "      <td>Argentina</td>\n",
       "      <td>Kaggle Learn</td>\n",
       "      <td>Using LLMs to Train More LLMs</td>\n",
       "    </tr>\n",
       "    <tr>\n",
       "      <th>2</th>\n",
       "      <td>136952</td>\n",
       "      <td>2022-01-01</td>\n",
       "      <td>Argentina</td>\n",
       "      <td>Kaggle Learn</td>\n",
       "      <td>Using LLMs to Win Friends and Influence People</td>\n",
       "    </tr>\n",
       "    <tr>\n",
       "      <th>3</th>\n",
       "      <td>136953</td>\n",
       "      <td>2022-01-01</td>\n",
       "      <td>Argentina</td>\n",
       "      <td>Kaggle Learn</td>\n",
       "      <td>Using LLMs to Win More Kaggle Competitions</td>\n",
       "    </tr>\n",
       "    <tr>\n",
       "      <th>4</th>\n",
       "      <td>136954</td>\n",
       "      <td>2022-01-01</td>\n",
       "      <td>Argentina</td>\n",
       "      <td>Kaggle Learn</td>\n",
       "      <td>Using LLMs to Write Better</td>\n",
       "    </tr>\n",
       "  </tbody>\n",
       "</table>\n",
       "</div>"
      ],
      "text/plain": [
       "       id        date    country         store  \\\n",
       "0  136950  2022-01-01  Argentina  Kaggle Learn   \n",
       "1  136951  2022-01-01  Argentina  Kaggle Learn   \n",
       "2  136952  2022-01-01  Argentina  Kaggle Learn   \n",
       "3  136953  2022-01-01  Argentina  Kaggle Learn   \n",
       "4  136954  2022-01-01  Argentina  Kaggle Learn   \n",
       "\n",
       "                                          product  \n",
       "0               Using LLMs to Improve Your Coding  \n",
       "1                   Using LLMs to Train More LLMs  \n",
       "2  Using LLMs to Win Friends and Influence People  \n",
       "3      Using LLMs to Win More Kaggle Competitions  \n",
       "4                      Using LLMs to Write Better  "
      ]
     },
     "execution_count": 4,
     "metadata": {},
     "output_type": "execute_result"
    }
   ],
   "source": [
    "test_data.head()"
   ]
  },
  {
   "cell_type": "markdown",
   "id": "f0532873",
   "metadata": {
    "papermill": {
     "duration": 0.022771,
     "end_time": "2023-07-15T02:43:33.975588",
     "exception": false,
     "start_time": "2023-07-15T02:43:33.952817",
     "status": "completed"
    },
    "tags": []
   },
   "source": [
    "test data has all columns as the train_data except for num_sold which needs to be predicted. "
   ]
  },
  {
   "cell_type": "code",
   "execution_count": 5,
   "id": "861b5202",
   "metadata": {
    "execution": {
     "iopub.execute_input": "2023-07-15T02:43:34.022099Z",
     "iopub.status.busy": "2023-07-15T02:43:34.021703Z",
     "iopub.status.idle": "2023-07-15T02:43:34.028259Z",
     "shell.execute_reply": "2023-07-15T02:43:34.027372Z"
    },
    "papermill": {
     "duration": 0.03253,
     "end_time": "2023-07-15T02:43:34.030606",
     "exception": false,
     "start_time": "2023-07-15T02:43:33.998076",
     "status": "completed"
    },
    "tags": []
   },
   "outputs": [
    {
     "data": {
      "text/plain": [
       "(136950, 6)"
      ]
     },
     "execution_count": 5,
     "metadata": {},
     "output_type": "execute_result"
    }
   ],
   "source": [
    "train_data.shape"
   ]
  },
  {
   "cell_type": "markdown",
   "id": "857b91ad",
   "metadata": {
    "papermill": {
     "duration": 0.023206,
     "end_time": "2023-07-15T02:43:34.076750",
     "exception": false,
     "start_time": "2023-07-15T02:43:34.053544",
     "status": "completed"
    },
    "tags": []
   },
   "source": [
    "train data has 136950 rows and 6 columns"
   ]
  },
  {
   "cell_type": "code",
   "execution_count": 6,
   "id": "74d58698",
   "metadata": {
    "execution": {
     "iopub.execute_input": "2023-07-15T02:43:34.125747Z",
     "iopub.status.busy": "2023-07-15T02:43:34.125364Z",
     "iopub.status.idle": "2023-07-15T02:43:34.132265Z",
     "shell.execute_reply": "2023-07-15T02:43:34.131099Z"
    },
    "papermill": {
     "duration": 0.034281,
     "end_time": "2023-07-15T02:43:34.134559",
     "exception": false,
     "start_time": "2023-07-15T02:43:34.100278",
     "status": "completed"
    },
    "tags": []
   },
   "outputs": [
    {
     "data": {
      "text/plain": [
       "(27375, 5)"
      ]
     },
     "execution_count": 6,
     "metadata": {},
     "output_type": "execute_result"
    }
   ],
   "source": [
    "test_data.shape"
   ]
  },
  {
   "cell_type": "markdown",
   "id": "d5e01af0",
   "metadata": {
    "papermill": {
     "duration": 0.022681,
     "end_time": "2023-07-15T02:43:34.180133",
     "exception": false,
     "start_time": "2023-07-15T02:43:34.157452",
     "status": "completed"
    },
    "tags": []
   },
   "source": [
    "test data has 27375 rows and 5 columns"
   ]
  },
  {
   "cell_type": "code",
   "execution_count": 7,
   "id": "fb0d8c57",
   "metadata": {
    "execution": {
     "iopub.execute_input": "2023-07-15T02:43:34.227717Z",
     "iopub.status.busy": "2023-07-15T02:43:34.227331Z",
     "iopub.status.idle": "2023-07-15T02:43:34.429254Z",
     "shell.execute_reply": "2023-07-15T02:43:34.427806Z"
    },
    "papermill": {
     "duration": 0.228804,
     "end_time": "2023-07-15T02:43:34.431854",
     "exception": false,
     "start_time": "2023-07-15T02:43:34.203050",
     "status": "completed"
    },
    "tags": []
   },
   "outputs": [
    {
     "name": "stdout",
     "output_type": "stream",
     "text": [
      "<class 'pandas.core.frame.DataFrame'>\n",
      "RangeIndex: 136950 entries, 0 to 136949\n",
      "Data columns (total 6 columns):\n",
      " #   Column    Non-Null Count   Dtype \n",
      "---  ------    --------------   ----- \n",
      " 0   id        136950 non-null  int64 \n",
      " 1   date      136950 non-null  object\n",
      " 2   country   136950 non-null  object\n",
      " 3   store     136950 non-null  object\n",
      " 4   product   136950 non-null  object\n",
      " 5   num_sold  136950 non-null  int64 \n",
      "dtypes: int64(2), object(4)\n",
      "memory usage: 6.3+ MB\n"
     ]
    }
   ],
   "source": [
    "train_data.info()"
   ]
  },
  {
   "cell_type": "markdown",
   "id": "66421222",
   "metadata": {
    "papermill": {
     "duration": 0.022608,
     "end_time": "2023-07-15T02:43:34.477412",
     "exception": false,
     "start_time": "2023-07-15T02:43:34.454804",
     "status": "completed"
    },
    "tags": []
   },
   "source": [
    "train data has no null values. "
   ]
  },
  {
   "cell_type": "code",
   "execution_count": 8,
   "id": "26433e97",
   "metadata": {
    "execution": {
     "iopub.execute_input": "2023-07-15T02:43:34.525448Z",
     "iopub.status.busy": "2023-07-15T02:43:34.524978Z",
     "iopub.status.idle": "2023-07-15T02:43:34.573958Z",
     "shell.execute_reply": "2023-07-15T02:43:34.572599Z"
    },
    "papermill": {
     "duration": 0.075947,
     "end_time": "2023-07-15T02:43:34.576397",
     "exception": false,
     "start_time": "2023-07-15T02:43:34.500450",
     "status": "completed"
    },
    "tags": []
   },
   "outputs": [
    {
     "name": "stdout",
     "output_type": "stream",
     "text": [
      "<class 'pandas.core.frame.DataFrame'>\n",
      "RangeIndex: 27375 entries, 0 to 27374\n",
      "Data columns (total 5 columns):\n",
      " #   Column   Non-Null Count  Dtype \n",
      "---  ------   --------------  ----- \n",
      " 0   id       27375 non-null  int64 \n",
      " 1   date     27375 non-null  object\n",
      " 2   country  27375 non-null  object\n",
      " 3   store    27375 non-null  object\n",
      " 4   product  27375 non-null  object\n",
      "dtypes: int64(1), object(4)\n",
      "memory usage: 1.0+ MB\n"
     ]
    }
   ],
   "source": [
    "test_data.info()"
   ]
  },
  {
   "cell_type": "markdown",
   "id": "6cdca664",
   "metadata": {
    "papermill": {
     "duration": 0.023116,
     "end_time": "2023-07-15T02:43:34.622750",
     "exception": false,
     "start_time": "2023-07-15T02:43:34.599634",
     "status": "completed"
    },
    "tags": []
   },
   "source": [
    "test data also has no null values"
   ]
  },
  {
   "cell_type": "code",
   "execution_count": 9,
   "id": "c0ee8e29",
   "metadata": {
    "execution": {
     "iopub.execute_input": "2023-07-15T02:43:34.670796Z",
     "iopub.status.busy": "2023-07-15T02:43:34.670386Z",
     "iopub.status.idle": "2023-07-15T02:43:34.704072Z",
     "shell.execute_reply": "2023-07-15T02:43:34.702899Z"
    },
    "papermill": {
     "duration": 0.060705,
     "end_time": "2023-07-15T02:43:34.706572",
     "exception": false,
     "start_time": "2023-07-15T02:43:34.645867",
     "status": "completed"
    },
    "tags": []
   },
   "outputs": [
    {
     "data": {
      "text/html": [
       "<div>\n",
       "<style scoped>\n",
       "    .dataframe tbody tr th:only-of-type {\n",
       "        vertical-align: middle;\n",
       "    }\n",
       "\n",
       "    .dataframe tbody tr th {\n",
       "        vertical-align: top;\n",
       "    }\n",
       "\n",
       "    .dataframe thead th {\n",
       "        text-align: right;\n",
       "    }\n",
       "</style>\n",
       "<table border=\"1\" class=\"dataframe\">\n",
       "  <thead>\n",
       "    <tr style=\"text-align: right;\">\n",
       "      <th></th>\n",
       "      <th>id</th>\n",
       "      <th>num_sold</th>\n",
       "    </tr>\n",
       "  </thead>\n",
       "  <tbody>\n",
       "    <tr>\n",
       "      <th>count</th>\n",
       "      <td>136950.00000</td>\n",
       "      <td>136950.000000</td>\n",
       "    </tr>\n",
       "    <tr>\n",
       "      <th>mean</th>\n",
       "      <td>68474.50000</td>\n",
       "      <td>165.522636</td>\n",
       "    </tr>\n",
       "    <tr>\n",
       "      <th>std</th>\n",
       "      <td>39534.20402</td>\n",
       "      <td>183.691575</td>\n",
       "    </tr>\n",
       "    <tr>\n",
       "      <th>min</th>\n",
       "      <td>0.00000</td>\n",
       "      <td>2.000000</td>\n",
       "    </tr>\n",
       "    <tr>\n",
       "      <th>25%</th>\n",
       "      <td>34237.25000</td>\n",
       "      <td>46.000000</td>\n",
       "    </tr>\n",
       "    <tr>\n",
       "      <th>50%</th>\n",
       "      <td>68474.50000</td>\n",
       "      <td>98.000000</td>\n",
       "    </tr>\n",
       "    <tr>\n",
       "      <th>75%</th>\n",
       "      <td>102711.75000</td>\n",
       "      <td>184.000000</td>\n",
       "    </tr>\n",
       "    <tr>\n",
       "      <th>max</th>\n",
       "      <td>136949.00000</td>\n",
       "      <td>1380.000000</td>\n",
       "    </tr>\n",
       "  </tbody>\n",
       "</table>\n",
       "</div>"
      ],
      "text/plain": [
       "                 id       num_sold\n",
       "count  136950.00000  136950.000000\n",
       "mean    68474.50000     165.522636\n",
       "std     39534.20402     183.691575\n",
       "min         0.00000       2.000000\n",
       "25%     34237.25000      46.000000\n",
       "50%     68474.50000      98.000000\n",
       "75%    102711.75000     184.000000\n",
       "max    136949.00000    1380.000000"
      ]
     },
     "execution_count": 9,
     "metadata": {},
     "output_type": "execute_result"
    }
   ],
   "source": [
    "train_data.describe()"
   ]
  },
  {
   "cell_type": "markdown",
   "id": "98b06321",
   "metadata": {
    "papermill": {
     "duration": 0.022904,
     "end_time": "2023-07-15T02:43:34.753094",
     "exception": false,
     "start_time": "2023-07-15T02:43:34.730190",
     "status": "completed"
    },
    "tags": []
   },
   "source": [
    "there is only one numeric column num_sold. num_sold ranges from 2-1380 with an average of 165. "
   ]
  },
  {
   "cell_type": "code",
   "execution_count": 10,
   "id": "f0b5da45",
   "metadata": {
    "execution": {
     "iopub.execute_input": "2023-07-15T02:43:34.802083Z",
     "iopub.status.busy": "2023-07-15T02:43:34.800879Z",
     "iopub.status.idle": "2023-07-15T02:43:34.817047Z",
     "shell.execute_reply": "2023-07-15T02:43:34.815657Z"
    },
    "papermill": {
     "duration": 0.043163,
     "end_time": "2023-07-15T02:43:34.819448",
     "exception": false,
     "start_time": "2023-07-15T02:43:34.776285",
     "status": "completed"
    },
    "tags": []
   },
   "outputs": [
    {
     "data": {
      "text/html": [
       "<div>\n",
       "<style scoped>\n",
       "    .dataframe tbody tr th:only-of-type {\n",
       "        vertical-align: middle;\n",
       "    }\n",
       "\n",
       "    .dataframe tbody tr th {\n",
       "        vertical-align: top;\n",
       "    }\n",
       "\n",
       "    .dataframe thead th {\n",
       "        text-align: right;\n",
       "    }\n",
       "</style>\n",
       "<table border=\"1\" class=\"dataframe\">\n",
       "  <thead>\n",
       "    <tr style=\"text-align: right;\">\n",
       "      <th></th>\n",
       "      <th>id</th>\n",
       "    </tr>\n",
       "  </thead>\n",
       "  <tbody>\n",
       "    <tr>\n",
       "      <th>count</th>\n",
       "      <td>27375.000000</td>\n",
       "    </tr>\n",
       "    <tr>\n",
       "      <th>mean</th>\n",
       "      <td>150637.000000</td>\n",
       "    </tr>\n",
       "    <tr>\n",
       "      <th>std</th>\n",
       "      <td>7902.626146</td>\n",
       "    </tr>\n",
       "    <tr>\n",
       "      <th>min</th>\n",
       "      <td>136950.000000</td>\n",
       "    </tr>\n",
       "    <tr>\n",
       "      <th>25%</th>\n",
       "      <td>143793.500000</td>\n",
       "    </tr>\n",
       "    <tr>\n",
       "      <th>50%</th>\n",
       "      <td>150637.000000</td>\n",
       "    </tr>\n",
       "    <tr>\n",
       "      <th>75%</th>\n",
       "      <td>157480.500000</td>\n",
       "    </tr>\n",
       "    <tr>\n",
       "      <th>max</th>\n",
       "      <td>164324.000000</td>\n",
       "    </tr>\n",
       "  </tbody>\n",
       "</table>\n",
       "</div>"
      ],
      "text/plain": [
       "                  id\n",
       "count   27375.000000\n",
       "mean   150637.000000\n",
       "std      7902.626146\n",
       "min    136950.000000\n",
       "25%    143793.500000\n",
       "50%    150637.000000\n",
       "75%    157480.500000\n",
       "max    164324.000000"
      ]
     },
     "execution_count": 10,
     "metadata": {},
     "output_type": "execute_result"
    }
   ],
   "source": [
    "test_data.describe()"
   ]
  },
  {
   "cell_type": "markdown",
   "id": "ae9380fc",
   "metadata": {
    "papermill": {
     "duration": 0.023254,
     "end_time": "2023-07-15T02:43:34.866228",
     "exception": false,
     "start_time": "2023-07-15T02:43:34.842974",
     "status": "completed"
    },
    "tags": []
   },
   "source": []
  },
  {
   "cell_type": "markdown",
   "id": "3e78f5c2",
   "metadata": {
    "papermill": {
     "duration": 0.023254,
     "end_time": "2023-07-15T02:43:34.913669",
     "exception": false,
     "start_time": "2023-07-15T02:43:34.890415",
     "status": "completed"
    },
    "tags": []
   },
   "source": [
    "only id is available here. num_sold needs to be predicted. "
   ]
  },
  {
   "cell_type": "code",
   "execution_count": 11,
   "id": "5e536fec",
   "metadata": {
    "execution": {
     "iopub.execute_input": "2023-07-15T02:43:34.962470Z",
     "iopub.status.busy": "2023-07-15T02:43:34.962059Z",
     "iopub.status.idle": "2023-07-15T02:43:35.011959Z",
     "shell.execute_reply": "2023-07-15T02:43:35.011106Z"
    },
    "papermill": {
     "duration": 0.077612,
     "end_time": "2023-07-15T02:43:35.014711",
     "exception": false,
     "start_time": "2023-07-15T02:43:34.937099",
     "status": "completed"
    },
    "tags": []
   },
   "outputs": [
    {
     "name": "stdout",
     "output_type": "stream",
     "text": [
      "2017-01-01\n",
      "2021-12-31\n"
     ]
    }
   ],
   "source": [
    "print(train_data.date.min())\n",
    "print(train_data.date.max())"
   ]
  },
  {
   "cell_type": "markdown",
   "id": "7290a4b3",
   "metadata": {
    "papermill": {
     "duration": 0.023368,
     "end_time": "2023-07-15T02:43:35.061779",
     "exception": false,
     "start_time": "2023-07-15T02:43:35.038411",
     "status": "completed"
    },
    "tags": []
   },
   "source": [
    "date range spans from 1st January 2017 to 31st December 2021. it's a 5 year data set. "
   ]
  },
  {
   "cell_type": "code",
   "execution_count": 12,
   "id": "6584a5eb",
   "metadata": {
    "execution": {
     "iopub.execute_input": "2023-07-15T02:43:35.111247Z",
     "iopub.status.busy": "2023-07-15T02:43:35.110795Z",
     "iopub.status.idle": "2023-07-15T02:43:35.126664Z",
     "shell.execute_reply": "2023-07-15T02:43:35.125153Z"
    },
    "papermill": {
     "duration": 0.044001,
     "end_time": "2023-07-15T02:43:35.129547",
     "exception": false,
     "start_time": "2023-07-15T02:43:35.085546",
     "status": "completed"
    },
    "tags": []
   },
   "outputs": [
    {
     "name": "stdout",
     "output_type": "stream",
     "text": [
      "2022-01-01\n",
      "2022-12-31\n"
     ]
    }
   ],
   "source": [
    "print(test_data.date.min())\n",
    "print(test_data.date.max())"
   ]
  },
  {
   "cell_type": "markdown",
   "id": "1dce73db",
   "metadata": {
    "papermill": {
     "duration": 0.023777,
     "end_time": "2023-07-15T02:43:35.178072",
     "exception": false,
     "start_time": "2023-07-15T02:43:35.154295",
     "status": "completed"
    },
    "tags": []
   },
   "source": [
    "date range spans from 1st January 2022 to 31st December 2022. it's a 1 year data set which needs to be predicted. "
   ]
  },
  {
   "cell_type": "markdown",
   "id": "cff60b09",
   "metadata": {
    "papermill": {
     "duration": 0.024371,
     "end_time": "2023-07-15T02:43:35.226385",
     "exception": false,
     "start_time": "2023-07-15T02:43:35.202014",
     "status": "completed"
    },
    "tags": []
   },
   "source": []
  },
  {
   "cell_type": "code",
   "execution_count": 13,
   "id": "e98d595a",
   "metadata": {
    "execution": {
     "iopub.execute_input": "2023-07-15T02:43:35.276105Z",
     "iopub.status.busy": "2023-07-15T02:43:35.275689Z",
     "iopub.status.idle": "2023-07-15T02:43:35.302485Z",
     "shell.execute_reply": "2023-07-15T02:43:35.301397Z"
    },
    "papermill": {
     "duration": 0.054431,
     "end_time": "2023-07-15T02:43:35.304737",
     "exception": false,
     "start_time": "2023-07-15T02:43:35.250306",
     "status": "completed"
    },
    "tags": []
   },
   "outputs": [
    {
     "data": {
      "text/plain": [
       "Argentina    27390\n",
       "Canada       27390\n",
       "Estonia      27390\n",
       "Japan        27390\n",
       "Spain        27390\n",
       "Name: country, dtype: int64"
      ]
     },
     "execution_count": 13,
     "metadata": {},
     "output_type": "execute_result"
    }
   ],
   "source": [
    "train_data.country.value_counts()"
   ]
  },
  {
   "cell_type": "markdown",
   "id": "d9297224",
   "metadata": {
    "papermill": {
     "duration": 0.023598,
     "end_time": "2023-07-15T02:43:35.352851",
     "exception": false,
     "start_time": "2023-07-15T02:43:35.329253",
     "status": "completed"
    },
    "tags": []
   },
   "source": [
    "there are 5 countries in the train data. all countries have equal number of entries. "
   ]
  },
  {
   "cell_type": "code",
   "execution_count": 14,
   "id": "33e63bec",
   "metadata": {
    "execution": {
     "iopub.execute_input": "2023-07-15T02:43:35.402829Z",
     "iopub.status.busy": "2023-07-15T02:43:35.402192Z",
     "iopub.status.idle": "2023-07-15T02:43:35.414630Z",
     "shell.execute_reply": "2023-07-15T02:43:35.413484Z"
    },
    "papermill": {
     "duration": 0.040219,
     "end_time": "2023-07-15T02:43:35.416898",
     "exception": false,
     "start_time": "2023-07-15T02:43:35.376679",
     "status": "completed"
    },
    "tags": []
   },
   "outputs": [
    {
     "data": {
      "text/plain": [
       "Argentina    5475\n",
       "Canada       5475\n",
       "Estonia      5475\n",
       "Japan        5475\n",
       "Spain        5475\n",
       "Name: country, dtype: int64"
      ]
     },
     "execution_count": 14,
     "metadata": {},
     "output_type": "execute_result"
    }
   ],
   "source": [
    "test_data.country.value_counts()"
   ]
  },
  {
   "cell_type": "markdown",
   "id": "41b84002",
   "metadata": {
    "papermill": {
     "duration": 0.023854,
     "end_time": "2023-07-15T02:43:35.464951",
     "exception": false,
     "start_time": "2023-07-15T02:43:35.441097",
     "status": "completed"
    },
    "tags": []
   },
   "source": [
    "there are 5 countries in the test data as well. the spread is also equal. "
   ]
  },
  {
   "cell_type": "code",
   "execution_count": 15,
   "id": "012c2d2a",
   "metadata": {
    "execution": {
     "iopub.execute_input": "2023-07-15T02:43:35.515755Z",
     "iopub.status.busy": "2023-07-15T02:43:35.515113Z",
     "iopub.status.idle": "2023-07-15T02:43:35.540853Z",
     "shell.execute_reply": "2023-07-15T02:43:35.539693Z"
    },
    "papermill": {
     "duration": 0.054244,
     "end_time": "2023-07-15T02:43:35.543388",
     "exception": false,
     "start_time": "2023-07-15T02:43:35.489144",
     "status": "completed"
    },
    "tags": []
   },
   "outputs": [
    {
     "data": {
      "text/plain": [
       "Kaggle Learn    45650\n",
       "Kaggle Store    45650\n",
       "Kagglazon       45650\n",
       "Name: store, dtype: int64"
      ]
     },
     "execution_count": 15,
     "metadata": {},
     "output_type": "execute_result"
    }
   ],
   "source": [
    "train_data.store.value_counts()"
   ]
  },
  {
   "cell_type": "markdown",
   "id": "71b14e55",
   "metadata": {
    "papermill": {
     "duration": 0.023867,
     "end_time": "2023-07-15T02:43:35.591320",
     "exception": false,
     "start_time": "2023-07-15T02:43:35.567453",
     "status": "completed"
    },
    "tags": []
   },
   "source": [
    "there are 3 stores in the train data. all stores have equal number of entries."
   ]
  },
  {
   "cell_type": "code",
   "execution_count": 16,
   "id": "a3e089c9",
   "metadata": {
    "execution": {
     "iopub.execute_input": "2023-07-15T02:43:35.642016Z",
     "iopub.status.busy": "2023-07-15T02:43:35.641390Z",
     "iopub.status.idle": "2023-07-15T02:43:35.653195Z",
     "shell.execute_reply": "2023-07-15T02:43:35.652108Z"
    },
    "papermill": {
     "duration": 0.039751,
     "end_time": "2023-07-15T02:43:35.655385",
     "exception": false,
     "start_time": "2023-07-15T02:43:35.615634",
     "status": "completed"
    },
    "tags": []
   },
   "outputs": [
    {
     "data": {
      "text/plain": [
       "Kaggle Learn    9125\n",
       "Kaggle Store    9125\n",
       "Kagglazon       9125\n",
       "Name: store, dtype: int64"
      ]
     },
     "execution_count": 16,
     "metadata": {},
     "output_type": "execute_result"
    }
   ],
   "source": [
    "test_data.store.value_counts()"
   ]
  },
  {
   "cell_type": "markdown",
   "id": "31f2dec3",
   "metadata": {
    "papermill": {
     "duration": 0.025922,
     "end_time": "2023-07-15T02:43:35.705418",
     "exception": false,
     "start_time": "2023-07-15T02:43:35.679496",
     "status": "completed"
    },
    "tags": []
   },
   "source": [
    "there are 3 stores in the test data. the spread is equal."
   ]
  },
  {
   "cell_type": "code",
   "execution_count": 17,
   "id": "994b0501",
   "metadata": {
    "execution": {
     "iopub.execute_input": "2023-07-15T02:43:35.756508Z",
     "iopub.status.busy": "2023-07-15T02:43:35.755847Z",
     "iopub.status.idle": "2023-07-15T02:43:35.781902Z",
     "shell.execute_reply": "2023-07-15T02:43:35.780752Z"
    },
    "papermill": {
     "duration": 0.054547,
     "end_time": "2023-07-15T02:43:35.784297",
     "exception": false,
     "start_time": "2023-07-15T02:43:35.729750",
     "status": "completed"
    },
    "tags": []
   },
   "outputs": [
    {
     "data": {
      "text/plain": [
       "Using LLMs to Improve Your Coding                 27390\n",
       "Using LLMs to Train More LLMs                     27390\n",
       "Using LLMs to Win Friends and Influence People    27390\n",
       "Using LLMs to Win More Kaggle Competitions        27390\n",
       "Using LLMs to Write Better                        27390\n",
       "Name: product, dtype: int64"
      ]
     },
     "execution_count": 17,
     "metadata": {},
     "output_type": "execute_result"
    }
   ],
   "source": [
    "train_data['product'].value_counts()"
   ]
  },
  {
   "cell_type": "markdown",
   "id": "6b21ff94",
   "metadata": {
    "papermill": {
     "duration": 0.024291,
     "end_time": "2023-07-15T02:43:35.833272",
     "exception": false,
     "start_time": "2023-07-15T02:43:35.808981",
     "status": "completed"
    },
    "tags": []
   },
   "source": [
    "there are 5 types of products in the train data. all products have equal number of entries. "
   ]
  },
  {
   "cell_type": "code",
   "execution_count": 18,
   "id": "cce83b67",
   "metadata": {
    "execution": {
     "iopub.execute_input": "2023-07-15T02:43:35.884557Z",
     "iopub.status.busy": "2023-07-15T02:43:35.883898Z",
     "iopub.status.idle": "2023-07-15T02:43:35.896074Z",
     "shell.execute_reply": "2023-07-15T02:43:35.894920Z"
    },
    "papermill": {
     "duration": 0.040842,
     "end_time": "2023-07-15T02:43:35.898683",
     "exception": false,
     "start_time": "2023-07-15T02:43:35.857841",
     "status": "completed"
    },
    "tags": []
   },
   "outputs": [
    {
     "data": {
      "text/plain": [
       "Using LLMs to Improve Your Coding                 5475\n",
       "Using LLMs to Train More LLMs                     5475\n",
       "Using LLMs to Win Friends and Influence People    5475\n",
       "Using LLMs to Win More Kaggle Competitions        5475\n",
       "Using LLMs to Write Better                        5475\n",
       "Name: product, dtype: int64"
      ]
     },
     "execution_count": 18,
     "metadata": {},
     "output_type": "execute_result"
    }
   ],
   "source": [
    "test_data['product'].value_counts()"
   ]
  },
  {
   "cell_type": "markdown",
   "id": "23e3bf15",
   "metadata": {
    "papermill": {
     "duration": 0.024627,
     "end_time": "2023-07-15T02:43:35.948237",
     "exception": false,
     "start_time": "2023-07-15T02:43:35.923610",
     "status": "completed"
    },
    "tags": []
   },
   "source": [
    "there are 5 types of products in the test data as well. all products have equal number of entries. "
   ]
  },
  {
   "cell_type": "code",
   "execution_count": 19,
   "id": "4c7a7593",
   "metadata": {
    "execution": {
     "iopub.execute_input": "2023-07-15T02:43:36.001376Z",
     "iopub.status.busy": "2023-07-15T02:43:36.000637Z",
     "iopub.status.idle": "2023-07-15T02:43:36.165457Z",
     "shell.execute_reply": "2023-07-15T02:43:36.163973Z"
    },
    "papermill": {
     "duration": 0.194427,
     "end_time": "2023-07-15T02:43:36.168057",
     "exception": false,
     "start_time": "2023-07-15T02:43:35.973630",
     "status": "completed"
    },
    "tags": []
   },
   "outputs": [
    {
     "data": {
      "text/html": [
       "<div>\n",
       "<style scoped>\n",
       "    .dataframe tbody tr th:only-of-type {\n",
       "        vertical-align: middle;\n",
       "    }\n",
       "\n",
       "    .dataframe tbody tr th {\n",
       "        vertical-align: top;\n",
       "    }\n",
       "\n",
       "    .dataframe thead th {\n",
       "        text-align: right;\n",
       "    }\n",
       "</style>\n",
       "<table border=\"1\" class=\"dataframe\">\n",
       "  <thead>\n",
       "    <tr style=\"text-align: right;\">\n",
       "      <th></th>\n",
       "      <th>id</th>\n",
       "      <th>country</th>\n",
       "      <th>store</th>\n",
       "      <th>product</th>\n",
       "      <th>num_sold</th>\n",
       "    </tr>\n",
       "    <tr>\n",
       "      <th>date</th>\n",
       "      <th></th>\n",
       "      <th></th>\n",
       "      <th></th>\n",
       "      <th></th>\n",
       "      <th></th>\n",
       "    </tr>\n",
       "  </thead>\n",
       "  <tbody>\n",
       "    <tr>\n",
       "      <th>2017-01-01</th>\n",
       "      <td>75</td>\n",
       "      <td>75</td>\n",
       "      <td>75</td>\n",
       "      <td>75</td>\n",
       "      <td>75</td>\n",
       "    </tr>\n",
       "    <tr>\n",
       "      <th>2017-01-02</th>\n",
       "      <td>75</td>\n",
       "      <td>75</td>\n",
       "      <td>75</td>\n",
       "      <td>75</td>\n",
       "      <td>75</td>\n",
       "    </tr>\n",
       "    <tr>\n",
       "      <th>2017-01-03</th>\n",
       "      <td>75</td>\n",
       "      <td>75</td>\n",
       "      <td>75</td>\n",
       "      <td>75</td>\n",
       "      <td>75</td>\n",
       "    </tr>\n",
       "    <tr>\n",
       "      <th>2017-01-04</th>\n",
       "      <td>75</td>\n",
       "      <td>75</td>\n",
       "      <td>75</td>\n",
       "      <td>75</td>\n",
       "      <td>75</td>\n",
       "    </tr>\n",
       "    <tr>\n",
       "      <th>2017-01-05</th>\n",
       "      <td>75</td>\n",
       "      <td>75</td>\n",
       "      <td>75</td>\n",
       "      <td>75</td>\n",
       "      <td>75</td>\n",
       "    </tr>\n",
       "    <tr>\n",
       "      <th>...</th>\n",
       "      <td>...</td>\n",
       "      <td>...</td>\n",
       "      <td>...</td>\n",
       "      <td>...</td>\n",
       "      <td>...</td>\n",
       "    </tr>\n",
       "    <tr>\n",
       "      <th>2021-12-27</th>\n",
       "      <td>75</td>\n",
       "      <td>75</td>\n",
       "      <td>75</td>\n",
       "      <td>75</td>\n",
       "      <td>75</td>\n",
       "    </tr>\n",
       "    <tr>\n",
       "      <th>2021-12-28</th>\n",
       "      <td>75</td>\n",
       "      <td>75</td>\n",
       "      <td>75</td>\n",
       "      <td>75</td>\n",
       "      <td>75</td>\n",
       "    </tr>\n",
       "    <tr>\n",
       "      <th>2021-12-29</th>\n",
       "      <td>75</td>\n",
       "      <td>75</td>\n",
       "      <td>75</td>\n",
       "      <td>75</td>\n",
       "      <td>75</td>\n",
       "    </tr>\n",
       "    <tr>\n",
       "      <th>2021-12-30</th>\n",
       "      <td>75</td>\n",
       "      <td>75</td>\n",
       "      <td>75</td>\n",
       "      <td>75</td>\n",
       "      <td>75</td>\n",
       "    </tr>\n",
       "    <tr>\n",
       "      <th>2021-12-31</th>\n",
       "      <td>75</td>\n",
       "      <td>75</td>\n",
       "      <td>75</td>\n",
       "      <td>75</td>\n",
       "      <td>75</td>\n",
       "    </tr>\n",
       "  </tbody>\n",
       "</table>\n",
       "<p>1826 rows × 5 columns</p>\n",
       "</div>"
      ],
      "text/plain": [
       "            id  country  store  product  num_sold\n",
       "date                                             \n",
       "2017-01-01  75       75     75       75        75\n",
       "2017-01-02  75       75     75       75        75\n",
       "2017-01-03  75       75     75       75        75\n",
       "2017-01-04  75       75     75       75        75\n",
       "2017-01-05  75       75     75       75        75\n",
       "...         ..      ...    ...      ...       ...\n",
       "2021-12-27  75       75     75       75        75\n",
       "2021-12-28  75       75     75       75        75\n",
       "2021-12-29  75       75     75       75        75\n",
       "2021-12-30  75       75     75       75        75\n",
       "2021-12-31  75       75     75       75        75\n",
       "\n",
       "[1826 rows x 5 columns]"
      ]
     },
     "execution_count": 19,
     "metadata": {},
     "output_type": "execute_result"
    }
   ],
   "source": [
    "train_data.groupby(by='date').count()"
   ]
  },
  {
   "cell_type": "markdown",
   "id": "6aa702ee",
   "metadata": {
    "papermill": {
     "duration": 0.024685,
     "end_time": "2023-07-15T02:43:36.218192",
     "exception": false,
     "start_time": "2023-07-15T02:43:36.193507",
     "status": "completed"
    },
    "tags": []
   },
   "source": [
    "looks like there are 75 entries per each date in the train data. "
   ]
  },
  {
   "cell_type": "code",
   "execution_count": 20,
   "id": "77b9997e",
   "metadata": {
    "execution": {
     "iopub.execute_input": "2023-07-15T02:43:36.270838Z",
     "iopub.status.busy": "2023-07-15T02:43:36.270195Z",
     "iopub.status.idle": "2023-07-15T02:43:36.314618Z",
     "shell.execute_reply": "2023-07-15T02:43:36.313524Z"
    },
    "papermill": {
     "duration": 0.073438,
     "end_time": "2023-07-15T02:43:36.316981",
     "exception": false,
     "start_time": "2023-07-15T02:43:36.243543",
     "status": "completed"
    },
    "tags": []
   },
   "outputs": [
    {
     "data": {
      "text/html": [
       "<div>\n",
       "<style scoped>\n",
       "    .dataframe tbody tr th:only-of-type {\n",
       "        vertical-align: middle;\n",
       "    }\n",
       "\n",
       "    .dataframe tbody tr th {\n",
       "        vertical-align: top;\n",
       "    }\n",
       "\n",
       "    .dataframe thead th {\n",
       "        text-align: right;\n",
       "    }\n",
       "</style>\n",
       "<table border=\"1\" class=\"dataframe\">\n",
       "  <thead>\n",
       "    <tr style=\"text-align: right;\">\n",
       "      <th></th>\n",
       "      <th>id</th>\n",
       "      <th>country</th>\n",
       "      <th>store</th>\n",
       "      <th>product</th>\n",
       "    </tr>\n",
       "    <tr>\n",
       "      <th>date</th>\n",
       "      <th></th>\n",
       "      <th></th>\n",
       "      <th></th>\n",
       "      <th></th>\n",
       "    </tr>\n",
       "  </thead>\n",
       "  <tbody>\n",
       "    <tr>\n",
       "      <th>2022-01-01</th>\n",
       "      <td>75</td>\n",
       "      <td>75</td>\n",
       "      <td>75</td>\n",
       "      <td>75</td>\n",
       "    </tr>\n",
       "    <tr>\n",
       "      <th>2022-01-02</th>\n",
       "      <td>75</td>\n",
       "      <td>75</td>\n",
       "      <td>75</td>\n",
       "      <td>75</td>\n",
       "    </tr>\n",
       "    <tr>\n",
       "      <th>2022-01-03</th>\n",
       "      <td>75</td>\n",
       "      <td>75</td>\n",
       "      <td>75</td>\n",
       "      <td>75</td>\n",
       "    </tr>\n",
       "    <tr>\n",
       "      <th>2022-01-04</th>\n",
       "      <td>75</td>\n",
       "      <td>75</td>\n",
       "      <td>75</td>\n",
       "      <td>75</td>\n",
       "    </tr>\n",
       "    <tr>\n",
       "      <th>2022-01-05</th>\n",
       "      <td>75</td>\n",
       "      <td>75</td>\n",
       "      <td>75</td>\n",
       "      <td>75</td>\n",
       "    </tr>\n",
       "    <tr>\n",
       "      <th>...</th>\n",
       "      <td>...</td>\n",
       "      <td>...</td>\n",
       "      <td>...</td>\n",
       "      <td>...</td>\n",
       "    </tr>\n",
       "    <tr>\n",
       "      <th>2022-12-27</th>\n",
       "      <td>75</td>\n",
       "      <td>75</td>\n",
       "      <td>75</td>\n",
       "      <td>75</td>\n",
       "    </tr>\n",
       "    <tr>\n",
       "      <th>2022-12-28</th>\n",
       "      <td>75</td>\n",
       "      <td>75</td>\n",
       "      <td>75</td>\n",
       "      <td>75</td>\n",
       "    </tr>\n",
       "    <tr>\n",
       "      <th>2022-12-29</th>\n",
       "      <td>75</td>\n",
       "      <td>75</td>\n",
       "      <td>75</td>\n",
       "      <td>75</td>\n",
       "    </tr>\n",
       "    <tr>\n",
       "      <th>2022-12-30</th>\n",
       "      <td>75</td>\n",
       "      <td>75</td>\n",
       "      <td>75</td>\n",
       "      <td>75</td>\n",
       "    </tr>\n",
       "    <tr>\n",
       "      <th>2022-12-31</th>\n",
       "      <td>75</td>\n",
       "      <td>75</td>\n",
       "      <td>75</td>\n",
       "      <td>75</td>\n",
       "    </tr>\n",
       "  </tbody>\n",
       "</table>\n",
       "<p>365 rows × 4 columns</p>\n",
       "</div>"
      ],
      "text/plain": [
       "            id  country  store  product\n",
       "date                                   \n",
       "2022-01-01  75       75     75       75\n",
       "2022-01-02  75       75     75       75\n",
       "2022-01-03  75       75     75       75\n",
       "2022-01-04  75       75     75       75\n",
       "2022-01-05  75       75     75       75\n",
       "...         ..      ...    ...      ...\n",
       "2022-12-27  75       75     75       75\n",
       "2022-12-28  75       75     75       75\n",
       "2022-12-29  75       75     75       75\n",
       "2022-12-30  75       75     75       75\n",
       "2022-12-31  75       75     75       75\n",
       "\n",
       "[365 rows x 4 columns]"
      ]
     },
     "execution_count": 20,
     "metadata": {},
     "output_type": "execute_result"
    }
   ],
   "source": [
    "test_data.groupby(by='date').count()"
   ]
  },
  {
   "cell_type": "markdown",
   "id": "095df9d7",
   "metadata": {
    "papermill": {
     "duration": 0.025195,
     "end_time": "2023-07-15T02:43:36.368011",
     "exception": false,
     "start_time": "2023-07-15T02:43:36.342816",
     "status": "completed"
    },
    "tags": []
   },
   "source": [
    "there are 75 entries per each date in the test data as well. "
   ]
  },
  {
   "cell_type": "code",
   "execution_count": 21,
   "id": "4f9653fa",
   "metadata": {
    "execution": {
     "iopub.execute_input": "2023-07-15T02:43:36.421346Z",
     "iopub.status.busy": "2023-07-15T02:43:36.420605Z",
     "iopub.status.idle": "2023-07-15T02:43:36.563184Z",
     "shell.execute_reply": "2023-07-15T02:43:36.562015Z"
    },
    "papermill": {
     "duration": 0.172104,
     "end_time": "2023-07-15T02:43:36.565706",
     "exception": false,
     "start_time": "2023-07-15T02:43:36.393602",
     "status": "completed"
    },
    "tags": []
   },
   "outputs": [
    {
     "data": {
      "text/html": [
       "<div>\n",
       "<style scoped>\n",
       "    .dataframe tbody tr th:only-of-type {\n",
       "        vertical-align: middle;\n",
       "    }\n",
       "\n",
       "    .dataframe tbody tr th {\n",
       "        vertical-align: top;\n",
       "    }\n",
       "\n",
       "    .dataframe thead th {\n",
       "        text-align: right;\n",
       "    }\n",
       "</style>\n",
       "<table border=\"1\" class=\"dataframe\">\n",
       "  <thead>\n",
       "    <tr style=\"text-align: right;\">\n",
       "      <th></th>\n",
       "      <th></th>\n",
       "      <th>id</th>\n",
       "      <th>store</th>\n",
       "      <th>product</th>\n",
       "      <th>num_sold</th>\n",
       "    </tr>\n",
       "    <tr>\n",
       "      <th>date</th>\n",
       "      <th>country</th>\n",
       "      <th></th>\n",
       "      <th></th>\n",
       "      <th></th>\n",
       "      <th></th>\n",
       "    </tr>\n",
       "  </thead>\n",
       "  <tbody>\n",
       "    <tr>\n",
       "      <th rowspan=\"5\" valign=\"top\">2017-01-01</th>\n",
       "      <th>Argentina</th>\n",
       "      <td>15</td>\n",
       "      <td>15</td>\n",
       "      <td>15</td>\n",
       "      <td>15</td>\n",
       "    </tr>\n",
       "    <tr>\n",
       "      <th>Canada</th>\n",
       "      <td>15</td>\n",
       "      <td>15</td>\n",
       "      <td>15</td>\n",
       "      <td>15</td>\n",
       "    </tr>\n",
       "    <tr>\n",
       "      <th>Estonia</th>\n",
       "      <td>15</td>\n",
       "      <td>15</td>\n",
       "      <td>15</td>\n",
       "      <td>15</td>\n",
       "    </tr>\n",
       "    <tr>\n",
       "      <th>Japan</th>\n",
       "      <td>15</td>\n",
       "      <td>15</td>\n",
       "      <td>15</td>\n",
       "      <td>15</td>\n",
       "    </tr>\n",
       "    <tr>\n",
       "      <th>Spain</th>\n",
       "      <td>15</td>\n",
       "      <td>15</td>\n",
       "      <td>15</td>\n",
       "      <td>15</td>\n",
       "    </tr>\n",
       "    <tr>\n",
       "      <th>...</th>\n",
       "      <th>...</th>\n",
       "      <td>...</td>\n",
       "      <td>...</td>\n",
       "      <td>...</td>\n",
       "      <td>...</td>\n",
       "    </tr>\n",
       "    <tr>\n",
       "      <th rowspan=\"5\" valign=\"top\">2021-12-31</th>\n",
       "      <th>Argentina</th>\n",
       "      <td>15</td>\n",
       "      <td>15</td>\n",
       "      <td>15</td>\n",
       "      <td>15</td>\n",
       "    </tr>\n",
       "    <tr>\n",
       "      <th>Canada</th>\n",
       "      <td>15</td>\n",
       "      <td>15</td>\n",
       "      <td>15</td>\n",
       "      <td>15</td>\n",
       "    </tr>\n",
       "    <tr>\n",
       "      <th>Estonia</th>\n",
       "      <td>15</td>\n",
       "      <td>15</td>\n",
       "      <td>15</td>\n",
       "      <td>15</td>\n",
       "    </tr>\n",
       "    <tr>\n",
       "      <th>Japan</th>\n",
       "      <td>15</td>\n",
       "      <td>15</td>\n",
       "      <td>15</td>\n",
       "      <td>15</td>\n",
       "    </tr>\n",
       "    <tr>\n",
       "      <th>Spain</th>\n",
       "      <td>15</td>\n",
       "      <td>15</td>\n",
       "      <td>15</td>\n",
       "      <td>15</td>\n",
       "    </tr>\n",
       "  </tbody>\n",
       "</table>\n",
       "<p>9130 rows × 4 columns</p>\n",
       "</div>"
      ],
      "text/plain": [
       "                      id  store  product  num_sold\n",
       "date       country                                \n",
       "2017-01-01 Argentina  15     15       15        15\n",
       "           Canada     15     15       15        15\n",
       "           Estonia    15     15       15        15\n",
       "           Japan      15     15       15        15\n",
       "           Spain      15     15       15        15\n",
       "...                   ..    ...      ...       ...\n",
       "2021-12-31 Argentina  15     15       15        15\n",
       "           Canada     15     15       15        15\n",
       "           Estonia    15     15       15        15\n",
       "           Japan      15     15       15        15\n",
       "           Spain      15     15       15        15\n",
       "\n",
       "[9130 rows x 4 columns]"
      ]
     },
     "execution_count": 21,
     "metadata": {},
     "output_type": "execute_result"
    }
   ],
   "source": [
    "train_data.groupby(by=['date','country']).count()"
   ]
  },
  {
   "cell_type": "markdown",
   "id": "23058906",
   "metadata": {
    "papermill": {
     "duration": 0.025821,
     "end_time": "2023-07-15T02:43:36.617482",
     "exception": false,
     "start_time": "2023-07-15T02:43:36.591661",
     "status": "completed"
    },
    "tags": []
   },
   "source": [
    "there are 15 entries per date per country in the train data."
   ]
  },
  {
   "cell_type": "code",
   "execution_count": 22,
   "id": "67ac932a",
   "metadata": {
    "execution": {
     "iopub.execute_input": "2023-07-15T02:43:36.670753Z",
     "iopub.status.busy": "2023-07-15T02:43:36.670360Z",
     "iopub.status.idle": "2023-07-15T02:43:36.716797Z",
     "shell.execute_reply": "2023-07-15T02:43:36.715474Z"
    },
    "papermill": {
     "duration": 0.076343,
     "end_time": "2023-07-15T02:43:36.719649",
     "exception": false,
     "start_time": "2023-07-15T02:43:36.643306",
     "status": "completed"
    },
    "tags": []
   },
   "outputs": [
    {
     "data": {
      "text/html": [
       "<div>\n",
       "<style scoped>\n",
       "    .dataframe tbody tr th:only-of-type {\n",
       "        vertical-align: middle;\n",
       "    }\n",
       "\n",
       "    .dataframe tbody tr th {\n",
       "        vertical-align: top;\n",
       "    }\n",
       "\n",
       "    .dataframe thead th {\n",
       "        text-align: right;\n",
       "    }\n",
       "</style>\n",
       "<table border=\"1\" class=\"dataframe\">\n",
       "  <thead>\n",
       "    <tr style=\"text-align: right;\">\n",
       "      <th></th>\n",
       "      <th></th>\n",
       "      <th>id</th>\n",
       "      <th>store</th>\n",
       "      <th>product</th>\n",
       "    </tr>\n",
       "    <tr>\n",
       "      <th>date</th>\n",
       "      <th>country</th>\n",
       "      <th></th>\n",
       "      <th></th>\n",
       "      <th></th>\n",
       "    </tr>\n",
       "  </thead>\n",
       "  <tbody>\n",
       "    <tr>\n",
       "      <th rowspan=\"5\" valign=\"top\">2022-01-01</th>\n",
       "      <th>Argentina</th>\n",
       "      <td>15</td>\n",
       "      <td>15</td>\n",
       "      <td>15</td>\n",
       "    </tr>\n",
       "    <tr>\n",
       "      <th>Canada</th>\n",
       "      <td>15</td>\n",
       "      <td>15</td>\n",
       "      <td>15</td>\n",
       "    </tr>\n",
       "    <tr>\n",
       "      <th>Estonia</th>\n",
       "      <td>15</td>\n",
       "      <td>15</td>\n",
       "      <td>15</td>\n",
       "    </tr>\n",
       "    <tr>\n",
       "      <th>Japan</th>\n",
       "      <td>15</td>\n",
       "      <td>15</td>\n",
       "      <td>15</td>\n",
       "    </tr>\n",
       "    <tr>\n",
       "      <th>Spain</th>\n",
       "      <td>15</td>\n",
       "      <td>15</td>\n",
       "      <td>15</td>\n",
       "    </tr>\n",
       "    <tr>\n",
       "      <th>...</th>\n",
       "      <th>...</th>\n",
       "      <td>...</td>\n",
       "      <td>...</td>\n",
       "      <td>...</td>\n",
       "    </tr>\n",
       "    <tr>\n",
       "      <th rowspan=\"5\" valign=\"top\">2022-12-31</th>\n",
       "      <th>Argentina</th>\n",
       "      <td>15</td>\n",
       "      <td>15</td>\n",
       "      <td>15</td>\n",
       "    </tr>\n",
       "    <tr>\n",
       "      <th>Canada</th>\n",
       "      <td>15</td>\n",
       "      <td>15</td>\n",
       "      <td>15</td>\n",
       "    </tr>\n",
       "    <tr>\n",
       "      <th>Estonia</th>\n",
       "      <td>15</td>\n",
       "      <td>15</td>\n",
       "      <td>15</td>\n",
       "    </tr>\n",
       "    <tr>\n",
       "      <th>Japan</th>\n",
       "      <td>15</td>\n",
       "      <td>15</td>\n",
       "      <td>15</td>\n",
       "    </tr>\n",
       "    <tr>\n",
       "      <th>Spain</th>\n",
       "      <td>15</td>\n",
       "      <td>15</td>\n",
       "      <td>15</td>\n",
       "    </tr>\n",
       "  </tbody>\n",
       "</table>\n",
       "<p>1825 rows × 3 columns</p>\n",
       "</div>"
      ],
      "text/plain": [
       "                      id  store  product\n",
       "date       country                      \n",
       "2022-01-01 Argentina  15     15       15\n",
       "           Canada     15     15       15\n",
       "           Estonia    15     15       15\n",
       "           Japan      15     15       15\n",
       "           Spain      15     15       15\n",
       "...                   ..    ...      ...\n",
       "2022-12-31 Argentina  15     15       15\n",
       "           Canada     15     15       15\n",
       "           Estonia    15     15       15\n",
       "           Japan      15     15       15\n",
       "           Spain      15     15       15\n",
       "\n",
       "[1825 rows x 3 columns]"
      ]
     },
     "execution_count": 22,
     "metadata": {},
     "output_type": "execute_result"
    }
   ],
   "source": [
    "test_data.groupby(by=['date','country']).count()"
   ]
  },
  {
   "cell_type": "markdown",
   "id": "aed1e744",
   "metadata": {
    "papermill": {
     "duration": 0.025634,
     "end_time": "2023-07-15T02:43:36.771611",
     "exception": false,
     "start_time": "2023-07-15T02:43:36.745977",
     "status": "completed"
    },
    "tags": []
   },
   "source": [
    "there are 15 entries per date per country in the test data as well. "
   ]
  },
  {
   "cell_type": "code",
   "execution_count": 23,
   "id": "24285b15",
   "metadata": {
    "execution": {
     "iopub.execute_input": "2023-07-15T02:43:36.825639Z",
     "iopub.status.busy": "2023-07-15T02:43:36.825214Z",
     "iopub.status.idle": "2023-07-15T02:43:36.962768Z",
     "shell.execute_reply": "2023-07-15T02:43:36.961703Z"
    },
    "papermill": {
     "duration": 0.167582,
     "end_time": "2023-07-15T02:43:36.965343",
     "exception": false,
     "start_time": "2023-07-15T02:43:36.797761",
     "status": "completed"
    },
    "tags": []
   },
   "outputs": [
    {
     "data": {
      "text/html": [
       "<div>\n",
       "<style scoped>\n",
       "    .dataframe tbody tr th:only-of-type {\n",
       "        vertical-align: middle;\n",
       "    }\n",
       "\n",
       "    .dataframe tbody tr th {\n",
       "        vertical-align: top;\n",
       "    }\n",
       "\n",
       "    .dataframe thead th {\n",
       "        text-align: right;\n",
       "    }\n",
       "</style>\n",
       "<table border=\"1\" class=\"dataframe\">\n",
       "  <thead>\n",
       "    <tr style=\"text-align: right;\">\n",
       "      <th></th>\n",
       "      <th></th>\n",
       "      <th>id</th>\n",
       "      <th>date</th>\n",
       "      <th>store</th>\n",
       "      <th>num_sold</th>\n",
       "    </tr>\n",
       "    <tr>\n",
       "      <th>country</th>\n",
       "      <th>product</th>\n",
       "      <th></th>\n",
       "      <th></th>\n",
       "      <th></th>\n",
       "      <th></th>\n",
       "    </tr>\n",
       "  </thead>\n",
       "  <tbody>\n",
       "    <tr>\n",
       "      <th rowspan=\"5\" valign=\"top\">Argentina</th>\n",
       "      <th>Using LLMs to Improve Your Coding</th>\n",
       "      <td>5478</td>\n",
       "      <td>5478</td>\n",
       "      <td>5478</td>\n",
       "      <td>5478</td>\n",
       "    </tr>\n",
       "    <tr>\n",
       "      <th>Using LLMs to Train More LLMs</th>\n",
       "      <td>5478</td>\n",
       "      <td>5478</td>\n",
       "      <td>5478</td>\n",
       "      <td>5478</td>\n",
       "    </tr>\n",
       "    <tr>\n",
       "      <th>Using LLMs to Win Friends and Influence People</th>\n",
       "      <td>5478</td>\n",
       "      <td>5478</td>\n",
       "      <td>5478</td>\n",
       "      <td>5478</td>\n",
       "    </tr>\n",
       "    <tr>\n",
       "      <th>Using LLMs to Win More Kaggle Competitions</th>\n",
       "      <td>5478</td>\n",
       "      <td>5478</td>\n",
       "      <td>5478</td>\n",
       "      <td>5478</td>\n",
       "    </tr>\n",
       "    <tr>\n",
       "      <th>Using LLMs to Write Better</th>\n",
       "      <td>5478</td>\n",
       "      <td>5478</td>\n",
       "      <td>5478</td>\n",
       "      <td>5478</td>\n",
       "    </tr>\n",
       "    <tr>\n",
       "      <th rowspan=\"5\" valign=\"top\">Canada</th>\n",
       "      <th>Using LLMs to Improve Your Coding</th>\n",
       "      <td>5478</td>\n",
       "      <td>5478</td>\n",
       "      <td>5478</td>\n",
       "      <td>5478</td>\n",
       "    </tr>\n",
       "    <tr>\n",
       "      <th>Using LLMs to Train More LLMs</th>\n",
       "      <td>5478</td>\n",
       "      <td>5478</td>\n",
       "      <td>5478</td>\n",
       "      <td>5478</td>\n",
       "    </tr>\n",
       "    <tr>\n",
       "      <th>Using LLMs to Win Friends and Influence People</th>\n",
       "      <td>5478</td>\n",
       "      <td>5478</td>\n",
       "      <td>5478</td>\n",
       "      <td>5478</td>\n",
       "    </tr>\n",
       "    <tr>\n",
       "      <th>Using LLMs to Win More Kaggle Competitions</th>\n",
       "      <td>5478</td>\n",
       "      <td>5478</td>\n",
       "      <td>5478</td>\n",
       "      <td>5478</td>\n",
       "    </tr>\n",
       "    <tr>\n",
       "      <th>Using LLMs to Write Better</th>\n",
       "      <td>5478</td>\n",
       "      <td>5478</td>\n",
       "      <td>5478</td>\n",
       "      <td>5478</td>\n",
       "    </tr>\n",
       "    <tr>\n",
       "      <th rowspan=\"5\" valign=\"top\">Estonia</th>\n",
       "      <th>Using LLMs to Improve Your Coding</th>\n",
       "      <td>5478</td>\n",
       "      <td>5478</td>\n",
       "      <td>5478</td>\n",
       "      <td>5478</td>\n",
       "    </tr>\n",
       "    <tr>\n",
       "      <th>Using LLMs to Train More LLMs</th>\n",
       "      <td>5478</td>\n",
       "      <td>5478</td>\n",
       "      <td>5478</td>\n",
       "      <td>5478</td>\n",
       "    </tr>\n",
       "    <tr>\n",
       "      <th>Using LLMs to Win Friends and Influence People</th>\n",
       "      <td>5478</td>\n",
       "      <td>5478</td>\n",
       "      <td>5478</td>\n",
       "      <td>5478</td>\n",
       "    </tr>\n",
       "    <tr>\n",
       "      <th>Using LLMs to Win More Kaggle Competitions</th>\n",
       "      <td>5478</td>\n",
       "      <td>5478</td>\n",
       "      <td>5478</td>\n",
       "      <td>5478</td>\n",
       "    </tr>\n",
       "    <tr>\n",
       "      <th>Using LLMs to Write Better</th>\n",
       "      <td>5478</td>\n",
       "      <td>5478</td>\n",
       "      <td>5478</td>\n",
       "      <td>5478</td>\n",
       "    </tr>\n",
       "    <tr>\n",
       "      <th rowspan=\"5\" valign=\"top\">Japan</th>\n",
       "      <th>Using LLMs to Improve Your Coding</th>\n",
       "      <td>5478</td>\n",
       "      <td>5478</td>\n",
       "      <td>5478</td>\n",
       "      <td>5478</td>\n",
       "    </tr>\n",
       "    <tr>\n",
       "      <th>Using LLMs to Train More LLMs</th>\n",
       "      <td>5478</td>\n",
       "      <td>5478</td>\n",
       "      <td>5478</td>\n",
       "      <td>5478</td>\n",
       "    </tr>\n",
       "    <tr>\n",
       "      <th>Using LLMs to Win Friends and Influence People</th>\n",
       "      <td>5478</td>\n",
       "      <td>5478</td>\n",
       "      <td>5478</td>\n",
       "      <td>5478</td>\n",
       "    </tr>\n",
       "    <tr>\n",
       "      <th>Using LLMs to Win More Kaggle Competitions</th>\n",
       "      <td>5478</td>\n",
       "      <td>5478</td>\n",
       "      <td>5478</td>\n",
       "      <td>5478</td>\n",
       "    </tr>\n",
       "    <tr>\n",
       "      <th>Using LLMs to Write Better</th>\n",
       "      <td>5478</td>\n",
       "      <td>5478</td>\n",
       "      <td>5478</td>\n",
       "      <td>5478</td>\n",
       "    </tr>\n",
       "    <tr>\n",
       "      <th rowspan=\"5\" valign=\"top\">Spain</th>\n",
       "      <th>Using LLMs to Improve Your Coding</th>\n",
       "      <td>5478</td>\n",
       "      <td>5478</td>\n",
       "      <td>5478</td>\n",
       "      <td>5478</td>\n",
       "    </tr>\n",
       "    <tr>\n",
       "      <th>Using LLMs to Train More LLMs</th>\n",
       "      <td>5478</td>\n",
       "      <td>5478</td>\n",
       "      <td>5478</td>\n",
       "      <td>5478</td>\n",
       "    </tr>\n",
       "    <tr>\n",
       "      <th>Using LLMs to Win Friends and Influence People</th>\n",
       "      <td>5478</td>\n",
       "      <td>5478</td>\n",
       "      <td>5478</td>\n",
       "      <td>5478</td>\n",
       "    </tr>\n",
       "    <tr>\n",
       "      <th>Using LLMs to Win More Kaggle Competitions</th>\n",
       "      <td>5478</td>\n",
       "      <td>5478</td>\n",
       "      <td>5478</td>\n",
       "      <td>5478</td>\n",
       "    </tr>\n",
       "    <tr>\n",
       "      <th>Using LLMs to Write Better</th>\n",
       "      <td>5478</td>\n",
       "      <td>5478</td>\n",
       "      <td>5478</td>\n",
       "      <td>5478</td>\n",
       "    </tr>\n",
       "  </tbody>\n",
       "</table>\n",
       "</div>"
      ],
      "text/plain": [
       "                                                            id  date  store  \\\n",
       "country   product                                                             \n",
       "Argentina Using LLMs to Improve Your Coding               5478  5478   5478   \n",
       "          Using LLMs to Train More LLMs                   5478  5478   5478   \n",
       "          Using LLMs to Win Friends and Influence People  5478  5478   5478   \n",
       "          Using LLMs to Win More Kaggle Competitions      5478  5478   5478   \n",
       "          Using LLMs to Write Better                      5478  5478   5478   \n",
       "Canada    Using LLMs to Improve Your Coding               5478  5478   5478   \n",
       "          Using LLMs to Train More LLMs                   5478  5478   5478   \n",
       "          Using LLMs to Win Friends and Influence People  5478  5478   5478   \n",
       "          Using LLMs to Win More Kaggle Competitions      5478  5478   5478   \n",
       "          Using LLMs to Write Better                      5478  5478   5478   \n",
       "Estonia   Using LLMs to Improve Your Coding               5478  5478   5478   \n",
       "          Using LLMs to Train More LLMs                   5478  5478   5478   \n",
       "          Using LLMs to Win Friends and Influence People  5478  5478   5478   \n",
       "          Using LLMs to Win More Kaggle Competitions      5478  5478   5478   \n",
       "          Using LLMs to Write Better                      5478  5478   5478   \n",
       "Japan     Using LLMs to Improve Your Coding               5478  5478   5478   \n",
       "          Using LLMs to Train More LLMs                   5478  5478   5478   \n",
       "          Using LLMs to Win Friends and Influence People  5478  5478   5478   \n",
       "          Using LLMs to Win More Kaggle Competitions      5478  5478   5478   \n",
       "          Using LLMs to Write Better                      5478  5478   5478   \n",
       "Spain     Using LLMs to Improve Your Coding               5478  5478   5478   \n",
       "          Using LLMs to Train More LLMs                   5478  5478   5478   \n",
       "          Using LLMs to Win Friends and Influence People  5478  5478   5478   \n",
       "          Using LLMs to Win More Kaggle Competitions      5478  5478   5478   \n",
       "          Using LLMs to Write Better                      5478  5478   5478   \n",
       "\n",
       "                                                          num_sold  \n",
       "country   product                                                   \n",
       "Argentina Using LLMs to Improve Your Coding                   5478  \n",
       "          Using LLMs to Train More LLMs                       5478  \n",
       "          Using LLMs to Win Friends and Influence People      5478  \n",
       "          Using LLMs to Win More Kaggle Competitions          5478  \n",
       "          Using LLMs to Write Better                          5478  \n",
       "Canada    Using LLMs to Improve Your Coding                   5478  \n",
       "          Using LLMs to Train More LLMs                       5478  \n",
       "          Using LLMs to Win Friends and Influence People      5478  \n",
       "          Using LLMs to Win More Kaggle Competitions          5478  \n",
       "          Using LLMs to Write Better                          5478  \n",
       "Estonia   Using LLMs to Improve Your Coding                   5478  \n",
       "          Using LLMs to Train More LLMs                       5478  \n",
       "          Using LLMs to Win Friends and Influence People      5478  \n",
       "          Using LLMs to Win More Kaggle Competitions          5478  \n",
       "          Using LLMs to Write Better                          5478  \n",
       "Japan     Using LLMs to Improve Your Coding                   5478  \n",
       "          Using LLMs to Train More LLMs                       5478  \n",
       "          Using LLMs to Win Friends and Influence People      5478  \n",
       "          Using LLMs to Win More Kaggle Competitions          5478  \n",
       "          Using LLMs to Write Better                          5478  \n",
       "Spain     Using LLMs to Improve Your Coding                   5478  \n",
       "          Using LLMs to Train More LLMs                       5478  \n",
       "          Using LLMs to Win Friends and Influence People      5478  \n",
       "          Using LLMs to Win More Kaggle Competitions          5478  \n",
       "          Using LLMs to Write Better                          5478  "
      ]
     },
     "execution_count": 23,
     "metadata": {},
     "output_type": "execute_result"
    }
   ],
   "source": [
    "train_data.groupby(by=['country','product']).count()"
   ]
  },
  {
   "cell_type": "markdown",
   "id": "c60aa286",
   "metadata": {
    "papermill": {
     "duration": 0.026353,
     "end_time": "2023-07-15T02:43:37.018856",
     "exception": false,
     "start_time": "2023-07-15T02:43:36.992503",
     "status": "completed"
    },
    "tags": []
   },
   "source": [
    "there are 5478 entries per country per product in the train data."
   ]
  },
  {
   "cell_type": "code",
   "execution_count": 24,
   "id": "8dc31460",
   "metadata": {
    "execution": {
     "iopub.execute_input": "2023-07-15T02:43:37.073605Z",
     "iopub.status.busy": "2023-07-15T02:43:37.073198Z",
     "iopub.status.idle": "2023-07-15T02:43:37.113958Z",
     "shell.execute_reply": "2023-07-15T02:43:37.112663Z"
    },
    "papermill": {
     "duration": 0.072276,
     "end_time": "2023-07-15T02:43:37.117779",
     "exception": false,
     "start_time": "2023-07-15T02:43:37.045503",
     "status": "completed"
    },
    "tags": []
   },
   "outputs": [
    {
     "data": {
      "text/html": [
       "<div>\n",
       "<style scoped>\n",
       "    .dataframe tbody tr th:only-of-type {\n",
       "        vertical-align: middle;\n",
       "    }\n",
       "\n",
       "    .dataframe tbody tr th {\n",
       "        vertical-align: top;\n",
       "    }\n",
       "\n",
       "    .dataframe thead th {\n",
       "        text-align: right;\n",
       "    }\n",
       "</style>\n",
       "<table border=\"1\" class=\"dataframe\">\n",
       "  <thead>\n",
       "    <tr style=\"text-align: right;\">\n",
       "      <th></th>\n",
       "      <th></th>\n",
       "      <th>id</th>\n",
       "      <th>date</th>\n",
       "      <th>store</th>\n",
       "    </tr>\n",
       "    <tr>\n",
       "      <th>country</th>\n",
       "      <th>product</th>\n",
       "      <th></th>\n",
       "      <th></th>\n",
       "      <th></th>\n",
       "    </tr>\n",
       "  </thead>\n",
       "  <tbody>\n",
       "    <tr>\n",
       "      <th rowspan=\"5\" valign=\"top\">Argentina</th>\n",
       "      <th>Using LLMs to Improve Your Coding</th>\n",
       "      <td>1095</td>\n",
       "      <td>1095</td>\n",
       "      <td>1095</td>\n",
       "    </tr>\n",
       "    <tr>\n",
       "      <th>Using LLMs to Train More LLMs</th>\n",
       "      <td>1095</td>\n",
       "      <td>1095</td>\n",
       "      <td>1095</td>\n",
       "    </tr>\n",
       "    <tr>\n",
       "      <th>Using LLMs to Win Friends and Influence People</th>\n",
       "      <td>1095</td>\n",
       "      <td>1095</td>\n",
       "      <td>1095</td>\n",
       "    </tr>\n",
       "    <tr>\n",
       "      <th>Using LLMs to Win More Kaggle Competitions</th>\n",
       "      <td>1095</td>\n",
       "      <td>1095</td>\n",
       "      <td>1095</td>\n",
       "    </tr>\n",
       "    <tr>\n",
       "      <th>Using LLMs to Write Better</th>\n",
       "      <td>1095</td>\n",
       "      <td>1095</td>\n",
       "      <td>1095</td>\n",
       "    </tr>\n",
       "    <tr>\n",
       "      <th rowspan=\"5\" valign=\"top\">Canada</th>\n",
       "      <th>Using LLMs to Improve Your Coding</th>\n",
       "      <td>1095</td>\n",
       "      <td>1095</td>\n",
       "      <td>1095</td>\n",
       "    </tr>\n",
       "    <tr>\n",
       "      <th>Using LLMs to Train More LLMs</th>\n",
       "      <td>1095</td>\n",
       "      <td>1095</td>\n",
       "      <td>1095</td>\n",
       "    </tr>\n",
       "    <tr>\n",
       "      <th>Using LLMs to Win Friends and Influence People</th>\n",
       "      <td>1095</td>\n",
       "      <td>1095</td>\n",
       "      <td>1095</td>\n",
       "    </tr>\n",
       "    <tr>\n",
       "      <th>Using LLMs to Win More Kaggle Competitions</th>\n",
       "      <td>1095</td>\n",
       "      <td>1095</td>\n",
       "      <td>1095</td>\n",
       "    </tr>\n",
       "    <tr>\n",
       "      <th>Using LLMs to Write Better</th>\n",
       "      <td>1095</td>\n",
       "      <td>1095</td>\n",
       "      <td>1095</td>\n",
       "    </tr>\n",
       "    <tr>\n",
       "      <th rowspan=\"5\" valign=\"top\">Estonia</th>\n",
       "      <th>Using LLMs to Improve Your Coding</th>\n",
       "      <td>1095</td>\n",
       "      <td>1095</td>\n",
       "      <td>1095</td>\n",
       "    </tr>\n",
       "    <tr>\n",
       "      <th>Using LLMs to Train More LLMs</th>\n",
       "      <td>1095</td>\n",
       "      <td>1095</td>\n",
       "      <td>1095</td>\n",
       "    </tr>\n",
       "    <tr>\n",
       "      <th>Using LLMs to Win Friends and Influence People</th>\n",
       "      <td>1095</td>\n",
       "      <td>1095</td>\n",
       "      <td>1095</td>\n",
       "    </tr>\n",
       "    <tr>\n",
       "      <th>Using LLMs to Win More Kaggle Competitions</th>\n",
       "      <td>1095</td>\n",
       "      <td>1095</td>\n",
       "      <td>1095</td>\n",
       "    </tr>\n",
       "    <tr>\n",
       "      <th>Using LLMs to Write Better</th>\n",
       "      <td>1095</td>\n",
       "      <td>1095</td>\n",
       "      <td>1095</td>\n",
       "    </tr>\n",
       "    <tr>\n",
       "      <th rowspan=\"5\" valign=\"top\">Japan</th>\n",
       "      <th>Using LLMs to Improve Your Coding</th>\n",
       "      <td>1095</td>\n",
       "      <td>1095</td>\n",
       "      <td>1095</td>\n",
       "    </tr>\n",
       "    <tr>\n",
       "      <th>Using LLMs to Train More LLMs</th>\n",
       "      <td>1095</td>\n",
       "      <td>1095</td>\n",
       "      <td>1095</td>\n",
       "    </tr>\n",
       "    <tr>\n",
       "      <th>Using LLMs to Win Friends and Influence People</th>\n",
       "      <td>1095</td>\n",
       "      <td>1095</td>\n",
       "      <td>1095</td>\n",
       "    </tr>\n",
       "    <tr>\n",
       "      <th>Using LLMs to Win More Kaggle Competitions</th>\n",
       "      <td>1095</td>\n",
       "      <td>1095</td>\n",
       "      <td>1095</td>\n",
       "    </tr>\n",
       "    <tr>\n",
       "      <th>Using LLMs to Write Better</th>\n",
       "      <td>1095</td>\n",
       "      <td>1095</td>\n",
       "      <td>1095</td>\n",
       "    </tr>\n",
       "    <tr>\n",
       "      <th rowspan=\"5\" valign=\"top\">Spain</th>\n",
       "      <th>Using LLMs to Improve Your Coding</th>\n",
       "      <td>1095</td>\n",
       "      <td>1095</td>\n",
       "      <td>1095</td>\n",
       "    </tr>\n",
       "    <tr>\n",
       "      <th>Using LLMs to Train More LLMs</th>\n",
       "      <td>1095</td>\n",
       "      <td>1095</td>\n",
       "      <td>1095</td>\n",
       "    </tr>\n",
       "    <tr>\n",
       "      <th>Using LLMs to Win Friends and Influence People</th>\n",
       "      <td>1095</td>\n",
       "      <td>1095</td>\n",
       "      <td>1095</td>\n",
       "    </tr>\n",
       "    <tr>\n",
       "      <th>Using LLMs to Win More Kaggle Competitions</th>\n",
       "      <td>1095</td>\n",
       "      <td>1095</td>\n",
       "      <td>1095</td>\n",
       "    </tr>\n",
       "    <tr>\n",
       "      <th>Using LLMs to Write Better</th>\n",
       "      <td>1095</td>\n",
       "      <td>1095</td>\n",
       "      <td>1095</td>\n",
       "    </tr>\n",
       "  </tbody>\n",
       "</table>\n",
       "</div>"
      ],
      "text/plain": [
       "                                                            id  date  store\n",
       "country   product                                                          \n",
       "Argentina Using LLMs to Improve Your Coding               1095  1095   1095\n",
       "          Using LLMs to Train More LLMs                   1095  1095   1095\n",
       "          Using LLMs to Win Friends and Influence People  1095  1095   1095\n",
       "          Using LLMs to Win More Kaggle Competitions      1095  1095   1095\n",
       "          Using LLMs to Write Better                      1095  1095   1095\n",
       "Canada    Using LLMs to Improve Your Coding               1095  1095   1095\n",
       "          Using LLMs to Train More LLMs                   1095  1095   1095\n",
       "          Using LLMs to Win Friends and Influence People  1095  1095   1095\n",
       "          Using LLMs to Win More Kaggle Competitions      1095  1095   1095\n",
       "          Using LLMs to Write Better                      1095  1095   1095\n",
       "Estonia   Using LLMs to Improve Your Coding               1095  1095   1095\n",
       "          Using LLMs to Train More LLMs                   1095  1095   1095\n",
       "          Using LLMs to Win Friends and Influence People  1095  1095   1095\n",
       "          Using LLMs to Win More Kaggle Competitions      1095  1095   1095\n",
       "          Using LLMs to Write Better                      1095  1095   1095\n",
       "Japan     Using LLMs to Improve Your Coding               1095  1095   1095\n",
       "          Using LLMs to Train More LLMs                   1095  1095   1095\n",
       "          Using LLMs to Win Friends and Influence People  1095  1095   1095\n",
       "          Using LLMs to Win More Kaggle Competitions      1095  1095   1095\n",
       "          Using LLMs to Write Better                      1095  1095   1095\n",
       "Spain     Using LLMs to Improve Your Coding               1095  1095   1095\n",
       "          Using LLMs to Train More LLMs                   1095  1095   1095\n",
       "          Using LLMs to Win Friends and Influence People  1095  1095   1095\n",
       "          Using LLMs to Win More Kaggle Competitions      1095  1095   1095\n",
       "          Using LLMs to Write Better                      1095  1095   1095"
      ]
     },
     "execution_count": 24,
     "metadata": {},
     "output_type": "execute_result"
    }
   ],
   "source": [
    "test_data.groupby(by=['country','product']).count()"
   ]
  },
  {
   "cell_type": "markdown",
   "id": "3cdb5c11",
   "metadata": {
    "papermill": {
     "duration": 0.026595,
     "end_time": "2023-07-15T02:43:37.172078",
     "exception": false,
     "start_time": "2023-07-15T02:43:37.145483",
     "status": "completed"
    },
    "tags": []
   },
   "source": [
    "there are 1095 entries per country per product in the test data."
   ]
  },
  {
   "cell_type": "code",
   "execution_count": 25,
   "id": "b49e8fbe",
   "metadata": {
    "execution": {
     "iopub.execute_input": "2023-07-15T02:43:37.228646Z",
     "iopub.status.busy": "2023-07-15T02:43:37.228255Z",
     "iopub.status.idle": "2023-07-15T02:43:37.400038Z",
     "shell.execute_reply": "2023-07-15T02:43:37.399185Z"
    },
    "papermill": {
     "duration": 0.202706,
     "end_time": "2023-07-15T02:43:37.402323",
     "exception": false,
     "start_time": "2023-07-15T02:43:37.199617",
     "status": "completed"
    },
    "tags": []
   },
   "outputs": [
    {
     "data": {
      "text/html": [
       "<div>\n",
       "<style scoped>\n",
       "    .dataframe tbody tr th:only-of-type {\n",
       "        vertical-align: middle;\n",
       "    }\n",
       "\n",
       "    .dataframe tbody tr th {\n",
       "        vertical-align: top;\n",
       "    }\n",
       "\n",
       "    .dataframe thead th {\n",
       "        text-align: right;\n",
       "    }\n",
       "</style>\n",
       "<table border=\"1\" class=\"dataframe\">\n",
       "  <thead>\n",
       "    <tr style=\"text-align: right;\">\n",
       "      <th></th>\n",
       "      <th></th>\n",
       "      <th>id</th>\n",
       "      <th>date</th>\n",
       "      <th>country</th>\n",
       "      <th>store</th>\n",
       "    </tr>\n",
       "    <tr>\n",
       "      <th>product</th>\n",
       "      <th>num_sold</th>\n",
       "      <th></th>\n",
       "      <th></th>\n",
       "      <th></th>\n",
       "      <th></th>\n",
       "    </tr>\n",
       "  </thead>\n",
       "  <tbody>\n",
       "    <tr>\n",
       "      <th rowspan=\"5\" valign=\"top\">Using LLMs to Improve Your Coding</th>\n",
       "      <th>12</th>\n",
       "      <td>1</td>\n",
       "      <td>1</td>\n",
       "      <td>1</td>\n",
       "      <td>1</td>\n",
       "    </tr>\n",
       "    <tr>\n",
       "      <th>13</th>\n",
       "      <td>6</td>\n",
       "      <td>6</td>\n",
       "      <td>6</td>\n",
       "      <td>6</td>\n",
       "    </tr>\n",
       "    <tr>\n",
       "      <th>14</th>\n",
       "      <td>9</td>\n",
       "      <td>9</td>\n",
       "      <td>9</td>\n",
       "      <td>9</td>\n",
       "    </tr>\n",
       "    <tr>\n",
       "      <th>15</th>\n",
       "      <td>16</td>\n",
       "      <td>16</td>\n",
       "      <td>16</td>\n",
       "      <td>16</td>\n",
       "    </tr>\n",
       "    <tr>\n",
       "      <th>16</th>\n",
       "      <td>25</td>\n",
       "      <td>25</td>\n",
       "      <td>25</td>\n",
       "      <td>25</td>\n",
       "    </tr>\n",
       "    <tr>\n",
       "      <th>...</th>\n",
       "      <th>...</th>\n",
       "      <td>...</td>\n",
       "      <td>...</td>\n",
       "      <td>...</td>\n",
       "      <td>...</td>\n",
       "    </tr>\n",
       "    <tr>\n",
       "      <th rowspan=\"5\" valign=\"top\">Using LLMs to Write Better</th>\n",
       "      <th>936</th>\n",
       "      <td>1</td>\n",
       "      <td>1</td>\n",
       "      <td>1</td>\n",
       "      <td>1</td>\n",
       "    </tr>\n",
       "    <tr>\n",
       "      <th>957</th>\n",
       "      <td>1</td>\n",
       "      <td>1</td>\n",
       "      <td>1</td>\n",
       "      <td>1</td>\n",
       "    </tr>\n",
       "    <tr>\n",
       "      <th>982</th>\n",
       "      <td>1</td>\n",
       "      <td>1</td>\n",
       "      <td>1</td>\n",
       "      <td>1</td>\n",
       "    </tr>\n",
       "    <tr>\n",
       "      <th>1005</th>\n",
       "      <td>1</td>\n",
       "      <td>1</td>\n",
       "      <td>1</td>\n",
       "      <td>1</td>\n",
       "    </tr>\n",
       "    <tr>\n",
       "      <th>1009</th>\n",
       "      <td>1</td>\n",
       "      <td>1</td>\n",
       "      <td>1</td>\n",
       "      <td>1</td>\n",
       "    </tr>\n",
       "  </tbody>\n",
       "</table>\n",
       "<p>3680 rows × 4 columns</p>\n",
       "</div>"
      ],
      "text/plain": [
       "                                            id  date  country  store\n",
       "product                           num_sold                          \n",
       "Using LLMs to Improve Your Coding 12         1     1        1      1\n",
       "                                  13         6     6        6      6\n",
       "                                  14         9     9        9      9\n",
       "                                  15        16    16       16     16\n",
       "                                  16        25    25       25     25\n",
       "...                                         ..   ...      ...    ...\n",
       "Using LLMs to Write Better        936        1     1        1      1\n",
       "                                  957        1     1        1      1\n",
       "                                  982        1     1        1      1\n",
       "                                  1005       1     1        1      1\n",
       "                                  1009       1     1        1      1\n",
       "\n",
       "[3680 rows x 4 columns]"
      ]
     },
     "execution_count": 25,
     "metadata": {},
     "output_type": "execute_result"
    }
   ],
   "source": [
    "train_data.groupby(by=['product','num_sold']).count()"
   ]
  },
  {
   "cell_type": "markdown",
   "id": "8341c36f",
   "metadata": {
    "papermill": {
     "duration": 0.027162,
     "end_time": "2023-07-15T02:43:37.457403",
     "exception": false,
     "start_time": "2023-07-15T02:43:37.430241",
     "status": "completed"
    },
    "tags": []
   },
   "source": [
    "there seems to be some sort of non distribution of sales among products. we'll get into the details later. "
   ]
  },
  {
   "cell_type": "code",
   "execution_count": 26,
   "id": "fee3de7c",
   "metadata": {
    "execution": {
     "iopub.execute_input": "2023-07-15T02:43:37.515100Z",
     "iopub.status.busy": "2023-07-15T02:43:37.513839Z",
     "iopub.status.idle": "2023-07-15T02:43:37.652141Z",
     "shell.execute_reply": "2023-07-15T02:43:37.650925Z"
    },
    "papermill": {
     "duration": 0.169901,
     "end_time": "2023-07-15T02:43:37.654807",
     "exception": false,
     "start_time": "2023-07-15T02:43:37.484906",
     "status": "completed"
    },
    "tags": []
   },
   "outputs": [
    {
     "data": {
      "text/html": [
       "<div>\n",
       "<style scoped>\n",
       "    .dataframe tbody tr th:only-of-type {\n",
       "        vertical-align: middle;\n",
       "    }\n",
       "\n",
       "    .dataframe tbody tr th {\n",
       "        vertical-align: top;\n",
       "    }\n",
       "\n",
       "    .dataframe thead th {\n",
       "        text-align: right;\n",
       "    }\n",
       "</style>\n",
       "<table border=\"1\" class=\"dataframe\">\n",
       "  <thead>\n",
       "    <tr style=\"text-align: right;\">\n",
       "      <th></th>\n",
       "      <th></th>\n",
       "      <th>id</th>\n",
       "      <th>country</th>\n",
       "      <th>product</th>\n",
       "      <th>num_sold</th>\n",
       "    </tr>\n",
       "    <tr>\n",
       "      <th>date</th>\n",
       "      <th>store</th>\n",
       "      <th></th>\n",
       "      <th></th>\n",
       "      <th></th>\n",
       "      <th></th>\n",
       "    </tr>\n",
       "  </thead>\n",
       "  <tbody>\n",
       "    <tr>\n",
       "      <th rowspan=\"3\" valign=\"top\">2017-01-01</th>\n",
       "      <th>Kagglazon</th>\n",
       "      <td>25</td>\n",
       "      <td>25</td>\n",
       "      <td>25</td>\n",
       "      <td>25</td>\n",
       "    </tr>\n",
       "    <tr>\n",
       "      <th>Kaggle Learn</th>\n",
       "      <td>25</td>\n",
       "      <td>25</td>\n",
       "      <td>25</td>\n",
       "      <td>25</td>\n",
       "    </tr>\n",
       "    <tr>\n",
       "      <th>Kaggle Store</th>\n",
       "      <td>25</td>\n",
       "      <td>25</td>\n",
       "      <td>25</td>\n",
       "      <td>25</td>\n",
       "    </tr>\n",
       "    <tr>\n",
       "      <th rowspan=\"2\" valign=\"top\">2017-01-02</th>\n",
       "      <th>Kagglazon</th>\n",
       "      <td>25</td>\n",
       "      <td>25</td>\n",
       "      <td>25</td>\n",
       "      <td>25</td>\n",
       "    </tr>\n",
       "    <tr>\n",
       "      <th>Kaggle Learn</th>\n",
       "      <td>25</td>\n",
       "      <td>25</td>\n",
       "      <td>25</td>\n",
       "      <td>25</td>\n",
       "    </tr>\n",
       "    <tr>\n",
       "      <th>...</th>\n",
       "      <th>...</th>\n",
       "      <td>...</td>\n",
       "      <td>...</td>\n",
       "      <td>...</td>\n",
       "      <td>...</td>\n",
       "    </tr>\n",
       "    <tr>\n",
       "      <th rowspan=\"2\" valign=\"top\">2021-12-30</th>\n",
       "      <th>Kaggle Learn</th>\n",
       "      <td>25</td>\n",
       "      <td>25</td>\n",
       "      <td>25</td>\n",
       "      <td>25</td>\n",
       "    </tr>\n",
       "    <tr>\n",
       "      <th>Kaggle Store</th>\n",
       "      <td>25</td>\n",
       "      <td>25</td>\n",
       "      <td>25</td>\n",
       "      <td>25</td>\n",
       "    </tr>\n",
       "    <tr>\n",
       "      <th rowspan=\"3\" valign=\"top\">2021-12-31</th>\n",
       "      <th>Kagglazon</th>\n",
       "      <td>25</td>\n",
       "      <td>25</td>\n",
       "      <td>25</td>\n",
       "      <td>25</td>\n",
       "    </tr>\n",
       "    <tr>\n",
       "      <th>Kaggle Learn</th>\n",
       "      <td>25</td>\n",
       "      <td>25</td>\n",
       "      <td>25</td>\n",
       "      <td>25</td>\n",
       "    </tr>\n",
       "    <tr>\n",
       "      <th>Kaggle Store</th>\n",
       "      <td>25</td>\n",
       "      <td>25</td>\n",
       "      <td>25</td>\n",
       "      <td>25</td>\n",
       "    </tr>\n",
       "  </tbody>\n",
       "</table>\n",
       "<p>5478 rows × 4 columns</p>\n",
       "</div>"
      ],
      "text/plain": [
       "                         id  country  product  num_sold\n",
       "date       store                                       \n",
       "2017-01-01 Kagglazon     25       25       25        25\n",
       "           Kaggle Learn  25       25       25        25\n",
       "           Kaggle Store  25       25       25        25\n",
       "2017-01-02 Kagglazon     25       25       25        25\n",
       "           Kaggle Learn  25       25       25        25\n",
       "...                      ..      ...      ...       ...\n",
       "2021-12-30 Kaggle Learn  25       25       25        25\n",
       "           Kaggle Store  25       25       25        25\n",
       "2021-12-31 Kagglazon     25       25       25        25\n",
       "           Kaggle Learn  25       25       25        25\n",
       "           Kaggle Store  25       25       25        25\n",
       "\n",
       "[5478 rows x 4 columns]"
      ]
     },
     "execution_count": 26,
     "metadata": {},
     "output_type": "execute_result"
    }
   ],
   "source": [
    "train_data.groupby(by=['date','store']).count()"
   ]
  },
  {
   "cell_type": "markdown",
   "id": "150a0222",
   "metadata": {
    "papermill": {
     "duration": 0.029964,
     "end_time": "2023-07-15T02:43:37.712545",
     "exception": false,
     "start_time": "2023-07-15T02:43:37.682581",
     "status": "completed"
    },
    "tags": []
   },
   "source": [
    "there are 25 entries per date per store in the train data. "
   ]
  },
  {
   "cell_type": "code",
   "execution_count": 27,
   "id": "84d8ad82",
   "metadata": {
    "execution": {
     "iopub.execute_input": "2023-07-15T02:43:37.772997Z",
     "iopub.status.busy": "2023-07-15T02:43:37.772549Z",
     "iopub.status.idle": "2023-07-15T02:43:37.816153Z",
     "shell.execute_reply": "2023-07-15T02:43:37.814693Z"
    },
    "papermill": {
     "duration": 0.076273,
     "end_time": "2023-07-15T02:43:37.819047",
     "exception": false,
     "start_time": "2023-07-15T02:43:37.742774",
     "status": "completed"
    },
    "tags": []
   },
   "outputs": [
    {
     "data": {
      "text/html": [
       "<div>\n",
       "<style scoped>\n",
       "    .dataframe tbody tr th:only-of-type {\n",
       "        vertical-align: middle;\n",
       "    }\n",
       "\n",
       "    .dataframe tbody tr th {\n",
       "        vertical-align: top;\n",
       "    }\n",
       "\n",
       "    .dataframe thead th {\n",
       "        text-align: right;\n",
       "    }\n",
       "</style>\n",
       "<table border=\"1\" class=\"dataframe\">\n",
       "  <thead>\n",
       "    <tr style=\"text-align: right;\">\n",
       "      <th></th>\n",
       "      <th></th>\n",
       "      <th>id</th>\n",
       "      <th>country</th>\n",
       "      <th>product</th>\n",
       "    </tr>\n",
       "    <tr>\n",
       "      <th>date</th>\n",
       "      <th>store</th>\n",
       "      <th></th>\n",
       "      <th></th>\n",
       "      <th></th>\n",
       "    </tr>\n",
       "  </thead>\n",
       "  <tbody>\n",
       "    <tr>\n",
       "      <th rowspan=\"3\" valign=\"top\">2022-01-01</th>\n",
       "      <th>Kagglazon</th>\n",
       "      <td>25</td>\n",
       "      <td>25</td>\n",
       "      <td>25</td>\n",
       "    </tr>\n",
       "    <tr>\n",
       "      <th>Kaggle Learn</th>\n",
       "      <td>25</td>\n",
       "      <td>25</td>\n",
       "      <td>25</td>\n",
       "    </tr>\n",
       "    <tr>\n",
       "      <th>Kaggle Store</th>\n",
       "      <td>25</td>\n",
       "      <td>25</td>\n",
       "      <td>25</td>\n",
       "    </tr>\n",
       "    <tr>\n",
       "      <th rowspan=\"2\" valign=\"top\">2022-01-02</th>\n",
       "      <th>Kagglazon</th>\n",
       "      <td>25</td>\n",
       "      <td>25</td>\n",
       "      <td>25</td>\n",
       "    </tr>\n",
       "    <tr>\n",
       "      <th>Kaggle Learn</th>\n",
       "      <td>25</td>\n",
       "      <td>25</td>\n",
       "      <td>25</td>\n",
       "    </tr>\n",
       "    <tr>\n",
       "      <th>...</th>\n",
       "      <th>...</th>\n",
       "      <td>...</td>\n",
       "      <td>...</td>\n",
       "      <td>...</td>\n",
       "    </tr>\n",
       "    <tr>\n",
       "      <th rowspan=\"2\" valign=\"top\">2022-12-30</th>\n",
       "      <th>Kaggle Learn</th>\n",
       "      <td>25</td>\n",
       "      <td>25</td>\n",
       "      <td>25</td>\n",
       "    </tr>\n",
       "    <tr>\n",
       "      <th>Kaggle Store</th>\n",
       "      <td>25</td>\n",
       "      <td>25</td>\n",
       "      <td>25</td>\n",
       "    </tr>\n",
       "    <tr>\n",
       "      <th rowspan=\"3\" valign=\"top\">2022-12-31</th>\n",
       "      <th>Kagglazon</th>\n",
       "      <td>25</td>\n",
       "      <td>25</td>\n",
       "      <td>25</td>\n",
       "    </tr>\n",
       "    <tr>\n",
       "      <th>Kaggle Learn</th>\n",
       "      <td>25</td>\n",
       "      <td>25</td>\n",
       "      <td>25</td>\n",
       "    </tr>\n",
       "    <tr>\n",
       "      <th>Kaggle Store</th>\n",
       "      <td>25</td>\n",
       "      <td>25</td>\n",
       "      <td>25</td>\n",
       "    </tr>\n",
       "  </tbody>\n",
       "</table>\n",
       "<p>1095 rows × 3 columns</p>\n",
       "</div>"
      ],
      "text/plain": [
       "                         id  country  product\n",
       "date       store                             \n",
       "2022-01-01 Kagglazon     25       25       25\n",
       "           Kaggle Learn  25       25       25\n",
       "           Kaggle Store  25       25       25\n",
       "2022-01-02 Kagglazon     25       25       25\n",
       "           Kaggle Learn  25       25       25\n",
       "...                      ..      ...      ...\n",
       "2022-12-30 Kaggle Learn  25       25       25\n",
       "           Kaggle Store  25       25       25\n",
       "2022-12-31 Kagglazon     25       25       25\n",
       "           Kaggle Learn  25       25       25\n",
       "           Kaggle Store  25       25       25\n",
       "\n",
       "[1095 rows x 3 columns]"
      ]
     },
     "execution_count": 27,
     "metadata": {},
     "output_type": "execute_result"
    }
   ],
   "source": [
    "test_data.groupby(by=['date','store']).count()"
   ]
  },
  {
   "cell_type": "markdown",
   "id": "9d7fb986",
   "metadata": {
    "papermill": {
     "duration": 0.02784,
     "end_time": "2023-07-15T02:43:37.875602",
     "exception": false,
     "start_time": "2023-07-15T02:43:37.847762",
     "status": "completed"
    },
    "tags": []
   },
   "source": [
    "there are 25 entries per date per store in the test data as well. "
   ]
  },
  {
   "cell_type": "code",
   "execution_count": 28,
   "id": "05be8470",
   "metadata": {
    "execution": {
     "iopub.execute_input": "2023-07-15T02:43:37.934311Z",
     "iopub.status.busy": "2023-07-15T02:43:37.933581Z",
     "iopub.status.idle": "2023-07-15T02:43:38.075495Z",
     "shell.execute_reply": "2023-07-15T02:43:38.074632Z"
    },
    "papermill": {
     "duration": 0.174151,
     "end_time": "2023-07-15T02:43:38.077744",
     "exception": false,
     "start_time": "2023-07-15T02:43:37.903593",
     "status": "completed"
    },
    "tags": []
   },
   "outputs": [
    {
     "data": {
      "text/html": [
       "<div>\n",
       "<style scoped>\n",
       "    .dataframe tbody tr th:only-of-type {\n",
       "        vertical-align: middle;\n",
       "    }\n",
       "\n",
       "    .dataframe tbody tr th {\n",
       "        vertical-align: top;\n",
       "    }\n",
       "\n",
       "    .dataframe thead th {\n",
       "        text-align: right;\n",
       "    }\n",
       "</style>\n",
       "<table border=\"1\" class=\"dataframe\">\n",
       "  <thead>\n",
       "    <tr style=\"text-align: right;\">\n",
       "      <th></th>\n",
       "      <th></th>\n",
       "      <th>id</th>\n",
       "      <th>country</th>\n",
       "      <th>store</th>\n",
       "      <th>num_sold</th>\n",
       "    </tr>\n",
       "    <tr>\n",
       "      <th>date</th>\n",
       "      <th>product</th>\n",
       "      <th></th>\n",
       "      <th></th>\n",
       "      <th></th>\n",
       "      <th></th>\n",
       "    </tr>\n",
       "  </thead>\n",
       "  <tbody>\n",
       "    <tr>\n",
       "      <th rowspan=\"5\" valign=\"top\">2017-01-01</th>\n",
       "      <th>Using LLMs to Improve Your Coding</th>\n",
       "      <td>15</td>\n",
       "      <td>15</td>\n",
       "      <td>15</td>\n",
       "      <td>15</td>\n",
       "    </tr>\n",
       "    <tr>\n",
       "      <th>Using LLMs to Train More LLMs</th>\n",
       "      <td>15</td>\n",
       "      <td>15</td>\n",
       "      <td>15</td>\n",
       "      <td>15</td>\n",
       "    </tr>\n",
       "    <tr>\n",
       "      <th>Using LLMs to Win Friends and Influence People</th>\n",
       "      <td>15</td>\n",
       "      <td>15</td>\n",
       "      <td>15</td>\n",
       "      <td>15</td>\n",
       "    </tr>\n",
       "    <tr>\n",
       "      <th>Using LLMs to Win More Kaggle Competitions</th>\n",
       "      <td>15</td>\n",
       "      <td>15</td>\n",
       "      <td>15</td>\n",
       "      <td>15</td>\n",
       "    </tr>\n",
       "    <tr>\n",
       "      <th>Using LLMs to Write Better</th>\n",
       "      <td>15</td>\n",
       "      <td>15</td>\n",
       "      <td>15</td>\n",
       "      <td>15</td>\n",
       "    </tr>\n",
       "    <tr>\n",
       "      <th>...</th>\n",
       "      <th>...</th>\n",
       "      <td>...</td>\n",
       "      <td>...</td>\n",
       "      <td>...</td>\n",
       "      <td>...</td>\n",
       "    </tr>\n",
       "    <tr>\n",
       "      <th rowspan=\"5\" valign=\"top\">2021-12-31</th>\n",
       "      <th>Using LLMs to Improve Your Coding</th>\n",
       "      <td>15</td>\n",
       "      <td>15</td>\n",
       "      <td>15</td>\n",
       "      <td>15</td>\n",
       "    </tr>\n",
       "    <tr>\n",
       "      <th>Using LLMs to Train More LLMs</th>\n",
       "      <td>15</td>\n",
       "      <td>15</td>\n",
       "      <td>15</td>\n",
       "      <td>15</td>\n",
       "    </tr>\n",
       "    <tr>\n",
       "      <th>Using LLMs to Win Friends and Influence People</th>\n",
       "      <td>15</td>\n",
       "      <td>15</td>\n",
       "      <td>15</td>\n",
       "      <td>15</td>\n",
       "    </tr>\n",
       "    <tr>\n",
       "      <th>Using LLMs to Win More Kaggle Competitions</th>\n",
       "      <td>15</td>\n",
       "      <td>15</td>\n",
       "      <td>15</td>\n",
       "      <td>15</td>\n",
       "    </tr>\n",
       "    <tr>\n",
       "      <th>Using LLMs to Write Better</th>\n",
       "      <td>15</td>\n",
       "      <td>15</td>\n",
       "      <td>15</td>\n",
       "      <td>15</td>\n",
       "    </tr>\n",
       "  </tbody>\n",
       "</table>\n",
       "<p>9130 rows × 4 columns</p>\n",
       "</div>"
      ],
      "text/plain": [
       "                                                           id  country  store  \\\n",
       "date       product                                                              \n",
       "2017-01-01 Using LLMs to Improve Your Coding               15       15     15   \n",
       "           Using LLMs to Train More LLMs                   15       15     15   \n",
       "           Using LLMs to Win Friends and Influence People  15       15     15   \n",
       "           Using LLMs to Win More Kaggle Competitions      15       15     15   \n",
       "           Using LLMs to Write Better                      15       15     15   \n",
       "...                                                        ..      ...    ...   \n",
       "2021-12-31 Using LLMs to Improve Your Coding               15       15     15   \n",
       "           Using LLMs to Train More LLMs                   15       15     15   \n",
       "           Using LLMs to Win Friends and Influence People  15       15     15   \n",
       "           Using LLMs to Win More Kaggle Competitions      15       15     15   \n",
       "           Using LLMs to Write Better                      15       15     15   \n",
       "\n",
       "                                                           num_sold  \n",
       "date       product                                                   \n",
       "2017-01-01 Using LLMs to Improve Your Coding                     15  \n",
       "           Using LLMs to Train More LLMs                         15  \n",
       "           Using LLMs to Win Friends and Influence People        15  \n",
       "           Using LLMs to Win More Kaggle Competitions            15  \n",
       "           Using LLMs to Write Better                            15  \n",
       "...                                                             ...  \n",
       "2021-12-31 Using LLMs to Improve Your Coding                     15  \n",
       "           Using LLMs to Train More LLMs                         15  \n",
       "           Using LLMs to Win Friends and Influence People        15  \n",
       "           Using LLMs to Win More Kaggle Competitions            15  \n",
       "           Using LLMs to Write Better                            15  \n",
       "\n",
       "[9130 rows x 4 columns]"
      ]
     },
     "execution_count": 28,
     "metadata": {},
     "output_type": "execute_result"
    }
   ],
   "source": [
    "train_data.groupby(by=['date','product']).count()"
   ]
  },
  {
   "cell_type": "markdown",
   "id": "bba09a33",
   "metadata": {
    "papermill": {
     "duration": 0.028346,
     "end_time": "2023-07-15T02:43:38.134526",
     "exception": false,
     "start_time": "2023-07-15T02:43:38.106180",
     "status": "completed"
    },
    "tags": []
   },
   "source": [
    "there are 15 entries per date per product in the train data."
   ]
  },
  {
   "cell_type": "code",
   "execution_count": 29,
   "id": "acdd44a2",
   "metadata": {
    "execution": {
     "iopub.execute_input": "2023-07-15T02:43:38.193662Z",
     "iopub.status.busy": "2023-07-15T02:43:38.193046Z",
     "iopub.status.idle": "2023-07-15T02:43:38.235847Z",
     "shell.execute_reply": "2023-07-15T02:43:38.234715Z"
    },
    "papermill": {
     "duration": 0.075638,
     "end_time": "2023-07-15T02:43:38.238761",
     "exception": false,
     "start_time": "2023-07-15T02:43:38.163123",
     "status": "completed"
    },
    "tags": []
   },
   "outputs": [
    {
     "data": {
      "text/html": [
       "<div>\n",
       "<style scoped>\n",
       "    .dataframe tbody tr th:only-of-type {\n",
       "        vertical-align: middle;\n",
       "    }\n",
       "\n",
       "    .dataframe tbody tr th {\n",
       "        vertical-align: top;\n",
       "    }\n",
       "\n",
       "    .dataframe thead th {\n",
       "        text-align: right;\n",
       "    }\n",
       "</style>\n",
       "<table border=\"1\" class=\"dataframe\">\n",
       "  <thead>\n",
       "    <tr style=\"text-align: right;\">\n",
       "      <th></th>\n",
       "      <th></th>\n",
       "      <th>id</th>\n",
       "      <th>country</th>\n",
       "      <th>store</th>\n",
       "    </tr>\n",
       "    <tr>\n",
       "      <th>date</th>\n",
       "      <th>product</th>\n",
       "      <th></th>\n",
       "      <th></th>\n",
       "      <th></th>\n",
       "    </tr>\n",
       "  </thead>\n",
       "  <tbody>\n",
       "    <tr>\n",
       "      <th rowspan=\"5\" valign=\"top\">2022-01-01</th>\n",
       "      <th>Using LLMs to Improve Your Coding</th>\n",
       "      <td>15</td>\n",
       "      <td>15</td>\n",
       "      <td>15</td>\n",
       "    </tr>\n",
       "    <tr>\n",
       "      <th>Using LLMs to Train More LLMs</th>\n",
       "      <td>15</td>\n",
       "      <td>15</td>\n",
       "      <td>15</td>\n",
       "    </tr>\n",
       "    <tr>\n",
       "      <th>Using LLMs to Win Friends and Influence People</th>\n",
       "      <td>15</td>\n",
       "      <td>15</td>\n",
       "      <td>15</td>\n",
       "    </tr>\n",
       "    <tr>\n",
       "      <th>Using LLMs to Win More Kaggle Competitions</th>\n",
       "      <td>15</td>\n",
       "      <td>15</td>\n",
       "      <td>15</td>\n",
       "    </tr>\n",
       "    <tr>\n",
       "      <th>Using LLMs to Write Better</th>\n",
       "      <td>15</td>\n",
       "      <td>15</td>\n",
       "      <td>15</td>\n",
       "    </tr>\n",
       "    <tr>\n",
       "      <th>...</th>\n",
       "      <th>...</th>\n",
       "      <td>...</td>\n",
       "      <td>...</td>\n",
       "      <td>...</td>\n",
       "    </tr>\n",
       "    <tr>\n",
       "      <th rowspan=\"5\" valign=\"top\">2022-12-31</th>\n",
       "      <th>Using LLMs to Improve Your Coding</th>\n",
       "      <td>15</td>\n",
       "      <td>15</td>\n",
       "      <td>15</td>\n",
       "    </tr>\n",
       "    <tr>\n",
       "      <th>Using LLMs to Train More LLMs</th>\n",
       "      <td>15</td>\n",
       "      <td>15</td>\n",
       "      <td>15</td>\n",
       "    </tr>\n",
       "    <tr>\n",
       "      <th>Using LLMs to Win Friends and Influence People</th>\n",
       "      <td>15</td>\n",
       "      <td>15</td>\n",
       "      <td>15</td>\n",
       "    </tr>\n",
       "    <tr>\n",
       "      <th>Using LLMs to Win More Kaggle Competitions</th>\n",
       "      <td>15</td>\n",
       "      <td>15</td>\n",
       "      <td>15</td>\n",
       "    </tr>\n",
       "    <tr>\n",
       "      <th>Using LLMs to Write Better</th>\n",
       "      <td>15</td>\n",
       "      <td>15</td>\n",
       "      <td>15</td>\n",
       "    </tr>\n",
       "  </tbody>\n",
       "</table>\n",
       "<p>1825 rows × 3 columns</p>\n",
       "</div>"
      ],
      "text/plain": [
       "                                                           id  country  store\n",
       "date       product                                                           \n",
       "2022-01-01 Using LLMs to Improve Your Coding               15       15     15\n",
       "           Using LLMs to Train More LLMs                   15       15     15\n",
       "           Using LLMs to Win Friends and Influence People  15       15     15\n",
       "           Using LLMs to Win More Kaggle Competitions      15       15     15\n",
       "           Using LLMs to Write Better                      15       15     15\n",
       "...                                                        ..      ...    ...\n",
       "2022-12-31 Using LLMs to Improve Your Coding               15       15     15\n",
       "           Using LLMs to Train More LLMs                   15       15     15\n",
       "           Using LLMs to Win Friends and Influence People  15       15     15\n",
       "           Using LLMs to Win More Kaggle Competitions      15       15     15\n",
       "           Using LLMs to Write Better                      15       15     15\n",
       "\n",
       "[1825 rows x 3 columns]"
      ]
     },
     "execution_count": 29,
     "metadata": {},
     "output_type": "execute_result"
    }
   ],
   "source": [
    "test_data.groupby(by=['date','product']).count()"
   ]
  },
  {
   "cell_type": "markdown",
   "id": "54868e4d",
   "metadata": {
    "papermill": {
     "duration": 0.031223,
     "end_time": "2023-07-15T02:43:38.299405",
     "exception": false,
     "start_time": "2023-07-15T02:43:38.268182",
     "status": "completed"
    },
    "tags": []
   },
   "source": [
    "there are 15 entries per date per product in the test data as well."
   ]
  },
  {
   "cell_type": "code",
   "execution_count": 30,
   "id": "8931c510",
   "metadata": {
    "execution": {
     "iopub.execute_input": "2023-07-15T02:43:38.359568Z",
     "iopub.status.busy": "2023-07-15T02:43:38.359185Z",
     "iopub.status.idle": "2023-07-15T02:43:38.497967Z",
     "shell.execute_reply": "2023-07-15T02:43:38.496692Z"
    },
    "papermill": {
     "duration": 0.1722,
     "end_time": "2023-07-15T02:43:38.500853",
     "exception": false,
     "start_time": "2023-07-15T02:43:38.328653",
     "status": "completed"
    },
    "tags": []
   },
   "outputs": [
    {
     "data": {
      "text/html": [
       "<div>\n",
       "<style scoped>\n",
       "    .dataframe tbody tr th:only-of-type {\n",
       "        vertical-align: middle;\n",
       "    }\n",
       "\n",
       "    .dataframe tbody tr th {\n",
       "        vertical-align: top;\n",
       "    }\n",
       "\n",
       "    .dataframe thead th {\n",
       "        text-align: right;\n",
       "    }\n",
       "</style>\n",
       "<table border=\"1\" class=\"dataframe\">\n",
       "  <thead>\n",
       "    <tr style=\"text-align: right;\">\n",
       "      <th></th>\n",
       "      <th></th>\n",
       "      <th>id</th>\n",
       "      <th>date</th>\n",
       "      <th>store</th>\n",
       "      <th>num_sold</th>\n",
       "    </tr>\n",
       "    <tr>\n",
       "      <th>country</th>\n",
       "      <th>product</th>\n",
       "      <th></th>\n",
       "      <th></th>\n",
       "      <th></th>\n",
       "      <th></th>\n",
       "    </tr>\n",
       "  </thead>\n",
       "  <tbody>\n",
       "    <tr>\n",
       "      <th rowspan=\"5\" valign=\"top\">Argentina</th>\n",
       "      <th>Using LLMs to Improve Your Coding</th>\n",
       "      <td>5478</td>\n",
       "      <td>5478</td>\n",
       "      <td>5478</td>\n",
       "      <td>5478</td>\n",
       "    </tr>\n",
       "    <tr>\n",
       "      <th>Using LLMs to Train More LLMs</th>\n",
       "      <td>5478</td>\n",
       "      <td>5478</td>\n",
       "      <td>5478</td>\n",
       "      <td>5478</td>\n",
       "    </tr>\n",
       "    <tr>\n",
       "      <th>Using LLMs to Win Friends and Influence People</th>\n",
       "      <td>5478</td>\n",
       "      <td>5478</td>\n",
       "      <td>5478</td>\n",
       "      <td>5478</td>\n",
       "    </tr>\n",
       "    <tr>\n",
       "      <th>Using LLMs to Win More Kaggle Competitions</th>\n",
       "      <td>5478</td>\n",
       "      <td>5478</td>\n",
       "      <td>5478</td>\n",
       "      <td>5478</td>\n",
       "    </tr>\n",
       "    <tr>\n",
       "      <th>Using LLMs to Write Better</th>\n",
       "      <td>5478</td>\n",
       "      <td>5478</td>\n",
       "      <td>5478</td>\n",
       "      <td>5478</td>\n",
       "    </tr>\n",
       "    <tr>\n",
       "      <th rowspan=\"5\" valign=\"top\">Canada</th>\n",
       "      <th>Using LLMs to Improve Your Coding</th>\n",
       "      <td>5478</td>\n",
       "      <td>5478</td>\n",
       "      <td>5478</td>\n",
       "      <td>5478</td>\n",
       "    </tr>\n",
       "    <tr>\n",
       "      <th>Using LLMs to Train More LLMs</th>\n",
       "      <td>5478</td>\n",
       "      <td>5478</td>\n",
       "      <td>5478</td>\n",
       "      <td>5478</td>\n",
       "    </tr>\n",
       "    <tr>\n",
       "      <th>Using LLMs to Win Friends and Influence People</th>\n",
       "      <td>5478</td>\n",
       "      <td>5478</td>\n",
       "      <td>5478</td>\n",
       "      <td>5478</td>\n",
       "    </tr>\n",
       "    <tr>\n",
       "      <th>Using LLMs to Win More Kaggle Competitions</th>\n",
       "      <td>5478</td>\n",
       "      <td>5478</td>\n",
       "      <td>5478</td>\n",
       "      <td>5478</td>\n",
       "    </tr>\n",
       "    <tr>\n",
       "      <th>Using LLMs to Write Better</th>\n",
       "      <td>5478</td>\n",
       "      <td>5478</td>\n",
       "      <td>5478</td>\n",
       "      <td>5478</td>\n",
       "    </tr>\n",
       "    <tr>\n",
       "      <th rowspan=\"5\" valign=\"top\">Estonia</th>\n",
       "      <th>Using LLMs to Improve Your Coding</th>\n",
       "      <td>5478</td>\n",
       "      <td>5478</td>\n",
       "      <td>5478</td>\n",
       "      <td>5478</td>\n",
       "    </tr>\n",
       "    <tr>\n",
       "      <th>Using LLMs to Train More LLMs</th>\n",
       "      <td>5478</td>\n",
       "      <td>5478</td>\n",
       "      <td>5478</td>\n",
       "      <td>5478</td>\n",
       "    </tr>\n",
       "    <tr>\n",
       "      <th>Using LLMs to Win Friends and Influence People</th>\n",
       "      <td>5478</td>\n",
       "      <td>5478</td>\n",
       "      <td>5478</td>\n",
       "      <td>5478</td>\n",
       "    </tr>\n",
       "    <tr>\n",
       "      <th>Using LLMs to Win More Kaggle Competitions</th>\n",
       "      <td>5478</td>\n",
       "      <td>5478</td>\n",
       "      <td>5478</td>\n",
       "      <td>5478</td>\n",
       "    </tr>\n",
       "    <tr>\n",
       "      <th>Using LLMs to Write Better</th>\n",
       "      <td>5478</td>\n",
       "      <td>5478</td>\n",
       "      <td>5478</td>\n",
       "      <td>5478</td>\n",
       "    </tr>\n",
       "    <tr>\n",
       "      <th rowspan=\"5\" valign=\"top\">Japan</th>\n",
       "      <th>Using LLMs to Improve Your Coding</th>\n",
       "      <td>5478</td>\n",
       "      <td>5478</td>\n",
       "      <td>5478</td>\n",
       "      <td>5478</td>\n",
       "    </tr>\n",
       "    <tr>\n",
       "      <th>Using LLMs to Train More LLMs</th>\n",
       "      <td>5478</td>\n",
       "      <td>5478</td>\n",
       "      <td>5478</td>\n",
       "      <td>5478</td>\n",
       "    </tr>\n",
       "    <tr>\n",
       "      <th>Using LLMs to Win Friends and Influence People</th>\n",
       "      <td>5478</td>\n",
       "      <td>5478</td>\n",
       "      <td>5478</td>\n",
       "      <td>5478</td>\n",
       "    </tr>\n",
       "    <tr>\n",
       "      <th>Using LLMs to Win More Kaggle Competitions</th>\n",
       "      <td>5478</td>\n",
       "      <td>5478</td>\n",
       "      <td>5478</td>\n",
       "      <td>5478</td>\n",
       "    </tr>\n",
       "    <tr>\n",
       "      <th>Using LLMs to Write Better</th>\n",
       "      <td>5478</td>\n",
       "      <td>5478</td>\n",
       "      <td>5478</td>\n",
       "      <td>5478</td>\n",
       "    </tr>\n",
       "    <tr>\n",
       "      <th rowspan=\"5\" valign=\"top\">Spain</th>\n",
       "      <th>Using LLMs to Improve Your Coding</th>\n",
       "      <td>5478</td>\n",
       "      <td>5478</td>\n",
       "      <td>5478</td>\n",
       "      <td>5478</td>\n",
       "    </tr>\n",
       "    <tr>\n",
       "      <th>Using LLMs to Train More LLMs</th>\n",
       "      <td>5478</td>\n",
       "      <td>5478</td>\n",
       "      <td>5478</td>\n",
       "      <td>5478</td>\n",
       "    </tr>\n",
       "    <tr>\n",
       "      <th>Using LLMs to Win Friends and Influence People</th>\n",
       "      <td>5478</td>\n",
       "      <td>5478</td>\n",
       "      <td>5478</td>\n",
       "      <td>5478</td>\n",
       "    </tr>\n",
       "    <tr>\n",
       "      <th>Using LLMs to Win More Kaggle Competitions</th>\n",
       "      <td>5478</td>\n",
       "      <td>5478</td>\n",
       "      <td>5478</td>\n",
       "      <td>5478</td>\n",
       "    </tr>\n",
       "    <tr>\n",
       "      <th>Using LLMs to Write Better</th>\n",
       "      <td>5478</td>\n",
       "      <td>5478</td>\n",
       "      <td>5478</td>\n",
       "      <td>5478</td>\n",
       "    </tr>\n",
       "  </tbody>\n",
       "</table>\n",
       "</div>"
      ],
      "text/plain": [
       "                                                            id  date  store  \\\n",
       "country   product                                                             \n",
       "Argentina Using LLMs to Improve Your Coding               5478  5478   5478   \n",
       "          Using LLMs to Train More LLMs                   5478  5478   5478   \n",
       "          Using LLMs to Win Friends and Influence People  5478  5478   5478   \n",
       "          Using LLMs to Win More Kaggle Competitions      5478  5478   5478   \n",
       "          Using LLMs to Write Better                      5478  5478   5478   \n",
       "Canada    Using LLMs to Improve Your Coding               5478  5478   5478   \n",
       "          Using LLMs to Train More LLMs                   5478  5478   5478   \n",
       "          Using LLMs to Win Friends and Influence People  5478  5478   5478   \n",
       "          Using LLMs to Win More Kaggle Competitions      5478  5478   5478   \n",
       "          Using LLMs to Write Better                      5478  5478   5478   \n",
       "Estonia   Using LLMs to Improve Your Coding               5478  5478   5478   \n",
       "          Using LLMs to Train More LLMs                   5478  5478   5478   \n",
       "          Using LLMs to Win Friends and Influence People  5478  5478   5478   \n",
       "          Using LLMs to Win More Kaggle Competitions      5478  5478   5478   \n",
       "          Using LLMs to Write Better                      5478  5478   5478   \n",
       "Japan     Using LLMs to Improve Your Coding               5478  5478   5478   \n",
       "          Using LLMs to Train More LLMs                   5478  5478   5478   \n",
       "          Using LLMs to Win Friends and Influence People  5478  5478   5478   \n",
       "          Using LLMs to Win More Kaggle Competitions      5478  5478   5478   \n",
       "          Using LLMs to Write Better                      5478  5478   5478   \n",
       "Spain     Using LLMs to Improve Your Coding               5478  5478   5478   \n",
       "          Using LLMs to Train More LLMs                   5478  5478   5478   \n",
       "          Using LLMs to Win Friends and Influence People  5478  5478   5478   \n",
       "          Using LLMs to Win More Kaggle Competitions      5478  5478   5478   \n",
       "          Using LLMs to Write Better                      5478  5478   5478   \n",
       "\n",
       "                                                          num_sold  \n",
       "country   product                                                   \n",
       "Argentina Using LLMs to Improve Your Coding                   5478  \n",
       "          Using LLMs to Train More LLMs                       5478  \n",
       "          Using LLMs to Win Friends and Influence People      5478  \n",
       "          Using LLMs to Win More Kaggle Competitions          5478  \n",
       "          Using LLMs to Write Better                          5478  \n",
       "Canada    Using LLMs to Improve Your Coding                   5478  \n",
       "          Using LLMs to Train More LLMs                       5478  \n",
       "          Using LLMs to Win Friends and Influence People      5478  \n",
       "          Using LLMs to Win More Kaggle Competitions          5478  \n",
       "          Using LLMs to Write Better                          5478  \n",
       "Estonia   Using LLMs to Improve Your Coding                   5478  \n",
       "          Using LLMs to Train More LLMs                       5478  \n",
       "          Using LLMs to Win Friends and Influence People      5478  \n",
       "          Using LLMs to Win More Kaggle Competitions          5478  \n",
       "          Using LLMs to Write Better                          5478  \n",
       "Japan     Using LLMs to Improve Your Coding                   5478  \n",
       "          Using LLMs to Train More LLMs                       5478  \n",
       "          Using LLMs to Win Friends and Influence People      5478  \n",
       "          Using LLMs to Win More Kaggle Competitions          5478  \n",
       "          Using LLMs to Write Better                          5478  \n",
       "Spain     Using LLMs to Improve Your Coding                   5478  \n",
       "          Using LLMs to Train More LLMs                       5478  \n",
       "          Using LLMs to Win Friends and Influence People      5478  \n",
       "          Using LLMs to Win More Kaggle Competitions          5478  \n",
       "          Using LLMs to Write Better                          5478  "
      ]
     },
     "execution_count": 30,
     "metadata": {},
     "output_type": "execute_result"
    }
   ],
   "source": [
    "train_data.groupby(by=['country','product']).count()"
   ]
  },
  {
   "cell_type": "markdown",
   "id": "e2c304eb",
   "metadata": {
    "papermill": {
     "duration": 0.029722,
     "end_time": "2023-07-15T02:43:38.560129",
     "exception": false,
     "start_time": "2023-07-15T02:43:38.530407",
     "status": "completed"
    },
    "tags": []
   },
   "source": [
    "there are exactly 5478 entries per country per product in the train data."
   ]
  },
  {
   "cell_type": "code",
   "execution_count": 31,
   "id": "471e21dd",
   "metadata": {
    "execution": {
     "iopub.execute_input": "2023-07-15T02:43:38.620550Z",
     "iopub.status.busy": "2023-07-15T02:43:38.620139Z",
     "iopub.status.idle": "2023-07-15T02:43:38.660400Z",
     "shell.execute_reply": "2023-07-15T02:43:38.659287Z"
    },
    "papermill": {
     "duration": 0.073653,
     "end_time": "2023-07-15T02:43:38.662988",
     "exception": false,
     "start_time": "2023-07-15T02:43:38.589335",
     "status": "completed"
    },
    "tags": []
   },
   "outputs": [
    {
     "data": {
      "text/html": [
       "<div>\n",
       "<style scoped>\n",
       "    .dataframe tbody tr th:only-of-type {\n",
       "        vertical-align: middle;\n",
       "    }\n",
       "\n",
       "    .dataframe tbody tr th {\n",
       "        vertical-align: top;\n",
       "    }\n",
       "\n",
       "    .dataframe thead th {\n",
       "        text-align: right;\n",
       "    }\n",
       "</style>\n",
       "<table border=\"1\" class=\"dataframe\">\n",
       "  <thead>\n",
       "    <tr style=\"text-align: right;\">\n",
       "      <th></th>\n",
       "      <th></th>\n",
       "      <th>id</th>\n",
       "      <th>date</th>\n",
       "      <th>store</th>\n",
       "    </tr>\n",
       "    <tr>\n",
       "      <th>country</th>\n",
       "      <th>product</th>\n",
       "      <th></th>\n",
       "      <th></th>\n",
       "      <th></th>\n",
       "    </tr>\n",
       "  </thead>\n",
       "  <tbody>\n",
       "    <tr>\n",
       "      <th rowspan=\"5\" valign=\"top\">Argentina</th>\n",
       "      <th>Using LLMs to Improve Your Coding</th>\n",
       "      <td>1095</td>\n",
       "      <td>1095</td>\n",
       "      <td>1095</td>\n",
       "    </tr>\n",
       "    <tr>\n",
       "      <th>Using LLMs to Train More LLMs</th>\n",
       "      <td>1095</td>\n",
       "      <td>1095</td>\n",
       "      <td>1095</td>\n",
       "    </tr>\n",
       "    <tr>\n",
       "      <th>Using LLMs to Win Friends and Influence People</th>\n",
       "      <td>1095</td>\n",
       "      <td>1095</td>\n",
       "      <td>1095</td>\n",
       "    </tr>\n",
       "    <tr>\n",
       "      <th>Using LLMs to Win More Kaggle Competitions</th>\n",
       "      <td>1095</td>\n",
       "      <td>1095</td>\n",
       "      <td>1095</td>\n",
       "    </tr>\n",
       "    <tr>\n",
       "      <th>Using LLMs to Write Better</th>\n",
       "      <td>1095</td>\n",
       "      <td>1095</td>\n",
       "      <td>1095</td>\n",
       "    </tr>\n",
       "    <tr>\n",
       "      <th rowspan=\"5\" valign=\"top\">Canada</th>\n",
       "      <th>Using LLMs to Improve Your Coding</th>\n",
       "      <td>1095</td>\n",
       "      <td>1095</td>\n",
       "      <td>1095</td>\n",
       "    </tr>\n",
       "    <tr>\n",
       "      <th>Using LLMs to Train More LLMs</th>\n",
       "      <td>1095</td>\n",
       "      <td>1095</td>\n",
       "      <td>1095</td>\n",
       "    </tr>\n",
       "    <tr>\n",
       "      <th>Using LLMs to Win Friends and Influence People</th>\n",
       "      <td>1095</td>\n",
       "      <td>1095</td>\n",
       "      <td>1095</td>\n",
       "    </tr>\n",
       "    <tr>\n",
       "      <th>Using LLMs to Win More Kaggle Competitions</th>\n",
       "      <td>1095</td>\n",
       "      <td>1095</td>\n",
       "      <td>1095</td>\n",
       "    </tr>\n",
       "    <tr>\n",
       "      <th>Using LLMs to Write Better</th>\n",
       "      <td>1095</td>\n",
       "      <td>1095</td>\n",
       "      <td>1095</td>\n",
       "    </tr>\n",
       "    <tr>\n",
       "      <th rowspan=\"5\" valign=\"top\">Estonia</th>\n",
       "      <th>Using LLMs to Improve Your Coding</th>\n",
       "      <td>1095</td>\n",
       "      <td>1095</td>\n",
       "      <td>1095</td>\n",
       "    </tr>\n",
       "    <tr>\n",
       "      <th>Using LLMs to Train More LLMs</th>\n",
       "      <td>1095</td>\n",
       "      <td>1095</td>\n",
       "      <td>1095</td>\n",
       "    </tr>\n",
       "    <tr>\n",
       "      <th>Using LLMs to Win Friends and Influence People</th>\n",
       "      <td>1095</td>\n",
       "      <td>1095</td>\n",
       "      <td>1095</td>\n",
       "    </tr>\n",
       "    <tr>\n",
       "      <th>Using LLMs to Win More Kaggle Competitions</th>\n",
       "      <td>1095</td>\n",
       "      <td>1095</td>\n",
       "      <td>1095</td>\n",
       "    </tr>\n",
       "    <tr>\n",
       "      <th>Using LLMs to Write Better</th>\n",
       "      <td>1095</td>\n",
       "      <td>1095</td>\n",
       "      <td>1095</td>\n",
       "    </tr>\n",
       "    <tr>\n",
       "      <th rowspan=\"5\" valign=\"top\">Japan</th>\n",
       "      <th>Using LLMs to Improve Your Coding</th>\n",
       "      <td>1095</td>\n",
       "      <td>1095</td>\n",
       "      <td>1095</td>\n",
       "    </tr>\n",
       "    <tr>\n",
       "      <th>Using LLMs to Train More LLMs</th>\n",
       "      <td>1095</td>\n",
       "      <td>1095</td>\n",
       "      <td>1095</td>\n",
       "    </tr>\n",
       "    <tr>\n",
       "      <th>Using LLMs to Win Friends and Influence People</th>\n",
       "      <td>1095</td>\n",
       "      <td>1095</td>\n",
       "      <td>1095</td>\n",
       "    </tr>\n",
       "    <tr>\n",
       "      <th>Using LLMs to Win More Kaggle Competitions</th>\n",
       "      <td>1095</td>\n",
       "      <td>1095</td>\n",
       "      <td>1095</td>\n",
       "    </tr>\n",
       "    <tr>\n",
       "      <th>Using LLMs to Write Better</th>\n",
       "      <td>1095</td>\n",
       "      <td>1095</td>\n",
       "      <td>1095</td>\n",
       "    </tr>\n",
       "    <tr>\n",
       "      <th rowspan=\"5\" valign=\"top\">Spain</th>\n",
       "      <th>Using LLMs to Improve Your Coding</th>\n",
       "      <td>1095</td>\n",
       "      <td>1095</td>\n",
       "      <td>1095</td>\n",
       "    </tr>\n",
       "    <tr>\n",
       "      <th>Using LLMs to Train More LLMs</th>\n",
       "      <td>1095</td>\n",
       "      <td>1095</td>\n",
       "      <td>1095</td>\n",
       "    </tr>\n",
       "    <tr>\n",
       "      <th>Using LLMs to Win Friends and Influence People</th>\n",
       "      <td>1095</td>\n",
       "      <td>1095</td>\n",
       "      <td>1095</td>\n",
       "    </tr>\n",
       "    <tr>\n",
       "      <th>Using LLMs to Win More Kaggle Competitions</th>\n",
       "      <td>1095</td>\n",
       "      <td>1095</td>\n",
       "      <td>1095</td>\n",
       "    </tr>\n",
       "    <tr>\n",
       "      <th>Using LLMs to Write Better</th>\n",
       "      <td>1095</td>\n",
       "      <td>1095</td>\n",
       "      <td>1095</td>\n",
       "    </tr>\n",
       "  </tbody>\n",
       "</table>\n",
       "</div>"
      ],
      "text/plain": [
       "                                                            id  date  store\n",
       "country   product                                                          \n",
       "Argentina Using LLMs to Improve Your Coding               1095  1095   1095\n",
       "          Using LLMs to Train More LLMs                   1095  1095   1095\n",
       "          Using LLMs to Win Friends and Influence People  1095  1095   1095\n",
       "          Using LLMs to Win More Kaggle Competitions      1095  1095   1095\n",
       "          Using LLMs to Write Better                      1095  1095   1095\n",
       "Canada    Using LLMs to Improve Your Coding               1095  1095   1095\n",
       "          Using LLMs to Train More LLMs                   1095  1095   1095\n",
       "          Using LLMs to Win Friends and Influence People  1095  1095   1095\n",
       "          Using LLMs to Win More Kaggle Competitions      1095  1095   1095\n",
       "          Using LLMs to Write Better                      1095  1095   1095\n",
       "Estonia   Using LLMs to Improve Your Coding               1095  1095   1095\n",
       "          Using LLMs to Train More LLMs                   1095  1095   1095\n",
       "          Using LLMs to Win Friends and Influence People  1095  1095   1095\n",
       "          Using LLMs to Win More Kaggle Competitions      1095  1095   1095\n",
       "          Using LLMs to Write Better                      1095  1095   1095\n",
       "Japan     Using LLMs to Improve Your Coding               1095  1095   1095\n",
       "          Using LLMs to Train More LLMs                   1095  1095   1095\n",
       "          Using LLMs to Win Friends and Influence People  1095  1095   1095\n",
       "          Using LLMs to Win More Kaggle Competitions      1095  1095   1095\n",
       "          Using LLMs to Write Better                      1095  1095   1095\n",
       "Spain     Using LLMs to Improve Your Coding               1095  1095   1095\n",
       "          Using LLMs to Train More LLMs                   1095  1095   1095\n",
       "          Using LLMs to Win Friends and Influence People  1095  1095   1095\n",
       "          Using LLMs to Win More Kaggle Competitions      1095  1095   1095\n",
       "          Using LLMs to Write Better                      1095  1095   1095"
      ]
     },
     "execution_count": 31,
     "metadata": {},
     "output_type": "execute_result"
    }
   ],
   "source": [
    "test_data.groupby(by=['country','product']).count()"
   ]
  },
  {
   "cell_type": "markdown",
   "id": "eaa753c5",
   "metadata": {
    "papermill": {
     "duration": 0.031615,
     "end_time": "2023-07-15T02:43:38.724990",
     "exception": false,
     "start_time": "2023-07-15T02:43:38.693375",
     "status": "completed"
    },
    "tags": []
   },
   "source": [
    "there are exactly 1095 entries per country per product in the train data."
   ]
  },
  {
   "cell_type": "code",
   "execution_count": 32,
   "id": "cfc8d2a2",
   "metadata": {
    "execution": {
     "iopub.execute_input": "2023-07-15T02:43:38.787504Z",
     "iopub.status.busy": "2023-07-15T02:43:38.787113Z",
     "iopub.status.idle": "2023-07-15T02:43:38.956190Z",
     "shell.execute_reply": "2023-07-15T02:43:38.954960Z"
    },
    "papermill": {
     "duration": 0.202957,
     "end_time": "2023-07-15T02:43:38.958772",
     "exception": false,
     "start_time": "2023-07-15T02:43:38.755815",
     "status": "completed"
    },
    "tags": []
   },
   "outputs": [
    {
     "data": {
      "text/html": [
       "<div>\n",
       "<style scoped>\n",
       "    .dataframe tbody tr th:only-of-type {\n",
       "        vertical-align: middle;\n",
       "    }\n",
       "\n",
       "    .dataframe tbody tr th {\n",
       "        vertical-align: top;\n",
       "    }\n",
       "\n",
       "    .dataframe thead th {\n",
       "        text-align: right;\n",
       "    }\n",
       "</style>\n",
       "<table border=\"1\" class=\"dataframe\">\n",
       "  <thead>\n",
       "    <tr style=\"text-align: right;\">\n",
       "      <th></th>\n",
       "      <th></th>\n",
       "      <th>id</th>\n",
       "      <th>date</th>\n",
       "      <th>store</th>\n",
       "      <th>product</th>\n",
       "    </tr>\n",
       "    <tr>\n",
       "      <th>country</th>\n",
       "      <th>num_sold</th>\n",
       "      <th></th>\n",
       "      <th></th>\n",
       "      <th></th>\n",
       "      <th></th>\n",
       "    </tr>\n",
       "  </thead>\n",
       "  <tbody>\n",
       "    <tr>\n",
       "      <th rowspan=\"5\" valign=\"top\">Argentina</th>\n",
       "      <th>2</th>\n",
       "      <td>30</td>\n",
       "      <td>30</td>\n",
       "      <td>30</td>\n",
       "      <td>30</td>\n",
       "    </tr>\n",
       "    <tr>\n",
       "      <th>3</th>\n",
       "      <td>509</td>\n",
       "      <td>509</td>\n",
       "      <td>509</td>\n",
       "      <td>509</td>\n",
       "    </tr>\n",
       "    <tr>\n",
       "      <th>4</th>\n",
       "      <td>693</td>\n",
       "      <td>693</td>\n",
       "      <td>693</td>\n",
       "      <td>693</td>\n",
       "    </tr>\n",
       "    <tr>\n",
       "      <th>5</th>\n",
       "      <td>792</td>\n",
       "      <td>792</td>\n",
       "      <td>792</td>\n",
       "      <td>792</td>\n",
       "    </tr>\n",
       "    <tr>\n",
       "      <th>6</th>\n",
       "      <td>667</td>\n",
       "      <td>667</td>\n",
       "      <td>667</td>\n",
       "      <td>667</td>\n",
       "    </tr>\n",
       "    <tr>\n",
       "      <th>...</th>\n",
       "      <th>...</th>\n",
       "      <td>...</td>\n",
       "      <td>...</td>\n",
       "      <td>...</td>\n",
       "      <td>...</td>\n",
       "    </tr>\n",
       "    <tr>\n",
       "      <th rowspan=\"5\" valign=\"top\">Spain</th>\n",
       "      <th>786</th>\n",
       "      <td>1</td>\n",
       "      <td>1</td>\n",
       "      <td>1</td>\n",
       "      <td>1</td>\n",
       "    </tr>\n",
       "    <tr>\n",
       "      <th>793</th>\n",
       "      <td>1</td>\n",
       "      <td>1</td>\n",
       "      <td>1</td>\n",
       "      <td>1</td>\n",
       "    </tr>\n",
       "    <tr>\n",
       "      <th>808</th>\n",
       "      <td>1</td>\n",
       "      <td>1</td>\n",
       "      <td>1</td>\n",
       "      <td>1</td>\n",
       "    </tr>\n",
       "    <tr>\n",
       "      <th>822</th>\n",
       "      <td>1</td>\n",
       "      <td>1</td>\n",
       "      <td>1</td>\n",
       "      <td>1</td>\n",
       "    </tr>\n",
       "    <tr>\n",
       "      <th>827</th>\n",
       "      <td>1</td>\n",
       "      <td>1</td>\n",
       "      <td>1</td>\n",
       "      <td>1</td>\n",
       "    </tr>\n",
       "  </tbody>\n",
       "</table>\n",
       "<p>3263 rows × 4 columns</p>\n",
       "</div>"
      ],
      "text/plain": [
       "                     id  date  store  product\n",
       "country   num_sold                           \n",
       "Argentina 2          30    30     30       30\n",
       "          3         509   509    509      509\n",
       "          4         693   693    693      693\n",
       "          5         792   792    792      792\n",
       "          6         667   667    667      667\n",
       "...                 ...   ...    ...      ...\n",
       "Spain     786         1     1      1        1\n",
       "          793         1     1      1        1\n",
       "          808         1     1      1        1\n",
       "          822         1     1      1        1\n",
       "          827         1     1      1        1\n",
       "\n",
       "[3263 rows x 4 columns]"
      ]
     },
     "execution_count": 32,
     "metadata": {},
     "output_type": "execute_result"
    }
   ],
   "source": [
    "train_data.groupby(by=['country','num_sold']).count()"
   ]
  },
  {
   "cell_type": "markdown",
   "id": "c6e013b9",
   "metadata": {
    "papermill": {
     "duration": 0.029869,
     "end_time": "2023-07-15T02:43:39.019312",
     "exception": false,
     "start_time": "2023-07-15T02:43:38.989443",
     "status": "completed"
    },
    "tags": []
   },
   "source": [
    "there is unequal distribution of sales amongst the country sales in the train data."
   ]
  },
  {
   "cell_type": "code",
   "execution_count": 33,
   "id": "647718fd",
   "metadata": {
    "execution": {
     "iopub.execute_input": "2023-07-15T02:43:39.082873Z",
     "iopub.status.busy": "2023-07-15T02:43:39.082089Z",
     "iopub.status.idle": "2023-07-15T02:43:39.253000Z",
     "shell.execute_reply": "2023-07-15T02:43:39.251842Z"
    },
    "papermill": {
     "duration": 0.205158,
     "end_time": "2023-07-15T02:43:39.255497",
     "exception": false,
     "start_time": "2023-07-15T02:43:39.050339",
     "status": "completed"
    },
    "tags": []
   },
   "outputs": [
    {
     "data": {
      "text/html": [
       "<div>\n",
       "<style scoped>\n",
       "    .dataframe tbody tr th:only-of-type {\n",
       "        vertical-align: middle;\n",
       "    }\n",
       "\n",
       "    .dataframe tbody tr th {\n",
       "        vertical-align: top;\n",
       "    }\n",
       "\n",
       "    .dataframe thead th {\n",
       "        text-align: right;\n",
       "    }\n",
       "</style>\n",
       "<table border=\"1\" class=\"dataframe\">\n",
       "  <thead>\n",
       "    <tr style=\"text-align: right;\">\n",
       "      <th></th>\n",
       "      <th></th>\n",
       "      <th>id</th>\n",
       "      <th>date</th>\n",
       "      <th>country</th>\n",
       "      <th>product</th>\n",
       "    </tr>\n",
       "    <tr>\n",
       "      <th>store</th>\n",
       "      <th>num_sold</th>\n",
       "      <th></th>\n",
       "      <th></th>\n",
       "      <th></th>\n",
       "      <th></th>\n",
       "    </tr>\n",
       "  </thead>\n",
       "  <tbody>\n",
       "    <tr>\n",
       "      <th rowspan=\"5\" valign=\"top\">Kagglazon</th>\n",
       "      <th>12</th>\n",
       "      <td>1</td>\n",
       "      <td>1</td>\n",
       "      <td>1</td>\n",
       "      <td>1</td>\n",
       "    </tr>\n",
       "    <tr>\n",
       "      <th>13</th>\n",
       "      <td>2</td>\n",
       "      <td>2</td>\n",
       "      <td>2</td>\n",
       "      <td>2</td>\n",
       "    </tr>\n",
       "    <tr>\n",
       "      <th>14</th>\n",
       "      <td>10</td>\n",
       "      <td>10</td>\n",
       "      <td>10</td>\n",
       "      <td>10</td>\n",
       "    </tr>\n",
       "    <tr>\n",
       "      <th>15</th>\n",
       "      <td>7</td>\n",
       "      <td>7</td>\n",
       "      <td>7</td>\n",
       "      <td>7</td>\n",
       "    </tr>\n",
       "    <tr>\n",
       "      <th>16</th>\n",
       "      <td>25</td>\n",
       "      <td>25</td>\n",
       "      <td>25</td>\n",
       "      <td>25</td>\n",
       "    </tr>\n",
       "    <tr>\n",
       "      <th>...</th>\n",
       "      <th>...</th>\n",
       "      <td>...</td>\n",
       "      <td>...</td>\n",
       "      <td>...</td>\n",
       "      <td>...</td>\n",
       "    </tr>\n",
       "    <tr>\n",
       "      <th rowspan=\"5\" valign=\"top\">Kaggle Store</th>\n",
       "      <th>354</th>\n",
       "      <td>2</td>\n",
       "      <td>2</td>\n",
       "      <td>2</td>\n",
       "      <td>2</td>\n",
       "    </tr>\n",
       "    <tr>\n",
       "      <th>357</th>\n",
       "      <td>1</td>\n",
       "      <td>1</td>\n",
       "      <td>1</td>\n",
       "      <td>1</td>\n",
       "    </tr>\n",
       "    <tr>\n",
       "      <th>360</th>\n",
       "      <td>1</td>\n",
       "      <td>1</td>\n",
       "      <td>1</td>\n",
       "      <td>1</td>\n",
       "    </tr>\n",
       "    <tr>\n",
       "      <th>362</th>\n",
       "      <td>1</td>\n",
       "      <td>1</td>\n",
       "      <td>1</td>\n",
       "      <td>1</td>\n",
       "    </tr>\n",
       "    <tr>\n",
       "      <th>383</th>\n",
       "      <td>1</td>\n",
       "      <td>1</td>\n",
       "      <td>1</td>\n",
       "      <td>1</td>\n",
       "    </tr>\n",
       "  </tbody>\n",
       "</table>\n",
       "<p>1544 rows × 4 columns</p>\n",
       "</div>"
      ],
      "text/plain": [
       "                       id  date  country  product\n",
       "store        num_sold                            \n",
       "Kagglazon    12         1     1        1        1\n",
       "             13         2     2        2        2\n",
       "             14        10    10       10       10\n",
       "             15         7     7        7        7\n",
       "             16        25    25       25       25\n",
       "...                    ..   ...      ...      ...\n",
       "Kaggle Store 354        2     2        2        2\n",
       "             357        1     1        1        1\n",
       "             360        1     1        1        1\n",
       "             362        1     1        1        1\n",
       "             383        1     1        1        1\n",
       "\n",
       "[1544 rows x 4 columns]"
      ]
     },
     "execution_count": 33,
     "metadata": {},
     "output_type": "execute_result"
    }
   ],
   "source": [
    "train_data.groupby(by=['store','num_sold']).count()"
   ]
  },
  {
   "cell_type": "markdown",
   "id": "99c46889",
   "metadata": {
    "papermill": {
     "duration": 0.030036,
     "end_time": "2023-07-15T02:43:39.316265",
     "exception": false,
     "start_time": "2023-07-15T02:43:39.286229",
     "status": "completed"
    },
    "tags": []
   },
   "source": [
    "there is unequal distribution of sales amongst the store sales in the train data."
   ]
  },
  {
   "cell_type": "code",
   "execution_count": 34,
   "id": "f8dc83af",
   "metadata": {
    "execution": {
     "iopub.execute_input": "2023-07-15T02:43:39.379694Z",
     "iopub.status.busy": "2023-07-15T02:43:39.379273Z",
     "iopub.status.idle": "2023-07-15T02:43:39.402281Z",
     "shell.execute_reply": "2023-07-15T02:43:39.401414Z"
    },
    "papermill": {
     "duration": 0.057232,
     "end_time": "2023-07-15T02:43:39.404601",
     "exception": false,
     "start_time": "2023-07-15T02:43:39.347369",
     "status": "completed"
    },
    "tags": []
   },
   "outputs": [
    {
     "data": {
      "text/plain": [
       "country\n",
       "Canada       7013114\n",
       "Japan        6013786\n",
       "Spain        4380862\n",
       "Estonia      3577319\n",
       "Argentina    1683244\n",
       "Name: num_sold, dtype: int64"
      ]
     },
     "execution_count": 34,
     "metadata": {},
     "output_type": "execute_result"
    }
   ],
   "source": [
    "train_data.groupby(by=['country'])['num_sold'].sum().sort_values(ascending=False)"
   ]
  },
  {
   "cell_type": "markdown",
   "id": "a9ea4514",
   "metadata": {
    "papermill": {
     "duration": 0.031215,
     "end_time": "2023-07-15T02:43:39.466761",
     "exception": false,
     "start_time": "2023-07-15T02:43:39.435546",
     "status": "completed"
    },
    "tags": []
   },
   "source": [
    "Canada has the highest sales, followed by Japan. Argentina has the least sales. "
   ]
  },
  {
   "cell_type": "code",
   "execution_count": 35,
   "id": "20794bb0",
   "metadata": {
    "execution": {
     "iopub.execute_input": "2023-07-15T02:43:39.530521Z",
     "iopub.status.busy": "2023-07-15T02:43:39.529709Z",
     "iopub.status.idle": "2023-07-15T02:43:39.554629Z",
     "shell.execute_reply": "2023-07-15T02:43:39.553703Z"
    },
    "papermill": {
     "duration": 0.059365,
     "end_time": "2023-07-15T02:43:39.556943",
     "exception": false,
     "start_time": "2023-07-15T02:43:39.497578",
     "status": "completed"
    },
    "tags": []
   },
   "outputs": [
    {
     "data": {
      "text/plain": [
       "store\n",
       "Kagglazon       15661335\n",
       "Kaggle Store     4251056\n",
       "Kaggle Learn     2755934\n",
       "Name: num_sold, dtype: int64"
      ]
     },
     "execution_count": 35,
     "metadata": {},
     "output_type": "execute_result"
    }
   ],
   "source": [
    "train_data.groupby(by=['store'])['num_sold'].sum().sort_values(ascending=False)"
   ]
  },
  {
   "cell_type": "markdown",
   "id": "80d199c9",
   "metadata": {
    "papermill": {
     "duration": 0.030478,
     "end_time": "2023-07-15T02:43:39.618217",
     "exception": false,
     "start_time": "2023-07-15T02:43:39.587739",
     "status": "completed"
    },
    "tags": []
   },
   "source": [
    "Kagglazon store has the highest overall sales, followed by Kaggle Store. Kaggle Learn has the least sales. Big difference noticed between Kagglazon and Kaggle Store."
   ]
  },
  {
   "cell_type": "code",
   "execution_count": 36,
   "id": "7eaec9f0",
   "metadata": {
    "execution": {
     "iopub.execute_input": "2023-07-15T02:43:39.682388Z",
     "iopub.status.busy": "2023-07-15T02:43:39.681180Z",
     "iopub.status.idle": "2023-07-15T02:43:39.709139Z",
     "shell.execute_reply": "2023-07-15T02:43:39.708017Z"
    },
    "papermill": {
     "duration": 0.062321,
     "end_time": "2023-07-15T02:43:39.711657",
     "exception": false,
     "start_time": "2023-07-15T02:43:39.649336",
     "status": "completed"
    },
    "tags": []
   },
   "outputs": [
    {
     "data": {
      "text/plain": [
       "product\n",
       "Using LLMs to Improve Your Coding                 6069281\n",
       "Using LLMs to Train More LLMs                     5993975\n",
       "Using LLMs to Win More Kaggle Competitions        5068313\n",
       "Using LLMs to Write Better                        4604192\n",
       "Using LLMs to Win Friends and Influence People     932564\n",
       "Name: num_sold, dtype: int64"
      ]
     },
     "execution_count": 36,
     "metadata": {},
     "output_type": "execute_result"
    }
   ],
   "source": [
    "train_data.groupby(by=['product'])['num_sold'].sum().sort_values(ascending=False)"
   ]
  },
  {
   "cell_type": "markdown",
   "id": "7a976851",
   "metadata": {
    "papermill": {
     "duration": 0.030642,
     "end_time": "2023-07-15T02:43:39.775202",
     "exception": false,
     "start_time": "2023-07-15T02:43:39.744560",
     "status": "completed"
    },
    "tags": []
   },
   "source": [
    "'Using LLMs to Improve Your Coding' product has the highest sales, closely followed by 'Using LLMs to Train More LLMs'.\n",
    "\n",
    "'Using LLMs to Win Friends and Influence People' is the least sold product. Big difference noticed between the last two products."
   ]
  },
  {
   "cell_type": "code",
   "execution_count": 37,
   "id": "9ea105d3",
   "metadata": {
    "execution": {
     "iopub.execute_input": "2023-07-15T02:43:39.839356Z",
     "iopub.status.busy": "2023-07-15T02:43:39.838611Z",
     "iopub.status.idle": "2023-07-15T02:43:39.864696Z",
     "shell.execute_reply": "2023-07-15T02:43:39.863545Z"
    },
    "papermill": {
     "duration": 0.060933,
     "end_time": "2023-07-15T02:43:39.867125",
     "exception": false,
     "start_time": "2023-07-15T02:43:39.806192",
     "status": "completed"
    },
    "tags": []
   },
   "outputs": [
    {
     "data": {
      "text/plain": [
       "date\n",
       "2018-12-30    21273\n",
       "2019-12-29    20556\n",
       "2021-12-31    20422\n",
       "2021-12-30    20156\n",
       "2021-12-29    20110\n",
       "              ...  \n",
       "2020-04-28     8063\n",
       "2020-04-21     8000\n",
       "2020-04-22     7982\n",
       "2020-04-23     7948\n",
       "2020-04-27     7942\n",
       "Name: num_sold, Length: 1826, dtype: int64"
      ]
     },
     "execution_count": 37,
     "metadata": {},
     "output_type": "execute_result"
    }
   ],
   "source": [
    "train_data.groupby(by=['date'])['num_sold'].sum().sort_values(ascending=False)"
   ]
  },
  {
   "cell_type": "markdown",
   "id": "26c5a3c6",
   "metadata": {
    "papermill": {
     "duration": 0.030781,
     "end_time": "2023-07-15T02:43:39.928932",
     "exception": false,
     "start_time": "2023-07-15T02:43:39.898151",
     "status": "completed"
    },
    "tags": []
   },
   "source": [
    "Highest sales noticed towards the end of December across years. Least sales noticed towards the end of April 2020."
   ]
  },
  {
   "cell_type": "code",
   "execution_count": 38,
   "id": "9835a66d",
   "metadata": {
    "execution": {
     "iopub.execute_input": "2023-07-15T02:43:39.993906Z",
     "iopub.status.busy": "2023-07-15T02:43:39.993490Z",
     "iopub.status.idle": "2023-07-15T02:43:40.028934Z",
     "shell.execute_reply": "2023-07-15T02:43:40.027118Z"
    },
    "papermill": {
     "duration": 0.071277,
     "end_time": "2023-07-15T02:43:40.031788",
     "exception": false,
     "start_time": "2023-07-15T02:43:39.960511",
     "status": "completed"
    },
    "tags": []
   },
   "outputs": [],
   "source": [
    "train_data['date'] = pd.to_datetime(train_data['date'])\n",
    "train_data.set_index('date', inplace=True)"
   ]
  },
  {
   "cell_type": "code",
   "execution_count": 39,
   "id": "113bd79d",
   "metadata": {
    "execution": {
     "iopub.execute_input": "2023-07-15T02:43:40.098127Z",
     "iopub.status.busy": "2023-07-15T02:43:40.096928Z",
     "iopub.status.idle": "2023-07-15T02:43:40.125256Z",
     "shell.execute_reply": "2023-07-15T02:43:40.124096Z"
    },
    "papermill": {
     "duration": 0.064504,
     "end_time": "2023-07-15T02:43:40.128409",
     "exception": false,
     "start_time": "2023-07-15T02:43:40.063905",
     "status": "completed"
    },
    "tags": []
   },
   "outputs": [
    {
     "data": {
      "text/plain": [
       "date\n",
       "2021-12-31    4884479\n",
       "2018-12-31    4723963\n",
       "2019-12-31    4522172\n",
       "2017-12-31    4451213\n",
       "2020-12-31    4086498\n",
       "Name: num_sold, dtype: int64"
      ]
     },
     "execution_count": 39,
     "metadata": {},
     "output_type": "execute_result"
    }
   ],
   "source": [
    "train_data['num_sold'].resample('Y').sum().sort_values(ascending=False)"
   ]
  },
  {
   "cell_type": "markdown",
   "id": "5b7e1f04",
   "metadata": {
    "papermill": {
     "duration": 0.031152,
     "end_time": "2023-07-15T02:43:40.191093",
     "exception": false,
     "start_time": "2023-07-15T02:43:40.159941",
     "status": "completed"
    },
    "tags": []
   },
   "source": [
    "the year 2021 witnessed the highest sales. 2020 had the least sales. big drop noticed in the year 2020, followed by a rise in 2021. this might be due to the Covid-19 pandemic."
   ]
  },
  {
   "cell_type": "code",
   "execution_count": 40,
   "id": "8c9a1580",
   "metadata": {
    "execution": {
     "iopub.execute_input": "2023-07-15T02:43:40.257312Z",
     "iopub.status.busy": "2023-07-15T02:43:40.256508Z",
     "iopub.status.idle": "2023-07-15T02:43:40.271815Z",
     "shell.execute_reply": "2023-07-15T02:43:40.270606Z"
    },
    "papermill": {
     "duration": 0.051318,
     "end_time": "2023-07-15T02:43:40.274141",
     "exception": false,
     "start_time": "2023-07-15T02:43:40.222823",
     "status": "completed"
    },
    "tags": []
   },
   "outputs": [
    {
     "data": {
      "text/plain": [
       "date\n",
       "2021-12-31    472927\n",
       "2021-01-31    437576\n",
       "2017-12-31    429520\n",
       "2018-12-31    426613\n",
       "2018-01-31    414040\n",
       "2021-03-31    413036\n",
       "2019-12-31    408632\n",
       "2021-10-31    408445\n",
       "2021-11-30    407029\n",
       "2021-05-31    406520\n",
       "2019-01-31    405765\n",
       "2018-05-31    402382\n",
       "2018-03-31    401631\n",
       "2017-01-31    401396\n",
       "2021-07-31    401035\n",
       "2018-10-31    397466\n",
       "2021-04-30    397381\n",
       "2020-12-31    395389\n",
       "2021-08-31    394822\n",
       "2018-08-31    393673\n",
       "2018-07-31    389474\n",
       "2019-03-31    389053\n",
       "2021-09-30    388294\n",
       "2018-04-30    386685\n",
       "2018-09-30    384665\n",
       "2019-05-31    384008\n",
       "2020-01-31    384006\n",
       "2018-11-30    383739\n",
       "2019-10-31    383017\n",
       "2021-06-30    381613\n",
       "2018-06-30    380247\n",
       "2017-11-30    379724\n",
       "2017-10-31    379251\n",
       "2019-11-30    375945\n",
       "2021-02-28    375801\n",
       "2019-08-31    370925\n",
       "2017-03-31    368364\n",
       "2019-04-30    365779\n",
       "2017-05-31    365720\n",
       "2019-09-30    365085\n",
       "2017-08-31    364188\n",
       "2017-07-31    364172\n",
       "2018-02-28    363348\n",
       "2020-11-30    363151\n",
       "2019-07-31    362450\n",
       "2017-09-30    359522\n",
       "2019-06-30    358033\n",
       "2017-04-30    357268\n",
       "2020-10-31    355954\n",
       "2019-02-28    353480\n",
       "2020-02-29    351459\n",
       "2020-08-31    344388\n",
       "2017-06-30    343909\n",
       "2020-07-31    341271\n",
       "2017-02-28    338179\n",
       "2020-09-30    335531\n",
       "2020-03-31    333898\n",
       "2020-06-30    315985\n",
       "2020-05-31    307616\n",
       "2020-04-30    257850\n",
       "Name: num_sold, dtype: int64"
      ]
     },
     "execution_count": 40,
     "metadata": {},
     "output_type": "execute_result"
    }
   ],
   "source": [
    "train_data['num_sold'].resample('M').sum().sort_values(ascending=False)"
   ]
  },
  {
   "cell_type": "markdown",
   "id": "6092533f",
   "metadata": {
    "papermill": {
     "duration": 0.031168,
     "end_time": "2023-07-15T02:43:40.336819",
     "exception": false,
     "start_time": "2023-07-15T02:43:40.305651",
     "status": "completed"
    },
    "tags": []
   },
   "source": [
    "most sales seems to have happened in the months of December and January. this could be due to the holiday season Chirstmas and New Year's. Least sales were noticed across months in the year 2020."
   ]
  },
  {
   "cell_type": "code",
   "execution_count": 41,
   "id": "b3ee6479",
   "metadata": {
    "execution": {
     "iopub.execute_input": "2023-07-15T02:43:40.401642Z",
     "iopub.status.busy": "2023-07-15T02:43:40.400957Z",
     "iopub.status.idle": "2023-07-15T02:43:40.415388Z",
     "shell.execute_reply": "2023-07-15T02:43:40.414207Z"
    },
    "papermill": {
     "duration": 0.049631,
     "end_time": "2023-07-15T02:43:40.417785",
     "exception": false,
     "start_time": "2023-07-15T02:43:40.368154",
     "status": "completed"
    },
    "tags": []
   },
   "outputs": [
    {
     "data": {
      "text/plain": [
       "date\n",
       "2018-12-30    21273\n",
       "2019-12-29    20556\n",
       "2021-12-31    20422\n",
       "2021-12-30    20156\n",
       "2021-12-29    20110\n",
       "              ...  \n",
       "2020-04-28     8063\n",
       "2020-04-21     8000\n",
       "2020-04-22     7982\n",
       "2020-04-23     7948\n",
       "2020-04-27     7942\n",
       "Name: num_sold, Length: 1826, dtype: int64"
      ]
     },
     "execution_count": 41,
     "metadata": {},
     "output_type": "execute_result"
    }
   ],
   "source": [
    "train_data['num_sold'].resample('D').sum().sort_values(ascending=False)"
   ]
  },
  {
   "cell_type": "markdown",
   "id": "2f543e7b",
   "metadata": {
    "papermill": {
     "duration": 0.032206,
     "end_time": "2023-07-15T02:43:40.482181",
     "exception": false,
     "start_time": "2023-07-15T02:43:40.449975",
     "status": "completed"
    },
    "tags": []
   },
   "source": [
    "most sales noticed in the last days of December (29,30,31) across years. least sales noticed in the month of April in 2020."
   ]
  },
  {
   "cell_type": "code",
   "execution_count": 42,
   "id": "a1105bee",
   "metadata": {
    "execution": {
     "iopub.execute_input": "2023-07-15T02:43:40.548582Z",
     "iopub.status.busy": "2023-07-15T02:43:40.547902Z",
     "iopub.status.idle": "2023-07-15T02:43:40.590938Z",
     "shell.execute_reply": "2023-07-15T02:43:40.589841Z"
    },
    "papermill": {
     "duration": 0.078987,
     "end_time": "2023-07-15T02:43:40.593334",
     "exception": false,
     "start_time": "2023-07-15T02:43:40.514347",
     "status": "completed"
    },
    "tags": []
   },
   "outputs": [
    {
     "data": {
      "text/plain": [
       "country    store       \n",
       "Canada     Kagglazon       4842322\n",
       "Japan      Kagglazon       4154670\n",
       "Spain      Kagglazon       3026408\n",
       "Estonia    Kagglazon       2472309\n",
       "Canada     Kaggle Store    1316665\n",
       "Argentina  Kagglazon       1165626\n",
       "Japan      Kaggle Store    1127598\n",
       "Canada     Kaggle Learn     854127\n",
       "Spain      Kaggle Store     821572\n",
       "Japan      Kaggle Learn     731518\n",
       "Estonia    Kaggle Store     670621\n",
       "Spain      Kaggle Learn     532882\n",
       "Estonia    Kaggle Learn     434389\n",
       "Argentina  Kaggle Store     314600\n",
       "           Kaggle Learn     203018\n",
       "Name: num_sold, dtype: int64"
      ]
     },
     "execution_count": 42,
     "metadata": {},
     "output_type": "execute_result"
    }
   ],
   "source": [
    "train_data.groupby(by=['country','store'])['num_sold'].sum().sort_values(ascending=False)"
   ]
  },
  {
   "cell_type": "markdown",
   "id": "05908870",
   "metadata": {
    "papermill": {
     "duration": 0.035672,
     "end_time": "2023-07-15T02:43:40.661287",
     "exception": false,
     "start_time": "2023-07-15T02:43:40.625615",
     "status": "completed"
    },
    "tags": []
   },
   "source": [
    "Kagglazon is topping the charts across all countries. Argentina has the least sales in both 'Kaggle Store' and 'Kaggle Learn'"
   ]
  },
  {
   "cell_type": "code",
   "execution_count": 43,
   "id": "1364373c",
   "metadata": {
    "execution": {
     "iopub.execute_input": "2023-07-15T02:43:40.729168Z",
     "iopub.status.busy": "2023-07-15T02:43:40.727997Z",
     "iopub.status.idle": "2023-07-15T02:43:40.777769Z",
     "shell.execute_reply": "2023-07-15T02:43:40.776516Z"
    },
    "papermill": {
     "duration": 0.086806,
     "end_time": "2023-07-15T02:43:40.780609",
     "exception": false,
     "start_time": "2023-07-15T02:43:40.693803",
     "status": "completed"
    },
    "tags": []
   },
   "outputs": [
    {
     "data": {
      "text/plain": [
       "country    product                                       \n",
       "Canada     Using LLMs to Improve Your Coding                 1878940\n",
       "           Using LLMs to Train More LLMs                     1851838\n",
       "Japan      Using LLMs to Improve Your Coding                 1608717\n",
       "           Using LLMs to Train More LLMs                     1592992\n",
       "Canada     Using LLMs to Win More Kaggle Competitions        1568278\n",
       "           Using LLMs to Write Better                        1424637\n",
       "Japan      Using LLMs to Win More Kaggle Competitions        1343553\n",
       "           Using LLMs to Write Better                        1220446\n",
       "Spain      Using LLMs to Improve Your Coding                 1173558\n",
       "           Using LLMs to Train More LLMs                     1158211\n",
       "           Using LLMs to Win More Kaggle Competitions         979860\n",
       "Estonia    Using LLMs to Improve Your Coding                  957107\n",
       "           Using LLMs to Train More LLMs                      946212\n",
       "Spain      Using LLMs to Write Better                         889104\n",
       "Estonia    Using LLMs to Win More Kaggle Competitions         799777\n",
       "           Using LLMs to Write Better                         727294\n",
       "Argentina  Using LLMs to Improve Your Coding                  450959\n",
       "           Using LLMs to Train More LLMs                      444722\n",
       "           Using LLMs to Win More Kaggle Competitions         376845\n",
       "           Using LLMs to Write Better                         342711\n",
       "Canada     Using LLMs to Win Friends and Influence People     289421\n",
       "Japan      Using LLMs to Win Friends and Influence People     248078\n",
       "Spain      Using LLMs to Win Friends and Influence People     180129\n",
       "Estonia    Using LLMs to Win Friends and Influence People     146929\n",
       "Argentina  Using LLMs to Win Friends and Influence People      68007\n",
       "Name: num_sold, dtype: int64"
      ]
     },
     "execution_count": 43,
     "metadata": {},
     "output_type": "execute_result"
    }
   ],
   "source": [
    "train_data.groupby(by=['country','product'])['num_sold'].sum().sort_values(ascending=False)"
   ]
  },
  {
   "cell_type": "markdown",
   "id": "aa75f234",
   "metadata": {
    "papermill": {
     "duration": 0.031666,
     "end_time": "2023-07-15T02:43:40.850662",
     "exception": false,
     "start_time": "2023-07-15T02:43:40.818996",
     "status": "completed"
    },
    "tags": []
   },
   "source": [
    "In Canada and Japan, 'Using LLMs to Improve Your Coding', 'Using LLMs to Train More LLMs' are the best sellers. \n",
    "\n",
    "In all countries 'Using LLMs to Improve Your Coding' is one of the best sellers.\n",
    "\n",
    "In all countries 'Using LLMs to Win Friends and Influence People' is the poorest seller."
   ]
  },
  {
   "cell_type": "code",
   "execution_count": 44,
   "id": "c435b337",
   "metadata": {
    "execution": {
     "iopub.execute_input": "2023-07-15T02:43:40.916669Z",
     "iopub.status.busy": "2023-07-15T02:43:40.915964Z",
     "iopub.status.idle": "2023-07-15T02:43:40.958465Z",
     "shell.execute_reply": "2023-07-15T02:43:40.957649Z"
    },
    "papermill": {
     "duration": 0.077941,
     "end_time": "2023-07-15T02:43:40.960625",
     "exception": false,
     "start_time": "2023-07-15T02:43:40.882684",
     "status": "completed"
    },
    "tags": []
   },
   "outputs": [
    {
     "data": {
      "text/plain": [
       "store         product                                       \n",
       "Kagglazon     Using LLMs to Improve Your Coding                 4191082\n",
       "              Using LLMs to Train More LLMs                     4139671\n",
       "              Using LLMs to Win More Kaggle Competitions        3501840\n",
       "              Using LLMs to Write Better                        3180699\n",
       "Kaggle Store  Using LLMs to Improve Your Coding                 1138862\n",
       "              Using LLMs to Train More LLMs                     1124319\n",
       "              Using LLMs to Win More Kaggle Competitions         950504\n",
       "              Using LLMs to Write Better                         863978\n",
       "Kaggle Learn  Using LLMs to Improve Your Coding                  739337\n",
       "              Using LLMs to Train More LLMs                      729985\n",
       "Kagglazon     Using LLMs to Win Friends and Influence People     648043\n",
       "Kaggle Learn  Using LLMs to Win More Kaggle Competitions         615969\n",
       "              Using LLMs to Write Better                         559515\n",
       "Kaggle Store  Using LLMs to Win Friends and Influence People     173393\n",
       "Kaggle Learn  Using LLMs to Win Friends and Influence People     111128\n",
       "Name: num_sold, dtype: int64"
      ]
     },
     "execution_count": 44,
     "metadata": {},
     "output_type": "execute_result"
    }
   ],
   "source": [
    "train_data.groupby(by=['store','product'])['num_sold'].sum().sort_values(ascending=False)"
   ]
  },
  {
   "cell_type": "markdown",
   "id": "ff6527fe",
   "metadata": {
    "papermill": {
     "duration": 0.032222,
     "end_time": "2023-07-15T02:43:41.025803",
     "exception": false,
     "start_time": "2023-07-15T02:43:40.993581",
     "status": "completed"
    },
    "tags": []
   },
   "source": [
    "Across all stores 'Using LLMs to Improve Your Coding' is the best seller. "
   ]
  }
 ],
 "metadata": {
  "kernelspec": {
   "display_name": "Python 3",
   "language": "python",
   "name": "python3"
  },
  "language_info": {
   "codemirror_mode": {
    "name": "ipython",
    "version": 3
   },
   "file_extension": ".py",
   "mimetype": "text/x-python",
   "name": "python",
   "nbconvert_exporter": "python",
   "pygments_lexer": "ipython3",
   "version": "3.10.12"
  },
  "papermill": {
   "default_parameters": {},
   "duration": 20.699761,
   "end_time": "2023-07-15T02:43:41.880597",
   "environment_variables": {},
   "exception": null,
   "input_path": "__notebook__.ipynb",
   "output_path": "__notebook__.ipynb",
   "parameters": {},
   "start_time": "2023-07-15T02:43:21.180836",
   "version": "2.4.0"
  }
 },
 "nbformat": 4,
 "nbformat_minor": 5
}
