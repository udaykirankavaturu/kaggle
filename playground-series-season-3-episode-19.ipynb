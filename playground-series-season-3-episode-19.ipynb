{
 "cells": [
  {
   "cell_type": "code",
   "execution_count": 1,
   "id": "3748533c",
   "metadata": {
    "_cell_guid": "b1076dfc-b9ad-4769-8c92-a6c4dae69d19",
    "_uuid": "8f2839f25d086af736a60e9eeb907d3b93b6e0e5",
    "execution": {
     "iopub.execute_input": "2023-07-15T03:27:51.982316Z",
     "iopub.status.busy": "2023-07-15T03:27:51.981933Z",
     "iopub.status.idle": "2023-07-15T03:27:51.996495Z",
     "shell.execute_reply": "2023-07-15T03:27:51.995377Z"
    },
    "papermill": {
     "duration": 0.046483,
     "end_time": "2023-07-15T03:27:51.999091",
     "exception": false,
     "start_time": "2023-07-15T03:27:51.952608",
     "status": "completed"
    },
    "tags": []
   },
   "outputs": [
    {
     "name": "stdout",
     "output_type": "stream",
     "text": [
      "/kaggle/input/playground-series-s3e19/sample_submission.csv\n",
      "/kaggle/input/playground-series-s3e19/train.csv\n",
      "/kaggle/input/playground-series-s3e19/test.csv\n"
     ]
    }
   ],
   "source": [
    "# This Python 3 environment comes with many helpful analytics libraries installed\n",
    "# It is defined by the kaggle/python Docker image: https://github.com/kaggle/docker-python\n",
    "# For example, here's several helpful packages to load\n",
    "\n",
    "import numpy as np # linear algebra\n",
    "import pandas as pd # data processing, CSV file I/O (e.g. pd.read_csv)\n",
    "\n",
    "# Input data files are available in the read-only \"../input/\" directory\n",
    "# For example, running this (by clicking run or pressing Shift+Enter) will list all files under the input directory\n",
    "\n",
    "import os\n",
    "for dirname, _, filenames in os.walk('/kaggle/input'):\n",
    "    for filename in filenames:\n",
    "        print(os.path.join(dirname, filename))\n",
    "\n",
    "# You can write up to 20GB to the current directory (/kaggle/working/) that gets preserved as output when you create a version using \"Save & Run All\" \n",
    "# You can also write temporary files to /kaggle/temp/, but they won't be saved outside of the current session"
   ]
  },
  {
   "cell_type": "code",
   "execution_count": 2,
   "id": "5814f56b",
   "metadata": {
    "execution": {
     "iopub.execute_input": "2023-07-15T03:27:52.055980Z",
     "iopub.status.busy": "2023-07-15T03:27:52.054906Z",
     "iopub.status.idle": "2023-07-15T03:27:52.406286Z",
     "shell.execute_reply": "2023-07-15T03:27:52.405065Z"
    },
    "papermill": {
     "duration": 0.382825,
     "end_time": "2023-07-15T03:27:52.409211",
     "exception": false,
     "start_time": "2023-07-15T03:27:52.026386",
     "status": "completed"
    },
    "tags": []
   },
   "outputs": [],
   "source": [
    "train_data = pd.read_csv('/kaggle/input/playground-series-s3e19/train.csv')\n",
    "test_data = pd.read_csv('/kaggle/input/playground-series-s3e19/test.csv')"
   ]
  },
  {
   "cell_type": "markdown",
   "id": "a6b27347",
   "metadata": {
    "papermill": {
     "duration": 0.02681,
     "end_time": "2023-07-15T03:27:52.463264",
     "exception": false,
     "start_time": "2023-07-15T03:27:52.436454",
     "status": "completed"
    },
    "tags": []
   },
   "source": [
    "### Non graphical EDA"
   ]
  },
  {
   "cell_type": "code",
   "execution_count": 3,
   "id": "266ac81e",
   "metadata": {
    "execution": {
     "iopub.execute_input": "2023-07-15T03:27:52.519112Z",
     "iopub.status.busy": "2023-07-15T03:27:52.518721Z",
     "iopub.status.idle": "2023-07-15T03:27:52.542305Z",
     "shell.execute_reply": "2023-07-15T03:27:52.541370Z"
    },
    "papermill": {
     "duration": 0.053973,
     "end_time": "2023-07-15T03:27:52.544451",
     "exception": false,
     "start_time": "2023-07-15T03:27:52.490478",
     "status": "completed"
    },
    "tags": []
   },
   "outputs": [
    {
     "data": {
      "text/html": [
       "<div>\n",
       "<style scoped>\n",
       "    .dataframe tbody tr th:only-of-type {\n",
       "        vertical-align: middle;\n",
       "    }\n",
       "\n",
       "    .dataframe tbody tr th {\n",
       "        vertical-align: top;\n",
       "    }\n",
       "\n",
       "    .dataframe thead th {\n",
       "        text-align: right;\n",
       "    }\n",
       "</style>\n",
       "<table border=\"1\" class=\"dataframe\">\n",
       "  <thead>\n",
       "    <tr style=\"text-align: right;\">\n",
       "      <th></th>\n",
       "      <th>id</th>\n",
       "      <th>date</th>\n",
       "      <th>country</th>\n",
       "      <th>store</th>\n",
       "      <th>product</th>\n",
       "      <th>num_sold</th>\n",
       "    </tr>\n",
       "  </thead>\n",
       "  <tbody>\n",
       "    <tr>\n",
       "      <th>0</th>\n",
       "      <td>0</td>\n",
       "      <td>2017-01-01</td>\n",
       "      <td>Argentina</td>\n",
       "      <td>Kaggle Learn</td>\n",
       "      <td>Using LLMs to Improve Your Coding</td>\n",
       "      <td>63</td>\n",
       "    </tr>\n",
       "    <tr>\n",
       "      <th>1</th>\n",
       "      <td>1</td>\n",
       "      <td>2017-01-01</td>\n",
       "      <td>Argentina</td>\n",
       "      <td>Kaggle Learn</td>\n",
       "      <td>Using LLMs to Train More LLMs</td>\n",
       "      <td>66</td>\n",
       "    </tr>\n",
       "    <tr>\n",
       "      <th>2</th>\n",
       "      <td>2</td>\n",
       "      <td>2017-01-01</td>\n",
       "      <td>Argentina</td>\n",
       "      <td>Kaggle Learn</td>\n",
       "      <td>Using LLMs to Win Friends and Influence People</td>\n",
       "      <td>9</td>\n",
       "    </tr>\n",
       "    <tr>\n",
       "      <th>3</th>\n",
       "      <td>3</td>\n",
       "      <td>2017-01-01</td>\n",
       "      <td>Argentina</td>\n",
       "      <td>Kaggle Learn</td>\n",
       "      <td>Using LLMs to Win More Kaggle Competitions</td>\n",
       "      <td>59</td>\n",
       "    </tr>\n",
       "    <tr>\n",
       "      <th>4</th>\n",
       "      <td>4</td>\n",
       "      <td>2017-01-01</td>\n",
       "      <td>Argentina</td>\n",
       "      <td>Kaggle Learn</td>\n",
       "      <td>Using LLMs to Write Better</td>\n",
       "      <td>49</td>\n",
       "    </tr>\n",
       "  </tbody>\n",
       "</table>\n",
       "</div>"
      ],
      "text/plain": [
       "   id        date    country         store  \\\n",
       "0   0  2017-01-01  Argentina  Kaggle Learn   \n",
       "1   1  2017-01-01  Argentina  Kaggle Learn   \n",
       "2   2  2017-01-01  Argentina  Kaggle Learn   \n",
       "3   3  2017-01-01  Argentina  Kaggle Learn   \n",
       "4   4  2017-01-01  Argentina  Kaggle Learn   \n",
       "\n",
       "                                          product  num_sold  \n",
       "0               Using LLMs to Improve Your Coding        63  \n",
       "1                   Using LLMs to Train More LLMs        66  \n",
       "2  Using LLMs to Win Friends and Influence People         9  \n",
       "3      Using LLMs to Win More Kaggle Competitions        59  \n",
       "4                      Using LLMs to Write Better        49  "
      ]
     },
     "execution_count": 3,
     "metadata": {},
     "output_type": "execute_result"
    }
   ],
   "source": [
    "train_data.head()"
   ]
  },
  {
   "cell_type": "markdown",
   "id": "6f07a920",
   "metadata": {
    "papermill": {
     "duration": 0.026925,
     "end_time": "2023-07-15T03:27:52.598767",
     "exception": false,
     "start_time": "2023-07-15T03:27:52.571842",
     "status": "completed"
    },
    "tags": []
   },
   "source": [
    "train data has day-wise sales of a product in a specific store in a specific country. this is a time-series data. "
   ]
  },
  {
   "cell_type": "code",
   "execution_count": 4,
   "id": "8cf59dab",
   "metadata": {
    "execution": {
     "iopub.execute_input": "2023-07-15T03:27:52.655894Z",
     "iopub.status.busy": "2023-07-15T03:27:52.655122Z",
     "iopub.status.idle": "2023-07-15T03:27:52.667869Z",
     "shell.execute_reply": "2023-07-15T03:27:52.666931Z"
    },
    "papermill": {
     "duration": 0.044341,
     "end_time": "2023-07-15T03:27:52.670119",
     "exception": false,
     "start_time": "2023-07-15T03:27:52.625778",
     "status": "completed"
    },
    "tags": []
   },
   "outputs": [
    {
     "data": {
      "text/html": [
       "<div>\n",
       "<style scoped>\n",
       "    .dataframe tbody tr th:only-of-type {\n",
       "        vertical-align: middle;\n",
       "    }\n",
       "\n",
       "    .dataframe tbody tr th {\n",
       "        vertical-align: top;\n",
       "    }\n",
       "\n",
       "    .dataframe thead th {\n",
       "        text-align: right;\n",
       "    }\n",
       "</style>\n",
       "<table border=\"1\" class=\"dataframe\">\n",
       "  <thead>\n",
       "    <tr style=\"text-align: right;\">\n",
       "      <th></th>\n",
       "      <th>id</th>\n",
       "      <th>date</th>\n",
       "      <th>country</th>\n",
       "      <th>store</th>\n",
       "      <th>product</th>\n",
       "    </tr>\n",
       "  </thead>\n",
       "  <tbody>\n",
       "    <tr>\n",
       "      <th>0</th>\n",
       "      <td>136950</td>\n",
       "      <td>2022-01-01</td>\n",
       "      <td>Argentina</td>\n",
       "      <td>Kaggle Learn</td>\n",
       "      <td>Using LLMs to Improve Your Coding</td>\n",
       "    </tr>\n",
       "    <tr>\n",
       "      <th>1</th>\n",
       "      <td>136951</td>\n",
       "      <td>2022-01-01</td>\n",
       "      <td>Argentina</td>\n",
       "      <td>Kaggle Learn</td>\n",
       "      <td>Using LLMs to Train More LLMs</td>\n",
       "    </tr>\n",
       "    <tr>\n",
       "      <th>2</th>\n",
       "      <td>136952</td>\n",
       "      <td>2022-01-01</td>\n",
       "      <td>Argentina</td>\n",
       "      <td>Kaggle Learn</td>\n",
       "      <td>Using LLMs to Win Friends and Influence People</td>\n",
       "    </tr>\n",
       "    <tr>\n",
       "      <th>3</th>\n",
       "      <td>136953</td>\n",
       "      <td>2022-01-01</td>\n",
       "      <td>Argentina</td>\n",
       "      <td>Kaggle Learn</td>\n",
       "      <td>Using LLMs to Win More Kaggle Competitions</td>\n",
       "    </tr>\n",
       "    <tr>\n",
       "      <th>4</th>\n",
       "      <td>136954</td>\n",
       "      <td>2022-01-01</td>\n",
       "      <td>Argentina</td>\n",
       "      <td>Kaggle Learn</td>\n",
       "      <td>Using LLMs to Write Better</td>\n",
       "    </tr>\n",
       "  </tbody>\n",
       "</table>\n",
       "</div>"
      ],
      "text/plain": [
       "       id        date    country         store  \\\n",
       "0  136950  2022-01-01  Argentina  Kaggle Learn   \n",
       "1  136951  2022-01-01  Argentina  Kaggle Learn   \n",
       "2  136952  2022-01-01  Argentina  Kaggle Learn   \n",
       "3  136953  2022-01-01  Argentina  Kaggle Learn   \n",
       "4  136954  2022-01-01  Argentina  Kaggle Learn   \n",
       "\n",
       "                                          product  \n",
       "0               Using LLMs to Improve Your Coding  \n",
       "1                   Using LLMs to Train More LLMs  \n",
       "2  Using LLMs to Win Friends and Influence People  \n",
       "3      Using LLMs to Win More Kaggle Competitions  \n",
       "4                      Using LLMs to Write Better  "
      ]
     },
     "execution_count": 4,
     "metadata": {},
     "output_type": "execute_result"
    }
   ],
   "source": [
    "test_data.head()"
   ]
  },
  {
   "cell_type": "markdown",
   "id": "cde7dc46",
   "metadata": {
    "papermill": {
     "duration": 0.0272,
     "end_time": "2023-07-15T03:27:52.724699",
     "exception": false,
     "start_time": "2023-07-15T03:27:52.697499",
     "status": "completed"
    },
    "tags": []
   },
   "source": [
    "test data has all columns as the train_data except for num_sold which needs to be predicted. "
   ]
  },
  {
   "cell_type": "code",
   "execution_count": 5,
   "id": "e5a9637d",
   "metadata": {
    "execution": {
     "iopub.execute_input": "2023-07-15T03:27:52.781714Z",
     "iopub.status.busy": "2023-07-15T03:27:52.781040Z",
     "iopub.status.idle": "2023-07-15T03:27:52.787041Z",
     "shell.execute_reply": "2023-07-15T03:27:52.786329Z"
    },
    "papermill": {
     "duration": 0.037107,
     "end_time": "2023-07-15T03:27:52.789328",
     "exception": false,
     "start_time": "2023-07-15T03:27:52.752221",
     "status": "completed"
    },
    "tags": []
   },
   "outputs": [
    {
     "data": {
      "text/plain": [
       "(136950, 6)"
      ]
     },
     "execution_count": 5,
     "metadata": {},
     "output_type": "execute_result"
    }
   ],
   "source": [
    "train_data.shape"
   ]
  },
  {
   "cell_type": "markdown",
   "id": "317dd49e",
   "metadata": {
    "papermill": {
     "duration": 0.027248,
     "end_time": "2023-07-15T03:27:52.844674",
     "exception": false,
     "start_time": "2023-07-15T03:27:52.817426",
     "status": "completed"
    },
    "tags": []
   },
   "source": [
    "train data has 136950 rows and 6 columns"
   ]
  },
  {
   "cell_type": "code",
   "execution_count": 6,
   "id": "f1c62d11",
   "metadata": {
    "execution": {
     "iopub.execute_input": "2023-07-15T03:27:52.902837Z",
     "iopub.status.busy": "2023-07-15T03:27:52.902146Z",
     "iopub.status.idle": "2023-07-15T03:27:52.908308Z",
     "shell.execute_reply": "2023-07-15T03:27:52.907490Z"
    },
    "papermill": {
     "duration": 0.037649,
     "end_time": "2023-07-15T03:27:52.910516",
     "exception": false,
     "start_time": "2023-07-15T03:27:52.872867",
     "status": "completed"
    },
    "tags": []
   },
   "outputs": [
    {
     "data": {
      "text/plain": [
       "(27375, 5)"
      ]
     },
     "execution_count": 6,
     "metadata": {},
     "output_type": "execute_result"
    }
   ],
   "source": [
    "test_data.shape"
   ]
  },
  {
   "cell_type": "markdown",
   "id": "0b1ba738",
   "metadata": {
    "papermill": {
     "duration": 0.026756,
     "end_time": "2023-07-15T03:27:52.965335",
     "exception": false,
     "start_time": "2023-07-15T03:27:52.938579",
     "status": "completed"
    },
    "tags": []
   },
   "source": [
    "test data has 27375 rows and 5 columns"
   ]
  },
  {
   "cell_type": "code",
   "execution_count": 7,
   "id": "89f37bb2",
   "metadata": {
    "execution": {
     "iopub.execute_input": "2023-07-15T03:27:53.022370Z",
     "iopub.status.busy": "2023-07-15T03:27:53.021950Z",
     "iopub.status.idle": "2023-07-15T03:27:53.227512Z",
     "shell.execute_reply": "2023-07-15T03:27:53.226141Z"
    },
    "papermill": {
     "duration": 0.238196,
     "end_time": "2023-07-15T03:27:53.230727",
     "exception": false,
     "start_time": "2023-07-15T03:27:52.992531",
     "status": "completed"
    },
    "tags": []
   },
   "outputs": [
    {
     "name": "stdout",
     "output_type": "stream",
     "text": [
      "<class 'pandas.core.frame.DataFrame'>\n",
      "RangeIndex: 136950 entries, 0 to 136949\n",
      "Data columns (total 6 columns):\n",
      " #   Column    Non-Null Count   Dtype \n",
      "---  ------    --------------   ----- \n",
      " 0   id        136950 non-null  int64 \n",
      " 1   date      136950 non-null  object\n",
      " 2   country   136950 non-null  object\n",
      " 3   store     136950 non-null  object\n",
      " 4   product   136950 non-null  object\n",
      " 5   num_sold  136950 non-null  int64 \n",
      "dtypes: int64(2), object(4)\n",
      "memory usage: 6.3+ MB\n"
     ]
    }
   ],
   "source": [
    "train_data.info()"
   ]
  },
  {
   "cell_type": "markdown",
   "id": "9793cb9a",
   "metadata": {
    "papermill": {
     "duration": 0.027294,
     "end_time": "2023-07-15T03:27:53.285558",
     "exception": false,
     "start_time": "2023-07-15T03:27:53.258264",
     "status": "completed"
    },
    "tags": []
   },
   "source": [
    "train data has no null values. "
   ]
  },
  {
   "cell_type": "code",
   "execution_count": 8,
   "id": "4cd92e6d",
   "metadata": {
    "execution": {
     "iopub.execute_input": "2023-07-15T03:27:53.343142Z",
     "iopub.status.busy": "2023-07-15T03:27:53.342043Z",
     "iopub.status.idle": "2023-07-15T03:27:53.392772Z",
     "shell.execute_reply": "2023-07-15T03:27:53.391431Z"
    },
    "papermill": {
     "duration": 0.082914,
     "end_time": "2023-07-15T03:27:53.395669",
     "exception": false,
     "start_time": "2023-07-15T03:27:53.312755",
     "status": "completed"
    },
    "tags": []
   },
   "outputs": [
    {
     "name": "stdout",
     "output_type": "stream",
     "text": [
      "<class 'pandas.core.frame.DataFrame'>\n",
      "RangeIndex: 27375 entries, 0 to 27374\n",
      "Data columns (total 5 columns):\n",
      " #   Column   Non-Null Count  Dtype \n",
      "---  ------   --------------  ----- \n",
      " 0   id       27375 non-null  int64 \n",
      " 1   date     27375 non-null  object\n",
      " 2   country  27375 non-null  object\n",
      " 3   store    27375 non-null  object\n",
      " 4   product  27375 non-null  object\n",
      "dtypes: int64(1), object(4)\n",
      "memory usage: 1.0+ MB\n"
     ]
    }
   ],
   "source": [
    "test_data.info()"
   ]
  },
  {
   "cell_type": "markdown",
   "id": "a0880ca5",
   "metadata": {
    "papermill": {
     "duration": 0.026996,
     "end_time": "2023-07-15T03:27:53.450869",
     "exception": false,
     "start_time": "2023-07-15T03:27:53.423873",
     "status": "completed"
    },
    "tags": []
   },
   "source": [
    "test data also has no null values"
   ]
  },
  {
   "cell_type": "code",
   "execution_count": 9,
   "id": "7845b7ec",
   "metadata": {
    "execution": {
     "iopub.execute_input": "2023-07-15T03:27:53.507687Z",
     "iopub.status.busy": "2023-07-15T03:27:53.507279Z",
     "iopub.status.idle": "2023-07-15T03:27:53.537951Z",
     "shell.execute_reply": "2023-07-15T03:27:53.535294Z"
    },
    "papermill": {
     "duration": 0.062829,
     "end_time": "2023-07-15T03:27:53.540941",
     "exception": false,
     "start_time": "2023-07-15T03:27:53.478112",
     "status": "completed"
    },
    "tags": []
   },
   "outputs": [
    {
     "data": {
      "text/html": [
       "<div>\n",
       "<style scoped>\n",
       "    .dataframe tbody tr th:only-of-type {\n",
       "        vertical-align: middle;\n",
       "    }\n",
       "\n",
       "    .dataframe tbody tr th {\n",
       "        vertical-align: top;\n",
       "    }\n",
       "\n",
       "    .dataframe thead th {\n",
       "        text-align: right;\n",
       "    }\n",
       "</style>\n",
       "<table border=\"1\" class=\"dataframe\">\n",
       "  <thead>\n",
       "    <tr style=\"text-align: right;\">\n",
       "      <th></th>\n",
       "      <th>id</th>\n",
       "      <th>num_sold</th>\n",
       "    </tr>\n",
       "  </thead>\n",
       "  <tbody>\n",
       "    <tr>\n",
       "      <th>count</th>\n",
       "      <td>136950.00000</td>\n",
       "      <td>136950.000000</td>\n",
       "    </tr>\n",
       "    <tr>\n",
       "      <th>mean</th>\n",
       "      <td>68474.50000</td>\n",
       "      <td>165.522636</td>\n",
       "    </tr>\n",
       "    <tr>\n",
       "      <th>std</th>\n",
       "      <td>39534.20402</td>\n",
       "      <td>183.691575</td>\n",
       "    </tr>\n",
       "    <tr>\n",
       "      <th>min</th>\n",
       "      <td>0.00000</td>\n",
       "      <td>2.000000</td>\n",
       "    </tr>\n",
       "    <tr>\n",
       "      <th>25%</th>\n",
       "      <td>34237.25000</td>\n",
       "      <td>46.000000</td>\n",
       "    </tr>\n",
       "    <tr>\n",
       "      <th>50%</th>\n",
       "      <td>68474.50000</td>\n",
       "      <td>98.000000</td>\n",
       "    </tr>\n",
       "    <tr>\n",
       "      <th>75%</th>\n",
       "      <td>102711.75000</td>\n",
       "      <td>184.000000</td>\n",
       "    </tr>\n",
       "    <tr>\n",
       "      <th>max</th>\n",
       "      <td>136949.00000</td>\n",
       "      <td>1380.000000</td>\n",
       "    </tr>\n",
       "  </tbody>\n",
       "</table>\n",
       "</div>"
      ],
      "text/plain": [
       "                 id       num_sold\n",
       "count  136950.00000  136950.000000\n",
       "mean    68474.50000     165.522636\n",
       "std     39534.20402     183.691575\n",
       "min         0.00000       2.000000\n",
       "25%     34237.25000      46.000000\n",
       "50%     68474.50000      98.000000\n",
       "75%    102711.75000     184.000000\n",
       "max    136949.00000    1380.000000"
      ]
     },
     "execution_count": 9,
     "metadata": {},
     "output_type": "execute_result"
    }
   ],
   "source": [
    "train_data.describe()"
   ]
  },
  {
   "cell_type": "markdown",
   "id": "c6273c30",
   "metadata": {
    "papermill": {
     "duration": 0.027831,
     "end_time": "2023-07-15T03:27:53.597992",
     "exception": false,
     "start_time": "2023-07-15T03:27:53.570161",
     "status": "completed"
    },
    "tags": []
   },
   "source": [
    "there is only one numeric column num_sold. num_sold ranges from 2-1380 with an average of 165. "
   ]
  },
  {
   "cell_type": "code",
   "execution_count": 10,
   "id": "86644924",
   "metadata": {
    "execution": {
     "iopub.execute_input": "2023-07-15T03:27:53.657405Z",
     "iopub.status.busy": "2023-07-15T03:27:53.656977Z",
     "iopub.status.idle": "2023-07-15T03:27:53.672361Z",
     "shell.execute_reply": "2023-07-15T03:27:53.671145Z"
    },
    "papermill": {
     "duration": 0.047667,
     "end_time": "2023-07-15T03:27:53.674798",
     "exception": false,
     "start_time": "2023-07-15T03:27:53.627131",
     "status": "completed"
    },
    "tags": []
   },
   "outputs": [
    {
     "data": {
      "text/html": [
       "<div>\n",
       "<style scoped>\n",
       "    .dataframe tbody tr th:only-of-type {\n",
       "        vertical-align: middle;\n",
       "    }\n",
       "\n",
       "    .dataframe tbody tr th {\n",
       "        vertical-align: top;\n",
       "    }\n",
       "\n",
       "    .dataframe thead th {\n",
       "        text-align: right;\n",
       "    }\n",
       "</style>\n",
       "<table border=\"1\" class=\"dataframe\">\n",
       "  <thead>\n",
       "    <tr style=\"text-align: right;\">\n",
       "      <th></th>\n",
       "      <th>id</th>\n",
       "    </tr>\n",
       "  </thead>\n",
       "  <tbody>\n",
       "    <tr>\n",
       "      <th>count</th>\n",
       "      <td>27375.000000</td>\n",
       "    </tr>\n",
       "    <tr>\n",
       "      <th>mean</th>\n",
       "      <td>150637.000000</td>\n",
       "    </tr>\n",
       "    <tr>\n",
       "      <th>std</th>\n",
       "      <td>7902.626146</td>\n",
       "    </tr>\n",
       "    <tr>\n",
       "      <th>min</th>\n",
       "      <td>136950.000000</td>\n",
       "    </tr>\n",
       "    <tr>\n",
       "      <th>25%</th>\n",
       "      <td>143793.500000</td>\n",
       "    </tr>\n",
       "    <tr>\n",
       "      <th>50%</th>\n",
       "      <td>150637.000000</td>\n",
       "    </tr>\n",
       "    <tr>\n",
       "      <th>75%</th>\n",
       "      <td>157480.500000</td>\n",
       "    </tr>\n",
       "    <tr>\n",
       "      <th>max</th>\n",
       "      <td>164324.000000</td>\n",
       "    </tr>\n",
       "  </tbody>\n",
       "</table>\n",
       "</div>"
      ],
      "text/plain": [
       "                  id\n",
       "count   27375.000000\n",
       "mean   150637.000000\n",
       "std      7902.626146\n",
       "min    136950.000000\n",
       "25%    143793.500000\n",
       "50%    150637.000000\n",
       "75%    157480.500000\n",
       "max    164324.000000"
      ]
     },
     "execution_count": 10,
     "metadata": {},
     "output_type": "execute_result"
    }
   ],
   "source": [
    "test_data.describe()"
   ]
  },
  {
   "cell_type": "markdown",
   "id": "41c5d426",
   "metadata": {
    "papermill": {
     "duration": 0.027808,
     "end_time": "2023-07-15T03:27:53.731153",
     "exception": false,
     "start_time": "2023-07-15T03:27:53.703345",
     "status": "completed"
    },
    "tags": []
   },
   "source": []
  },
  {
   "cell_type": "markdown",
   "id": "fa25c366",
   "metadata": {
    "papermill": {
     "duration": 0.027671,
     "end_time": "2023-07-15T03:27:53.786943",
     "exception": false,
     "start_time": "2023-07-15T03:27:53.759272",
     "status": "completed"
    },
    "tags": []
   },
   "source": [
    "only id is available here. num_sold needs to be predicted. "
   ]
  },
  {
   "cell_type": "code",
   "execution_count": 11,
   "id": "6e008881",
   "metadata": {
    "execution": {
     "iopub.execute_input": "2023-07-15T03:27:53.845448Z",
     "iopub.status.busy": "2023-07-15T03:27:53.845040Z",
     "iopub.status.idle": "2023-07-15T03:27:53.895484Z",
     "shell.execute_reply": "2023-07-15T03:27:53.894025Z"
    },
    "papermill": {
     "duration": 0.083015,
     "end_time": "2023-07-15T03:27:53.898207",
     "exception": false,
     "start_time": "2023-07-15T03:27:53.815192",
     "status": "completed"
    },
    "tags": []
   },
   "outputs": [
    {
     "name": "stdout",
     "output_type": "stream",
     "text": [
      "2017-01-01\n",
      "2021-12-31\n"
     ]
    }
   ],
   "source": [
    "print(train_data.date.min())\n",
    "print(train_data.date.max())"
   ]
  },
  {
   "cell_type": "markdown",
   "id": "65ee0906",
   "metadata": {
    "papermill": {
     "duration": 0.028393,
     "end_time": "2023-07-15T03:27:53.955631",
     "exception": false,
     "start_time": "2023-07-15T03:27:53.927238",
     "status": "completed"
    },
    "tags": []
   },
   "source": [
    "date range spans from 1st January 2017 to 31st December 2021. it's a 5 year data set. "
   ]
  },
  {
   "cell_type": "code",
   "execution_count": 12,
   "id": "3f08a92f",
   "metadata": {
    "execution": {
     "iopub.execute_input": "2023-07-15T03:27:54.014910Z",
     "iopub.status.busy": "2023-07-15T03:27:54.014470Z",
     "iopub.status.idle": "2023-07-15T03:27:54.031131Z",
     "shell.execute_reply": "2023-07-15T03:27:54.029941Z"
    },
    "papermill": {
     "duration": 0.04953,
     "end_time": "2023-07-15T03:27:54.033637",
     "exception": false,
     "start_time": "2023-07-15T03:27:53.984107",
     "status": "completed"
    },
    "tags": []
   },
   "outputs": [
    {
     "name": "stdout",
     "output_type": "stream",
     "text": [
      "2022-01-01\n",
      "2022-12-31\n"
     ]
    }
   ],
   "source": [
    "print(test_data.date.min())\n",
    "print(test_data.date.max())"
   ]
  },
  {
   "cell_type": "markdown",
   "id": "acf9da91",
   "metadata": {
    "papermill": {
     "duration": 0.028179,
     "end_time": "2023-07-15T03:27:54.090990",
     "exception": false,
     "start_time": "2023-07-15T03:27:54.062811",
     "status": "completed"
    },
    "tags": []
   },
   "source": [
    "date range spans from 1st January 2022 to 31st December 2022. it's a 1 year data set which needs to be predicted. "
   ]
  },
  {
   "cell_type": "markdown",
   "id": "2476f2a7",
   "metadata": {
    "papermill": {
     "duration": 0.028131,
     "end_time": "2023-07-15T03:27:54.147743",
     "exception": false,
     "start_time": "2023-07-15T03:27:54.119612",
     "status": "completed"
    },
    "tags": []
   },
   "source": []
  },
  {
   "cell_type": "code",
   "execution_count": 13,
   "id": "00e877ec",
   "metadata": {
    "execution": {
     "iopub.execute_input": "2023-07-15T03:27:54.206773Z",
     "iopub.status.busy": "2023-07-15T03:27:54.206308Z",
     "iopub.status.idle": "2023-07-15T03:27:54.234701Z",
     "shell.execute_reply": "2023-07-15T03:27:54.233300Z"
    },
    "papermill": {
     "duration": 0.061004,
     "end_time": "2023-07-15T03:27:54.237004",
     "exception": false,
     "start_time": "2023-07-15T03:27:54.176000",
     "status": "completed"
    },
    "tags": []
   },
   "outputs": [
    {
     "data": {
      "text/plain": [
       "Argentina    27390\n",
       "Canada       27390\n",
       "Estonia      27390\n",
       "Japan        27390\n",
       "Spain        27390\n",
       "Name: country, dtype: int64"
      ]
     },
     "execution_count": 13,
     "metadata": {},
     "output_type": "execute_result"
    }
   ],
   "source": [
    "train_data.country.value_counts()"
   ]
  },
  {
   "cell_type": "markdown",
   "id": "17b9f958",
   "metadata": {
    "papermill": {
     "duration": 0.028528,
     "end_time": "2023-07-15T03:27:54.294995",
     "exception": false,
     "start_time": "2023-07-15T03:27:54.266467",
     "status": "completed"
    },
    "tags": []
   },
   "source": [
    "there are 5 countries in the train data. all countries have equal number of entries. "
   ]
  },
  {
   "cell_type": "code",
   "execution_count": 14,
   "id": "8d0a7c35",
   "metadata": {
    "execution": {
     "iopub.execute_input": "2023-07-15T03:27:54.354119Z",
     "iopub.status.busy": "2023-07-15T03:27:54.353648Z",
     "iopub.status.idle": "2023-07-15T03:27:54.367689Z",
     "shell.execute_reply": "2023-07-15T03:27:54.366533Z"
    },
    "papermill": {
     "duration": 0.046357,
     "end_time": "2023-07-15T03:27:54.369849",
     "exception": false,
     "start_time": "2023-07-15T03:27:54.323492",
     "status": "completed"
    },
    "tags": []
   },
   "outputs": [
    {
     "data": {
      "text/plain": [
       "Argentina    5475\n",
       "Canada       5475\n",
       "Estonia      5475\n",
       "Japan        5475\n",
       "Spain        5475\n",
       "Name: country, dtype: int64"
      ]
     },
     "execution_count": 14,
     "metadata": {},
     "output_type": "execute_result"
    }
   ],
   "source": [
    "test_data.country.value_counts()"
   ]
  },
  {
   "cell_type": "markdown",
   "id": "95a25dae",
   "metadata": {
    "papermill": {
     "duration": 0.028596,
     "end_time": "2023-07-15T03:27:54.427190",
     "exception": false,
     "start_time": "2023-07-15T03:27:54.398594",
     "status": "completed"
    },
    "tags": []
   },
   "source": [
    "there are 5 countries in the test data as well. the spread is also equal. "
   ]
  },
  {
   "cell_type": "code",
   "execution_count": 15,
   "id": "81fc1282",
   "metadata": {
    "execution": {
     "iopub.execute_input": "2023-07-15T03:27:54.487398Z",
     "iopub.status.busy": "2023-07-15T03:27:54.486881Z",
     "iopub.status.idle": "2023-07-15T03:27:54.515008Z",
     "shell.execute_reply": "2023-07-15T03:27:54.513815Z"
    },
    "papermill": {
     "duration": 0.061614,
     "end_time": "2023-07-15T03:27:54.517490",
     "exception": false,
     "start_time": "2023-07-15T03:27:54.455876",
     "status": "completed"
    },
    "tags": []
   },
   "outputs": [
    {
     "data": {
      "text/plain": [
       "Kaggle Learn    45650\n",
       "Kaggle Store    45650\n",
       "Kagglazon       45650\n",
       "Name: store, dtype: int64"
      ]
     },
     "execution_count": 15,
     "metadata": {},
     "output_type": "execute_result"
    }
   ],
   "source": [
    "train_data.store.value_counts()"
   ]
  },
  {
   "cell_type": "markdown",
   "id": "34d24eab",
   "metadata": {
    "papermill": {
     "duration": 0.028795,
     "end_time": "2023-07-15T03:27:54.576479",
     "exception": false,
     "start_time": "2023-07-15T03:27:54.547684",
     "status": "completed"
    },
    "tags": []
   },
   "source": [
    "there are 3 stores in the train data. all stores have equal number of entries."
   ]
  },
  {
   "cell_type": "code",
   "execution_count": 16,
   "id": "c3fb31f7",
   "metadata": {
    "execution": {
     "iopub.execute_input": "2023-07-15T03:27:54.636789Z",
     "iopub.status.busy": "2023-07-15T03:27:54.636348Z",
     "iopub.status.idle": "2023-07-15T03:27:54.649866Z",
     "shell.execute_reply": "2023-07-15T03:27:54.648576Z"
    },
    "papermill": {
     "duration": 0.046646,
     "end_time": "2023-07-15T03:27:54.652217",
     "exception": false,
     "start_time": "2023-07-15T03:27:54.605571",
     "status": "completed"
    },
    "tags": []
   },
   "outputs": [
    {
     "data": {
      "text/plain": [
       "Kaggle Learn    9125\n",
       "Kaggle Store    9125\n",
       "Kagglazon       9125\n",
       "Name: store, dtype: int64"
      ]
     },
     "execution_count": 16,
     "metadata": {},
     "output_type": "execute_result"
    }
   ],
   "source": [
    "test_data.store.value_counts()"
   ]
  },
  {
   "cell_type": "markdown",
   "id": "60a26505",
   "metadata": {
    "papermill": {
     "duration": 0.028854,
     "end_time": "2023-07-15T03:27:54.711431",
     "exception": false,
     "start_time": "2023-07-15T03:27:54.682577",
     "status": "completed"
    },
    "tags": []
   },
   "source": [
    "there are 3 stores in the test data. the spread is equal."
   ]
  },
  {
   "cell_type": "code",
   "execution_count": 17,
   "id": "57ce1206",
   "metadata": {
    "execution": {
     "iopub.execute_input": "2023-07-15T03:27:54.772876Z",
     "iopub.status.busy": "2023-07-15T03:27:54.771888Z",
     "iopub.status.idle": "2023-07-15T03:27:54.798781Z",
     "shell.execute_reply": "2023-07-15T03:27:54.797665Z"
    },
    "papermill": {
     "duration": 0.060032,
     "end_time": "2023-07-15T03:27:54.801275",
     "exception": false,
     "start_time": "2023-07-15T03:27:54.741243",
     "status": "completed"
    },
    "tags": []
   },
   "outputs": [
    {
     "data": {
      "text/plain": [
       "Using LLMs to Improve Your Coding                 27390\n",
       "Using LLMs to Train More LLMs                     27390\n",
       "Using LLMs to Win Friends and Influence People    27390\n",
       "Using LLMs to Win More Kaggle Competitions        27390\n",
       "Using LLMs to Write Better                        27390\n",
       "Name: product, dtype: int64"
      ]
     },
     "execution_count": 17,
     "metadata": {},
     "output_type": "execute_result"
    }
   ],
   "source": [
    "train_data['product'].value_counts()"
   ]
  },
  {
   "cell_type": "markdown",
   "id": "1646da64",
   "metadata": {
    "papermill": {
     "duration": 0.02936,
     "end_time": "2023-07-15T03:27:54.860339",
     "exception": false,
     "start_time": "2023-07-15T03:27:54.830979",
     "status": "completed"
    },
    "tags": []
   },
   "source": [
    "there are 5 types of products in the train data. all products have equal number of entries. "
   ]
  },
  {
   "cell_type": "code",
   "execution_count": 18,
   "id": "900aaddc",
   "metadata": {
    "execution": {
     "iopub.execute_input": "2023-07-15T03:27:54.922401Z",
     "iopub.status.busy": "2023-07-15T03:27:54.921076Z",
     "iopub.status.idle": "2023-07-15T03:27:54.933703Z",
     "shell.execute_reply": "2023-07-15T03:27:54.932509Z"
    },
    "papermill": {
     "duration": 0.046207,
     "end_time": "2023-07-15T03:27:54.936048",
     "exception": false,
     "start_time": "2023-07-15T03:27:54.889841",
     "status": "completed"
    },
    "tags": []
   },
   "outputs": [
    {
     "data": {
      "text/plain": [
       "Using LLMs to Improve Your Coding                 5475\n",
       "Using LLMs to Train More LLMs                     5475\n",
       "Using LLMs to Win Friends and Influence People    5475\n",
       "Using LLMs to Win More Kaggle Competitions        5475\n",
       "Using LLMs to Write Better                        5475\n",
       "Name: product, dtype: int64"
      ]
     },
     "execution_count": 18,
     "metadata": {},
     "output_type": "execute_result"
    }
   ],
   "source": [
    "test_data['product'].value_counts()"
   ]
  },
  {
   "cell_type": "markdown",
   "id": "672fe12e",
   "metadata": {
    "papermill": {
     "duration": 0.029333,
     "end_time": "2023-07-15T03:27:54.995230",
     "exception": false,
     "start_time": "2023-07-15T03:27:54.965897",
     "status": "completed"
    },
    "tags": []
   },
   "source": [
    "there are 5 types of products in the test data as well. all products have equal number of entries. "
   ]
  },
  {
   "cell_type": "code",
   "execution_count": 19,
   "id": "6e9a438a",
   "metadata": {
    "execution": {
     "iopub.execute_input": "2023-07-15T03:27:55.057609Z",
     "iopub.status.busy": "2023-07-15T03:27:55.056526Z",
     "iopub.status.idle": "2023-07-15T03:27:55.225333Z",
     "shell.execute_reply": "2023-07-15T03:27:55.224262Z"
    },
    "papermill": {
     "duration": 0.202764,
     "end_time": "2023-07-15T03:27:55.227995",
     "exception": false,
     "start_time": "2023-07-15T03:27:55.025231",
     "status": "completed"
    },
    "tags": []
   },
   "outputs": [
    {
     "data": {
      "text/html": [
       "<div>\n",
       "<style scoped>\n",
       "    .dataframe tbody tr th:only-of-type {\n",
       "        vertical-align: middle;\n",
       "    }\n",
       "\n",
       "    .dataframe tbody tr th {\n",
       "        vertical-align: top;\n",
       "    }\n",
       "\n",
       "    .dataframe thead th {\n",
       "        text-align: right;\n",
       "    }\n",
       "</style>\n",
       "<table border=\"1\" class=\"dataframe\">\n",
       "  <thead>\n",
       "    <tr style=\"text-align: right;\">\n",
       "      <th></th>\n",
       "      <th>id</th>\n",
       "      <th>country</th>\n",
       "      <th>store</th>\n",
       "      <th>product</th>\n",
       "      <th>num_sold</th>\n",
       "    </tr>\n",
       "    <tr>\n",
       "      <th>date</th>\n",
       "      <th></th>\n",
       "      <th></th>\n",
       "      <th></th>\n",
       "      <th></th>\n",
       "      <th></th>\n",
       "    </tr>\n",
       "  </thead>\n",
       "  <tbody>\n",
       "    <tr>\n",
       "      <th>2017-01-01</th>\n",
       "      <td>75</td>\n",
       "      <td>75</td>\n",
       "      <td>75</td>\n",
       "      <td>75</td>\n",
       "      <td>75</td>\n",
       "    </tr>\n",
       "    <tr>\n",
       "      <th>2017-01-02</th>\n",
       "      <td>75</td>\n",
       "      <td>75</td>\n",
       "      <td>75</td>\n",
       "      <td>75</td>\n",
       "      <td>75</td>\n",
       "    </tr>\n",
       "    <tr>\n",
       "      <th>2017-01-03</th>\n",
       "      <td>75</td>\n",
       "      <td>75</td>\n",
       "      <td>75</td>\n",
       "      <td>75</td>\n",
       "      <td>75</td>\n",
       "    </tr>\n",
       "    <tr>\n",
       "      <th>2017-01-04</th>\n",
       "      <td>75</td>\n",
       "      <td>75</td>\n",
       "      <td>75</td>\n",
       "      <td>75</td>\n",
       "      <td>75</td>\n",
       "    </tr>\n",
       "    <tr>\n",
       "      <th>2017-01-05</th>\n",
       "      <td>75</td>\n",
       "      <td>75</td>\n",
       "      <td>75</td>\n",
       "      <td>75</td>\n",
       "      <td>75</td>\n",
       "    </tr>\n",
       "    <tr>\n",
       "      <th>...</th>\n",
       "      <td>...</td>\n",
       "      <td>...</td>\n",
       "      <td>...</td>\n",
       "      <td>...</td>\n",
       "      <td>...</td>\n",
       "    </tr>\n",
       "    <tr>\n",
       "      <th>2021-12-27</th>\n",
       "      <td>75</td>\n",
       "      <td>75</td>\n",
       "      <td>75</td>\n",
       "      <td>75</td>\n",
       "      <td>75</td>\n",
       "    </tr>\n",
       "    <tr>\n",
       "      <th>2021-12-28</th>\n",
       "      <td>75</td>\n",
       "      <td>75</td>\n",
       "      <td>75</td>\n",
       "      <td>75</td>\n",
       "      <td>75</td>\n",
       "    </tr>\n",
       "    <tr>\n",
       "      <th>2021-12-29</th>\n",
       "      <td>75</td>\n",
       "      <td>75</td>\n",
       "      <td>75</td>\n",
       "      <td>75</td>\n",
       "      <td>75</td>\n",
       "    </tr>\n",
       "    <tr>\n",
       "      <th>2021-12-30</th>\n",
       "      <td>75</td>\n",
       "      <td>75</td>\n",
       "      <td>75</td>\n",
       "      <td>75</td>\n",
       "      <td>75</td>\n",
       "    </tr>\n",
       "    <tr>\n",
       "      <th>2021-12-31</th>\n",
       "      <td>75</td>\n",
       "      <td>75</td>\n",
       "      <td>75</td>\n",
       "      <td>75</td>\n",
       "      <td>75</td>\n",
       "    </tr>\n",
       "  </tbody>\n",
       "</table>\n",
       "<p>1826 rows × 5 columns</p>\n",
       "</div>"
      ],
      "text/plain": [
       "            id  country  store  product  num_sold\n",
       "date                                             \n",
       "2017-01-01  75       75     75       75        75\n",
       "2017-01-02  75       75     75       75        75\n",
       "2017-01-03  75       75     75       75        75\n",
       "2017-01-04  75       75     75       75        75\n",
       "2017-01-05  75       75     75       75        75\n",
       "...         ..      ...    ...      ...       ...\n",
       "2021-12-27  75       75     75       75        75\n",
       "2021-12-28  75       75     75       75        75\n",
       "2021-12-29  75       75     75       75        75\n",
       "2021-12-30  75       75     75       75        75\n",
       "2021-12-31  75       75     75       75        75\n",
       "\n",
       "[1826 rows x 5 columns]"
      ]
     },
     "execution_count": 19,
     "metadata": {},
     "output_type": "execute_result"
    }
   ],
   "source": [
    "train_data.groupby(by='date').count()"
   ]
  },
  {
   "cell_type": "markdown",
   "id": "a6183715",
   "metadata": {
    "papermill": {
     "duration": 0.030495,
     "end_time": "2023-07-15T03:27:55.288928",
     "exception": false,
     "start_time": "2023-07-15T03:27:55.258433",
     "status": "completed"
    },
    "tags": []
   },
   "source": [
    "looks like there are 75 entries per each date in the train data. "
   ]
  },
  {
   "cell_type": "code",
   "execution_count": 20,
   "id": "c3bf81a8",
   "metadata": {
    "execution": {
     "iopub.execute_input": "2023-07-15T03:27:55.351355Z",
     "iopub.status.busy": "2023-07-15T03:27:55.350959Z",
     "iopub.status.idle": "2023-07-15T03:27:55.396278Z",
     "shell.execute_reply": "2023-07-15T03:27:55.395013Z"
    },
    "papermill": {
     "duration": 0.080053,
     "end_time": "2023-07-15T03:27:55.399146",
     "exception": false,
     "start_time": "2023-07-15T03:27:55.319093",
     "status": "completed"
    },
    "tags": []
   },
   "outputs": [
    {
     "data": {
      "text/html": [
       "<div>\n",
       "<style scoped>\n",
       "    .dataframe tbody tr th:only-of-type {\n",
       "        vertical-align: middle;\n",
       "    }\n",
       "\n",
       "    .dataframe tbody tr th {\n",
       "        vertical-align: top;\n",
       "    }\n",
       "\n",
       "    .dataframe thead th {\n",
       "        text-align: right;\n",
       "    }\n",
       "</style>\n",
       "<table border=\"1\" class=\"dataframe\">\n",
       "  <thead>\n",
       "    <tr style=\"text-align: right;\">\n",
       "      <th></th>\n",
       "      <th>id</th>\n",
       "      <th>country</th>\n",
       "      <th>store</th>\n",
       "      <th>product</th>\n",
       "    </tr>\n",
       "    <tr>\n",
       "      <th>date</th>\n",
       "      <th></th>\n",
       "      <th></th>\n",
       "      <th></th>\n",
       "      <th></th>\n",
       "    </tr>\n",
       "  </thead>\n",
       "  <tbody>\n",
       "    <tr>\n",
       "      <th>2022-01-01</th>\n",
       "      <td>75</td>\n",
       "      <td>75</td>\n",
       "      <td>75</td>\n",
       "      <td>75</td>\n",
       "    </tr>\n",
       "    <tr>\n",
       "      <th>2022-01-02</th>\n",
       "      <td>75</td>\n",
       "      <td>75</td>\n",
       "      <td>75</td>\n",
       "      <td>75</td>\n",
       "    </tr>\n",
       "    <tr>\n",
       "      <th>2022-01-03</th>\n",
       "      <td>75</td>\n",
       "      <td>75</td>\n",
       "      <td>75</td>\n",
       "      <td>75</td>\n",
       "    </tr>\n",
       "    <tr>\n",
       "      <th>2022-01-04</th>\n",
       "      <td>75</td>\n",
       "      <td>75</td>\n",
       "      <td>75</td>\n",
       "      <td>75</td>\n",
       "    </tr>\n",
       "    <tr>\n",
       "      <th>2022-01-05</th>\n",
       "      <td>75</td>\n",
       "      <td>75</td>\n",
       "      <td>75</td>\n",
       "      <td>75</td>\n",
       "    </tr>\n",
       "    <tr>\n",
       "      <th>...</th>\n",
       "      <td>...</td>\n",
       "      <td>...</td>\n",
       "      <td>...</td>\n",
       "      <td>...</td>\n",
       "    </tr>\n",
       "    <tr>\n",
       "      <th>2022-12-27</th>\n",
       "      <td>75</td>\n",
       "      <td>75</td>\n",
       "      <td>75</td>\n",
       "      <td>75</td>\n",
       "    </tr>\n",
       "    <tr>\n",
       "      <th>2022-12-28</th>\n",
       "      <td>75</td>\n",
       "      <td>75</td>\n",
       "      <td>75</td>\n",
       "      <td>75</td>\n",
       "    </tr>\n",
       "    <tr>\n",
       "      <th>2022-12-29</th>\n",
       "      <td>75</td>\n",
       "      <td>75</td>\n",
       "      <td>75</td>\n",
       "      <td>75</td>\n",
       "    </tr>\n",
       "    <tr>\n",
       "      <th>2022-12-30</th>\n",
       "      <td>75</td>\n",
       "      <td>75</td>\n",
       "      <td>75</td>\n",
       "      <td>75</td>\n",
       "    </tr>\n",
       "    <tr>\n",
       "      <th>2022-12-31</th>\n",
       "      <td>75</td>\n",
       "      <td>75</td>\n",
       "      <td>75</td>\n",
       "      <td>75</td>\n",
       "    </tr>\n",
       "  </tbody>\n",
       "</table>\n",
       "<p>365 rows × 4 columns</p>\n",
       "</div>"
      ],
      "text/plain": [
       "            id  country  store  product\n",
       "date                                   \n",
       "2022-01-01  75       75     75       75\n",
       "2022-01-02  75       75     75       75\n",
       "2022-01-03  75       75     75       75\n",
       "2022-01-04  75       75     75       75\n",
       "2022-01-05  75       75     75       75\n",
       "...         ..      ...    ...      ...\n",
       "2022-12-27  75       75     75       75\n",
       "2022-12-28  75       75     75       75\n",
       "2022-12-29  75       75     75       75\n",
       "2022-12-30  75       75     75       75\n",
       "2022-12-31  75       75     75       75\n",
       "\n",
       "[365 rows x 4 columns]"
      ]
     },
     "execution_count": 20,
     "metadata": {},
     "output_type": "execute_result"
    }
   ],
   "source": [
    "test_data.groupby(by='date').count()"
   ]
  },
  {
   "cell_type": "markdown",
   "id": "0ca29e6a",
   "metadata": {
    "papermill": {
     "duration": 0.030062,
     "end_time": "2023-07-15T03:27:55.459657",
     "exception": false,
     "start_time": "2023-07-15T03:27:55.429595",
     "status": "completed"
    },
    "tags": []
   },
   "source": [
    "there are 75 entries per each date in the test data as well. "
   ]
  },
  {
   "cell_type": "code",
   "execution_count": 21,
   "id": "7bd4738b",
   "metadata": {
    "execution": {
     "iopub.execute_input": "2023-07-15T03:27:55.521392Z",
     "iopub.status.busy": "2023-07-15T03:27:55.521009Z",
     "iopub.status.idle": "2023-07-15T03:27:55.668683Z",
     "shell.execute_reply": "2023-07-15T03:27:55.667456Z"
    },
    "papermill": {
     "duration": 0.182101,
     "end_time": "2023-07-15T03:27:55.671681",
     "exception": false,
     "start_time": "2023-07-15T03:27:55.489580",
     "status": "completed"
    },
    "tags": []
   },
   "outputs": [
    {
     "data": {
      "text/html": [
       "<div>\n",
       "<style scoped>\n",
       "    .dataframe tbody tr th:only-of-type {\n",
       "        vertical-align: middle;\n",
       "    }\n",
       "\n",
       "    .dataframe tbody tr th {\n",
       "        vertical-align: top;\n",
       "    }\n",
       "\n",
       "    .dataframe thead th {\n",
       "        text-align: right;\n",
       "    }\n",
       "</style>\n",
       "<table border=\"1\" class=\"dataframe\">\n",
       "  <thead>\n",
       "    <tr style=\"text-align: right;\">\n",
       "      <th></th>\n",
       "      <th></th>\n",
       "      <th>id</th>\n",
       "      <th>store</th>\n",
       "      <th>product</th>\n",
       "      <th>num_sold</th>\n",
       "    </tr>\n",
       "    <tr>\n",
       "      <th>date</th>\n",
       "      <th>country</th>\n",
       "      <th></th>\n",
       "      <th></th>\n",
       "      <th></th>\n",
       "      <th></th>\n",
       "    </tr>\n",
       "  </thead>\n",
       "  <tbody>\n",
       "    <tr>\n",
       "      <th rowspan=\"5\" valign=\"top\">2017-01-01</th>\n",
       "      <th>Argentina</th>\n",
       "      <td>15</td>\n",
       "      <td>15</td>\n",
       "      <td>15</td>\n",
       "      <td>15</td>\n",
       "    </tr>\n",
       "    <tr>\n",
       "      <th>Canada</th>\n",
       "      <td>15</td>\n",
       "      <td>15</td>\n",
       "      <td>15</td>\n",
       "      <td>15</td>\n",
       "    </tr>\n",
       "    <tr>\n",
       "      <th>Estonia</th>\n",
       "      <td>15</td>\n",
       "      <td>15</td>\n",
       "      <td>15</td>\n",
       "      <td>15</td>\n",
       "    </tr>\n",
       "    <tr>\n",
       "      <th>Japan</th>\n",
       "      <td>15</td>\n",
       "      <td>15</td>\n",
       "      <td>15</td>\n",
       "      <td>15</td>\n",
       "    </tr>\n",
       "    <tr>\n",
       "      <th>Spain</th>\n",
       "      <td>15</td>\n",
       "      <td>15</td>\n",
       "      <td>15</td>\n",
       "      <td>15</td>\n",
       "    </tr>\n",
       "    <tr>\n",
       "      <th>...</th>\n",
       "      <th>...</th>\n",
       "      <td>...</td>\n",
       "      <td>...</td>\n",
       "      <td>...</td>\n",
       "      <td>...</td>\n",
       "    </tr>\n",
       "    <tr>\n",
       "      <th rowspan=\"5\" valign=\"top\">2021-12-31</th>\n",
       "      <th>Argentina</th>\n",
       "      <td>15</td>\n",
       "      <td>15</td>\n",
       "      <td>15</td>\n",
       "      <td>15</td>\n",
       "    </tr>\n",
       "    <tr>\n",
       "      <th>Canada</th>\n",
       "      <td>15</td>\n",
       "      <td>15</td>\n",
       "      <td>15</td>\n",
       "      <td>15</td>\n",
       "    </tr>\n",
       "    <tr>\n",
       "      <th>Estonia</th>\n",
       "      <td>15</td>\n",
       "      <td>15</td>\n",
       "      <td>15</td>\n",
       "      <td>15</td>\n",
       "    </tr>\n",
       "    <tr>\n",
       "      <th>Japan</th>\n",
       "      <td>15</td>\n",
       "      <td>15</td>\n",
       "      <td>15</td>\n",
       "      <td>15</td>\n",
       "    </tr>\n",
       "    <tr>\n",
       "      <th>Spain</th>\n",
       "      <td>15</td>\n",
       "      <td>15</td>\n",
       "      <td>15</td>\n",
       "      <td>15</td>\n",
       "    </tr>\n",
       "  </tbody>\n",
       "</table>\n",
       "<p>9130 rows × 4 columns</p>\n",
       "</div>"
      ],
      "text/plain": [
       "                      id  store  product  num_sold\n",
       "date       country                                \n",
       "2017-01-01 Argentina  15     15       15        15\n",
       "           Canada     15     15       15        15\n",
       "           Estonia    15     15       15        15\n",
       "           Japan      15     15       15        15\n",
       "           Spain      15     15       15        15\n",
       "...                   ..    ...      ...       ...\n",
       "2021-12-31 Argentina  15     15       15        15\n",
       "           Canada     15     15       15        15\n",
       "           Estonia    15     15       15        15\n",
       "           Japan      15     15       15        15\n",
       "           Spain      15     15       15        15\n",
       "\n",
       "[9130 rows x 4 columns]"
      ]
     },
     "execution_count": 21,
     "metadata": {},
     "output_type": "execute_result"
    }
   ],
   "source": [
    "train_data.groupby(by=['date','country']).count()"
   ]
  },
  {
   "cell_type": "markdown",
   "id": "a74223d1",
   "metadata": {
    "papermill": {
     "duration": 0.030025,
     "end_time": "2023-07-15T03:27:55.732031",
     "exception": false,
     "start_time": "2023-07-15T03:27:55.702006",
     "status": "completed"
    },
    "tags": []
   },
   "source": [
    "there are 15 entries per date per country in the train data."
   ]
  },
  {
   "cell_type": "code",
   "execution_count": 22,
   "id": "a75ad450",
   "metadata": {
    "execution": {
     "iopub.execute_input": "2023-07-15T03:27:55.794847Z",
     "iopub.status.busy": "2023-07-15T03:27:55.794387Z",
     "iopub.status.idle": "2023-07-15T03:27:55.838411Z",
     "shell.execute_reply": "2023-07-15T03:27:55.837161Z"
    },
    "papermill": {
     "duration": 0.078565,
     "end_time": "2023-07-15T03:27:55.840816",
     "exception": false,
     "start_time": "2023-07-15T03:27:55.762251",
     "status": "completed"
    },
    "tags": []
   },
   "outputs": [
    {
     "data": {
      "text/html": [
       "<div>\n",
       "<style scoped>\n",
       "    .dataframe tbody tr th:only-of-type {\n",
       "        vertical-align: middle;\n",
       "    }\n",
       "\n",
       "    .dataframe tbody tr th {\n",
       "        vertical-align: top;\n",
       "    }\n",
       "\n",
       "    .dataframe thead th {\n",
       "        text-align: right;\n",
       "    }\n",
       "</style>\n",
       "<table border=\"1\" class=\"dataframe\">\n",
       "  <thead>\n",
       "    <tr style=\"text-align: right;\">\n",
       "      <th></th>\n",
       "      <th></th>\n",
       "      <th>id</th>\n",
       "      <th>store</th>\n",
       "      <th>product</th>\n",
       "    </tr>\n",
       "    <tr>\n",
       "      <th>date</th>\n",
       "      <th>country</th>\n",
       "      <th></th>\n",
       "      <th></th>\n",
       "      <th></th>\n",
       "    </tr>\n",
       "  </thead>\n",
       "  <tbody>\n",
       "    <tr>\n",
       "      <th rowspan=\"5\" valign=\"top\">2022-01-01</th>\n",
       "      <th>Argentina</th>\n",
       "      <td>15</td>\n",
       "      <td>15</td>\n",
       "      <td>15</td>\n",
       "    </tr>\n",
       "    <tr>\n",
       "      <th>Canada</th>\n",
       "      <td>15</td>\n",
       "      <td>15</td>\n",
       "      <td>15</td>\n",
       "    </tr>\n",
       "    <tr>\n",
       "      <th>Estonia</th>\n",
       "      <td>15</td>\n",
       "      <td>15</td>\n",
       "      <td>15</td>\n",
       "    </tr>\n",
       "    <tr>\n",
       "      <th>Japan</th>\n",
       "      <td>15</td>\n",
       "      <td>15</td>\n",
       "      <td>15</td>\n",
       "    </tr>\n",
       "    <tr>\n",
       "      <th>Spain</th>\n",
       "      <td>15</td>\n",
       "      <td>15</td>\n",
       "      <td>15</td>\n",
       "    </tr>\n",
       "    <tr>\n",
       "      <th>...</th>\n",
       "      <th>...</th>\n",
       "      <td>...</td>\n",
       "      <td>...</td>\n",
       "      <td>...</td>\n",
       "    </tr>\n",
       "    <tr>\n",
       "      <th rowspan=\"5\" valign=\"top\">2022-12-31</th>\n",
       "      <th>Argentina</th>\n",
       "      <td>15</td>\n",
       "      <td>15</td>\n",
       "      <td>15</td>\n",
       "    </tr>\n",
       "    <tr>\n",
       "      <th>Canada</th>\n",
       "      <td>15</td>\n",
       "      <td>15</td>\n",
       "      <td>15</td>\n",
       "    </tr>\n",
       "    <tr>\n",
       "      <th>Estonia</th>\n",
       "      <td>15</td>\n",
       "      <td>15</td>\n",
       "      <td>15</td>\n",
       "    </tr>\n",
       "    <tr>\n",
       "      <th>Japan</th>\n",
       "      <td>15</td>\n",
       "      <td>15</td>\n",
       "      <td>15</td>\n",
       "    </tr>\n",
       "    <tr>\n",
       "      <th>Spain</th>\n",
       "      <td>15</td>\n",
       "      <td>15</td>\n",
       "      <td>15</td>\n",
       "    </tr>\n",
       "  </tbody>\n",
       "</table>\n",
       "<p>1825 rows × 3 columns</p>\n",
       "</div>"
      ],
      "text/plain": [
       "                      id  store  product\n",
       "date       country                      \n",
       "2022-01-01 Argentina  15     15       15\n",
       "           Canada     15     15       15\n",
       "           Estonia    15     15       15\n",
       "           Japan      15     15       15\n",
       "           Spain      15     15       15\n",
       "...                   ..    ...      ...\n",
       "2022-12-31 Argentina  15     15       15\n",
       "           Canada     15     15       15\n",
       "           Estonia    15     15       15\n",
       "           Japan      15     15       15\n",
       "           Spain      15     15       15\n",
       "\n",
       "[1825 rows x 3 columns]"
      ]
     },
     "execution_count": 22,
     "metadata": {},
     "output_type": "execute_result"
    }
   ],
   "source": [
    "test_data.groupby(by=['date','country']).count()"
   ]
  },
  {
   "cell_type": "markdown",
   "id": "e7157139",
   "metadata": {
    "papermill": {
     "duration": 0.030339,
     "end_time": "2023-07-15T03:27:55.902246",
     "exception": false,
     "start_time": "2023-07-15T03:27:55.871907",
     "status": "completed"
    },
    "tags": []
   },
   "source": [
    "there are 15 entries per date per country in the test data as well. "
   ]
  },
  {
   "cell_type": "code",
   "execution_count": 23,
   "id": "9c713235",
   "metadata": {
    "execution": {
     "iopub.execute_input": "2023-07-15T03:27:55.965692Z",
     "iopub.status.busy": "2023-07-15T03:27:55.965244Z",
     "iopub.status.idle": "2023-07-15T03:27:56.104929Z",
     "shell.execute_reply": "2023-07-15T03:27:56.103803Z"
    },
    "papermill": {
     "duration": 0.174335,
     "end_time": "2023-07-15T03:27:56.107348",
     "exception": false,
     "start_time": "2023-07-15T03:27:55.933013",
     "status": "completed"
    },
    "tags": []
   },
   "outputs": [
    {
     "data": {
      "text/html": [
       "<div>\n",
       "<style scoped>\n",
       "    .dataframe tbody tr th:only-of-type {\n",
       "        vertical-align: middle;\n",
       "    }\n",
       "\n",
       "    .dataframe tbody tr th {\n",
       "        vertical-align: top;\n",
       "    }\n",
       "\n",
       "    .dataframe thead th {\n",
       "        text-align: right;\n",
       "    }\n",
       "</style>\n",
       "<table border=\"1\" class=\"dataframe\">\n",
       "  <thead>\n",
       "    <tr style=\"text-align: right;\">\n",
       "      <th></th>\n",
       "      <th></th>\n",
       "      <th>id</th>\n",
       "      <th>date</th>\n",
       "      <th>store</th>\n",
       "      <th>num_sold</th>\n",
       "    </tr>\n",
       "    <tr>\n",
       "      <th>country</th>\n",
       "      <th>product</th>\n",
       "      <th></th>\n",
       "      <th></th>\n",
       "      <th></th>\n",
       "      <th></th>\n",
       "    </tr>\n",
       "  </thead>\n",
       "  <tbody>\n",
       "    <tr>\n",
       "      <th rowspan=\"5\" valign=\"top\">Argentina</th>\n",
       "      <th>Using LLMs to Improve Your Coding</th>\n",
       "      <td>5478</td>\n",
       "      <td>5478</td>\n",
       "      <td>5478</td>\n",
       "      <td>5478</td>\n",
       "    </tr>\n",
       "    <tr>\n",
       "      <th>Using LLMs to Train More LLMs</th>\n",
       "      <td>5478</td>\n",
       "      <td>5478</td>\n",
       "      <td>5478</td>\n",
       "      <td>5478</td>\n",
       "    </tr>\n",
       "    <tr>\n",
       "      <th>Using LLMs to Win Friends and Influence People</th>\n",
       "      <td>5478</td>\n",
       "      <td>5478</td>\n",
       "      <td>5478</td>\n",
       "      <td>5478</td>\n",
       "    </tr>\n",
       "    <tr>\n",
       "      <th>Using LLMs to Win More Kaggle Competitions</th>\n",
       "      <td>5478</td>\n",
       "      <td>5478</td>\n",
       "      <td>5478</td>\n",
       "      <td>5478</td>\n",
       "    </tr>\n",
       "    <tr>\n",
       "      <th>Using LLMs to Write Better</th>\n",
       "      <td>5478</td>\n",
       "      <td>5478</td>\n",
       "      <td>5478</td>\n",
       "      <td>5478</td>\n",
       "    </tr>\n",
       "    <tr>\n",
       "      <th rowspan=\"5\" valign=\"top\">Canada</th>\n",
       "      <th>Using LLMs to Improve Your Coding</th>\n",
       "      <td>5478</td>\n",
       "      <td>5478</td>\n",
       "      <td>5478</td>\n",
       "      <td>5478</td>\n",
       "    </tr>\n",
       "    <tr>\n",
       "      <th>Using LLMs to Train More LLMs</th>\n",
       "      <td>5478</td>\n",
       "      <td>5478</td>\n",
       "      <td>5478</td>\n",
       "      <td>5478</td>\n",
       "    </tr>\n",
       "    <tr>\n",
       "      <th>Using LLMs to Win Friends and Influence People</th>\n",
       "      <td>5478</td>\n",
       "      <td>5478</td>\n",
       "      <td>5478</td>\n",
       "      <td>5478</td>\n",
       "    </tr>\n",
       "    <tr>\n",
       "      <th>Using LLMs to Win More Kaggle Competitions</th>\n",
       "      <td>5478</td>\n",
       "      <td>5478</td>\n",
       "      <td>5478</td>\n",
       "      <td>5478</td>\n",
       "    </tr>\n",
       "    <tr>\n",
       "      <th>Using LLMs to Write Better</th>\n",
       "      <td>5478</td>\n",
       "      <td>5478</td>\n",
       "      <td>5478</td>\n",
       "      <td>5478</td>\n",
       "    </tr>\n",
       "    <tr>\n",
       "      <th rowspan=\"5\" valign=\"top\">Estonia</th>\n",
       "      <th>Using LLMs to Improve Your Coding</th>\n",
       "      <td>5478</td>\n",
       "      <td>5478</td>\n",
       "      <td>5478</td>\n",
       "      <td>5478</td>\n",
       "    </tr>\n",
       "    <tr>\n",
       "      <th>Using LLMs to Train More LLMs</th>\n",
       "      <td>5478</td>\n",
       "      <td>5478</td>\n",
       "      <td>5478</td>\n",
       "      <td>5478</td>\n",
       "    </tr>\n",
       "    <tr>\n",
       "      <th>Using LLMs to Win Friends and Influence People</th>\n",
       "      <td>5478</td>\n",
       "      <td>5478</td>\n",
       "      <td>5478</td>\n",
       "      <td>5478</td>\n",
       "    </tr>\n",
       "    <tr>\n",
       "      <th>Using LLMs to Win More Kaggle Competitions</th>\n",
       "      <td>5478</td>\n",
       "      <td>5478</td>\n",
       "      <td>5478</td>\n",
       "      <td>5478</td>\n",
       "    </tr>\n",
       "    <tr>\n",
       "      <th>Using LLMs to Write Better</th>\n",
       "      <td>5478</td>\n",
       "      <td>5478</td>\n",
       "      <td>5478</td>\n",
       "      <td>5478</td>\n",
       "    </tr>\n",
       "    <tr>\n",
       "      <th rowspan=\"5\" valign=\"top\">Japan</th>\n",
       "      <th>Using LLMs to Improve Your Coding</th>\n",
       "      <td>5478</td>\n",
       "      <td>5478</td>\n",
       "      <td>5478</td>\n",
       "      <td>5478</td>\n",
       "    </tr>\n",
       "    <tr>\n",
       "      <th>Using LLMs to Train More LLMs</th>\n",
       "      <td>5478</td>\n",
       "      <td>5478</td>\n",
       "      <td>5478</td>\n",
       "      <td>5478</td>\n",
       "    </tr>\n",
       "    <tr>\n",
       "      <th>Using LLMs to Win Friends and Influence People</th>\n",
       "      <td>5478</td>\n",
       "      <td>5478</td>\n",
       "      <td>5478</td>\n",
       "      <td>5478</td>\n",
       "    </tr>\n",
       "    <tr>\n",
       "      <th>Using LLMs to Win More Kaggle Competitions</th>\n",
       "      <td>5478</td>\n",
       "      <td>5478</td>\n",
       "      <td>5478</td>\n",
       "      <td>5478</td>\n",
       "    </tr>\n",
       "    <tr>\n",
       "      <th>Using LLMs to Write Better</th>\n",
       "      <td>5478</td>\n",
       "      <td>5478</td>\n",
       "      <td>5478</td>\n",
       "      <td>5478</td>\n",
       "    </tr>\n",
       "    <tr>\n",
       "      <th rowspan=\"5\" valign=\"top\">Spain</th>\n",
       "      <th>Using LLMs to Improve Your Coding</th>\n",
       "      <td>5478</td>\n",
       "      <td>5478</td>\n",
       "      <td>5478</td>\n",
       "      <td>5478</td>\n",
       "    </tr>\n",
       "    <tr>\n",
       "      <th>Using LLMs to Train More LLMs</th>\n",
       "      <td>5478</td>\n",
       "      <td>5478</td>\n",
       "      <td>5478</td>\n",
       "      <td>5478</td>\n",
       "    </tr>\n",
       "    <tr>\n",
       "      <th>Using LLMs to Win Friends and Influence People</th>\n",
       "      <td>5478</td>\n",
       "      <td>5478</td>\n",
       "      <td>5478</td>\n",
       "      <td>5478</td>\n",
       "    </tr>\n",
       "    <tr>\n",
       "      <th>Using LLMs to Win More Kaggle Competitions</th>\n",
       "      <td>5478</td>\n",
       "      <td>5478</td>\n",
       "      <td>5478</td>\n",
       "      <td>5478</td>\n",
       "    </tr>\n",
       "    <tr>\n",
       "      <th>Using LLMs to Write Better</th>\n",
       "      <td>5478</td>\n",
       "      <td>5478</td>\n",
       "      <td>5478</td>\n",
       "      <td>5478</td>\n",
       "    </tr>\n",
       "  </tbody>\n",
       "</table>\n",
       "</div>"
      ],
      "text/plain": [
       "                                                            id  date  store  \\\n",
       "country   product                                                             \n",
       "Argentina Using LLMs to Improve Your Coding               5478  5478   5478   \n",
       "          Using LLMs to Train More LLMs                   5478  5478   5478   \n",
       "          Using LLMs to Win Friends and Influence People  5478  5478   5478   \n",
       "          Using LLMs to Win More Kaggle Competitions      5478  5478   5478   \n",
       "          Using LLMs to Write Better                      5478  5478   5478   \n",
       "Canada    Using LLMs to Improve Your Coding               5478  5478   5478   \n",
       "          Using LLMs to Train More LLMs                   5478  5478   5478   \n",
       "          Using LLMs to Win Friends and Influence People  5478  5478   5478   \n",
       "          Using LLMs to Win More Kaggle Competitions      5478  5478   5478   \n",
       "          Using LLMs to Write Better                      5478  5478   5478   \n",
       "Estonia   Using LLMs to Improve Your Coding               5478  5478   5478   \n",
       "          Using LLMs to Train More LLMs                   5478  5478   5478   \n",
       "          Using LLMs to Win Friends and Influence People  5478  5478   5478   \n",
       "          Using LLMs to Win More Kaggle Competitions      5478  5478   5478   \n",
       "          Using LLMs to Write Better                      5478  5478   5478   \n",
       "Japan     Using LLMs to Improve Your Coding               5478  5478   5478   \n",
       "          Using LLMs to Train More LLMs                   5478  5478   5478   \n",
       "          Using LLMs to Win Friends and Influence People  5478  5478   5478   \n",
       "          Using LLMs to Win More Kaggle Competitions      5478  5478   5478   \n",
       "          Using LLMs to Write Better                      5478  5478   5478   \n",
       "Spain     Using LLMs to Improve Your Coding               5478  5478   5478   \n",
       "          Using LLMs to Train More LLMs                   5478  5478   5478   \n",
       "          Using LLMs to Win Friends and Influence People  5478  5478   5478   \n",
       "          Using LLMs to Win More Kaggle Competitions      5478  5478   5478   \n",
       "          Using LLMs to Write Better                      5478  5478   5478   \n",
       "\n",
       "                                                          num_sold  \n",
       "country   product                                                   \n",
       "Argentina Using LLMs to Improve Your Coding                   5478  \n",
       "          Using LLMs to Train More LLMs                       5478  \n",
       "          Using LLMs to Win Friends and Influence People      5478  \n",
       "          Using LLMs to Win More Kaggle Competitions          5478  \n",
       "          Using LLMs to Write Better                          5478  \n",
       "Canada    Using LLMs to Improve Your Coding                   5478  \n",
       "          Using LLMs to Train More LLMs                       5478  \n",
       "          Using LLMs to Win Friends and Influence People      5478  \n",
       "          Using LLMs to Win More Kaggle Competitions          5478  \n",
       "          Using LLMs to Write Better                          5478  \n",
       "Estonia   Using LLMs to Improve Your Coding                   5478  \n",
       "          Using LLMs to Train More LLMs                       5478  \n",
       "          Using LLMs to Win Friends and Influence People      5478  \n",
       "          Using LLMs to Win More Kaggle Competitions          5478  \n",
       "          Using LLMs to Write Better                          5478  \n",
       "Japan     Using LLMs to Improve Your Coding                   5478  \n",
       "          Using LLMs to Train More LLMs                       5478  \n",
       "          Using LLMs to Win Friends and Influence People      5478  \n",
       "          Using LLMs to Win More Kaggle Competitions          5478  \n",
       "          Using LLMs to Write Better                          5478  \n",
       "Spain     Using LLMs to Improve Your Coding                   5478  \n",
       "          Using LLMs to Train More LLMs                       5478  \n",
       "          Using LLMs to Win Friends and Influence People      5478  \n",
       "          Using LLMs to Win More Kaggle Competitions          5478  \n",
       "          Using LLMs to Write Better                          5478  "
      ]
     },
     "execution_count": 23,
     "metadata": {},
     "output_type": "execute_result"
    }
   ],
   "source": [
    "train_data.groupby(by=['country','product']).count()"
   ]
  },
  {
   "cell_type": "markdown",
   "id": "123bfa3c",
   "metadata": {
    "papermill": {
     "duration": 0.030887,
     "end_time": "2023-07-15T03:27:56.169468",
     "exception": false,
     "start_time": "2023-07-15T03:27:56.138581",
     "status": "completed"
    },
    "tags": []
   },
   "source": [
    "there are 5478 entries per country per product in the train data."
   ]
  },
  {
   "cell_type": "code",
   "execution_count": 24,
   "id": "5f1009bd",
   "metadata": {
    "execution": {
     "iopub.execute_input": "2023-07-15T03:27:56.234007Z",
     "iopub.status.busy": "2023-07-15T03:27:56.233573Z",
     "iopub.status.idle": "2023-07-15T03:27:56.276404Z",
     "shell.execute_reply": "2023-07-15T03:27:56.275198Z"
    },
    "papermill": {
     "duration": 0.078523,
     "end_time": "2023-07-15T03:27:56.279129",
     "exception": false,
     "start_time": "2023-07-15T03:27:56.200606",
     "status": "completed"
    },
    "tags": []
   },
   "outputs": [
    {
     "data": {
      "text/html": [
       "<div>\n",
       "<style scoped>\n",
       "    .dataframe tbody tr th:only-of-type {\n",
       "        vertical-align: middle;\n",
       "    }\n",
       "\n",
       "    .dataframe tbody tr th {\n",
       "        vertical-align: top;\n",
       "    }\n",
       "\n",
       "    .dataframe thead th {\n",
       "        text-align: right;\n",
       "    }\n",
       "</style>\n",
       "<table border=\"1\" class=\"dataframe\">\n",
       "  <thead>\n",
       "    <tr style=\"text-align: right;\">\n",
       "      <th></th>\n",
       "      <th></th>\n",
       "      <th>id</th>\n",
       "      <th>date</th>\n",
       "      <th>store</th>\n",
       "    </tr>\n",
       "    <tr>\n",
       "      <th>country</th>\n",
       "      <th>product</th>\n",
       "      <th></th>\n",
       "      <th></th>\n",
       "      <th></th>\n",
       "    </tr>\n",
       "  </thead>\n",
       "  <tbody>\n",
       "    <tr>\n",
       "      <th rowspan=\"5\" valign=\"top\">Argentina</th>\n",
       "      <th>Using LLMs to Improve Your Coding</th>\n",
       "      <td>1095</td>\n",
       "      <td>1095</td>\n",
       "      <td>1095</td>\n",
       "    </tr>\n",
       "    <tr>\n",
       "      <th>Using LLMs to Train More LLMs</th>\n",
       "      <td>1095</td>\n",
       "      <td>1095</td>\n",
       "      <td>1095</td>\n",
       "    </tr>\n",
       "    <tr>\n",
       "      <th>Using LLMs to Win Friends and Influence People</th>\n",
       "      <td>1095</td>\n",
       "      <td>1095</td>\n",
       "      <td>1095</td>\n",
       "    </tr>\n",
       "    <tr>\n",
       "      <th>Using LLMs to Win More Kaggle Competitions</th>\n",
       "      <td>1095</td>\n",
       "      <td>1095</td>\n",
       "      <td>1095</td>\n",
       "    </tr>\n",
       "    <tr>\n",
       "      <th>Using LLMs to Write Better</th>\n",
       "      <td>1095</td>\n",
       "      <td>1095</td>\n",
       "      <td>1095</td>\n",
       "    </tr>\n",
       "    <tr>\n",
       "      <th rowspan=\"5\" valign=\"top\">Canada</th>\n",
       "      <th>Using LLMs to Improve Your Coding</th>\n",
       "      <td>1095</td>\n",
       "      <td>1095</td>\n",
       "      <td>1095</td>\n",
       "    </tr>\n",
       "    <tr>\n",
       "      <th>Using LLMs to Train More LLMs</th>\n",
       "      <td>1095</td>\n",
       "      <td>1095</td>\n",
       "      <td>1095</td>\n",
       "    </tr>\n",
       "    <tr>\n",
       "      <th>Using LLMs to Win Friends and Influence People</th>\n",
       "      <td>1095</td>\n",
       "      <td>1095</td>\n",
       "      <td>1095</td>\n",
       "    </tr>\n",
       "    <tr>\n",
       "      <th>Using LLMs to Win More Kaggle Competitions</th>\n",
       "      <td>1095</td>\n",
       "      <td>1095</td>\n",
       "      <td>1095</td>\n",
       "    </tr>\n",
       "    <tr>\n",
       "      <th>Using LLMs to Write Better</th>\n",
       "      <td>1095</td>\n",
       "      <td>1095</td>\n",
       "      <td>1095</td>\n",
       "    </tr>\n",
       "    <tr>\n",
       "      <th rowspan=\"5\" valign=\"top\">Estonia</th>\n",
       "      <th>Using LLMs to Improve Your Coding</th>\n",
       "      <td>1095</td>\n",
       "      <td>1095</td>\n",
       "      <td>1095</td>\n",
       "    </tr>\n",
       "    <tr>\n",
       "      <th>Using LLMs to Train More LLMs</th>\n",
       "      <td>1095</td>\n",
       "      <td>1095</td>\n",
       "      <td>1095</td>\n",
       "    </tr>\n",
       "    <tr>\n",
       "      <th>Using LLMs to Win Friends and Influence People</th>\n",
       "      <td>1095</td>\n",
       "      <td>1095</td>\n",
       "      <td>1095</td>\n",
       "    </tr>\n",
       "    <tr>\n",
       "      <th>Using LLMs to Win More Kaggle Competitions</th>\n",
       "      <td>1095</td>\n",
       "      <td>1095</td>\n",
       "      <td>1095</td>\n",
       "    </tr>\n",
       "    <tr>\n",
       "      <th>Using LLMs to Write Better</th>\n",
       "      <td>1095</td>\n",
       "      <td>1095</td>\n",
       "      <td>1095</td>\n",
       "    </tr>\n",
       "    <tr>\n",
       "      <th rowspan=\"5\" valign=\"top\">Japan</th>\n",
       "      <th>Using LLMs to Improve Your Coding</th>\n",
       "      <td>1095</td>\n",
       "      <td>1095</td>\n",
       "      <td>1095</td>\n",
       "    </tr>\n",
       "    <tr>\n",
       "      <th>Using LLMs to Train More LLMs</th>\n",
       "      <td>1095</td>\n",
       "      <td>1095</td>\n",
       "      <td>1095</td>\n",
       "    </tr>\n",
       "    <tr>\n",
       "      <th>Using LLMs to Win Friends and Influence People</th>\n",
       "      <td>1095</td>\n",
       "      <td>1095</td>\n",
       "      <td>1095</td>\n",
       "    </tr>\n",
       "    <tr>\n",
       "      <th>Using LLMs to Win More Kaggle Competitions</th>\n",
       "      <td>1095</td>\n",
       "      <td>1095</td>\n",
       "      <td>1095</td>\n",
       "    </tr>\n",
       "    <tr>\n",
       "      <th>Using LLMs to Write Better</th>\n",
       "      <td>1095</td>\n",
       "      <td>1095</td>\n",
       "      <td>1095</td>\n",
       "    </tr>\n",
       "    <tr>\n",
       "      <th rowspan=\"5\" valign=\"top\">Spain</th>\n",
       "      <th>Using LLMs to Improve Your Coding</th>\n",
       "      <td>1095</td>\n",
       "      <td>1095</td>\n",
       "      <td>1095</td>\n",
       "    </tr>\n",
       "    <tr>\n",
       "      <th>Using LLMs to Train More LLMs</th>\n",
       "      <td>1095</td>\n",
       "      <td>1095</td>\n",
       "      <td>1095</td>\n",
       "    </tr>\n",
       "    <tr>\n",
       "      <th>Using LLMs to Win Friends and Influence People</th>\n",
       "      <td>1095</td>\n",
       "      <td>1095</td>\n",
       "      <td>1095</td>\n",
       "    </tr>\n",
       "    <tr>\n",
       "      <th>Using LLMs to Win More Kaggle Competitions</th>\n",
       "      <td>1095</td>\n",
       "      <td>1095</td>\n",
       "      <td>1095</td>\n",
       "    </tr>\n",
       "    <tr>\n",
       "      <th>Using LLMs to Write Better</th>\n",
       "      <td>1095</td>\n",
       "      <td>1095</td>\n",
       "      <td>1095</td>\n",
       "    </tr>\n",
       "  </tbody>\n",
       "</table>\n",
       "</div>"
      ],
      "text/plain": [
       "                                                            id  date  store\n",
       "country   product                                                          \n",
       "Argentina Using LLMs to Improve Your Coding               1095  1095   1095\n",
       "          Using LLMs to Train More LLMs                   1095  1095   1095\n",
       "          Using LLMs to Win Friends and Influence People  1095  1095   1095\n",
       "          Using LLMs to Win More Kaggle Competitions      1095  1095   1095\n",
       "          Using LLMs to Write Better                      1095  1095   1095\n",
       "Canada    Using LLMs to Improve Your Coding               1095  1095   1095\n",
       "          Using LLMs to Train More LLMs                   1095  1095   1095\n",
       "          Using LLMs to Win Friends and Influence People  1095  1095   1095\n",
       "          Using LLMs to Win More Kaggle Competitions      1095  1095   1095\n",
       "          Using LLMs to Write Better                      1095  1095   1095\n",
       "Estonia   Using LLMs to Improve Your Coding               1095  1095   1095\n",
       "          Using LLMs to Train More LLMs                   1095  1095   1095\n",
       "          Using LLMs to Win Friends and Influence People  1095  1095   1095\n",
       "          Using LLMs to Win More Kaggle Competitions      1095  1095   1095\n",
       "          Using LLMs to Write Better                      1095  1095   1095\n",
       "Japan     Using LLMs to Improve Your Coding               1095  1095   1095\n",
       "          Using LLMs to Train More LLMs                   1095  1095   1095\n",
       "          Using LLMs to Win Friends and Influence People  1095  1095   1095\n",
       "          Using LLMs to Win More Kaggle Competitions      1095  1095   1095\n",
       "          Using LLMs to Write Better                      1095  1095   1095\n",
       "Spain     Using LLMs to Improve Your Coding               1095  1095   1095\n",
       "          Using LLMs to Train More LLMs                   1095  1095   1095\n",
       "          Using LLMs to Win Friends and Influence People  1095  1095   1095\n",
       "          Using LLMs to Win More Kaggle Competitions      1095  1095   1095\n",
       "          Using LLMs to Write Better                      1095  1095   1095"
      ]
     },
     "execution_count": 24,
     "metadata": {},
     "output_type": "execute_result"
    }
   ],
   "source": [
    "test_data.groupby(by=['country','product']).count()"
   ]
  },
  {
   "cell_type": "markdown",
   "id": "2d17c36e",
   "metadata": {
    "papermill": {
     "duration": 0.03254,
     "end_time": "2023-07-15T03:27:56.343498",
     "exception": false,
     "start_time": "2023-07-15T03:27:56.310958",
     "status": "completed"
    },
    "tags": []
   },
   "source": [
    "there are 1095 entries per country per product in the test data."
   ]
  },
  {
   "cell_type": "code",
   "execution_count": 25,
   "id": "d65de3a2",
   "metadata": {
    "execution": {
     "iopub.execute_input": "2023-07-15T03:27:56.410015Z",
     "iopub.status.busy": "2023-07-15T03:27:56.409497Z",
     "iopub.status.idle": "2023-07-15T03:27:56.586543Z",
     "shell.execute_reply": "2023-07-15T03:27:56.585324Z"
    },
    "papermill": {
     "duration": 0.212712,
     "end_time": "2023-07-15T03:27:56.589088",
     "exception": false,
     "start_time": "2023-07-15T03:27:56.376376",
     "status": "completed"
    },
    "tags": []
   },
   "outputs": [
    {
     "data": {
      "text/html": [
       "<div>\n",
       "<style scoped>\n",
       "    .dataframe tbody tr th:only-of-type {\n",
       "        vertical-align: middle;\n",
       "    }\n",
       "\n",
       "    .dataframe tbody tr th {\n",
       "        vertical-align: top;\n",
       "    }\n",
       "\n",
       "    .dataframe thead th {\n",
       "        text-align: right;\n",
       "    }\n",
       "</style>\n",
       "<table border=\"1\" class=\"dataframe\">\n",
       "  <thead>\n",
       "    <tr style=\"text-align: right;\">\n",
       "      <th></th>\n",
       "      <th></th>\n",
       "      <th>id</th>\n",
       "      <th>date</th>\n",
       "      <th>country</th>\n",
       "      <th>store</th>\n",
       "    </tr>\n",
       "    <tr>\n",
       "      <th>product</th>\n",
       "      <th>num_sold</th>\n",
       "      <th></th>\n",
       "      <th></th>\n",
       "      <th></th>\n",
       "      <th></th>\n",
       "    </tr>\n",
       "  </thead>\n",
       "  <tbody>\n",
       "    <tr>\n",
       "      <th rowspan=\"5\" valign=\"top\">Using LLMs to Improve Your Coding</th>\n",
       "      <th>12</th>\n",
       "      <td>1</td>\n",
       "      <td>1</td>\n",
       "      <td>1</td>\n",
       "      <td>1</td>\n",
       "    </tr>\n",
       "    <tr>\n",
       "      <th>13</th>\n",
       "      <td>6</td>\n",
       "      <td>6</td>\n",
       "      <td>6</td>\n",
       "      <td>6</td>\n",
       "    </tr>\n",
       "    <tr>\n",
       "      <th>14</th>\n",
       "      <td>9</td>\n",
       "      <td>9</td>\n",
       "      <td>9</td>\n",
       "      <td>9</td>\n",
       "    </tr>\n",
       "    <tr>\n",
       "      <th>15</th>\n",
       "      <td>16</td>\n",
       "      <td>16</td>\n",
       "      <td>16</td>\n",
       "      <td>16</td>\n",
       "    </tr>\n",
       "    <tr>\n",
       "      <th>16</th>\n",
       "      <td>25</td>\n",
       "      <td>25</td>\n",
       "      <td>25</td>\n",
       "      <td>25</td>\n",
       "    </tr>\n",
       "    <tr>\n",
       "      <th>...</th>\n",
       "      <th>...</th>\n",
       "      <td>...</td>\n",
       "      <td>...</td>\n",
       "      <td>...</td>\n",
       "      <td>...</td>\n",
       "    </tr>\n",
       "    <tr>\n",
       "      <th rowspan=\"5\" valign=\"top\">Using LLMs to Write Better</th>\n",
       "      <th>936</th>\n",
       "      <td>1</td>\n",
       "      <td>1</td>\n",
       "      <td>1</td>\n",
       "      <td>1</td>\n",
       "    </tr>\n",
       "    <tr>\n",
       "      <th>957</th>\n",
       "      <td>1</td>\n",
       "      <td>1</td>\n",
       "      <td>1</td>\n",
       "      <td>1</td>\n",
       "    </tr>\n",
       "    <tr>\n",
       "      <th>982</th>\n",
       "      <td>1</td>\n",
       "      <td>1</td>\n",
       "      <td>1</td>\n",
       "      <td>1</td>\n",
       "    </tr>\n",
       "    <tr>\n",
       "      <th>1005</th>\n",
       "      <td>1</td>\n",
       "      <td>1</td>\n",
       "      <td>1</td>\n",
       "      <td>1</td>\n",
       "    </tr>\n",
       "    <tr>\n",
       "      <th>1009</th>\n",
       "      <td>1</td>\n",
       "      <td>1</td>\n",
       "      <td>1</td>\n",
       "      <td>1</td>\n",
       "    </tr>\n",
       "  </tbody>\n",
       "</table>\n",
       "<p>3680 rows × 4 columns</p>\n",
       "</div>"
      ],
      "text/plain": [
       "                                            id  date  country  store\n",
       "product                           num_sold                          \n",
       "Using LLMs to Improve Your Coding 12         1     1        1      1\n",
       "                                  13         6     6        6      6\n",
       "                                  14         9     9        9      9\n",
       "                                  15        16    16       16     16\n",
       "                                  16        25    25       25     25\n",
       "...                                         ..   ...      ...    ...\n",
       "Using LLMs to Write Better        936        1     1        1      1\n",
       "                                  957        1     1        1      1\n",
       "                                  982        1     1        1      1\n",
       "                                  1005       1     1        1      1\n",
       "                                  1009       1     1        1      1\n",
       "\n",
       "[3680 rows x 4 columns]"
      ]
     },
     "execution_count": 25,
     "metadata": {},
     "output_type": "execute_result"
    }
   ],
   "source": [
    "train_data.groupby(by=['product','num_sold']).count()"
   ]
  },
  {
   "cell_type": "markdown",
   "id": "02c97322",
   "metadata": {
    "papermill": {
     "duration": 0.031388,
     "end_time": "2023-07-15T03:27:56.652240",
     "exception": false,
     "start_time": "2023-07-15T03:27:56.620852",
     "status": "completed"
    },
    "tags": []
   },
   "source": [
    "there seems to be some sort of non distribution of sales among products. we'll get into the details later. "
   ]
  },
  {
   "cell_type": "code",
   "execution_count": 26,
   "id": "c8d0395b",
   "metadata": {
    "execution": {
     "iopub.execute_input": "2023-07-15T03:27:56.718210Z",
     "iopub.status.busy": "2023-07-15T03:27:56.717708Z",
     "iopub.status.idle": "2023-07-15T03:27:56.860159Z",
     "shell.execute_reply": "2023-07-15T03:27:56.858770Z"
    },
    "papermill": {
     "duration": 0.178454,
     "end_time": "2023-07-15T03:27:56.862955",
     "exception": false,
     "start_time": "2023-07-15T03:27:56.684501",
     "status": "completed"
    },
    "tags": []
   },
   "outputs": [
    {
     "data": {
      "text/html": [
       "<div>\n",
       "<style scoped>\n",
       "    .dataframe tbody tr th:only-of-type {\n",
       "        vertical-align: middle;\n",
       "    }\n",
       "\n",
       "    .dataframe tbody tr th {\n",
       "        vertical-align: top;\n",
       "    }\n",
       "\n",
       "    .dataframe thead th {\n",
       "        text-align: right;\n",
       "    }\n",
       "</style>\n",
       "<table border=\"1\" class=\"dataframe\">\n",
       "  <thead>\n",
       "    <tr style=\"text-align: right;\">\n",
       "      <th></th>\n",
       "      <th></th>\n",
       "      <th>id</th>\n",
       "      <th>country</th>\n",
       "      <th>product</th>\n",
       "      <th>num_sold</th>\n",
       "    </tr>\n",
       "    <tr>\n",
       "      <th>date</th>\n",
       "      <th>store</th>\n",
       "      <th></th>\n",
       "      <th></th>\n",
       "      <th></th>\n",
       "      <th></th>\n",
       "    </tr>\n",
       "  </thead>\n",
       "  <tbody>\n",
       "    <tr>\n",
       "      <th rowspan=\"3\" valign=\"top\">2017-01-01</th>\n",
       "      <th>Kagglazon</th>\n",
       "      <td>25</td>\n",
       "      <td>25</td>\n",
       "      <td>25</td>\n",
       "      <td>25</td>\n",
       "    </tr>\n",
       "    <tr>\n",
       "      <th>Kaggle Learn</th>\n",
       "      <td>25</td>\n",
       "      <td>25</td>\n",
       "      <td>25</td>\n",
       "      <td>25</td>\n",
       "    </tr>\n",
       "    <tr>\n",
       "      <th>Kaggle Store</th>\n",
       "      <td>25</td>\n",
       "      <td>25</td>\n",
       "      <td>25</td>\n",
       "      <td>25</td>\n",
       "    </tr>\n",
       "    <tr>\n",
       "      <th rowspan=\"2\" valign=\"top\">2017-01-02</th>\n",
       "      <th>Kagglazon</th>\n",
       "      <td>25</td>\n",
       "      <td>25</td>\n",
       "      <td>25</td>\n",
       "      <td>25</td>\n",
       "    </tr>\n",
       "    <tr>\n",
       "      <th>Kaggle Learn</th>\n",
       "      <td>25</td>\n",
       "      <td>25</td>\n",
       "      <td>25</td>\n",
       "      <td>25</td>\n",
       "    </tr>\n",
       "    <tr>\n",
       "      <th>...</th>\n",
       "      <th>...</th>\n",
       "      <td>...</td>\n",
       "      <td>...</td>\n",
       "      <td>...</td>\n",
       "      <td>...</td>\n",
       "    </tr>\n",
       "    <tr>\n",
       "      <th rowspan=\"2\" valign=\"top\">2021-12-30</th>\n",
       "      <th>Kaggle Learn</th>\n",
       "      <td>25</td>\n",
       "      <td>25</td>\n",
       "      <td>25</td>\n",
       "      <td>25</td>\n",
       "    </tr>\n",
       "    <tr>\n",
       "      <th>Kaggle Store</th>\n",
       "      <td>25</td>\n",
       "      <td>25</td>\n",
       "      <td>25</td>\n",
       "      <td>25</td>\n",
       "    </tr>\n",
       "    <tr>\n",
       "      <th rowspan=\"3\" valign=\"top\">2021-12-31</th>\n",
       "      <th>Kagglazon</th>\n",
       "      <td>25</td>\n",
       "      <td>25</td>\n",
       "      <td>25</td>\n",
       "      <td>25</td>\n",
       "    </tr>\n",
       "    <tr>\n",
       "      <th>Kaggle Learn</th>\n",
       "      <td>25</td>\n",
       "      <td>25</td>\n",
       "      <td>25</td>\n",
       "      <td>25</td>\n",
       "    </tr>\n",
       "    <tr>\n",
       "      <th>Kaggle Store</th>\n",
       "      <td>25</td>\n",
       "      <td>25</td>\n",
       "      <td>25</td>\n",
       "      <td>25</td>\n",
       "    </tr>\n",
       "  </tbody>\n",
       "</table>\n",
       "<p>5478 rows × 4 columns</p>\n",
       "</div>"
      ],
      "text/plain": [
       "                         id  country  product  num_sold\n",
       "date       store                                       \n",
       "2017-01-01 Kagglazon     25       25       25        25\n",
       "           Kaggle Learn  25       25       25        25\n",
       "           Kaggle Store  25       25       25        25\n",
       "2017-01-02 Kagglazon     25       25       25        25\n",
       "           Kaggle Learn  25       25       25        25\n",
       "...                      ..      ...      ...       ...\n",
       "2021-12-30 Kaggle Learn  25       25       25        25\n",
       "           Kaggle Store  25       25       25        25\n",
       "2021-12-31 Kagglazon     25       25       25        25\n",
       "           Kaggle Learn  25       25       25        25\n",
       "           Kaggle Store  25       25       25        25\n",
       "\n",
       "[5478 rows x 4 columns]"
      ]
     },
     "execution_count": 26,
     "metadata": {},
     "output_type": "execute_result"
    }
   ],
   "source": [
    "train_data.groupby(by=['date','store']).count()"
   ]
  },
  {
   "cell_type": "markdown",
   "id": "c93bf206",
   "metadata": {
    "papermill": {
     "duration": 0.032068,
     "end_time": "2023-07-15T03:27:56.927695",
     "exception": false,
     "start_time": "2023-07-15T03:27:56.895627",
     "status": "completed"
    },
    "tags": []
   },
   "source": [
    "there are 25 entries per date per store in the train data. "
   ]
  },
  {
   "cell_type": "code",
   "execution_count": 27,
   "id": "4b31d83e",
   "metadata": {
    "execution": {
     "iopub.execute_input": "2023-07-15T03:27:56.995296Z",
     "iopub.status.busy": "2023-07-15T03:27:56.994269Z",
     "iopub.status.idle": "2023-07-15T03:27:57.041003Z",
     "shell.execute_reply": "2023-07-15T03:27:57.039882Z"
    },
    "papermill": {
     "duration": 0.083395,
     "end_time": "2023-07-15T03:27:57.043405",
     "exception": false,
     "start_time": "2023-07-15T03:27:56.960010",
     "status": "completed"
    },
    "tags": []
   },
   "outputs": [
    {
     "data": {
      "text/html": [
       "<div>\n",
       "<style scoped>\n",
       "    .dataframe tbody tr th:only-of-type {\n",
       "        vertical-align: middle;\n",
       "    }\n",
       "\n",
       "    .dataframe tbody tr th {\n",
       "        vertical-align: top;\n",
       "    }\n",
       "\n",
       "    .dataframe thead th {\n",
       "        text-align: right;\n",
       "    }\n",
       "</style>\n",
       "<table border=\"1\" class=\"dataframe\">\n",
       "  <thead>\n",
       "    <tr style=\"text-align: right;\">\n",
       "      <th></th>\n",
       "      <th></th>\n",
       "      <th>id</th>\n",
       "      <th>country</th>\n",
       "      <th>product</th>\n",
       "    </tr>\n",
       "    <tr>\n",
       "      <th>date</th>\n",
       "      <th>store</th>\n",
       "      <th></th>\n",
       "      <th></th>\n",
       "      <th></th>\n",
       "    </tr>\n",
       "  </thead>\n",
       "  <tbody>\n",
       "    <tr>\n",
       "      <th rowspan=\"3\" valign=\"top\">2022-01-01</th>\n",
       "      <th>Kagglazon</th>\n",
       "      <td>25</td>\n",
       "      <td>25</td>\n",
       "      <td>25</td>\n",
       "    </tr>\n",
       "    <tr>\n",
       "      <th>Kaggle Learn</th>\n",
       "      <td>25</td>\n",
       "      <td>25</td>\n",
       "      <td>25</td>\n",
       "    </tr>\n",
       "    <tr>\n",
       "      <th>Kaggle Store</th>\n",
       "      <td>25</td>\n",
       "      <td>25</td>\n",
       "      <td>25</td>\n",
       "    </tr>\n",
       "    <tr>\n",
       "      <th rowspan=\"2\" valign=\"top\">2022-01-02</th>\n",
       "      <th>Kagglazon</th>\n",
       "      <td>25</td>\n",
       "      <td>25</td>\n",
       "      <td>25</td>\n",
       "    </tr>\n",
       "    <tr>\n",
       "      <th>Kaggle Learn</th>\n",
       "      <td>25</td>\n",
       "      <td>25</td>\n",
       "      <td>25</td>\n",
       "    </tr>\n",
       "    <tr>\n",
       "      <th>...</th>\n",
       "      <th>...</th>\n",
       "      <td>...</td>\n",
       "      <td>...</td>\n",
       "      <td>...</td>\n",
       "    </tr>\n",
       "    <tr>\n",
       "      <th rowspan=\"2\" valign=\"top\">2022-12-30</th>\n",
       "      <th>Kaggle Learn</th>\n",
       "      <td>25</td>\n",
       "      <td>25</td>\n",
       "      <td>25</td>\n",
       "    </tr>\n",
       "    <tr>\n",
       "      <th>Kaggle Store</th>\n",
       "      <td>25</td>\n",
       "      <td>25</td>\n",
       "      <td>25</td>\n",
       "    </tr>\n",
       "    <tr>\n",
       "      <th rowspan=\"3\" valign=\"top\">2022-12-31</th>\n",
       "      <th>Kagglazon</th>\n",
       "      <td>25</td>\n",
       "      <td>25</td>\n",
       "      <td>25</td>\n",
       "    </tr>\n",
       "    <tr>\n",
       "      <th>Kaggle Learn</th>\n",
       "      <td>25</td>\n",
       "      <td>25</td>\n",
       "      <td>25</td>\n",
       "    </tr>\n",
       "    <tr>\n",
       "      <th>Kaggle Store</th>\n",
       "      <td>25</td>\n",
       "      <td>25</td>\n",
       "      <td>25</td>\n",
       "    </tr>\n",
       "  </tbody>\n",
       "</table>\n",
       "<p>1095 rows × 3 columns</p>\n",
       "</div>"
      ],
      "text/plain": [
       "                         id  country  product\n",
       "date       store                             \n",
       "2022-01-01 Kagglazon     25       25       25\n",
       "           Kaggle Learn  25       25       25\n",
       "           Kaggle Store  25       25       25\n",
       "2022-01-02 Kagglazon     25       25       25\n",
       "           Kaggle Learn  25       25       25\n",
       "...                      ..      ...      ...\n",
       "2022-12-30 Kaggle Learn  25       25       25\n",
       "           Kaggle Store  25       25       25\n",
       "2022-12-31 Kagglazon     25       25       25\n",
       "           Kaggle Learn  25       25       25\n",
       "           Kaggle Store  25       25       25\n",
       "\n",
       "[1095 rows x 3 columns]"
      ]
     },
     "execution_count": 27,
     "metadata": {},
     "output_type": "execute_result"
    }
   ],
   "source": [
    "test_data.groupby(by=['date','store']).count()"
   ]
  },
  {
   "cell_type": "markdown",
   "id": "662d5a57",
   "metadata": {
    "papermill": {
     "duration": 0.032239,
     "end_time": "2023-07-15T03:27:57.108124",
     "exception": false,
     "start_time": "2023-07-15T03:27:57.075885",
     "status": "completed"
    },
    "tags": []
   },
   "source": [
    "there are 25 entries per date per store in the test data as well. "
   ]
  },
  {
   "cell_type": "code",
   "execution_count": 28,
   "id": "8c5e1120",
   "metadata": {
    "execution": {
     "iopub.execute_input": "2023-07-15T03:27:57.175026Z",
     "iopub.status.busy": "2023-07-15T03:27:57.174572Z",
     "iopub.status.idle": "2023-07-15T03:27:57.319986Z",
     "shell.execute_reply": "2023-07-15T03:27:57.318825Z"
    },
    "papermill": {
     "duration": 0.181905,
     "end_time": "2023-07-15T03:27:57.322426",
     "exception": false,
     "start_time": "2023-07-15T03:27:57.140521",
     "status": "completed"
    },
    "tags": []
   },
   "outputs": [
    {
     "data": {
      "text/html": [
       "<div>\n",
       "<style scoped>\n",
       "    .dataframe tbody tr th:only-of-type {\n",
       "        vertical-align: middle;\n",
       "    }\n",
       "\n",
       "    .dataframe tbody tr th {\n",
       "        vertical-align: top;\n",
       "    }\n",
       "\n",
       "    .dataframe thead th {\n",
       "        text-align: right;\n",
       "    }\n",
       "</style>\n",
       "<table border=\"1\" class=\"dataframe\">\n",
       "  <thead>\n",
       "    <tr style=\"text-align: right;\">\n",
       "      <th></th>\n",
       "      <th></th>\n",
       "      <th>id</th>\n",
       "      <th>country</th>\n",
       "      <th>store</th>\n",
       "      <th>num_sold</th>\n",
       "    </tr>\n",
       "    <tr>\n",
       "      <th>date</th>\n",
       "      <th>product</th>\n",
       "      <th></th>\n",
       "      <th></th>\n",
       "      <th></th>\n",
       "      <th></th>\n",
       "    </tr>\n",
       "  </thead>\n",
       "  <tbody>\n",
       "    <tr>\n",
       "      <th rowspan=\"5\" valign=\"top\">2017-01-01</th>\n",
       "      <th>Using LLMs to Improve Your Coding</th>\n",
       "      <td>15</td>\n",
       "      <td>15</td>\n",
       "      <td>15</td>\n",
       "      <td>15</td>\n",
       "    </tr>\n",
       "    <tr>\n",
       "      <th>Using LLMs to Train More LLMs</th>\n",
       "      <td>15</td>\n",
       "      <td>15</td>\n",
       "      <td>15</td>\n",
       "      <td>15</td>\n",
       "    </tr>\n",
       "    <tr>\n",
       "      <th>Using LLMs to Win Friends and Influence People</th>\n",
       "      <td>15</td>\n",
       "      <td>15</td>\n",
       "      <td>15</td>\n",
       "      <td>15</td>\n",
       "    </tr>\n",
       "    <tr>\n",
       "      <th>Using LLMs to Win More Kaggle Competitions</th>\n",
       "      <td>15</td>\n",
       "      <td>15</td>\n",
       "      <td>15</td>\n",
       "      <td>15</td>\n",
       "    </tr>\n",
       "    <tr>\n",
       "      <th>Using LLMs to Write Better</th>\n",
       "      <td>15</td>\n",
       "      <td>15</td>\n",
       "      <td>15</td>\n",
       "      <td>15</td>\n",
       "    </tr>\n",
       "    <tr>\n",
       "      <th>...</th>\n",
       "      <th>...</th>\n",
       "      <td>...</td>\n",
       "      <td>...</td>\n",
       "      <td>...</td>\n",
       "      <td>...</td>\n",
       "    </tr>\n",
       "    <tr>\n",
       "      <th rowspan=\"5\" valign=\"top\">2021-12-31</th>\n",
       "      <th>Using LLMs to Improve Your Coding</th>\n",
       "      <td>15</td>\n",
       "      <td>15</td>\n",
       "      <td>15</td>\n",
       "      <td>15</td>\n",
       "    </tr>\n",
       "    <tr>\n",
       "      <th>Using LLMs to Train More LLMs</th>\n",
       "      <td>15</td>\n",
       "      <td>15</td>\n",
       "      <td>15</td>\n",
       "      <td>15</td>\n",
       "    </tr>\n",
       "    <tr>\n",
       "      <th>Using LLMs to Win Friends and Influence People</th>\n",
       "      <td>15</td>\n",
       "      <td>15</td>\n",
       "      <td>15</td>\n",
       "      <td>15</td>\n",
       "    </tr>\n",
       "    <tr>\n",
       "      <th>Using LLMs to Win More Kaggle Competitions</th>\n",
       "      <td>15</td>\n",
       "      <td>15</td>\n",
       "      <td>15</td>\n",
       "      <td>15</td>\n",
       "    </tr>\n",
       "    <tr>\n",
       "      <th>Using LLMs to Write Better</th>\n",
       "      <td>15</td>\n",
       "      <td>15</td>\n",
       "      <td>15</td>\n",
       "      <td>15</td>\n",
       "    </tr>\n",
       "  </tbody>\n",
       "</table>\n",
       "<p>9130 rows × 4 columns</p>\n",
       "</div>"
      ],
      "text/plain": [
       "                                                           id  country  store  \\\n",
       "date       product                                                              \n",
       "2017-01-01 Using LLMs to Improve Your Coding               15       15     15   \n",
       "           Using LLMs to Train More LLMs                   15       15     15   \n",
       "           Using LLMs to Win Friends and Influence People  15       15     15   \n",
       "           Using LLMs to Win More Kaggle Competitions      15       15     15   \n",
       "           Using LLMs to Write Better                      15       15     15   \n",
       "...                                                        ..      ...    ...   \n",
       "2021-12-31 Using LLMs to Improve Your Coding               15       15     15   \n",
       "           Using LLMs to Train More LLMs                   15       15     15   \n",
       "           Using LLMs to Win Friends and Influence People  15       15     15   \n",
       "           Using LLMs to Win More Kaggle Competitions      15       15     15   \n",
       "           Using LLMs to Write Better                      15       15     15   \n",
       "\n",
       "                                                           num_sold  \n",
       "date       product                                                   \n",
       "2017-01-01 Using LLMs to Improve Your Coding                     15  \n",
       "           Using LLMs to Train More LLMs                         15  \n",
       "           Using LLMs to Win Friends and Influence People        15  \n",
       "           Using LLMs to Win More Kaggle Competitions            15  \n",
       "           Using LLMs to Write Better                            15  \n",
       "...                                                             ...  \n",
       "2021-12-31 Using LLMs to Improve Your Coding                     15  \n",
       "           Using LLMs to Train More LLMs                         15  \n",
       "           Using LLMs to Win Friends and Influence People        15  \n",
       "           Using LLMs to Win More Kaggle Competitions            15  \n",
       "           Using LLMs to Write Better                            15  \n",
       "\n",
       "[9130 rows x 4 columns]"
      ]
     },
     "execution_count": 28,
     "metadata": {},
     "output_type": "execute_result"
    }
   ],
   "source": [
    "train_data.groupby(by=['date','product']).count()"
   ]
  },
  {
   "cell_type": "markdown",
   "id": "3161a7d8",
   "metadata": {
    "papermill": {
     "duration": 0.032736,
     "end_time": "2023-07-15T03:27:57.388159",
     "exception": false,
     "start_time": "2023-07-15T03:27:57.355423",
     "status": "completed"
    },
    "tags": []
   },
   "source": [
    "there are 15 entries per date per product in the train data."
   ]
  },
  {
   "cell_type": "code",
   "execution_count": 29,
   "id": "1ed95255",
   "metadata": {
    "execution": {
     "iopub.execute_input": "2023-07-15T03:27:57.455633Z",
     "iopub.status.busy": "2023-07-15T03:27:57.455176Z",
     "iopub.status.idle": "2023-07-15T03:27:57.498391Z",
     "shell.execute_reply": "2023-07-15T03:27:57.497574Z"
    },
    "papermill": {
     "duration": 0.07995,
     "end_time": "2023-07-15T03:27:57.500734",
     "exception": false,
     "start_time": "2023-07-15T03:27:57.420784",
     "status": "completed"
    },
    "tags": []
   },
   "outputs": [
    {
     "data": {
      "text/html": [
       "<div>\n",
       "<style scoped>\n",
       "    .dataframe tbody tr th:only-of-type {\n",
       "        vertical-align: middle;\n",
       "    }\n",
       "\n",
       "    .dataframe tbody tr th {\n",
       "        vertical-align: top;\n",
       "    }\n",
       "\n",
       "    .dataframe thead th {\n",
       "        text-align: right;\n",
       "    }\n",
       "</style>\n",
       "<table border=\"1\" class=\"dataframe\">\n",
       "  <thead>\n",
       "    <tr style=\"text-align: right;\">\n",
       "      <th></th>\n",
       "      <th></th>\n",
       "      <th>id</th>\n",
       "      <th>country</th>\n",
       "      <th>store</th>\n",
       "    </tr>\n",
       "    <tr>\n",
       "      <th>date</th>\n",
       "      <th>product</th>\n",
       "      <th></th>\n",
       "      <th></th>\n",
       "      <th></th>\n",
       "    </tr>\n",
       "  </thead>\n",
       "  <tbody>\n",
       "    <tr>\n",
       "      <th rowspan=\"5\" valign=\"top\">2022-01-01</th>\n",
       "      <th>Using LLMs to Improve Your Coding</th>\n",
       "      <td>15</td>\n",
       "      <td>15</td>\n",
       "      <td>15</td>\n",
       "    </tr>\n",
       "    <tr>\n",
       "      <th>Using LLMs to Train More LLMs</th>\n",
       "      <td>15</td>\n",
       "      <td>15</td>\n",
       "      <td>15</td>\n",
       "    </tr>\n",
       "    <tr>\n",
       "      <th>Using LLMs to Win Friends and Influence People</th>\n",
       "      <td>15</td>\n",
       "      <td>15</td>\n",
       "      <td>15</td>\n",
       "    </tr>\n",
       "    <tr>\n",
       "      <th>Using LLMs to Win More Kaggle Competitions</th>\n",
       "      <td>15</td>\n",
       "      <td>15</td>\n",
       "      <td>15</td>\n",
       "    </tr>\n",
       "    <tr>\n",
       "      <th>Using LLMs to Write Better</th>\n",
       "      <td>15</td>\n",
       "      <td>15</td>\n",
       "      <td>15</td>\n",
       "    </tr>\n",
       "    <tr>\n",
       "      <th>...</th>\n",
       "      <th>...</th>\n",
       "      <td>...</td>\n",
       "      <td>...</td>\n",
       "      <td>...</td>\n",
       "    </tr>\n",
       "    <tr>\n",
       "      <th rowspan=\"5\" valign=\"top\">2022-12-31</th>\n",
       "      <th>Using LLMs to Improve Your Coding</th>\n",
       "      <td>15</td>\n",
       "      <td>15</td>\n",
       "      <td>15</td>\n",
       "    </tr>\n",
       "    <tr>\n",
       "      <th>Using LLMs to Train More LLMs</th>\n",
       "      <td>15</td>\n",
       "      <td>15</td>\n",
       "      <td>15</td>\n",
       "    </tr>\n",
       "    <tr>\n",
       "      <th>Using LLMs to Win Friends and Influence People</th>\n",
       "      <td>15</td>\n",
       "      <td>15</td>\n",
       "      <td>15</td>\n",
       "    </tr>\n",
       "    <tr>\n",
       "      <th>Using LLMs to Win More Kaggle Competitions</th>\n",
       "      <td>15</td>\n",
       "      <td>15</td>\n",
       "      <td>15</td>\n",
       "    </tr>\n",
       "    <tr>\n",
       "      <th>Using LLMs to Write Better</th>\n",
       "      <td>15</td>\n",
       "      <td>15</td>\n",
       "      <td>15</td>\n",
       "    </tr>\n",
       "  </tbody>\n",
       "</table>\n",
       "<p>1825 rows × 3 columns</p>\n",
       "</div>"
      ],
      "text/plain": [
       "                                                           id  country  store\n",
       "date       product                                                           \n",
       "2022-01-01 Using LLMs to Improve Your Coding               15       15     15\n",
       "           Using LLMs to Train More LLMs                   15       15     15\n",
       "           Using LLMs to Win Friends and Influence People  15       15     15\n",
       "           Using LLMs to Win More Kaggle Competitions      15       15     15\n",
       "           Using LLMs to Write Better                      15       15     15\n",
       "...                                                        ..      ...    ...\n",
       "2022-12-31 Using LLMs to Improve Your Coding               15       15     15\n",
       "           Using LLMs to Train More LLMs                   15       15     15\n",
       "           Using LLMs to Win Friends and Influence People  15       15     15\n",
       "           Using LLMs to Win More Kaggle Competitions      15       15     15\n",
       "           Using LLMs to Write Better                      15       15     15\n",
       "\n",
       "[1825 rows x 3 columns]"
      ]
     },
     "execution_count": 29,
     "metadata": {},
     "output_type": "execute_result"
    }
   ],
   "source": [
    "test_data.groupby(by=['date','product']).count()"
   ]
  },
  {
   "cell_type": "markdown",
   "id": "7876d446",
   "metadata": {
    "papermill": {
     "duration": 0.035663,
     "end_time": "2023-07-15T03:27:57.570577",
     "exception": false,
     "start_time": "2023-07-15T03:27:57.534914",
     "status": "completed"
    },
    "tags": []
   },
   "source": [
    "there are 15 entries per date per product in the test data as well."
   ]
  },
  {
   "cell_type": "code",
   "execution_count": 30,
   "id": "0b1b4b5a",
   "metadata": {
    "execution": {
     "iopub.execute_input": "2023-07-15T03:27:57.642154Z",
     "iopub.status.busy": "2023-07-15T03:27:57.641763Z",
     "iopub.status.idle": "2023-07-15T03:27:57.780729Z",
     "shell.execute_reply": "2023-07-15T03:27:57.779483Z"
    },
    "papermill": {
     "duration": 0.178321,
     "end_time": "2023-07-15T03:27:57.783470",
     "exception": false,
     "start_time": "2023-07-15T03:27:57.605149",
     "status": "completed"
    },
    "tags": []
   },
   "outputs": [
    {
     "data": {
      "text/html": [
       "<div>\n",
       "<style scoped>\n",
       "    .dataframe tbody tr th:only-of-type {\n",
       "        vertical-align: middle;\n",
       "    }\n",
       "\n",
       "    .dataframe tbody tr th {\n",
       "        vertical-align: top;\n",
       "    }\n",
       "\n",
       "    .dataframe thead th {\n",
       "        text-align: right;\n",
       "    }\n",
       "</style>\n",
       "<table border=\"1\" class=\"dataframe\">\n",
       "  <thead>\n",
       "    <tr style=\"text-align: right;\">\n",
       "      <th></th>\n",
       "      <th></th>\n",
       "      <th>id</th>\n",
       "      <th>date</th>\n",
       "      <th>store</th>\n",
       "      <th>num_sold</th>\n",
       "    </tr>\n",
       "    <tr>\n",
       "      <th>country</th>\n",
       "      <th>product</th>\n",
       "      <th></th>\n",
       "      <th></th>\n",
       "      <th></th>\n",
       "      <th></th>\n",
       "    </tr>\n",
       "  </thead>\n",
       "  <tbody>\n",
       "    <tr>\n",
       "      <th rowspan=\"5\" valign=\"top\">Argentina</th>\n",
       "      <th>Using LLMs to Improve Your Coding</th>\n",
       "      <td>5478</td>\n",
       "      <td>5478</td>\n",
       "      <td>5478</td>\n",
       "      <td>5478</td>\n",
       "    </tr>\n",
       "    <tr>\n",
       "      <th>Using LLMs to Train More LLMs</th>\n",
       "      <td>5478</td>\n",
       "      <td>5478</td>\n",
       "      <td>5478</td>\n",
       "      <td>5478</td>\n",
       "    </tr>\n",
       "    <tr>\n",
       "      <th>Using LLMs to Win Friends and Influence People</th>\n",
       "      <td>5478</td>\n",
       "      <td>5478</td>\n",
       "      <td>5478</td>\n",
       "      <td>5478</td>\n",
       "    </tr>\n",
       "    <tr>\n",
       "      <th>Using LLMs to Win More Kaggle Competitions</th>\n",
       "      <td>5478</td>\n",
       "      <td>5478</td>\n",
       "      <td>5478</td>\n",
       "      <td>5478</td>\n",
       "    </tr>\n",
       "    <tr>\n",
       "      <th>Using LLMs to Write Better</th>\n",
       "      <td>5478</td>\n",
       "      <td>5478</td>\n",
       "      <td>5478</td>\n",
       "      <td>5478</td>\n",
       "    </tr>\n",
       "    <tr>\n",
       "      <th rowspan=\"5\" valign=\"top\">Canada</th>\n",
       "      <th>Using LLMs to Improve Your Coding</th>\n",
       "      <td>5478</td>\n",
       "      <td>5478</td>\n",
       "      <td>5478</td>\n",
       "      <td>5478</td>\n",
       "    </tr>\n",
       "    <tr>\n",
       "      <th>Using LLMs to Train More LLMs</th>\n",
       "      <td>5478</td>\n",
       "      <td>5478</td>\n",
       "      <td>5478</td>\n",
       "      <td>5478</td>\n",
       "    </tr>\n",
       "    <tr>\n",
       "      <th>Using LLMs to Win Friends and Influence People</th>\n",
       "      <td>5478</td>\n",
       "      <td>5478</td>\n",
       "      <td>5478</td>\n",
       "      <td>5478</td>\n",
       "    </tr>\n",
       "    <tr>\n",
       "      <th>Using LLMs to Win More Kaggle Competitions</th>\n",
       "      <td>5478</td>\n",
       "      <td>5478</td>\n",
       "      <td>5478</td>\n",
       "      <td>5478</td>\n",
       "    </tr>\n",
       "    <tr>\n",
       "      <th>Using LLMs to Write Better</th>\n",
       "      <td>5478</td>\n",
       "      <td>5478</td>\n",
       "      <td>5478</td>\n",
       "      <td>5478</td>\n",
       "    </tr>\n",
       "    <tr>\n",
       "      <th rowspan=\"5\" valign=\"top\">Estonia</th>\n",
       "      <th>Using LLMs to Improve Your Coding</th>\n",
       "      <td>5478</td>\n",
       "      <td>5478</td>\n",
       "      <td>5478</td>\n",
       "      <td>5478</td>\n",
       "    </tr>\n",
       "    <tr>\n",
       "      <th>Using LLMs to Train More LLMs</th>\n",
       "      <td>5478</td>\n",
       "      <td>5478</td>\n",
       "      <td>5478</td>\n",
       "      <td>5478</td>\n",
       "    </tr>\n",
       "    <tr>\n",
       "      <th>Using LLMs to Win Friends and Influence People</th>\n",
       "      <td>5478</td>\n",
       "      <td>5478</td>\n",
       "      <td>5478</td>\n",
       "      <td>5478</td>\n",
       "    </tr>\n",
       "    <tr>\n",
       "      <th>Using LLMs to Win More Kaggle Competitions</th>\n",
       "      <td>5478</td>\n",
       "      <td>5478</td>\n",
       "      <td>5478</td>\n",
       "      <td>5478</td>\n",
       "    </tr>\n",
       "    <tr>\n",
       "      <th>Using LLMs to Write Better</th>\n",
       "      <td>5478</td>\n",
       "      <td>5478</td>\n",
       "      <td>5478</td>\n",
       "      <td>5478</td>\n",
       "    </tr>\n",
       "    <tr>\n",
       "      <th rowspan=\"5\" valign=\"top\">Japan</th>\n",
       "      <th>Using LLMs to Improve Your Coding</th>\n",
       "      <td>5478</td>\n",
       "      <td>5478</td>\n",
       "      <td>5478</td>\n",
       "      <td>5478</td>\n",
       "    </tr>\n",
       "    <tr>\n",
       "      <th>Using LLMs to Train More LLMs</th>\n",
       "      <td>5478</td>\n",
       "      <td>5478</td>\n",
       "      <td>5478</td>\n",
       "      <td>5478</td>\n",
       "    </tr>\n",
       "    <tr>\n",
       "      <th>Using LLMs to Win Friends and Influence People</th>\n",
       "      <td>5478</td>\n",
       "      <td>5478</td>\n",
       "      <td>5478</td>\n",
       "      <td>5478</td>\n",
       "    </tr>\n",
       "    <tr>\n",
       "      <th>Using LLMs to Win More Kaggle Competitions</th>\n",
       "      <td>5478</td>\n",
       "      <td>5478</td>\n",
       "      <td>5478</td>\n",
       "      <td>5478</td>\n",
       "    </tr>\n",
       "    <tr>\n",
       "      <th>Using LLMs to Write Better</th>\n",
       "      <td>5478</td>\n",
       "      <td>5478</td>\n",
       "      <td>5478</td>\n",
       "      <td>5478</td>\n",
       "    </tr>\n",
       "    <tr>\n",
       "      <th rowspan=\"5\" valign=\"top\">Spain</th>\n",
       "      <th>Using LLMs to Improve Your Coding</th>\n",
       "      <td>5478</td>\n",
       "      <td>5478</td>\n",
       "      <td>5478</td>\n",
       "      <td>5478</td>\n",
       "    </tr>\n",
       "    <tr>\n",
       "      <th>Using LLMs to Train More LLMs</th>\n",
       "      <td>5478</td>\n",
       "      <td>5478</td>\n",
       "      <td>5478</td>\n",
       "      <td>5478</td>\n",
       "    </tr>\n",
       "    <tr>\n",
       "      <th>Using LLMs to Win Friends and Influence People</th>\n",
       "      <td>5478</td>\n",
       "      <td>5478</td>\n",
       "      <td>5478</td>\n",
       "      <td>5478</td>\n",
       "    </tr>\n",
       "    <tr>\n",
       "      <th>Using LLMs to Win More Kaggle Competitions</th>\n",
       "      <td>5478</td>\n",
       "      <td>5478</td>\n",
       "      <td>5478</td>\n",
       "      <td>5478</td>\n",
       "    </tr>\n",
       "    <tr>\n",
       "      <th>Using LLMs to Write Better</th>\n",
       "      <td>5478</td>\n",
       "      <td>5478</td>\n",
       "      <td>5478</td>\n",
       "      <td>5478</td>\n",
       "    </tr>\n",
       "  </tbody>\n",
       "</table>\n",
       "</div>"
      ],
      "text/plain": [
       "                                                            id  date  store  \\\n",
       "country   product                                                             \n",
       "Argentina Using LLMs to Improve Your Coding               5478  5478   5478   \n",
       "          Using LLMs to Train More LLMs                   5478  5478   5478   \n",
       "          Using LLMs to Win Friends and Influence People  5478  5478   5478   \n",
       "          Using LLMs to Win More Kaggle Competitions      5478  5478   5478   \n",
       "          Using LLMs to Write Better                      5478  5478   5478   \n",
       "Canada    Using LLMs to Improve Your Coding               5478  5478   5478   \n",
       "          Using LLMs to Train More LLMs                   5478  5478   5478   \n",
       "          Using LLMs to Win Friends and Influence People  5478  5478   5478   \n",
       "          Using LLMs to Win More Kaggle Competitions      5478  5478   5478   \n",
       "          Using LLMs to Write Better                      5478  5478   5478   \n",
       "Estonia   Using LLMs to Improve Your Coding               5478  5478   5478   \n",
       "          Using LLMs to Train More LLMs                   5478  5478   5478   \n",
       "          Using LLMs to Win Friends and Influence People  5478  5478   5478   \n",
       "          Using LLMs to Win More Kaggle Competitions      5478  5478   5478   \n",
       "          Using LLMs to Write Better                      5478  5478   5478   \n",
       "Japan     Using LLMs to Improve Your Coding               5478  5478   5478   \n",
       "          Using LLMs to Train More LLMs                   5478  5478   5478   \n",
       "          Using LLMs to Win Friends and Influence People  5478  5478   5478   \n",
       "          Using LLMs to Win More Kaggle Competitions      5478  5478   5478   \n",
       "          Using LLMs to Write Better                      5478  5478   5478   \n",
       "Spain     Using LLMs to Improve Your Coding               5478  5478   5478   \n",
       "          Using LLMs to Train More LLMs                   5478  5478   5478   \n",
       "          Using LLMs to Win Friends and Influence People  5478  5478   5478   \n",
       "          Using LLMs to Win More Kaggle Competitions      5478  5478   5478   \n",
       "          Using LLMs to Write Better                      5478  5478   5478   \n",
       "\n",
       "                                                          num_sold  \n",
       "country   product                                                   \n",
       "Argentina Using LLMs to Improve Your Coding                   5478  \n",
       "          Using LLMs to Train More LLMs                       5478  \n",
       "          Using LLMs to Win Friends and Influence People      5478  \n",
       "          Using LLMs to Win More Kaggle Competitions          5478  \n",
       "          Using LLMs to Write Better                          5478  \n",
       "Canada    Using LLMs to Improve Your Coding                   5478  \n",
       "          Using LLMs to Train More LLMs                       5478  \n",
       "          Using LLMs to Win Friends and Influence People      5478  \n",
       "          Using LLMs to Win More Kaggle Competitions          5478  \n",
       "          Using LLMs to Write Better                          5478  \n",
       "Estonia   Using LLMs to Improve Your Coding                   5478  \n",
       "          Using LLMs to Train More LLMs                       5478  \n",
       "          Using LLMs to Win Friends and Influence People      5478  \n",
       "          Using LLMs to Win More Kaggle Competitions          5478  \n",
       "          Using LLMs to Write Better                          5478  \n",
       "Japan     Using LLMs to Improve Your Coding                   5478  \n",
       "          Using LLMs to Train More LLMs                       5478  \n",
       "          Using LLMs to Win Friends and Influence People      5478  \n",
       "          Using LLMs to Win More Kaggle Competitions          5478  \n",
       "          Using LLMs to Write Better                          5478  \n",
       "Spain     Using LLMs to Improve Your Coding                   5478  \n",
       "          Using LLMs to Train More LLMs                       5478  \n",
       "          Using LLMs to Win Friends and Influence People      5478  \n",
       "          Using LLMs to Win More Kaggle Competitions          5478  \n",
       "          Using LLMs to Write Better                          5478  "
      ]
     },
     "execution_count": 30,
     "metadata": {},
     "output_type": "execute_result"
    }
   ],
   "source": [
    "train_data.groupby(by=['country','product']).count()"
   ]
  },
  {
   "cell_type": "markdown",
   "id": "f5019e39",
   "metadata": {
    "papermill": {
     "duration": 0.034642,
     "end_time": "2023-07-15T03:27:57.852852",
     "exception": false,
     "start_time": "2023-07-15T03:27:57.818210",
     "status": "completed"
    },
    "tags": []
   },
   "source": [
    "there are exactly 5478 entries per country per product in the train data."
   ]
  },
  {
   "cell_type": "code",
   "execution_count": 31,
   "id": "9836640c",
   "metadata": {
    "execution": {
     "iopub.execute_input": "2023-07-15T03:27:57.923659Z",
     "iopub.status.busy": "2023-07-15T03:27:57.923261Z",
     "iopub.status.idle": "2023-07-15T03:27:57.963547Z",
     "shell.execute_reply": "2023-07-15T03:27:57.962253Z"
    },
    "papermill": {
     "duration": 0.078353,
     "end_time": "2023-07-15T03:27:57.965716",
     "exception": false,
     "start_time": "2023-07-15T03:27:57.887363",
     "status": "completed"
    },
    "tags": []
   },
   "outputs": [
    {
     "data": {
      "text/html": [
       "<div>\n",
       "<style scoped>\n",
       "    .dataframe tbody tr th:only-of-type {\n",
       "        vertical-align: middle;\n",
       "    }\n",
       "\n",
       "    .dataframe tbody tr th {\n",
       "        vertical-align: top;\n",
       "    }\n",
       "\n",
       "    .dataframe thead th {\n",
       "        text-align: right;\n",
       "    }\n",
       "</style>\n",
       "<table border=\"1\" class=\"dataframe\">\n",
       "  <thead>\n",
       "    <tr style=\"text-align: right;\">\n",
       "      <th></th>\n",
       "      <th></th>\n",
       "      <th>id</th>\n",
       "      <th>date</th>\n",
       "      <th>store</th>\n",
       "    </tr>\n",
       "    <tr>\n",
       "      <th>country</th>\n",
       "      <th>product</th>\n",
       "      <th></th>\n",
       "      <th></th>\n",
       "      <th></th>\n",
       "    </tr>\n",
       "  </thead>\n",
       "  <tbody>\n",
       "    <tr>\n",
       "      <th rowspan=\"5\" valign=\"top\">Argentina</th>\n",
       "      <th>Using LLMs to Improve Your Coding</th>\n",
       "      <td>1095</td>\n",
       "      <td>1095</td>\n",
       "      <td>1095</td>\n",
       "    </tr>\n",
       "    <tr>\n",
       "      <th>Using LLMs to Train More LLMs</th>\n",
       "      <td>1095</td>\n",
       "      <td>1095</td>\n",
       "      <td>1095</td>\n",
       "    </tr>\n",
       "    <tr>\n",
       "      <th>Using LLMs to Win Friends and Influence People</th>\n",
       "      <td>1095</td>\n",
       "      <td>1095</td>\n",
       "      <td>1095</td>\n",
       "    </tr>\n",
       "    <tr>\n",
       "      <th>Using LLMs to Win More Kaggle Competitions</th>\n",
       "      <td>1095</td>\n",
       "      <td>1095</td>\n",
       "      <td>1095</td>\n",
       "    </tr>\n",
       "    <tr>\n",
       "      <th>Using LLMs to Write Better</th>\n",
       "      <td>1095</td>\n",
       "      <td>1095</td>\n",
       "      <td>1095</td>\n",
       "    </tr>\n",
       "    <tr>\n",
       "      <th rowspan=\"5\" valign=\"top\">Canada</th>\n",
       "      <th>Using LLMs to Improve Your Coding</th>\n",
       "      <td>1095</td>\n",
       "      <td>1095</td>\n",
       "      <td>1095</td>\n",
       "    </tr>\n",
       "    <tr>\n",
       "      <th>Using LLMs to Train More LLMs</th>\n",
       "      <td>1095</td>\n",
       "      <td>1095</td>\n",
       "      <td>1095</td>\n",
       "    </tr>\n",
       "    <tr>\n",
       "      <th>Using LLMs to Win Friends and Influence People</th>\n",
       "      <td>1095</td>\n",
       "      <td>1095</td>\n",
       "      <td>1095</td>\n",
       "    </tr>\n",
       "    <tr>\n",
       "      <th>Using LLMs to Win More Kaggle Competitions</th>\n",
       "      <td>1095</td>\n",
       "      <td>1095</td>\n",
       "      <td>1095</td>\n",
       "    </tr>\n",
       "    <tr>\n",
       "      <th>Using LLMs to Write Better</th>\n",
       "      <td>1095</td>\n",
       "      <td>1095</td>\n",
       "      <td>1095</td>\n",
       "    </tr>\n",
       "    <tr>\n",
       "      <th rowspan=\"5\" valign=\"top\">Estonia</th>\n",
       "      <th>Using LLMs to Improve Your Coding</th>\n",
       "      <td>1095</td>\n",
       "      <td>1095</td>\n",
       "      <td>1095</td>\n",
       "    </tr>\n",
       "    <tr>\n",
       "      <th>Using LLMs to Train More LLMs</th>\n",
       "      <td>1095</td>\n",
       "      <td>1095</td>\n",
       "      <td>1095</td>\n",
       "    </tr>\n",
       "    <tr>\n",
       "      <th>Using LLMs to Win Friends and Influence People</th>\n",
       "      <td>1095</td>\n",
       "      <td>1095</td>\n",
       "      <td>1095</td>\n",
       "    </tr>\n",
       "    <tr>\n",
       "      <th>Using LLMs to Win More Kaggle Competitions</th>\n",
       "      <td>1095</td>\n",
       "      <td>1095</td>\n",
       "      <td>1095</td>\n",
       "    </tr>\n",
       "    <tr>\n",
       "      <th>Using LLMs to Write Better</th>\n",
       "      <td>1095</td>\n",
       "      <td>1095</td>\n",
       "      <td>1095</td>\n",
       "    </tr>\n",
       "    <tr>\n",
       "      <th rowspan=\"5\" valign=\"top\">Japan</th>\n",
       "      <th>Using LLMs to Improve Your Coding</th>\n",
       "      <td>1095</td>\n",
       "      <td>1095</td>\n",
       "      <td>1095</td>\n",
       "    </tr>\n",
       "    <tr>\n",
       "      <th>Using LLMs to Train More LLMs</th>\n",
       "      <td>1095</td>\n",
       "      <td>1095</td>\n",
       "      <td>1095</td>\n",
       "    </tr>\n",
       "    <tr>\n",
       "      <th>Using LLMs to Win Friends and Influence People</th>\n",
       "      <td>1095</td>\n",
       "      <td>1095</td>\n",
       "      <td>1095</td>\n",
       "    </tr>\n",
       "    <tr>\n",
       "      <th>Using LLMs to Win More Kaggle Competitions</th>\n",
       "      <td>1095</td>\n",
       "      <td>1095</td>\n",
       "      <td>1095</td>\n",
       "    </tr>\n",
       "    <tr>\n",
       "      <th>Using LLMs to Write Better</th>\n",
       "      <td>1095</td>\n",
       "      <td>1095</td>\n",
       "      <td>1095</td>\n",
       "    </tr>\n",
       "    <tr>\n",
       "      <th rowspan=\"5\" valign=\"top\">Spain</th>\n",
       "      <th>Using LLMs to Improve Your Coding</th>\n",
       "      <td>1095</td>\n",
       "      <td>1095</td>\n",
       "      <td>1095</td>\n",
       "    </tr>\n",
       "    <tr>\n",
       "      <th>Using LLMs to Train More LLMs</th>\n",
       "      <td>1095</td>\n",
       "      <td>1095</td>\n",
       "      <td>1095</td>\n",
       "    </tr>\n",
       "    <tr>\n",
       "      <th>Using LLMs to Win Friends and Influence People</th>\n",
       "      <td>1095</td>\n",
       "      <td>1095</td>\n",
       "      <td>1095</td>\n",
       "    </tr>\n",
       "    <tr>\n",
       "      <th>Using LLMs to Win More Kaggle Competitions</th>\n",
       "      <td>1095</td>\n",
       "      <td>1095</td>\n",
       "      <td>1095</td>\n",
       "    </tr>\n",
       "    <tr>\n",
       "      <th>Using LLMs to Write Better</th>\n",
       "      <td>1095</td>\n",
       "      <td>1095</td>\n",
       "      <td>1095</td>\n",
       "    </tr>\n",
       "  </tbody>\n",
       "</table>\n",
       "</div>"
      ],
      "text/plain": [
       "                                                            id  date  store\n",
       "country   product                                                          \n",
       "Argentina Using LLMs to Improve Your Coding               1095  1095   1095\n",
       "          Using LLMs to Train More LLMs                   1095  1095   1095\n",
       "          Using LLMs to Win Friends and Influence People  1095  1095   1095\n",
       "          Using LLMs to Win More Kaggle Competitions      1095  1095   1095\n",
       "          Using LLMs to Write Better                      1095  1095   1095\n",
       "Canada    Using LLMs to Improve Your Coding               1095  1095   1095\n",
       "          Using LLMs to Train More LLMs                   1095  1095   1095\n",
       "          Using LLMs to Win Friends and Influence People  1095  1095   1095\n",
       "          Using LLMs to Win More Kaggle Competitions      1095  1095   1095\n",
       "          Using LLMs to Write Better                      1095  1095   1095\n",
       "Estonia   Using LLMs to Improve Your Coding               1095  1095   1095\n",
       "          Using LLMs to Train More LLMs                   1095  1095   1095\n",
       "          Using LLMs to Win Friends and Influence People  1095  1095   1095\n",
       "          Using LLMs to Win More Kaggle Competitions      1095  1095   1095\n",
       "          Using LLMs to Write Better                      1095  1095   1095\n",
       "Japan     Using LLMs to Improve Your Coding               1095  1095   1095\n",
       "          Using LLMs to Train More LLMs                   1095  1095   1095\n",
       "          Using LLMs to Win Friends and Influence People  1095  1095   1095\n",
       "          Using LLMs to Win More Kaggle Competitions      1095  1095   1095\n",
       "          Using LLMs to Write Better                      1095  1095   1095\n",
       "Spain     Using LLMs to Improve Your Coding               1095  1095   1095\n",
       "          Using LLMs to Train More LLMs                   1095  1095   1095\n",
       "          Using LLMs to Win Friends and Influence People  1095  1095   1095\n",
       "          Using LLMs to Win More Kaggle Competitions      1095  1095   1095\n",
       "          Using LLMs to Write Better                      1095  1095   1095"
      ]
     },
     "execution_count": 31,
     "metadata": {},
     "output_type": "execute_result"
    }
   ],
   "source": [
    "test_data.groupby(by=['country','product']).count()"
   ]
  },
  {
   "cell_type": "markdown",
   "id": "bcf5deff",
   "metadata": {
    "papermill": {
     "duration": 0.034625,
     "end_time": "2023-07-15T03:27:58.034975",
     "exception": false,
     "start_time": "2023-07-15T03:27:58.000350",
     "status": "completed"
    },
    "tags": []
   },
   "source": [
    "there are exactly 1095 entries per country per product in the train data."
   ]
  },
  {
   "cell_type": "code",
   "execution_count": 32,
   "id": "71ff353d",
   "metadata": {
    "execution": {
     "iopub.execute_input": "2023-07-15T03:27:58.105926Z",
     "iopub.status.busy": "2023-07-15T03:27:58.105498Z",
     "iopub.status.idle": "2023-07-15T03:27:58.278436Z",
     "shell.execute_reply": "2023-07-15T03:27:58.277033Z"
    },
    "papermill": {
     "duration": 0.21173,
     "end_time": "2023-07-15T03:27:58.281174",
     "exception": false,
     "start_time": "2023-07-15T03:27:58.069444",
     "status": "completed"
    },
    "tags": []
   },
   "outputs": [
    {
     "data": {
      "text/html": [
       "<div>\n",
       "<style scoped>\n",
       "    .dataframe tbody tr th:only-of-type {\n",
       "        vertical-align: middle;\n",
       "    }\n",
       "\n",
       "    .dataframe tbody tr th {\n",
       "        vertical-align: top;\n",
       "    }\n",
       "\n",
       "    .dataframe thead th {\n",
       "        text-align: right;\n",
       "    }\n",
       "</style>\n",
       "<table border=\"1\" class=\"dataframe\">\n",
       "  <thead>\n",
       "    <tr style=\"text-align: right;\">\n",
       "      <th></th>\n",
       "      <th></th>\n",
       "      <th>id</th>\n",
       "      <th>date</th>\n",
       "      <th>store</th>\n",
       "      <th>product</th>\n",
       "    </tr>\n",
       "    <tr>\n",
       "      <th>country</th>\n",
       "      <th>num_sold</th>\n",
       "      <th></th>\n",
       "      <th></th>\n",
       "      <th></th>\n",
       "      <th></th>\n",
       "    </tr>\n",
       "  </thead>\n",
       "  <tbody>\n",
       "    <tr>\n",
       "      <th rowspan=\"5\" valign=\"top\">Argentina</th>\n",
       "      <th>2</th>\n",
       "      <td>30</td>\n",
       "      <td>30</td>\n",
       "      <td>30</td>\n",
       "      <td>30</td>\n",
       "    </tr>\n",
       "    <tr>\n",
       "      <th>3</th>\n",
       "      <td>509</td>\n",
       "      <td>509</td>\n",
       "      <td>509</td>\n",
       "      <td>509</td>\n",
       "    </tr>\n",
       "    <tr>\n",
       "      <th>4</th>\n",
       "      <td>693</td>\n",
       "      <td>693</td>\n",
       "      <td>693</td>\n",
       "      <td>693</td>\n",
       "    </tr>\n",
       "    <tr>\n",
       "      <th>5</th>\n",
       "      <td>792</td>\n",
       "      <td>792</td>\n",
       "      <td>792</td>\n",
       "      <td>792</td>\n",
       "    </tr>\n",
       "    <tr>\n",
       "      <th>6</th>\n",
       "      <td>667</td>\n",
       "      <td>667</td>\n",
       "      <td>667</td>\n",
       "      <td>667</td>\n",
       "    </tr>\n",
       "    <tr>\n",
       "      <th>...</th>\n",
       "      <th>...</th>\n",
       "      <td>...</td>\n",
       "      <td>...</td>\n",
       "      <td>...</td>\n",
       "      <td>...</td>\n",
       "    </tr>\n",
       "    <tr>\n",
       "      <th rowspan=\"5\" valign=\"top\">Spain</th>\n",
       "      <th>786</th>\n",
       "      <td>1</td>\n",
       "      <td>1</td>\n",
       "      <td>1</td>\n",
       "      <td>1</td>\n",
       "    </tr>\n",
       "    <tr>\n",
       "      <th>793</th>\n",
       "      <td>1</td>\n",
       "      <td>1</td>\n",
       "      <td>1</td>\n",
       "      <td>1</td>\n",
       "    </tr>\n",
       "    <tr>\n",
       "      <th>808</th>\n",
       "      <td>1</td>\n",
       "      <td>1</td>\n",
       "      <td>1</td>\n",
       "      <td>1</td>\n",
       "    </tr>\n",
       "    <tr>\n",
       "      <th>822</th>\n",
       "      <td>1</td>\n",
       "      <td>1</td>\n",
       "      <td>1</td>\n",
       "      <td>1</td>\n",
       "    </tr>\n",
       "    <tr>\n",
       "      <th>827</th>\n",
       "      <td>1</td>\n",
       "      <td>1</td>\n",
       "      <td>1</td>\n",
       "      <td>1</td>\n",
       "    </tr>\n",
       "  </tbody>\n",
       "</table>\n",
       "<p>3263 rows × 4 columns</p>\n",
       "</div>"
      ],
      "text/plain": [
       "                     id  date  store  product\n",
       "country   num_sold                           \n",
       "Argentina 2          30    30     30       30\n",
       "          3         509   509    509      509\n",
       "          4         693   693    693      693\n",
       "          5         792   792    792      792\n",
       "          6         667   667    667      667\n",
       "...                 ...   ...    ...      ...\n",
       "Spain     786         1     1      1        1\n",
       "          793         1     1      1        1\n",
       "          808         1     1      1        1\n",
       "          822         1     1      1        1\n",
       "          827         1     1      1        1\n",
       "\n",
       "[3263 rows x 4 columns]"
      ]
     },
     "execution_count": 32,
     "metadata": {},
     "output_type": "execute_result"
    }
   ],
   "source": [
    "train_data.groupby(by=['country','num_sold']).count()"
   ]
  },
  {
   "cell_type": "markdown",
   "id": "dc9b6996",
   "metadata": {
    "papermill": {
     "duration": 0.034789,
     "end_time": "2023-07-15T03:27:58.351446",
     "exception": false,
     "start_time": "2023-07-15T03:27:58.316657",
     "status": "completed"
    },
    "tags": []
   },
   "source": [
    "there is unequal distribution of sales amongst the country sales in the train data."
   ]
  },
  {
   "cell_type": "code",
   "execution_count": 33,
   "id": "18afc459",
   "metadata": {
    "execution": {
     "iopub.execute_input": "2023-07-15T03:27:58.425186Z",
     "iopub.status.busy": "2023-07-15T03:27:58.424621Z",
     "iopub.status.idle": "2023-07-15T03:27:58.598907Z",
     "shell.execute_reply": "2023-07-15T03:27:58.597830Z"
    },
    "papermill": {
     "duration": 0.214744,
     "end_time": "2023-07-15T03:27:58.601286",
     "exception": false,
     "start_time": "2023-07-15T03:27:58.386542",
     "status": "completed"
    },
    "tags": []
   },
   "outputs": [
    {
     "data": {
      "text/html": [
       "<div>\n",
       "<style scoped>\n",
       "    .dataframe tbody tr th:only-of-type {\n",
       "        vertical-align: middle;\n",
       "    }\n",
       "\n",
       "    .dataframe tbody tr th {\n",
       "        vertical-align: top;\n",
       "    }\n",
       "\n",
       "    .dataframe thead th {\n",
       "        text-align: right;\n",
       "    }\n",
       "</style>\n",
       "<table border=\"1\" class=\"dataframe\">\n",
       "  <thead>\n",
       "    <tr style=\"text-align: right;\">\n",
       "      <th></th>\n",
       "      <th></th>\n",
       "      <th>id</th>\n",
       "      <th>date</th>\n",
       "      <th>country</th>\n",
       "      <th>product</th>\n",
       "    </tr>\n",
       "    <tr>\n",
       "      <th>store</th>\n",
       "      <th>num_sold</th>\n",
       "      <th></th>\n",
       "      <th></th>\n",
       "      <th></th>\n",
       "      <th></th>\n",
       "    </tr>\n",
       "  </thead>\n",
       "  <tbody>\n",
       "    <tr>\n",
       "      <th rowspan=\"5\" valign=\"top\">Kagglazon</th>\n",
       "      <th>12</th>\n",
       "      <td>1</td>\n",
       "      <td>1</td>\n",
       "      <td>1</td>\n",
       "      <td>1</td>\n",
       "    </tr>\n",
       "    <tr>\n",
       "      <th>13</th>\n",
       "      <td>2</td>\n",
       "      <td>2</td>\n",
       "      <td>2</td>\n",
       "      <td>2</td>\n",
       "    </tr>\n",
       "    <tr>\n",
       "      <th>14</th>\n",
       "      <td>10</td>\n",
       "      <td>10</td>\n",
       "      <td>10</td>\n",
       "      <td>10</td>\n",
       "    </tr>\n",
       "    <tr>\n",
       "      <th>15</th>\n",
       "      <td>7</td>\n",
       "      <td>7</td>\n",
       "      <td>7</td>\n",
       "      <td>7</td>\n",
       "    </tr>\n",
       "    <tr>\n",
       "      <th>16</th>\n",
       "      <td>25</td>\n",
       "      <td>25</td>\n",
       "      <td>25</td>\n",
       "      <td>25</td>\n",
       "    </tr>\n",
       "    <tr>\n",
       "      <th>...</th>\n",
       "      <th>...</th>\n",
       "      <td>...</td>\n",
       "      <td>...</td>\n",
       "      <td>...</td>\n",
       "      <td>...</td>\n",
       "    </tr>\n",
       "    <tr>\n",
       "      <th rowspan=\"5\" valign=\"top\">Kaggle Store</th>\n",
       "      <th>354</th>\n",
       "      <td>2</td>\n",
       "      <td>2</td>\n",
       "      <td>2</td>\n",
       "      <td>2</td>\n",
       "    </tr>\n",
       "    <tr>\n",
       "      <th>357</th>\n",
       "      <td>1</td>\n",
       "      <td>1</td>\n",
       "      <td>1</td>\n",
       "      <td>1</td>\n",
       "    </tr>\n",
       "    <tr>\n",
       "      <th>360</th>\n",
       "      <td>1</td>\n",
       "      <td>1</td>\n",
       "      <td>1</td>\n",
       "      <td>1</td>\n",
       "    </tr>\n",
       "    <tr>\n",
       "      <th>362</th>\n",
       "      <td>1</td>\n",
       "      <td>1</td>\n",
       "      <td>1</td>\n",
       "      <td>1</td>\n",
       "    </tr>\n",
       "    <tr>\n",
       "      <th>383</th>\n",
       "      <td>1</td>\n",
       "      <td>1</td>\n",
       "      <td>1</td>\n",
       "      <td>1</td>\n",
       "    </tr>\n",
       "  </tbody>\n",
       "</table>\n",
       "<p>1544 rows × 4 columns</p>\n",
       "</div>"
      ],
      "text/plain": [
       "                       id  date  country  product\n",
       "store        num_sold                            \n",
       "Kagglazon    12         1     1        1        1\n",
       "             13         2     2        2        2\n",
       "             14        10    10       10       10\n",
       "             15         7     7        7        7\n",
       "             16        25    25       25       25\n",
       "...                    ..   ...      ...      ...\n",
       "Kaggle Store 354        2     2        2        2\n",
       "             357        1     1        1        1\n",
       "             360        1     1        1        1\n",
       "             362        1     1        1        1\n",
       "             383        1     1        1        1\n",
       "\n",
       "[1544 rows x 4 columns]"
      ]
     },
     "execution_count": 33,
     "metadata": {},
     "output_type": "execute_result"
    }
   ],
   "source": [
    "train_data.groupby(by=['store','num_sold']).count()"
   ]
  },
  {
   "cell_type": "markdown",
   "id": "56ce0e61",
   "metadata": {
    "papermill": {
     "duration": 0.035192,
     "end_time": "2023-07-15T03:27:58.673436",
     "exception": false,
     "start_time": "2023-07-15T03:27:58.638244",
     "status": "completed"
    },
    "tags": []
   },
   "source": [
    "there is unequal distribution of sales amongst the store sales in the train data."
   ]
  },
  {
   "cell_type": "code",
   "execution_count": 34,
   "id": "d5b87900",
   "metadata": {
    "execution": {
     "iopub.execute_input": "2023-07-15T03:27:58.747407Z",
     "iopub.status.busy": "2023-07-15T03:27:58.746974Z",
     "iopub.status.idle": "2023-07-15T03:27:58.770505Z",
     "shell.execute_reply": "2023-07-15T03:27:58.769616Z"
    },
    "papermill": {
     "duration": 0.062964,
     "end_time": "2023-07-15T03:27:58.772597",
     "exception": false,
     "start_time": "2023-07-15T03:27:58.709633",
     "status": "completed"
    },
    "tags": []
   },
   "outputs": [
    {
     "data": {
      "text/plain": [
       "country\n",
       "Canada       7013114\n",
       "Japan        6013786\n",
       "Spain        4380862\n",
       "Estonia      3577319\n",
       "Argentina    1683244\n",
       "Name: num_sold, dtype: int64"
      ]
     },
     "execution_count": 34,
     "metadata": {},
     "output_type": "execute_result"
    }
   ],
   "source": [
    "train_data.groupby(by=['country'])['num_sold'].sum().sort_values(ascending=False)"
   ]
  },
  {
   "cell_type": "markdown",
   "id": "de68629e",
   "metadata": {
    "papermill": {
     "duration": 0.035236,
     "end_time": "2023-07-15T03:27:58.844577",
     "exception": false,
     "start_time": "2023-07-15T03:27:58.809341",
     "status": "completed"
    },
    "tags": []
   },
   "source": [
    "Canada has the highest sales, followed by Japan. Argentina has the least sales. "
   ]
  },
  {
   "cell_type": "code",
   "execution_count": 35,
   "id": "11e4d474",
   "metadata": {
    "execution": {
     "iopub.execute_input": "2023-07-15T03:27:58.918639Z",
     "iopub.status.busy": "2023-07-15T03:27:58.917740Z",
     "iopub.status.idle": "2023-07-15T03:27:58.941592Z",
     "shell.execute_reply": "2023-07-15T03:27:58.940466Z"
    },
    "papermill": {
     "duration": 0.063055,
     "end_time": "2023-07-15T03:27:58.943782",
     "exception": false,
     "start_time": "2023-07-15T03:27:58.880727",
     "status": "completed"
    },
    "tags": []
   },
   "outputs": [
    {
     "data": {
      "text/plain": [
       "store\n",
       "Kagglazon       15661335\n",
       "Kaggle Store     4251056\n",
       "Kaggle Learn     2755934\n",
       "Name: num_sold, dtype: int64"
      ]
     },
     "execution_count": 35,
     "metadata": {},
     "output_type": "execute_result"
    }
   ],
   "source": [
    "train_data.groupby(by=['store'])['num_sold'].sum().sort_values(ascending=False)"
   ]
  },
  {
   "cell_type": "markdown",
   "id": "7e8291cf",
   "metadata": {
    "papermill": {
     "duration": 0.036974,
     "end_time": "2023-07-15T03:27:59.016746",
     "exception": false,
     "start_time": "2023-07-15T03:27:58.979772",
     "status": "completed"
    },
    "tags": []
   },
   "source": [
    "Kagglazon store has the highest overall sales, followed by Kaggle Store. Kaggle Learn has the least sales. Big difference noticed between Kagglazon and Kaggle Store."
   ]
  },
  {
   "cell_type": "code",
   "execution_count": 36,
   "id": "b80405d6",
   "metadata": {
    "execution": {
     "iopub.execute_input": "2023-07-15T03:27:59.090499Z",
     "iopub.status.busy": "2023-07-15T03:27:59.089848Z",
     "iopub.status.idle": "2023-07-15T03:27:59.115448Z",
     "shell.execute_reply": "2023-07-15T03:27:59.114691Z"
    },
    "papermill": {
     "duration": 0.065172,
     "end_time": "2023-07-15T03:27:59.117561",
     "exception": false,
     "start_time": "2023-07-15T03:27:59.052389",
     "status": "completed"
    },
    "tags": []
   },
   "outputs": [
    {
     "data": {
      "text/plain": [
       "product\n",
       "Using LLMs to Improve Your Coding                 6069281\n",
       "Using LLMs to Train More LLMs                     5993975\n",
       "Using LLMs to Win More Kaggle Competitions        5068313\n",
       "Using LLMs to Write Better                        4604192\n",
       "Using LLMs to Win Friends and Influence People     932564\n",
       "Name: num_sold, dtype: int64"
      ]
     },
     "execution_count": 36,
     "metadata": {},
     "output_type": "execute_result"
    }
   ],
   "source": [
    "train_data.groupby(by=['product'])['num_sold'].sum().sort_values(ascending=False)"
   ]
  },
  {
   "cell_type": "markdown",
   "id": "1fdb4571",
   "metadata": {
    "papermill": {
     "duration": 0.036392,
     "end_time": "2023-07-15T03:27:59.190471",
     "exception": false,
     "start_time": "2023-07-15T03:27:59.154079",
     "status": "completed"
    },
    "tags": []
   },
   "source": [
    "'Using LLMs to Improve Your Coding' product has the highest sales, closely followed by 'Using LLMs to Train More LLMs'.\n",
    "\n",
    "'Using LLMs to Win Friends and Influence People' is the least sold product. Big difference noticed between the last two products."
   ]
  },
  {
   "cell_type": "code",
   "execution_count": 37,
   "id": "80b98c7f",
   "metadata": {
    "execution": {
     "iopub.execute_input": "2023-07-15T03:27:59.266581Z",
     "iopub.status.busy": "2023-07-15T03:27:59.265975Z",
     "iopub.status.idle": "2023-07-15T03:27:59.291891Z",
     "shell.execute_reply": "2023-07-15T03:27:59.291113Z"
    },
    "papermill": {
     "duration": 0.065912,
     "end_time": "2023-07-15T03:27:59.294130",
     "exception": false,
     "start_time": "2023-07-15T03:27:59.228218",
     "status": "completed"
    },
    "tags": []
   },
   "outputs": [
    {
     "data": {
      "text/plain": [
       "date\n",
       "2018-12-30    21273\n",
       "2019-12-29    20556\n",
       "2021-12-31    20422\n",
       "2021-12-30    20156\n",
       "2021-12-29    20110\n",
       "              ...  \n",
       "2020-04-28     8063\n",
       "2020-04-21     8000\n",
       "2020-04-22     7982\n",
       "2020-04-23     7948\n",
       "2020-04-27     7942\n",
       "Name: num_sold, Length: 1826, dtype: int64"
      ]
     },
     "execution_count": 37,
     "metadata": {},
     "output_type": "execute_result"
    }
   ],
   "source": [
    "train_data.groupby(by=['date'])['num_sold'].sum().sort_values(ascending=False)"
   ]
  },
  {
   "cell_type": "markdown",
   "id": "a05fb8df",
   "metadata": {
    "papermill": {
     "duration": 0.035952,
     "end_time": "2023-07-15T03:27:59.366036",
     "exception": false,
     "start_time": "2023-07-15T03:27:59.330084",
     "status": "completed"
    },
    "tags": []
   },
   "source": [
    "Highest sales noticed towards the end of December across years. Least sales noticed towards the end of April 2020."
   ]
  },
  {
   "cell_type": "code",
   "execution_count": 38,
   "id": "c1b709e6",
   "metadata": {
    "execution": {
     "iopub.execute_input": "2023-07-15T03:27:59.441180Z",
     "iopub.status.busy": "2023-07-15T03:27:59.440295Z",
     "iopub.status.idle": "2023-07-15T03:27:59.477496Z",
     "shell.execute_reply": "2023-07-15T03:27:59.476080Z"
    },
    "papermill": {
     "duration": 0.078474,
     "end_time": "2023-07-15T03:27:59.480762",
     "exception": false,
     "start_time": "2023-07-15T03:27:59.402288",
     "status": "completed"
    },
    "tags": []
   },
   "outputs": [],
   "source": [
    "train_data['date'] = pd.to_datetime(train_data['date'])\n",
    "train_data.set_index('date', inplace=True)"
   ]
  },
  {
   "cell_type": "code",
   "execution_count": 39,
   "id": "637f5c54",
   "metadata": {
    "execution": {
     "iopub.execute_input": "2023-07-15T03:27:59.554775Z",
     "iopub.status.busy": "2023-07-15T03:27:59.554382Z",
     "iopub.status.idle": "2023-07-15T03:27:59.582143Z",
     "shell.execute_reply": "2023-07-15T03:27:59.580785Z"
    },
    "papermill": {
     "duration": 0.067535,
     "end_time": "2023-07-15T03:27:59.584540",
     "exception": false,
     "start_time": "2023-07-15T03:27:59.517005",
     "status": "completed"
    },
    "tags": []
   },
   "outputs": [
    {
     "data": {
      "text/plain": [
       "date\n",
       "2021-12-31    4884479\n",
       "2018-12-31    4723963\n",
       "2019-12-31    4522172\n",
       "2017-12-31    4451213\n",
       "2020-12-31    4086498\n",
       "Name: num_sold, dtype: int64"
      ]
     },
     "execution_count": 39,
     "metadata": {},
     "output_type": "execute_result"
    }
   ],
   "source": [
    "train_data['num_sold'].resample('Y').sum().sort_values(ascending=False)"
   ]
  },
  {
   "cell_type": "markdown",
   "id": "5fab01ad",
   "metadata": {
    "papermill": {
     "duration": 0.037963,
     "end_time": "2023-07-15T03:27:59.658579",
     "exception": false,
     "start_time": "2023-07-15T03:27:59.620616",
     "status": "completed"
    },
    "tags": []
   },
   "source": [
    "the year 2021 witnessed the highest sales. 2020 had the least sales. big drop noticed in the year 2020, followed by a rise in 2021. this might be due to the Covid-19 pandemic."
   ]
  },
  {
   "cell_type": "code",
   "execution_count": 40,
   "id": "cee6159c",
   "metadata": {
    "execution": {
     "iopub.execute_input": "2023-07-15T03:27:59.758498Z",
     "iopub.status.busy": "2023-07-15T03:27:59.758022Z",
     "iopub.status.idle": "2023-07-15T03:27:59.775611Z",
     "shell.execute_reply": "2023-07-15T03:27:59.774241Z"
    },
    "papermill": {
     "duration": 0.068555,
     "end_time": "2023-07-15T03:27:59.778120",
     "exception": false,
     "start_time": "2023-07-15T03:27:59.709565",
     "status": "completed"
    },
    "tags": []
   },
   "outputs": [
    {
     "data": {
      "text/plain": [
       "date\n",
       "2021-12-31    472927\n",
       "2021-01-31    437576\n",
       "2017-12-31    429520\n",
       "2018-12-31    426613\n",
       "2018-01-31    414040\n",
       "2021-03-31    413036\n",
       "2019-12-31    408632\n",
       "2021-10-31    408445\n",
       "2021-11-30    407029\n",
       "2021-05-31    406520\n",
       "2019-01-31    405765\n",
       "2018-05-31    402382\n",
       "2018-03-31    401631\n",
       "2017-01-31    401396\n",
       "2021-07-31    401035\n",
       "2018-10-31    397466\n",
       "2021-04-30    397381\n",
       "2020-12-31    395389\n",
       "2021-08-31    394822\n",
       "2018-08-31    393673\n",
       "2018-07-31    389474\n",
       "2019-03-31    389053\n",
       "2021-09-30    388294\n",
       "2018-04-30    386685\n",
       "2018-09-30    384665\n",
       "2019-05-31    384008\n",
       "2020-01-31    384006\n",
       "2018-11-30    383739\n",
       "2019-10-31    383017\n",
       "2021-06-30    381613\n",
       "2018-06-30    380247\n",
       "2017-11-30    379724\n",
       "2017-10-31    379251\n",
       "2019-11-30    375945\n",
       "2021-02-28    375801\n",
       "2019-08-31    370925\n",
       "2017-03-31    368364\n",
       "2019-04-30    365779\n",
       "2017-05-31    365720\n",
       "2019-09-30    365085\n",
       "2017-08-31    364188\n",
       "2017-07-31    364172\n",
       "2018-02-28    363348\n",
       "2020-11-30    363151\n",
       "2019-07-31    362450\n",
       "2017-09-30    359522\n",
       "2019-06-30    358033\n",
       "2017-04-30    357268\n",
       "2020-10-31    355954\n",
       "2019-02-28    353480\n",
       "2020-02-29    351459\n",
       "2020-08-31    344388\n",
       "2017-06-30    343909\n",
       "2020-07-31    341271\n",
       "2017-02-28    338179\n",
       "2020-09-30    335531\n",
       "2020-03-31    333898\n",
       "2020-06-30    315985\n",
       "2020-05-31    307616\n",
       "2020-04-30    257850\n",
       "Name: num_sold, dtype: int64"
      ]
     },
     "execution_count": 40,
     "metadata": {},
     "output_type": "execute_result"
    }
   ],
   "source": [
    "train_data['num_sold'].resample('M').sum().sort_values(ascending=False)"
   ]
  },
  {
   "cell_type": "markdown",
   "id": "6f5f76cc",
   "metadata": {
    "papermill": {
     "duration": 0.035574,
     "end_time": "2023-07-15T03:27:59.850247",
     "exception": false,
     "start_time": "2023-07-15T03:27:59.814673",
     "status": "completed"
    },
    "tags": []
   },
   "source": [
    "most sales seems to have happened in the months of December and January. this could be due to the holiday season Chirstmas and New Year's. Least sales were noticed across months in the year 2020."
   ]
  },
  {
   "cell_type": "code",
   "execution_count": 41,
   "id": "9199271c",
   "metadata": {
    "execution": {
     "iopub.execute_input": "2023-07-15T03:27:59.925457Z",
     "iopub.status.busy": "2023-07-15T03:27:59.925051Z",
     "iopub.status.idle": "2023-07-15T03:27:59.941018Z",
     "shell.execute_reply": "2023-07-15T03:27:59.939786Z"
    },
    "papermill": {
     "duration": 0.056705,
     "end_time": "2023-07-15T03:27:59.943163",
     "exception": false,
     "start_time": "2023-07-15T03:27:59.886458",
     "status": "completed"
    },
    "tags": []
   },
   "outputs": [
    {
     "data": {
      "text/plain": [
       "date\n",
       "2018-12-30    21273\n",
       "2019-12-29    20556\n",
       "2021-12-31    20422\n",
       "2021-12-30    20156\n",
       "2021-12-29    20110\n",
       "              ...  \n",
       "2020-04-28     8063\n",
       "2020-04-21     8000\n",
       "2020-04-22     7982\n",
       "2020-04-23     7948\n",
       "2020-04-27     7942\n",
       "Name: num_sold, Length: 1826, dtype: int64"
      ]
     },
     "execution_count": 41,
     "metadata": {},
     "output_type": "execute_result"
    }
   ],
   "source": [
    "train_data['num_sold'].resample('D').sum().sort_values(ascending=False)"
   ]
  },
  {
   "cell_type": "markdown",
   "id": "f0bf5628",
   "metadata": {
    "papermill": {
     "duration": 0.036092,
     "end_time": "2023-07-15T03:28:00.016693",
     "exception": false,
     "start_time": "2023-07-15T03:27:59.980601",
     "status": "completed"
    },
    "tags": []
   },
   "source": [
    "most sales noticed in the last days of December (29,30,31) across years. least sales noticed in the month of April in 2020.\n",
    "\n",
    "there is a hint of seasonality."
   ]
  },
  {
   "cell_type": "code",
   "execution_count": 42,
   "id": "e6390053",
   "metadata": {
    "execution": {
     "iopub.execute_input": "2023-07-15T03:28:00.091868Z",
     "iopub.status.busy": "2023-07-15T03:28:00.091396Z",
     "iopub.status.idle": "2023-07-15T03:28:00.135332Z",
     "shell.execute_reply": "2023-07-15T03:28:00.134381Z"
    },
    "papermill": {
     "duration": 0.084802,
     "end_time": "2023-07-15T03:28:00.137699",
     "exception": false,
     "start_time": "2023-07-15T03:28:00.052897",
     "status": "completed"
    },
    "tags": []
   },
   "outputs": [
    {
     "data": {
      "text/plain": [
       "country    store       \n",
       "Canada     Kagglazon       4842322\n",
       "Japan      Kagglazon       4154670\n",
       "Spain      Kagglazon       3026408\n",
       "Estonia    Kagglazon       2472309\n",
       "Canada     Kaggle Store    1316665\n",
       "Argentina  Kagglazon       1165626\n",
       "Japan      Kaggle Store    1127598\n",
       "Canada     Kaggle Learn     854127\n",
       "Spain      Kaggle Store     821572\n",
       "Japan      Kaggle Learn     731518\n",
       "Estonia    Kaggle Store     670621\n",
       "Spain      Kaggle Learn     532882\n",
       "Estonia    Kaggle Learn     434389\n",
       "Argentina  Kaggle Store     314600\n",
       "           Kaggle Learn     203018\n",
       "Name: num_sold, dtype: int64"
      ]
     },
     "execution_count": 42,
     "metadata": {},
     "output_type": "execute_result"
    }
   ],
   "source": [
    "train_data.groupby(by=['country','store'])['num_sold'].sum().sort_values(ascending=False)"
   ]
  },
  {
   "cell_type": "markdown",
   "id": "e85cacae",
   "metadata": {
    "papermill": {
     "duration": 0.036212,
     "end_time": "2023-07-15T03:28:00.210789",
     "exception": false,
     "start_time": "2023-07-15T03:28:00.174577",
     "status": "completed"
    },
    "tags": []
   },
   "source": [
    "Kagglazon is topping the charts across all countries. Argentina has the least sales in both 'Kaggle Store' and 'Kaggle Learn'"
   ]
  },
  {
   "cell_type": "code",
   "execution_count": 43,
   "id": "e99f5afc",
   "metadata": {
    "execution": {
     "iopub.execute_input": "2023-07-15T03:28:00.285638Z",
     "iopub.status.busy": "2023-07-15T03:28:00.285183Z",
     "iopub.status.idle": "2023-07-15T03:28:00.329556Z",
     "shell.execute_reply": "2023-07-15T03:28:00.328468Z"
    },
    "papermill": {
     "duration": 0.084568,
     "end_time": "2023-07-15T03:28:00.331925",
     "exception": false,
     "start_time": "2023-07-15T03:28:00.247357",
     "status": "completed"
    },
    "tags": []
   },
   "outputs": [
    {
     "data": {
      "text/plain": [
       "country    product                                       \n",
       "Canada     Using LLMs to Improve Your Coding                 1878940\n",
       "           Using LLMs to Train More LLMs                     1851838\n",
       "Japan      Using LLMs to Improve Your Coding                 1608717\n",
       "           Using LLMs to Train More LLMs                     1592992\n",
       "Canada     Using LLMs to Win More Kaggle Competitions        1568278\n",
       "           Using LLMs to Write Better                        1424637\n",
       "Japan      Using LLMs to Win More Kaggle Competitions        1343553\n",
       "           Using LLMs to Write Better                        1220446\n",
       "Spain      Using LLMs to Improve Your Coding                 1173558\n",
       "           Using LLMs to Train More LLMs                     1158211\n",
       "           Using LLMs to Win More Kaggle Competitions         979860\n",
       "Estonia    Using LLMs to Improve Your Coding                  957107\n",
       "           Using LLMs to Train More LLMs                      946212\n",
       "Spain      Using LLMs to Write Better                         889104\n",
       "Estonia    Using LLMs to Win More Kaggle Competitions         799777\n",
       "           Using LLMs to Write Better                         727294\n",
       "Argentina  Using LLMs to Improve Your Coding                  450959\n",
       "           Using LLMs to Train More LLMs                      444722\n",
       "           Using LLMs to Win More Kaggle Competitions         376845\n",
       "           Using LLMs to Write Better                         342711\n",
       "Canada     Using LLMs to Win Friends and Influence People     289421\n",
       "Japan      Using LLMs to Win Friends and Influence People     248078\n",
       "Spain      Using LLMs to Win Friends and Influence People     180129\n",
       "Estonia    Using LLMs to Win Friends and Influence People     146929\n",
       "Argentina  Using LLMs to Win Friends and Influence People      68007\n",
       "Name: num_sold, dtype: int64"
      ]
     },
     "execution_count": 43,
     "metadata": {},
     "output_type": "execute_result"
    }
   ],
   "source": [
    "train_data.groupby(by=['country','product'])['num_sold'].sum().sort_values(ascending=False)"
   ]
  },
  {
   "cell_type": "markdown",
   "id": "ede18246",
   "metadata": {
    "papermill": {
     "duration": 0.036679,
     "end_time": "2023-07-15T03:28:00.405198",
     "exception": false,
     "start_time": "2023-07-15T03:28:00.368519",
     "status": "completed"
    },
    "tags": []
   },
   "source": [
    "In Canada and Japan, 'Using LLMs to Improve Your Coding', 'Using LLMs to Train More LLMs' are the best sellers. \n",
    "\n",
    "In all countries 'Using LLMs to Improve Your Coding' is one of the best sellers.\n",
    "\n",
    "In all countries 'Using LLMs to Win Friends and Influence People' is the poorest seller."
   ]
  },
  {
   "cell_type": "code",
   "execution_count": 44,
   "id": "a34abfbc",
   "metadata": {
    "execution": {
     "iopub.execute_input": "2023-07-15T03:28:00.481432Z",
     "iopub.status.busy": "2023-07-15T03:28:00.480936Z",
     "iopub.status.idle": "2023-07-15T03:28:00.527480Z",
     "shell.execute_reply": "2023-07-15T03:28:00.526120Z"
    },
    "papermill": {
     "duration": 0.088122,
     "end_time": "2023-07-15T03:28:00.529868",
     "exception": false,
     "start_time": "2023-07-15T03:28:00.441746",
     "status": "completed"
    },
    "tags": []
   },
   "outputs": [
    {
     "data": {
      "text/plain": [
       "store         product                                       \n",
       "Kagglazon     Using LLMs to Improve Your Coding                 4191082\n",
       "              Using LLMs to Train More LLMs                     4139671\n",
       "              Using LLMs to Win More Kaggle Competitions        3501840\n",
       "              Using LLMs to Write Better                        3180699\n",
       "Kaggle Store  Using LLMs to Improve Your Coding                 1138862\n",
       "              Using LLMs to Train More LLMs                     1124319\n",
       "              Using LLMs to Win More Kaggle Competitions         950504\n",
       "              Using LLMs to Write Better                         863978\n",
       "Kaggle Learn  Using LLMs to Improve Your Coding                  739337\n",
       "              Using LLMs to Train More LLMs                      729985\n",
       "Kagglazon     Using LLMs to Win Friends and Influence People     648043\n",
       "Kaggle Learn  Using LLMs to Win More Kaggle Competitions         615969\n",
       "              Using LLMs to Write Better                         559515\n",
       "Kaggle Store  Using LLMs to Win Friends and Influence People     173393\n",
       "Kaggle Learn  Using LLMs to Win Friends and Influence People     111128\n",
       "Name: num_sold, dtype: int64"
      ]
     },
     "execution_count": 44,
     "metadata": {},
     "output_type": "execute_result"
    }
   ],
   "source": [
    "train_data.groupby(by=['store','product'])['num_sold'].sum().sort_values(ascending=False)"
   ]
  },
  {
   "cell_type": "markdown",
   "id": "16866ac6",
   "metadata": {
    "papermill": {
     "duration": 0.038231,
     "end_time": "2023-07-15T03:28:00.604814",
     "exception": false,
     "start_time": "2023-07-15T03:28:00.566583",
     "status": "completed"
    },
    "tags": []
   },
   "source": [
    "Across all stores 'Using LLMs to Improve Your Coding' is the best seller. "
   ]
  },
  {
   "cell_type": "code",
   "execution_count": 45,
   "id": "e8c0d066",
   "metadata": {
    "execution": {
     "iopub.execute_input": "2023-07-15T03:28:00.679653Z",
     "iopub.status.busy": "2023-07-15T03:28:00.679198Z",
     "iopub.status.idle": "2023-07-15T03:28:02.141280Z",
     "shell.execute_reply": "2023-07-15T03:28:02.140160Z"
    },
    "papermill": {
     "duration": 1.502766,
     "end_time": "2023-07-15T03:28:02.144046",
     "exception": false,
     "start_time": "2023-07-15T03:28:00.641280",
     "status": "completed"
    },
    "tags": []
   },
   "outputs": [
    {
     "name": "stderr",
     "output_type": "stream",
     "text": [
      "/opt/conda/lib/python3.10/site-packages/scipy/__init__.py:146: UserWarning: A NumPy version >=1.16.5 and <1.23.0 is required for this version of SciPy (detected version 1.23.5\n",
      "  warnings.warn(f\"A NumPy version >={np_minversion} and <{np_maxversion}\"\n"
     ]
    }
   ],
   "source": [
    "from statsmodels.tsa.stattools import adfuller\n",
    "from statsmodels.tsa.seasonal import seasonal_decompose"
   ]
  },
  {
   "cell_type": "code",
   "execution_count": 46,
   "id": "03f2ab36",
   "metadata": {
    "execution": {
     "iopub.execute_input": "2023-07-15T03:28:02.223543Z",
     "iopub.status.busy": "2023-07-15T03:28:02.223148Z",
     "iopub.status.idle": "2023-07-15T03:28:53.687168Z",
     "shell.execute_reply": "2023-07-15T03:28:53.685647Z"
    },
    "papermill": {
     "duration": 51.59436,
     "end_time": "2023-07-15T03:28:53.776047",
     "exception": false,
     "start_time": "2023-07-15T03:28:02.181687",
     "status": "completed"
    },
    "tags": []
   },
   "outputs": [
    {
     "name": "stdout",
     "output_type": "stream",
     "text": [
      "ADF Statistic: -11.183076035748291\n",
      "p-value: 2.4731599364612518e-20\n",
      "Critical Values:\n",
      "1%: -3.430397776254718\n",
      "5%: -2.861561116418768\n",
      "10%: -2.5667812395198735\n"
     ]
    }
   ],
   "source": [
    "result = adfuller(train_data['num_sold'])\n",
    "print('ADF Statistic:', result[0])\n",
    "print('p-value:', result[1])\n",
    "print('Critical Values:')\n",
    "for key, value in result[4].items():\n",
    "    print(f'{key}: {value}')\n"
   ]
  },
  {
   "cell_type": "markdown",
   "id": "475cbb3e",
   "metadata": {
    "papermill": {
     "duration": 0.038846,
     "end_time": "2023-07-15T03:28:53.860017",
     "exception": false,
     "start_time": "2023-07-15T03:28:53.821171",
     "status": "completed"
    },
    "tags": []
   },
   "source": [
    "The results of the Augmented Dickey-Fuller (ADF) test provide information about the stationarity of the sales data:\n",
    "\n",
    "ADF Statistic: The ADF statistic is a negative value (-11.183076035748291 in our case). The more negative the ADF statistic, the stronger the evidence against the null hypothesis of non-stationarity. In this case, the large negative value suggests that the sales data is likely stationary.\n",
    "\n",
    "p-value: The p-value associated with the ADF statistic is 2.4731599364612518e-20, which is very close to zero. The p-value represents the probability that the null hypothesis of non-stationarity is true. A low p-value (typically below a significance level of 0.05) suggests rejecting the null hypothesis and concluding that the data is stationary. In this case, the extremely small p-value indicates strong evidence for stationarity.\n",
    "\n",
    "Critical Values: The critical values at different significance levels (1%, 5%, and 10%) are provided to compare with the ADF statistic. If the ADF statistic is more negative than the critical values, it strengthens the evidence for stationarity. In our case, the ADF statistic is much more negative than all the critical values, further supporting the stationarity of the data.\n",
    "\n",
    "Based on the ADF statistic, p-value, and critical values, the sales data is likely stationary, indicating that it does not exhibit significant trends or non-stationary patterns."
   ]
  },
  {
   "cell_type": "markdown",
   "id": "aaeb9dfb",
   "metadata": {
    "papermill": {
     "duration": 0.038219,
     "end_time": "2023-07-15T03:28:53.937441",
     "exception": false,
     "start_time": "2023-07-15T03:28:53.899222",
     "status": "completed"
    },
    "tags": []
   },
   "source": [
    "### Model building"
   ]
  },
  {
   "cell_type": "code",
   "execution_count": 47,
   "id": "a9e9893b",
   "metadata": {
    "execution": {
     "iopub.execute_input": "2023-07-15T03:28:54.015783Z",
     "iopub.status.busy": "2023-07-15T03:28:54.015364Z",
     "iopub.status.idle": "2023-07-15T03:28:54.192741Z",
     "shell.execute_reply": "2023-07-15T03:28:54.191487Z"
    },
    "papermill": {
     "duration": 0.22035,
     "end_time": "2023-07-15T03:28:54.195836",
     "exception": false,
     "start_time": "2023-07-15T03:28:53.975486",
     "status": "completed"
    },
    "tags": []
   },
   "outputs": [],
   "source": [
    "from sklearn.preprocessing import LabelEncoder\n"
   ]
  },
  {
   "cell_type": "code",
   "execution_count": 48,
   "id": "1f8f6db7",
   "metadata": {
    "execution": {
     "iopub.execute_input": "2023-07-15T03:28:54.272356Z",
     "iopub.status.busy": "2023-07-15T03:28:54.271623Z",
     "iopub.status.idle": "2023-07-15T03:28:54.416600Z",
     "shell.execute_reply": "2023-07-15T03:28:54.415774Z"
    },
    "papermill": {
     "duration": 0.186454,
     "end_time": "2023-07-15T03:28:54.419393",
     "exception": false,
     "start_time": "2023-07-15T03:28:54.232939",
     "status": "completed"
    },
    "tags": []
   },
   "outputs": [],
   "source": [
    "label_encoder = LabelEncoder()\n",
    "labels = ['country', 'store', 'product']\n",
    "\n",
    "train_data['country_Encoded'] = label_encoder.fit_transform(train_data['country'])\n",
    "train_data['store_Encoded'] = label_encoder.fit_transform(train_data['store'])\n",
    "train_data['product_Encoded'] = label_encoder.fit_transform(train_data['product'])\n",
    "\n",
    "train_data.drop(['id','country', 'store', 'product'], axis=1, inplace=True)"
   ]
  },
  {
   "cell_type": "code",
   "execution_count": 49,
   "id": "52b5983d",
   "metadata": {
    "execution": {
     "iopub.execute_input": "2023-07-15T03:28:54.495603Z",
     "iopub.status.busy": "2023-07-15T03:28:54.494972Z",
     "iopub.status.idle": "2023-07-15T03:28:54.545535Z",
     "shell.execute_reply": "2023-07-15T03:28:54.544350Z"
    },
    "papermill": {
     "duration": 0.092094,
     "end_time": "2023-07-15T03:28:54.548472",
     "exception": false,
     "start_time": "2023-07-15T03:28:54.456378",
     "status": "completed"
    },
    "tags": []
   },
   "outputs": [],
   "source": [
    "train_data['Year'] = train_data.index.year\n",
    "train_data['Month'] = train_data.index.month\n",
    "train_data['Day'] = train_data.index.day"
   ]
  },
  {
   "cell_type": "code",
   "execution_count": 50,
   "id": "7eb84207",
   "metadata": {
    "execution": {
     "iopub.execute_input": "2023-07-15T03:28:54.625631Z",
     "iopub.status.busy": "2023-07-15T03:28:54.625173Z",
     "iopub.status.idle": "2023-07-15T03:28:54.639526Z",
     "shell.execute_reply": "2023-07-15T03:28:54.638335Z"
    },
    "papermill": {
     "duration": 0.055937,
     "end_time": "2023-07-15T03:28:54.641862",
     "exception": false,
     "start_time": "2023-07-15T03:28:54.585925",
     "status": "completed"
    },
    "tags": []
   },
   "outputs": [
    {
     "data": {
      "text/html": [
       "<div>\n",
       "<style scoped>\n",
       "    .dataframe tbody tr th:only-of-type {\n",
       "        vertical-align: middle;\n",
       "    }\n",
       "\n",
       "    .dataframe tbody tr th {\n",
       "        vertical-align: top;\n",
       "    }\n",
       "\n",
       "    .dataframe thead th {\n",
       "        text-align: right;\n",
       "    }\n",
       "</style>\n",
       "<table border=\"1\" class=\"dataframe\">\n",
       "  <thead>\n",
       "    <tr style=\"text-align: right;\">\n",
       "      <th></th>\n",
       "      <th>num_sold</th>\n",
       "      <th>country_Encoded</th>\n",
       "      <th>store_Encoded</th>\n",
       "      <th>product_Encoded</th>\n",
       "      <th>Year</th>\n",
       "      <th>Month</th>\n",
       "      <th>Day</th>\n",
       "    </tr>\n",
       "    <tr>\n",
       "      <th>date</th>\n",
       "      <th></th>\n",
       "      <th></th>\n",
       "      <th></th>\n",
       "      <th></th>\n",
       "      <th></th>\n",
       "      <th></th>\n",
       "      <th></th>\n",
       "    </tr>\n",
       "  </thead>\n",
       "  <tbody>\n",
       "    <tr>\n",
       "      <th>2017-01-01</th>\n",
       "      <td>63</td>\n",
       "      <td>0</td>\n",
       "      <td>1</td>\n",
       "      <td>0</td>\n",
       "      <td>2017</td>\n",
       "      <td>1</td>\n",
       "      <td>1</td>\n",
       "    </tr>\n",
       "    <tr>\n",
       "      <th>2017-01-01</th>\n",
       "      <td>66</td>\n",
       "      <td>0</td>\n",
       "      <td>1</td>\n",
       "      <td>1</td>\n",
       "      <td>2017</td>\n",
       "      <td>1</td>\n",
       "      <td>1</td>\n",
       "    </tr>\n",
       "    <tr>\n",
       "      <th>2017-01-01</th>\n",
       "      <td>9</td>\n",
       "      <td>0</td>\n",
       "      <td>1</td>\n",
       "      <td>2</td>\n",
       "      <td>2017</td>\n",
       "      <td>1</td>\n",
       "      <td>1</td>\n",
       "    </tr>\n",
       "    <tr>\n",
       "      <th>2017-01-01</th>\n",
       "      <td>59</td>\n",
       "      <td>0</td>\n",
       "      <td>1</td>\n",
       "      <td>3</td>\n",
       "      <td>2017</td>\n",
       "      <td>1</td>\n",
       "      <td>1</td>\n",
       "    </tr>\n",
       "    <tr>\n",
       "      <th>2017-01-01</th>\n",
       "      <td>49</td>\n",
       "      <td>0</td>\n",
       "      <td>1</td>\n",
       "      <td>4</td>\n",
       "      <td>2017</td>\n",
       "      <td>1</td>\n",
       "      <td>1</td>\n",
       "    </tr>\n",
       "  </tbody>\n",
       "</table>\n",
       "</div>"
      ],
      "text/plain": [
       "            num_sold  country_Encoded  store_Encoded  product_Encoded  Year  \\\n",
       "date                                                                          \n",
       "2017-01-01        63                0              1                0  2017   \n",
       "2017-01-01        66                0              1                1  2017   \n",
       "2017-01-01         9                0              1                2  2017   \n",
       "2017-01-01        59                0              1                3  2017   \n",
       "2017-01-01        49                0              1                4  2017   \n",
       "\n",
       "            Month  Day  \n",
       "date                    \n",
       "2017-01-01      1    1  \n",
       "2017-01-01      1    1  \n",
       "2017-01-01      1    1  \n",
       "2017-01-01      1    1  \n",
       "2017-01-01      1    1  "
      ]
     },
     "execution_count": 50,
     "metadata": {},
     "output_type": "execute_result"
    }
   ],
   "source": [
    "train_data.head()"
   ]
  },
  {
   "cell_type": "code",
   "execution_count": 51,
   "id": "4afac168",
   "metadata": {
    "execution": {
     "iopub.execute_input": "2023-07-15T03:28:54.719398Z",
     "iopub.status.busy": "2023-07-15T03:28:54.718911Z",
     "iopub.status.idle": "2023-07-15T03:28:54.929604Z",
     "shell.execute_reply": "2023-07-15T03:28:54.928418Z"
    },
    "papermill": {
     "duration": 0.25343,
     "end_time": "2023-07-15T03:28:54.932714",
     "exception": false,
     "start_time": "2023-07-15T03:28:54.679284",
     "status": "completed"
    },
    "tags": []
   },
   "outputs": [],
   "source": [
    "from sklearn.model_selection import train_test_split\n",
    "from sklearn.preprocessing import StandardScaler\n",
    "from sklearn.linear_model import LinearRegression\n",
    "from sklearn.metrics import mean_squared_error, r2_score"
   ]
  },
  {
   "cell_type": "code",
   "execution_count": 52,
   "id": "6d66c760",
   "metadata": {
    "execution": {
     "iopub.execute_input": "2023-07-15T03:28:55.012774Z",
     "iopub.status.busy": "2023-07-15T03:28:55.012394Z",
     "iopub.status.idle": "2023-07-15T03:28:55.027363Z",
     "shell.execute_reply": "2023-07-15T03:28:55.026236Z"
    },
    "papermill": {
     "duration": 0.057401,
     "end_time": "2023-07-15T03:28:55.029704",
     "exception": false,
     "start_time": "2023-07-15T03:28:54.972303",
     "status": "completed"
    },
    "tags": []
   },
   "outputs": [],
   "source": [
    "X = train_data.drop('num_sold', axis=1)\n",
    "y = train_data['num_sold']"
   ]
  },
  {
   "cell_type": "code",
   "execution_count": 53,
   "id": "539e891e",
   "metadata": {
    "execution": {
     "iopub.execute_input": "2023-07-15T03:28:55.108330Z",
     "iopub.status.busy": "2023-07-15T03:28:55.107469Z",
     "iopub.status.idle": "2023-07-15T03:28:55.223607Z",
     "shell.execute_reply": "2023-07-15T03:28:55.222465Z"
    },
    "papermill": {
     "duration": 0.159448,
     "end_time": "2023-07-15T03:28:55.227238",
     "exception": false,
     "start_time": "2023-07-15T03:28:55.067790",
     "status": "completed"
    },
    "tags": []
   },
   "outputs": [
    {
     "name": "stdout",
     "output_type": "stream",
     "text": [
      "Mean Squared Error: 22518.34321980081\n",
      "R-squared: 0.3328400189093855\n"
     ]
    }
   ],
   "source": [
    "# Perform train-test split\n",
    "X_train, X_test, y_train, y_test = train_test_split(X, y, test_size=0.2, random_state=42)\n",
    "\n",
    "# Scale the features using StandardScaler\n",
    "scaler = StandardScaler()\n",
    "X_train_scaled = scaler.fit_transform(X_train)\n",
    "X_test_scaled = scaler.transform(X_test)\n",
    "\n",
    "# Initialize and fit the linear regression model\n",
    "regression_model = LinearRegression()\n",
    "regression_model.fit(X_train_scaled, y_train)\n",
    "\n",
    "# Make predictions on the test set\n",
    "y_pred = regression_model.predict(X_test_scaled)\n",
    "\n",
    "# Evaluate the model\n",
    "mse = mean_squared_error(y_test, y_pred)\n",
    "r2 = r2_score(y_test, y_pred)\n",
    "\n",
    "print(\"Mean Squared Error:\", mse)\n",
    "print(\"R-squared:\", r2)"
   ]
  },
  {
   "cell_type": "code",
   "execution_count": 54,
   "id": "14d8577a",
   "metadata": {
    "execution": {
     "iopub.execute_input": "2023-07-15T03:28:55.363445Z",
     "iopub.status.busy": "2023-07-15T03:28:55.362986Z",
     "iopub.status.idle": "2023-07-15T03:28:55.377509Z",
     "shell.execute_reply": "2023-07-15T03:28:55.376306Z"
    },
    "papermill": {
     "duration": 0.07144,
     "end_time": "2023-07-15T03:28:55.379888",
     "exception": false,
     "start_time": "2023-07-15T03:28:55.308448",
     "status": "completed"
    },
    "tags": []
   },
   "outputs": [
    {
     "data": {
      "text/html": [
       "<div>\n",
       "<style scoped>\n",
       "    .dataframe tbody tr th:only-of-type {\n",
       "        vertical-align: middle;\n",
       "    }\n",
       "\n",
       "    .dataframe tbody tr th {\n",
       "        vertical-align: top;\n",
       "    }\n",
       "\n",
       "    .dataframe thead th {\n",
       "        text-align: right;\n",
       "    }\n",
       "</style>\n",
       "<table border=\"1\" class=\"dataframe\">\n",
       "  <thead>\n",
       "    <tr style=\"text-align: right;\">\n",
       "      <th></th>\n",
       "      <th>id</th>\n",
       "      <th>date</th>\n",
       "      <th>country</th>\n",
       "      <th>store</th>\n",
       "      <th>product</th>\n",
       "    </tr>\n",
       "  </thead>\n",
       "  <tbody>\n",
       "    <tr>\n",
       "      <th>0</th>\n",
       "      <td>136950</td>\n",
       "      <td>2022-01-01</td>\n",
       "      <td>Argentina</td>\n",
       "      <td>Kaggle Learn</td>\n",
       "      <td>Using LLMs to Improve Your Coding</td>\n",
       "    </tr>\n",
       "    <tr>\n",
       "      <th>1</th>\n",
       "      <td>136951</td>\n",
       "      <td>2022-01-01</td>\n",
       "      <td>Argentina</td>\n",
       "      <td>Kaggle Learn</td>\n",
       "      <td>Using LLMs to Train More LLMs</td>\n",
       "    </tr>\n",
       "    <tr>\n",
       "      <th>2</th>\n",
       "      <td>136952</td>\n",
       "      <td>2022-01-01</td>\n",
       "      <td>Argentina</td>\n",
       "      <td>Kaggle Learn</td>\n",
       "      <td>Using LLMs to Win Friends and Influence People</td>\n",
       "    </tr>\n",
       "    <tr>\n",
       "      <th>3</th>\n",
       "      <td>136953</td>\n",
       "      <td>2022-01-01</td>\n",
       "      <td>Argentina</td>\n",
       "      <td>Kaggle Learn</td>\n",
       "      <td>Using LLMs to Win More Kaggle Competitions</td>\n",
       "    </tr>\n",
       "    <tr>\n",
       "      <th>4</th>\n",
       "      <td>136954</td>\n",
       "      <td>2022-01-01</td>\n",
       "      <td>Argentina</td>\n",
       "      <td>Kaggle Learn</td>\n",
       "      <td>Using LLMs to Write Better</td>\n",
       "    </tr>\n",
       "  </tbody>\n",
       "</table>\n",
       "</div>"
      ],
      "text/plain": [
       "       id        date    country         store  \\\n",
       "0  136950  2022-01-01  Argentina  Kaggle Learn   \n",
       "1  136951  2022-01-01  Argentina  Kaggle Learn   \n",
       "2  136952  2022-01-01  Argentina  Kaggle Learn   \n",
       "3  136953  2022-01-01  Argentina  Kaggle Learn   \n",
       "4  136954  2022-01-01  Argentina  Kaggle Learn   \n",
       "\n",
       "                                          product  \n",
       "0               Using LLMs to Improve Your Coding  \n",
       "1                   Using LLMs to Train More LLMs  \n",
       "2  Using LLMs to Win Friends and Influence People  \n",
       "3      Using LLMs to Win More Kaggle Competitions  \n",
       "4                      Using LLMs to Write Better  "
      ]
     },
     "execution_count": 54,
     "metadata": {},
     "output_type": "execute_result"
    }
   ],
   "source": [
    "test_data.head()"
   ]
  },
  {
   "cell_type": "code",
   "execution_count": 55,
   "id": "448907c3",
   "metadata": {
    "execution": {
     "iopub.execute_input": "2023-07-15T03:28:55.461524Z",
     "iopub.status.busy": "2023-07-15T03:28:55.460340Z",
     "iopub.status.idle": "2023-07-15T03:28:55.496764Z",
     "shell.execute_reply": "2023-07-15T03:28:55.495756Z"
    },
    "papermill": {
     "duration": 0.080951,
     "end_time": "2023-07-15T03:28:55.499666",
     "exception": false,
     "start_time": "2023-07-15T03:28:55.418715",
     "status": "completed"
    },
    "tags": []
   },
   "outputs": [],
   "source": [
    "test_data = pd.read_csv('/kaggle/input/playground-series-s3e19/test.csv')"
   ]
  },
  {
   "cell_type": "code",
   "execution_count": 56,
   "id": "76d348a5",
   "metadata": {
    "execution": {
     "iopub.execute_input": "2023-07-15T03:28:55.580451Z",
     "iopub.status.busy": "2023-07-15T03:28:55.579540Z",
     "iopub.status.idle": "2023-07-15T03:28:55.642549Z",
     "shell.execute_reply": "2023-07-15T03:28:55.641588Z"
    },
    "papermill": {
     "duration": 0.106765,
     "end_time": "2023-07-15T03:28:55.645552",
     "exception": false,
     "start_time": "2023-07-15T03:28:55.538787",
     "status": "completed"
    },
    "tags": []
   },
   "outputs": [],
   "source": [
    "test_data['date'] = pd.to_datetime(test_data['date'])\n",
    "test_data.set_index('date', inplace=True)\n",
    "\n",
    "\n",
    "\n",
    "test_data['country_Encoded'] = label_encoder.fit_transform(test_data['country'])\n",
    "test_data['store_Encoded'] = label_encoder.fit_transform(test_data['store'])\n",
    "test_data['product_Encoded'] = label_encoder.fit_transform(test_data['product'])\n",
    "\n",
    "test_data['Year'] = test_data.index.year\n",
    "test_data['Month'] = test_data.index.month\n",
    "test_data['Day'] = test_data.index.day\n",
    "\n",
    "test_data.drop(['id','country', 'store', 'product'], axis=1, inplace=True)\n",
    "test_data_scaled = scaler.transform(test_data)"
   ]
  },
  {
   "cell_type": "code",
   "execution_count": 57,
   "id": "9c504c26",
   "metadata": {
    "execution": {
     "iopub.execute_input": "2023-07-15T03:28:55.725308Z",
     "iopub.status.busy": "2023-07-15T03:28:55.724838Z",
     "iopub.status.idle": "2023-07-15T03:28:55.732684Z",
     "shell.execute_reply": "2023-07-15T03:28:55.731127Z"
    },
    "papermill": {
     "duration": 0.052536,
     "end_time": "2023-07-15T03:28:55.736972",
     "exception": false,
     "start_time": "2023-07-15T03:28:55.684436",
     "status": "completed"
    },
    "tags": []
   },
   "outputs": [],
   "source": [
    "test_pred = regression_model.predict(test_data_scaled)"
   ]
  },
  {
   "cell_type": "code",
   "execution_count": 58,
   "id": "f326957b",
   "metadata": {
    "execution": {
     "iopub.execute_input": "2023-07-15T03:28:55.878788Z",
     "iopub.status.busy": "2023-07-15T03:28:55.878432Z",
     "iopub.status.idle": "2023-07-15T03:28:55.885991Z",
     "shell.execute_reply": "2023-07-15T03:28:55.884935Z"
    },
    "papermill": {
     "duration": 0.066587,
     "end_time": "2023-07-15T03:28:55.888503",
     "exception": false,
     "start_time": "2023-07-15T03:28:55.821916",
     "status": "completed"
    },
    "tags": []
   },
   "outputs": [
    {
     "data": {
      "text/plain": [
       "array([159.67053743, 145.77992804, 131.88931865, ..., 329.15591607,\n",
       "       315.26530668, 301.37469729])"
      ]
     },
     "execution_count": 58,
     "metadata": {},
     "output_type": "execute_result"
    }
   ],
   "source": [
    "test_pred"
   ]
  },
  {
   "cell_type": "code",
   "execution_count": 59,
   "id": "5b61a173",
   "metadata": {
    "execution": {
     "iopub.execute_input": "2023-07-15T03:28:55.969871Z",
     "iopub.status.busy": "2023-07-15T03:28:55.969442Z",
     "iopub.status.idle": "2023-07-15T03:28:56.133822Z",
     "shell.execute_reply": "2023-07-15T03:28:56.132571Z"
    },
    "papermill": {
     "duration": 0.208984,
     "end_time": "2023-07-15T03:28:56.137075",
     "exception": false,
     "start_time": "2023-07-15T03:28:55.928091",
     "status": "completed"
    },
    "tags": []
   },
   "outputs": [],
   "source": [
    "submission_df= pd.read_csv(\"/kaggle/input/playground-series-s3e19/sample_submission.csv\")\n",
    "submission_df.columns=[\"id\",\"num_sold\"]\n",
    "submission_df[\"num_sold\"]=np.expm1(test_pred)\n",
    "submission_df.to_csv(\"submission.csv\",index=False)"
   ]
  }
 ],
 "metadata": {
  "kernelspec": {
   "display_name": "Python 3",
   "language": "python",
   "name": "python3"
  },
  "language_info": {
   "codemirror_mode": {
    "name": "ipython",
    "version": 3
   },
   "file_extension": ".py",
   "mimetype": "text/x-python",
   "name": "python",
   "nbconvert_exporter": "python",
   "pygments_lexer": "ipython3",
   "version": "3.10.12"
  },
  "papermill": {
   "default_parameters": {},
   "duration": 76.422215,
   "end_time": "2023-07-15T03:28:57.201709",
   "environment_variables": {},
   "exception": null,
   "input_path": "__notebook__.ipynb",
   "output_path": "__notebook__.ipynb",
   "parameters": {},
   "start_time": "2023-07-15T03:27:40.779494",
   "version": "2.4.0"
  }
 },
 "nbformat": 4,
 "nbformat_minor": 5
}
