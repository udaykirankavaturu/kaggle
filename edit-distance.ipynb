{
 "cells": [
  {
   "cell_type": "markdown",
   "id": "2b034dd5",
   "metadata": {
    "papermill": {
     "duration": 0.003925,
     "end_time": "2023-06-25T03:23:11.521589",
     "exception": false,
     "start_time": "2023-06-25T03:23:11.517664",
     "status": "completed"
    },
    "tags": []
   },
   "source": [
    "## Levenshtein Edit Distance\n",
    "The levenshtein distance calculates the number of steps (insertions, deletions or substitutions) required to go from source string to target string."
   ]
  },
  {
   "cell_type": "code",
   "execution_count": 1,
   "id": "744cf230",
   "metadata": {
    "collapsed": true,
    "execution": {
     "iopub.execute_input": "2023-06-25T03:23:11.530619Z",
     "iopub.status.busy": "2023-06-25T03:23:11.530133Z",
     "iopub.status.idle": "2023-06-25T03:23:11.547643Z",
     "shell.execute_reply": "2023-06-25T03:23:11.546691Z"
    },
    "jupyter": {
     "outputs_hidden": true
    },
    "papermill": {
     "duration": 0.024716,
     "end_time": "2023-06-25T03:23:11.550093",
     "exception": false,
     "start_time": "2023-06-25T03:23:11.525377",
     "status": "completed"
    },
    "tags": []
   },
   "outputs": [],
   "source": [
    "def lev_distance(source='', target=''):\n",
    "    \"\"\"Make a Levenshtein Distances Matrix\"\"\"\n",
    "    \n",
    "    # get length of both strings\n",
    "    n1, n2 = len(source), len(target)\n",
    "    \n",
    "    # create matrix using length of both strings - source string sits on columns, target string sits on rows\n",
    "    matrix = [ [ 0 for i1 in range(n1 + 1) ] for i2 in range(n2 + 1) ]\n",
    "    \n",
    "    # fill the first row - (0 to n1-1)\n",
    "    for i1 in range(1, n1 + 1):\n",
    "        matrix[0][i1] = i1\n",
    "    \n",
    "    # fill the first column - (0 to n2-1)\n",
    "    for i2 in range(1, n2 + 1):\n",
    "        matrix[i2][0] = i2\n",
    "    \n",
    "    # fill the matrix\n",
    "    for i2 in range(1, n2 + 1):\n",
    "        for i1 in range(1, n1 + 1):\n",
    "            \n",
    "            # check whether letters being compared are same\n",
    "            if (source[i1-1] == target[i2-1]):\n",
    "                value = matrix[i2-1][i1-1]               # top-left cell value\n",
    "            else:\n",
    "                value = min(matrix[i2-1][i1]   + 1,      # left cell value     + 1\n",
    "                            matrix[i2][i1-1]   + 1,      # top cell  value     + 1\n",
    "                            matrix[i2-1][i1-1] + 1)      # top-left cell value + 1\n",
    "            \n",
    "            matrix[i2][i1] = value\n",
    "    \n",
    "    # return bottom-right cell value\n",
    "    return matrix[-1][-1]"
   ]
  },
  {
   "cell_type": "code",
   "execution_count": 2,
   "id": "94b1ce91",
   "metadata": {
    "execution": {
     "iopub.execute_input": "2023-06-25T03:23:11.559185Z",
     "iopub.status.busy": "2023-06-25T03:23:11.558488Z",
     "iopub.status.idle": "2023-06-25T03:23:11.565343Z",
     "shell.execute_reply": "2023-06-25T03:23:11.564510Z"
    },
    "papermill": {
     "duration": 0.014155,
     "end_time": "2023-06-25T03:23:11.567787",
     "exception": false,
     "start_time": "2023-06-25T03:23:11.553632",
     "status": "completed"
    },
    "tags": []
   },
   "outputs": [
    {
     "data": {
      "text/plain": [
       "2"
      ]
     },
     "execution_count": 2,
     "metadata": {},
     "output_type": "execute_result"
    }
   ],
   "source": [
    "lev_distance('cat', 'cta')"
   ]
  },
  {
   "cell_type": "markdown",
   "id": "fc7d5659",
   "metadata": {
    "papermill": {
     "duration": 0.003429,
     "end_time": "2023-06-25T03:23:11.574994",
     "exception": false,
     "start_time": "2023-06-25T03:23:11.571565",
     "status": "completed"
    },
    "tags": []
   },
   "source": [
    "## Levenshtein distance in nltk library"
   ]
  },
  {
   "cell_type": "code",
   "execution_count": 3,
   "id": "e87573f1",
   "metadata": {
    "collapsed": true,
    "execution": {
     "iopub.execute_input": "2023-06-25T03:23:11.584263Z",
     "iopub.status.busy": "2023-06-25T03:23:11.583835Z",
     "iopub.status.idle": "2023-06-25T03:23:13.774462Z",
     "shell.execute_reply": "2023-06-25T03:23:13.773276Z"
    },
    "jupyter": {
     "outputs_hidden": true
    },
    "papermill": {
     "duration": 2.198484,
     "end_time": "2023-06-25T03:23:13.777031",
     "exception": false,
     "start_time": "2023-06-25T03:23:11.578547",
     "status": "completed"
    },
    "tags": []
   },
   "outputs": [],
   "source": [
    "# import library\n",
    "from nltk.metrics.distance import edit_distance"
   ]
  },
  {
   "cell_type": "code",
   "execution_count": 4,
   "id": "b73e7a25",
   "metadata": {
    "execution": {
     "iopub.execute_input": "2023-06-25T03:23:13.786561Z",
     "iopub.status.busy": "2023-06-25T03:23:13.786143Z",
     "iopub.status.idle": "2023-06-25T03:23:13.793013Z",
     "shell.execute_reply": "2023-06-25T03:23:13.791892Z"
    },
    "papermill": {
     "duration": 0.014595,
     "end_time": "2023-06-25T03:23:13.795481",
     "exception": false,
     "start_time": "2023-06-25T03:23:13.780886",
     "status": "completed"
    },
    "tags": []
   },
   "outputs": [
    {
     "data": {
      "text/plain": [
       "2"
      ]
     },
     "execution_count": 4,
     "metadata": {},
     "output_type": "execute_result"
    }
   ],
   "source": [
    "edit_distance(\"apple\", \"appel\")"
   ]
  },
  {
   "cell_type": "markdown",
   "id": "e01c6ee2",
   "metadata": {
    "papermill": {
     "duration": 0.003564,
     "end_time": "2023-06-25T03:23:13.802995",
     "exception": false,
     "start_time": "2023-06-25T03:23:13.799431",
     "status": "completed"
    },
    "tags": []
   },
   "source": [
    "## Damerau-Levenshtein Distance\n",
    "The Damerau-Levenshtein distance allows transpositions (swap of two letters which are adjacent to each other) as well."
   ]
  },
  {
   "cell_type": "code",
   "execution_count": 5,
   "id": "067cc98e",
   "metadata": {
    "execution": {
     "iopub.execute_input": "2023-06-25T03:23:13.812711Z",
     "iopub.status.busy": "2023-06-25T03:23:13.812256Z",
     "iopub.status.idle": "2023-06-25T03:23:13.819774Z",
     "shell.execute_reply": "2023-06-25T03:23:13.818629Z"
    },
    "papermill": {
     "duration": 0.015639,
     "end_time": "2023-06-25T03:23:13.822573",
     "exception": false,
     "start_time": "2023-06-25T03:23:13.806934",
     "status": "completed"
    },
    "tags": []
   },
   "outputs": [
    {
     "data": {
      "text/plain": [
       "2"
      ]
     },
     "execution_count": 5,
     "metadata": {},
     "output_type": "execute_result"
    }
   ],
   "source": [
    "edit_distance(\"apple\", \"appel\", transpositions=False, )"
   ]
  },
  {
   "cell_type": "code",
   "execution_count": null,
   "id": "80d84148",
   "metadata": {
    "collapsed": true,
    "jupyter": {
     "outputs_hidden": true
    },
    "papermill": {
     "duration": 0.00388,
     "end_time": "2023-06-25T03:23:13.830661",
     "exception": false,
     "start_time": "2023-06-25T03:23:13.826781",
     "status": "completed"
    },
    "tags": []
   },
   "outputs": [],
   "source": []
  }
 ],
 "metadata": {
  "kernelspec": {
   "display_name": "Python 3",
   "language": "python",
   "name": "python3"
  },
  "language_info": {
   "codemirror_mode": {
    "name": "ipython",
    "version": 3
   },
   "file_extension": ".py",
   "mimetype": "text/x-python",
   "name": "python",
   "nbconvert_exporter": "python",
   "pygments_lexer": "ipython3",
   "version": "3.10.10"
  },
  "papermill": {
   "default_parameters": {},
   "duration": 15.853556,
   "end_time": "2023-06-25T03:23:14.958249",
   "environment_variables": {},
   "exception": null,
   "input_path": "__notebook__.ipynb",
   "output_path": "__notebook__.ipynb",
   "parameters": {},
   "start_time": "2023-06-25T03:22:59.104693",
   "version": "2.4.0"
  }
 },
 "nbformat": 4,
 "nbformat_minor": 5
}
